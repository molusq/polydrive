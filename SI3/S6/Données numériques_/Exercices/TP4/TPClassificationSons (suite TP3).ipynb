{
 "cells": [
  {
   "cell_type": "code",
   "execution_count": 1,
   "metadata": {},
   "outputs": [],
   "source": [
    "#chargement des librairies\n",
    "import numpy as np\n",
    "import matplotlib.pyplot as plt\n",
    "import librosa\n",
    "import librosa.display\n",
    "import IPython.display as ipd\n",
    "import pickle\n",
    "import glob\n",
    "import warnings\n",
    "warnings.filterwarnings(\"ignore\", category=FutureWarning)\n",
    "from tqdm import tqdm"
   ]
  },
  {
   "cell_type": "code",
   "execution_count": 2,
   "metadata": {},
   "outputs": [],
   "source": [
    "#store all sounds for training and testing in lists\n",
    "\n",
    "TP1_dir = \"../TP1\"\n",
    "\n",
    "dog_list = glob.glob(f\"{TP1_dir}/dog/*.wav\")\n",
    "dog_list_test = dog_list[:200]\n",
    "dog_list_train = dog_list[200:400]\n",
    "\n",
    "cat_list = glob.glob(f\"{TP1_dir}/cat/*.wav\")\n",
    "cat_list_train = cat_list[:200]\n",
    "cat_list_test = cat_list[200:400]\n",
    "\n",
    "bird_list = glob.glob(f\"{TP1_dir}/bird/*.wav\")\n",
    "bird_list_train = bird_list[:200]\n",
    "bird_list_test = bird_list[200:400]\n"
   ]
  },
  {
   "cell_type": "code",
   "execution_count": 3,
   "metadata": {},
   "outputs": [],
   "source": [
    "#compute mfcc for test and train and store them in a list\n",
    "\n",
    "xTrain = [0 for i in range(600)]\n",
    "yTrain = [0 for i in range(600)]\n",
    "\n",
    "xTest = [0 for i in range(600)]\n",
    "\n",
    "for i in range(200):\n",
    "    #TRAIN\n",
    "    y1, sr1 = librosa.load(dog_list_train[i])\n",
    "    mfcc1 = np.mean(librosa.feature.mfcc(y1, sr1, n_mfcc=13), axis=1)\n",
    "    #mfcc1 = librosa.feature.mfcc(y1, sr1, n_mfcc=13, hop_length=len(y1)+1)\n",
    "    xTrain[i] = mfcc1.reshape(13)\n",
    "    \n",
    "    y1, sr1 = librosa.load(cat_list_train[i])\n",
    "    mfcc1 = np.mean(librosa.feature.mfcc(y1, sr1, n_mfcc=13), axis=1)\n",
    "    #mfcc1 = librosa.feature.mfcc(y1, sr1, n_mfcc=13, hop_length=len(y1)+1)\n",
    "    xTrain[200+i] = mfcc1.reshape(13)\n",
    "    yTrain[200+i] = 1\n",
    "    \n",
    "    y1, sr1 = librosa.load(bird_list_train[i])\n",
    "    mfcc1 = np.mean(librosa.feature.mfcc(y1, sr1, n_mfcc=13), axis=1)\n",
    "    #mfcc1 = librosa.feature.mfcc(y1, sr1, n_mfcc=13, hop_length=len(y1)+1)\n",
    "    xTrain[400+i] = mfcc1.reshape(13)\n",
    "    yTrain[400+i] = 2\n",
    "    \n",
    "    #TEST\n",
    "    y1, sr1 = librosa.load(dog_list_test[i])\n",
    "    mfcc1 = np.mean(librosa.feature.mfcc(y1, sr1, n_mfcc=13), axis=1)\n",
    "    #mfcc1 = librosa.feature.mfcc(y1, sr1, n_mfcc=13, hop_length=len(y1)+1)\n",
    "    xTest[i] = mfcc1.reshape(13)\n",
    "    \n",
    "    y1, sr1 = librosa.load(cat_list_test[i])\n",
    "    mfcc1 = np.mean(librosa.feature.mfcc(y1, sr1, n_mfcc=13), axis=1)\n",
    "    #mfcc1 = librosa.feature.mfcc(y1, sr1, n_mfcc=13, hop_length=len(y1)+1)\n",
    "    xTest[200+i] = mfcc1.reshape(13)\n",
    "    \n",
    "    y1, sr1 = librosa.load(bird_list_test[i])\n",
    "    mfcc1 = np.mean(librosa.feature.mfcc(y1, sr1, n_mfcc=13), axis=1)\n",
    "    #mfcc1 = librosa.feature.mfcc(y1, sr1, n_mfcc=13, hop_length=len(y1)+1)\n",
    "    xTest[400+i] = mfcc1.reshape(13)\n",
    "    \n"
   ]
  },
  {
   "cell_type": "code",
   "execution_count": 4,
   "metadata": {},
   "outputs": [],
   "source": [
    "#Normalize Xtrain and Xtest\n",
    "xTrain = np.array(xTrain)\n",
    "n = xTrain.shape[0]\n",
    "mu = np.mean(xTrain, axis=0)\n",
    "var = np.sum((xTrain-mu)**2, axis=0)/n\n",
    "sigma = np.sqrt(var)\n",
    "mad = np.sum(np.abs(xTrain-mu), axis=0)/n\n",
    "\n",
    "normalized_xTrain = (xTrain-mu)/sigma\n",
    "standardized_xTrain = (xTrain-mu)/mad\n",
    "\n",
    "xTest = np.array(xTest)\n",
    "n = xTest.shape[0]\n",
    "mu = np.mean(xTest, axis=0)\n",
    "var = np.sum((xTest-mu)**2, axis=0)/n\n",
    "sigma = np.sqrt(var)\n",
    "mad = np.sum(np.abs(xTest-mu), axis=0)/n\n",
    "\n",
    "normalized_xTest = (xTest-mu)/sigma\n",
    "standardized_xTest = (xTest-mu)/mad"
   ]
  },
  {
   "cell_type": "code",
   "execution_count": 5,
   "metadata": {},
   "outputs": [],
   "source": [
    "def voteKnn(xtrain, ytrain, nKnn, newData):\n",
    "    lesDistances = np.sqrt(np.sum((xtrain-newData)*(xtrain-newData),axis=1))\n",
    "    indices = np.argsort(lesDistances)\n",
    "    # nKNN smallest distances indices\n",
    "    nei = indices[:nKnn]\n",
    "    # nKNN closest data\n",
    "    xn = xtrain[nei]\n",
    "    yn = np.array(ytrain)[nei]\n",
    "    # majority vote for the class\n",
    "    classes, votes = np.unique(yn, return_counts=True)\n",
    "    classe = classes[np.argmax(votes)]\n",
    "    return classe"
   ]
  },
  {
   "cell_type": "code",
   "execution_count": 6,
   "metadata": {},
   "outputs": [],
   "source": [
    "nKnn_list = [i for i in range(1, 200, 2)]\n",
    "accuracy_list = []\n",
    "accuracy_list_normalized = []\n",
    "accuracy_list_standardized = []\n",
    "\n",
    "\n",
    "for i in range(len(nKnn_list)):\n",
    "    nKNN = nKnn_list[i]\n",
    "    \n",
    "    confusion_matrix = [[0 for i in range(3)] for i in range(3)]\n",
    "\n",
    "    yTest = np.zeros(600)\n",
    "    \n",
    "    for i in range(len(xTest)):\n",
    "        yTest[i]=voteKnn(xTrain, yTrain, nKNN, xTest[i])\n",
    "\n",
    "    \n",
    "    precision = np.sum(yTest == yTrain) / 600\n",
    "    \n",
    "    accuracy_list.append(precision)\n",
    "    ### normalized\n",
    "    confusion_matrix = [[0 for i in range(3)] for i in range(3)]\n",
    "\n",
    "    yTest = np.zeros(600)\n",
    "\n",
    "    for i in range(len(xTest)):\n",
    "        yTest[i]=voteKnn(normalized_xTrain, yTrain, nKNN, normalized_xTest[i])\n",
    "    \n",
    "    precision = np.sum(yTest == yTrain) / 600\n",
    "    \n",
    "    accuracy_list_normalized.append(precision)\n",
    "    ###standardized\n",
    "    confusion_matrix = [[0 for i in range(3)] for i in range(3)]\n",
    "\n",
    "    yTest = np.zeros(600)\n",
    "    \n",
    "    for i in range(len(xTest)):\n",
    "        yTest[i]=voteKnn(standardized_xTrain, yTrain, nKNN, standardized_xTest[i])\n",
    "    \n",
    "    precision = np.sum(yTest == yTrain) / 600\n",
    "    \n",
    "    accuracy_list_standardized.append(precision)\n",
    "    \n",
    "    "
   ]
  },
  {
   "cell_type": "code",
   "execution_count": 7,
   "metadata": {},
   "outputs": [
    {
     "data": {
      "text/plain": [
       "<matplotlib.collections.PathCollection at 0x225dee402e0>"
      ]
     },
     "execution_count": 7,
     "metadata": {},
     "output_type": "execute_result"
    },
    {
     "data": {
      "image/png": "[encoded data removed]",
      "text/plain": [
       "<Figure size 640x480 with 1 Axes>"
      ]
     },
     "metadata": {},
     "output_type": "display_data"
    }
   ],
   "source": [
    "plt.xlabel(\"KNN\")\n",
    "plt.ylabel(\"Accuracy\")\n",
    "plt.scatter(nKnn_list, accuracy_list, marker=\"x\", color=\"red\")\n",
    "\n",
    "plt.scatter(nKnn_list, accuracy_list_normalized, marker=\"o\", color=\"blue\")\n",
    "\n",
    "plt.scatter(nKnn_list, accuracy_list_standardized, marker=\"^\", color=\"green\")"
   ]
  },
  {
   "cell_type": "code",
   "execution_count": 32,
   "metadata": {},
   "outputs": [
    {
     "name": "stdout",
     "output_type": "stream",
     "text": [
      "precision : 0.6116666666666667\n",
      "F1 score dog : 0.5576923076923077\n",
      "F1 score cat : 0.6906474820143885\n",
      "F1 score bird : 0.5831062670299727\n"
     ]
    }
   ],
   "source": [
    "precision = (confusion_matrix[0][0] + confusion_matrix[1][1] + confusion_matrix[2][2]) / 600\n",
    "print(\"precision : \" + str(precision))\n",
    "f_score_dog = (2*confusion_matrix[0][0])/(2*confusion_matrix[0][0] + confusion_matrix[0][1] + confusion_matrix[0][2] + confusion_matrix[1][0] + confusion_matrix[2][0])\n",
    "print(\"F1 score dog : \" + str(f_score_dog))\n",
    "f_score_cat = (2*confusion_matrix[1][1])/(2*confusion_matrix[1][1] + confusion_matrix[1][0] + confusion_matrix[1][2] + confusion_matrix[0][1] + confusion_matrix[2][1])\n",
    "print(\"F1 score cat : \" + str(f_score_cat))\n",
    "f_score_bird = (2*confusion_matrix[2][2])/(2*confusion_matrix[2][2] + confusion_matrix[2][0] + confusion_matrix[2][1] + confusion_matrix[0][2] + confusion_matrix[1][2])\n",
    "print(\"F1 score bird : \" + str(f_score_bird))"
   ]
  },
  {
   "cell_type": "code",
   "execution_count": 21,
   "metadata": {},
   "outputs": [
    {
     "name": "stdout",
     "output_type": "stream",
     "text": [
      "[[ 0.41892792 -0.2670019 ]\n",
      " [-0.31544892 -0.04836611]]\n"
     ]
    }
   ],
   "source": [
    "cov_matrix = np.cov(standardized_xTrain, rowvar=False)\n",
    "eigenval, eigenvect = np.linalg.eigh(cov_matrix)\n",
    "sorted_index = np.argsort(eigenval)\n",
    "sorted_index = list(reversed(sorted_index))\n",
    "eigenval = eigenval[sorted_index]\n",
    "eigenvect = eigenvect[sorted_index]\n",
    "var = np.sum(eigenval)\n",
    "eigenval=eigenval[0:2]\n",
    "eigenvect = eigenvect[:,:2][:2]\n",
    "print(eigenvect)\n",
    "\n",
    "\n",
    "\n",
    "\n"
   ]
  }
 ],
 "metadata": {
  "kernelspec": {
   "display_name": "Python 3",
   "language": "python",
   "name": "python3"
  },
  "language_info": {
   "codemirror_mode": {
    "name": "ipython",
    "version": 3
   },
   "file_extension": ".py",
   "mimetype": "text/x-python",
   "name": "python",
   "nbconvert_exporter": "python",
   "pygments_lexer": "ipython3",
   "version": "3.9.1"
  },
  "orig_nbformat": 4
 },
 "nbformat": 4,
 "nbformat_minor": 2
}
