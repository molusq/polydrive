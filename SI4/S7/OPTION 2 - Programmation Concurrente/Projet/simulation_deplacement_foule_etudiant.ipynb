{
 "cells": [
  {
   "cell_type": "markdown",
   "metadata": {},
   "source": [
    "# Simulation de déplacement d'une foule\n",
    "\n",
    "__NOMS PRENOMS et emails des membres du groupe"
   ]
  },
  {
   "cell_type": "markdown",
   "metadata": {
    "ExecuteTime": {
     "end_time": "2020-09-09T14:05:18.487484Z",
     "start_time": "2020-09-09T14:05:18.483571Z"
    }
   },
   "source": [
    "## Introduction\n",
    "<span style=\"color:red\">Mettre ici votre description du projet.</span>"
   ]
  },
  {
   "cell_type": "markdown",
   "metadata": {
    "toc": true
   },
   "source": [
    "<h1>Table of Contents<span class=\"tocSkip\"></span></h1>\n",
    "<div class=\"toc\"><ul class=\"toc-item\"><li><span><a href=\"#Introduction\" data-toc-modified-id=\"Introduction-1\"><span class=\"toc-item-num\">1&nbsp;&nbsp;</span>Introduction</a></span></li><li><span><a href=\"#Bibliothèque-Python-pour-le-multi-flots-d'exécution.\" data-toc-modified-id=\"Bibliothèque-Python-pour-le-multi-flots-d'exécution.-2\"><span class=\"toc-item-num\">2&nbsp;&nbsp;</span>Bibliothèque Python pour le multi-flots d'exécution.</a></span></li><li><span><a href=\"#Les-mécanismes-de-synchronisation-en-Python\" data-toc-modified-id=\"Les-mécanismes-de-synchronisation-en-Python-3\"><span class=\"toc-item-num\">3&nbsp;&nbsp;</span>Les mécanismes de synchronisation en Python</a></span></li><li><span><a href=\"#Définitions-de-quelques-procédures-pour-initialiser-une-grille-à-partir-d'un-fichier-de-configuration\" data-toc-modified-id=\"Définitions-de-quelques-procédures-pour-initialiser-une-grille-à-partir-d'un-fichier-de-configuration-4\"><span class=\"toc-item-num\">4&nbsp;&nbsp;</span>Définitions de quelques procédures pour initialiser une grille à partir d'un fichier de configuration</a></span><ul class=\"toc-item\"><li><span><a href=\"#Définition-de-la-grille\" data-toc-modified-id=\"Définition-de-la-grille-4.1\"><span class=\"toc-item-num\">4.1&nbsp;&nbsp;</span>Définition de la grille</a></span></li><li><span><a href=\"#Définition-d'un-obstacle\" data-toc-modified-id=\"Définition-d'un-obstacle-4.2\"><span class=\"toc-item-num\">4.2&nbsp;&nbsp;</span>Définition d'un obstacle</a></span></li><li><span><a href=\"#Définition-d'une-personne\" data-toc-modified-id=\"Définition-d'une-personne-4.3\"><span class=\"toc-item-num\">4.3&nbsp;&nbsp;</span>Définition d'une personne</a></span></li><li><span><a href=\"#Construction-d'une-image-pour-OpenCV\" data-toc-modified-id=\"Construction-d'une-image-pour-OpenCV-4.4\"><span class=\"toc-item-num\">4.4&nbsp;&nbsp;</span>Construction d'une image pour OpenCV</a></span></li></ul></li><li><span><a href=\"#Solution-itérative\" data-toc-modified-id=\"Solution-itérative-5\"><span class=\"toc-item-num\">5&nbsp;&nbsp;</span>Solution itérative</a></span><ul class=\"toc-item\"><li><span><a href=\"#Avec-trace-mais-sans-visualisation\" data-toc-modified-id=\"Avec-trace-mais-sans-visualisation-5.1\"><span class=\"toc-item-num\">5.1&nbsp;&nbsp;</span>Avec trace mais sans visualisation</a></span></li><li><span><a href=\"#Visualisation-de-chacune-des-itérations-avec-Matplotlib\" data-toc-modified-id=\"Visualisation-de-chacune-des-itérations-avec-Matplotlib-5.2\"><span class=\"toc-item-num\">5.2&nbsp;&nbsp;</span>Visualisation de chacune des itérations avec Matplotlib</a></span></li><li><span><a href=\"#Visualisation-de-chacune-des-itérations-avec-OpenCV\" data-toc-modified-id=\"Visualisation-de-chacune-des-itérations-avec-OpenCV-5.3\"><span class=\"toc-item-num\">5.3&nbsp;&nbsp;</span>Visualisation de chacune des itérations avec OpenCV</a></span></li><li><span><a href=\"#Sans-trace-mais-avec-visualisation\" data-toc-modified-id=\"Sans-trace-mais-avec-visualisation-5.4\"><span class=\"toc-item-num\">5.4&nbsp;&nbsp;</span>Sans trace mais avec visualisation</a></span></li><li><span><a href=\"#Utilisation-des-procédures-précédentes-pour-créer-une-nouvelle-grille-qui-sera-sauvegardée-dans-un-fichier\" data-toc-modified-id=\"Utilisation-des-procédures-précédentes-pour-créer-une-nouvelle-grille-qui-sera-sauvegardée-dans-un-fichier-5.5\"><span class=\"toc-item-num\">5.5&nbsp;&nbsp;</span>Utilisation des procédures précédentes pour créer une nouvelle grille qui sera sauvegardée dans un fichier</a></span></li></ul></li><li><span><a href=\"#Votre-travail\" data-toc-modified-id=\"Votre-travail-6\"><span class=\"toc-item-num\">6&nbsp;&nbsp;</span><span style=\"color: red\">Votre travail</span></a></span></li><li><span><a href=\"#Scénario-1\" data-toc-modified-id=\"Scénario-1-7\"><span class=\"toc-item-num\">7&nbsp;&nbsp;</span>Scénario 1</a></span></li><li><span><a href=\"#Scénario-2\" data-toc-modified-id=\"Scénario-2-8\"><span class=\"toc-item-num\">8&nbsp;&nbsp;</span>Scénario 2</a></span></li><li><span><a href=\"#Scénario-3\" data-toc-modified-id=\"Scénario-3-9\"><span class=\"toc-item-num\">9&nbsp;&nbsp;</span>Scénario 3</a></span></li><li><span><a href=\"#Comparaison-des-trois-approches\" data-toc-modified-id=\"Comparaison-des-trois-approches-10\"><span class=\"toc-item-num\">10&nbsp;&nbsp;</span>Comparaison des trois approches</a></span></li><li><span><a href=\"#Export-du-notebook-dans-un-fichier-python\" data-toc-modified-id=\"Export-du-notebook-dans-un-fichier-python-11\"><span class=\"toc-item-num\">11&nbsp;&nbsp;</span>Export du notebook dans un fichier python</a></span></li></ul></div>"
   ]
  },
  {
   "cell_type": "markdown",
   "metadata": {},
   "source": [
    "## Bibliothèque Python pour le multi-flots d'exécution.\n",
    "\n",
    "<span style=\"color:red\">Dans cette section vous présenterez votre étude comparative, avec exemple, des bibliothèques python permettant d'exécuter plusieurs flots en parallèle</span>\n",
    "\n",
    "<span style=\"color:red\">Vous préciserez de manière justifiée à la fin de cette section la bibliothèque choisie. La cellule suivante, exécutable comprendra l'import de la bibliothèque.</span>"
   ]
  },
  {
   "cell_type": "code",
   "execution_count": null,
   "metadata": {},
   "outputs": [],
   "source": []
  },
  {
   "cell_type": "markdown",
   "metadata": {},
   "source": [
    "## Les mécanismes de synchronisation en Python\n",
    "\n",
    "<span style=\"color:red\">Dans cette section vous présenterez votre étude comparative, avec exemple, des mécanimes présent dans la bibliothèque ou pouvant être associé pour construire une section critique ou permettant de contrôler l'accès à des ressources critiques.\n",
    "    \n",
    "<span style=\"color:red\">Vous préciserez de manière justifiée à la fin de cette section les mécanismes choisis. La cellule suivante, exécutable comprendra l'import des bibliothèques.</span>"
   ]
  },
  {
   "cell_type": "code",
   "execution_count": null,
   "metadata": {},
   "outputs": [],
   "source": []
  },
  {
   "cell_type": "markdown",
   "metadata": {},
   "source": [
    "## Définitions de quelques procédures pour initialiser une grille à partir d'un fichier de configuration\n",
    "\n",
    "<span style=\"color:red\">Vous ne pouvez pas modifier les classes/procédures/fonctions suivantes</span>"
   ]
  },
  {
   "cell_type": "code",
   "execution_count": 35,
   "metadata": {
    "ExecuteTime": {
     "end_time": "2020-09-09T14:56:37.017896Z",
     "start_time": "2020-09-09T14:56:37.014070Z"
    }
   },
   "outputs": [],
   "source": [
    "def is_running_from_ipython():\n",
    "    # Renvoie True si on execute le code depuis un notebook\n",
    "       from IPython import get_ipython\n",
    "       return get_ipython() is not None\n",
    "\n",
    "# Permet de savoir qui exécute le code\n",
    "import platform\n",
    "MICHEL = ('michel' in platform.node()) or ('charvin' in platform.node())"
   ]
  },
  {
   "cell_type": "code",
   "execution_count": 36,
   "metadata": {},
   "outputs": [],
   "source": [
    "class Debug:\n",
    "    def __init__(self, debug=False):\n",
    "        self.debug = debug\n",
    "        \n",
    "    def affiche(self, *args):\n",
    "        if self.debug:\n",
    "            print(args)"
   ]
  },
  {
   "cell_type": "code",
   "execution_count": 37,
   "metadata": {
    "ExecuteTime": {
     "end_time": "2020-09-09T14:56:38.411155Z",
     "start_time": "2020-09-09T14:56:38.406363Z"
    }
   },
   "outputs": [],
   "source": [
    "# Différents imports\n",
    "import copy\n",
    "import math\n",
    "import time\n",
    "import numpy as np\n",
    "\n",
    "%matplotlib inline\n",
    "import matplotlib.pyplot as plt"
   ]
  },
  {
   "cell_type": "code",
   "execution_count": 38,
   "metadata": {
    "ExecuteTime": {
     "end_time": "2020-09-09T14:56:40.469475Z",
     "start_time": "2020-09-09T14:56:39.487216Z"
    }
   },
   "outputs": [],
   "source": [
    "# Reglage de l'affichage\n",
    "\n",
    "# Définition des affichage possible définition\n",
    "!echo 'Aucun = 0' >affichage.py\n",
    "!echo 'tkinter = 1' >>affichage.py # Not implemented\n",
    "!echo 'OpenCV = 2' >> affichage.py # Not completly implemented\n",
    "\n",
    "!echo 'PERSONNE = (0.0, 0.0, 1.0)' >>affichage.py\n",
    "!echo 'IMMOBILE = (1.0, 0.0, 0.0)' >>affichage.py\n",
    "!echo 'OBSTACLE = (0.0, 1.0, 0.0)' >>affichage.py\n",
    "!echo 'EMPTY = (1.0, 1.0, 1.0)' >>affichage.py\n",
    "!echo 'ARRIVEE = (0.0, 0.0, 0.0)' >>affichage.py # Not used\n",
    "\n",
    "import affichage\n",
    "import cv2\n",
    "\n",
    "UI = affichage.OpenCV"
   ]
  },
  {
   "cell_type": "code",
   "execution_count": 39,
   "metadata": {
    "ExecuteTime": {
     "end_time": "2020-09-09T14:56:40.476993Z",
     "start_time": "2020-09-09T14:56:40.472805Z"
    }
   },
   "outputs": [],
   "source": [
    "if MICHEL:\n",
    "    petite_grille = \"maps/map-initial.txt\" # fichier décrivant une petite grille\n",
    "    grande_grille = \"maps/map-final.txt\"  # fichier décrivant une grande grille\n",
    "    debug = Debug(True)"
   ]
  },
  {
   "cell_type": "code",
   "execution_count": 40,
   "metadata": {
    "ExecuteTime": {
     "end_time": "2020-09-09T14:56:41.169989Z",
     "start_time": "2020-09-09T14:56:40.563847Z"
    }
   },
   "outputs": [],
   "source": [
    "# Constant définition\n",
    "!echo 'EMPTY = 0' >const.py\n",
    "!echo 'OBSTACLE = 1' >>const.py\n",
    "!echo 'PERSONNE = 2' >> const.py\n",
    "!echo 'IMMOBILE = 3' >> const.py\n",
    "!echo 'ARRIVEE = 4' >> const.py\n",
    "import const"
   ]
  },
  {
   "cell_type": "code",
   "execution_count": 41,
   "metadata": {
    "ExecuteTime": {
     "end_time": "2020-09-09T14:56:41.181031Z",
     "start_time": "2020-09-09T14:56:41.175015Z"
    }
   },
   "outputs": [
    {
     "name": "stdout",
     "output_type": "stream",
     "text": [
      "('Ouverture du fichier', 'maps/map-initial.txt')\n"
     ]
    }
   ],
   "source": [
    "# Lecture du fichier de configuration\n",
    "def open_file(filename, debug):\n",
    "    debug.affiche(\"Ouverture du fichier\", filename)\n",
    "    fileMap = open(filename, 'r')\n",
    "    return fileMap\n",
    "\n",
    "file = open_file(petite_grille, debug)"
   ]
  },
  {
   "cell_type": "markdown",
   "metadata": {},
   "source": [
    "### Définition de la grille"
   ]
  },
  {
   "cell_type": "code",
   "execution_count": 42,
   "metadata": {
    "ExecuteTime": {
     "end_time": "2020-09-09T14:56:42.917234Z",
     "start_time": "2020-09-09T14:56:42.910654Z"
    }
   },
   "outputs": [],
   "source": [
    "def read_grid_size(file, debug):\n",
    "    line = file.readline()\n",
    "    while line[0]=='#':\t# on saute les commentaires\n",
    "        line = file.readline()\n",
    "    \n",
    "    # Lecture de la taille de la grille\n",
    "    while line[0]!='#':\t# on lit jusqu'au prochain commentaires\n",
    "        if (line[0]=='X'):\n",
    "            X = int(line.split(' ')[1])\n",
    "        if (line[0]=='Y'):\n",
    "            Y = int(line.split(' ')[1])\n",
    "        line = file.readline()\n",
    "\n",
    "    debug.affiche(\"Simulation pour une grille:\", X, \"*\", Y)\n",
    "    \n",
    "    return X, Y"
   ]
  },
  {
   "cell_type": "code",
   "execution_count": 43,
   "metadata": {},
   "outputs": [
    {
     "name": "stdout",
     "output_type": "stream",
     "text": [
      "('Simulation pour une grille:', 10, '*', 10)\n"
     ]
    }
   ],
   "source": [
    "X, Y = read_grid_size(file, debug)"
   ]
  },
  {
   "cell_type": "code",
   "execution_count": 66,
   "metadata": {
    "ExecuteTime": {
     "end_time": "2020-09-09T14:56:43.748661Z",
     "start_time": "2020-09-09T14:56:43.726699Z"
    }
   },
   "outputs": [],
   "source": [
    "# Definition de la grille\n",
    "class Grille:\n",
    "    # Crée un objet list\n",
    "    def __init__(self, Xmax, Ymax, UI, debug):\n",
    "        debug.affiche(\"Initilisation de l'objet grille\")\n",
    "        self.Xmax = Xmax\n",
    "        self.Ymax = Ymax\n",
    "        if const.EMPTY==0:\n",
    "            self.map = np.zeros((Xmax, Ymax))\n",
    "        elif const.EMPTY==1:\n",
    "            self.map = np.ones((Xmax, Ymax))\n",
    "        else:\n",
    "            self.map = np.array(Xmax, Ymax)\n",
    "            for i in range(Xmax):\n",
    "                for j in range(Ymax):\n",
    "                    self.map[i,j] = const.EMPTY\n",
    "        self.mapList = []\n",
    "        self.obstacleList = []\n",
    "        self.personneList = []\n",
    "        self.debug = debug\n",
    "        self.UI = UI\n",
    "\n",
    "    def SetObstacle(self, obstacle):\n",
    "        for x in range(obstacle.Xmin, obstacle.Xmax+1):\n",
    "            for y in range(obstacle.Ymin, obstacle.Ymax+1):\n",
    "                self.map[x][y] = const.OBSTACLE\n",
    "        self.obstacleList += [obstacle]\n",
    "\n",
    "    def SetPersonne(self, personne):\n",
    "        if self.map[personne.X][personne.Y]==const.EMPTY:\n",
    "            # la case est vide\n",
    "            self.map[personne.X][personne.Y] = const.PERSONNE\n",
    "            self.personneList += [personne]\n",
    "            return True\n",
    "        else:\n",
    "            debug.affiche(\"Personne non créée, la place est occupée\", personne.X, personne.Y)\n",
    "            return False\n",
    "        \n",
    "    def isCellEmpty(self, x, y):\n",
    "        return self.map[x][y]==const.EMPTY\n",
    "    \n",
    "    def Set(self, x, y, status):\n",
    "        self.map[x][y] = status\n",
    "        \n",
    "    def Save(self, name):\n",
    "        with open(name, 'w') as file:\n",
    "            file.write(\"# taille de la grille\\n\")\n",
    "            file.write(\"X \"+str(self.Xmax)+\"\\n\")\n",
    "            file.write(\"Y \"+str(self.Ymax)+\"\\n\")\n",
    "            file.write(\"# position des obstacles\\n\")\n",
    "            file.write(\"# Xmin Xmax Ymin Ymax\\n\")\n",
    "            file.write(\"# si pas obstacle : mettre -1 comme valeur\\n\")\n",
    "            file.write(\"# \"+str(len(self.obstacleList))+\" obstacles\\n\")\n",
    "            for o in self.obstacleList:\n",
    "                file.write(str(o.Xmin)+\" \"+str(o.Xmax)+\" \"+str(o.Ymin)+\" \"+str(o.Ymax)+\"\\n\")\n",
    "            file.write(\"# position initiale des personnes (X, Y) et case de sortie (X, Y)\\n\")\n",
    "            file.write(\"# \"+str(len(self.personneList))+\" personnes\\n\")\n",
    "            for p in self.personneList:\n",
    "                file.write(str(p.X)+\" \"+str(p.Y)+\" \"+str(p.Xsortie)+\" \"+str(p.Ysortie)+\"\\n\")\n",
    "                \n",
    "    # Solution imparfaite car une personne peut être bloquée par un obstacle\n",
    "    def Simulation(self):\n",
    "        if self.debug.debug or self.UI==affichage.OpenCV:\n",
    "            self.mapList.append(copy.copy(self.map))\n",
    "        if self.UI==affichage.OpenCV:\n",
    "            cv2.imshow(\"img\", createImage(self.map))\n",
    "            cv2.waitKey(500)\n",
    "    \n",
    "        while len(self.personneList)>0: # il y a encore une personne dans la liste qui peut bouger\n",
    "            for personne in self.personneList:\n",
    "                end, immobile = personne.deplacePersonne(self, self.debug)\n",
    "                if end:\n",
    "                    self.debug.affiche(\"Une personne vient de sortir, il reste\", len(self.personneList), \"personnes\")\n",
    "            if self.debug.debug or self.UI==affichage.OpenCV:\n",
    "                self.mapList.append(copy.copy(self.map))\n",
    "                if self.UI==affichage.OpenCV:\n",
    "                    cv2.imshow(\"img\", createImage(self.map))\n",
    "                    cv2.waitKey(500)\n",
    "    \n",
    "        if self.UI==affichage.OpenCV:\n",
    "            cv2.destroyAllWindows()"
   ]
  },
  {
   "cell_type": "code",
   "execution_count": 45,
   "metadata": {
    "ExecuteTime": {
     "end_time": "2020-09-09T14:56:44.483524Z",
     "start_time": "2020-09-09T14:56:44.478404Z"
    }
   },
   "outputs": [
    {
     "name": "stdout",
     "output_type": "stream",
     "text": [
      "(\"Initilisation de l'objet grille\",)\n"
     ]
    }
   ],
   "source": [
    "# Creation de la grille\n",
    "grid = Grille(X, Y, affichage.Aucun, debug)"
   ]
  },
  {
   "cell_type": "markdown",
   "metadata": {},
   "source": [
    "### Définition d'un obstacle"
   ]
  },
  {
   "cell_type": "code",
   "execution_count": 46,
   "metadata": {
    "ExecuteTime": {
     "end_time": "2020-09-09T14:56:45.740092Z",
     "start_time": "2020-09-09T14:56:45.735268Z"
    }
   },
   "outputs": [],
   "source": [
    "class Obstacle():\n",
    "    def __init__(self, grid,  Xmin, Xmax, Ymin, Ymax, debug):\n",
    "        self.Xmin = Xmin\n",
    "        self.Xmax = Xmax\n",
    "        self.Ymin = Ymin\n",
    "        self.Ymax = Ymax\n",
    "        self.debug = debug\n",
    "        grid.SetObstacle(self)\n",
    "        debug.affiche(\"Création de l'obstacle (\", Xmin, Xmax, \") - (\", Ymin, Ymax, \")\")"
   ]
  },
  {
   "cell_type": "code",
   "execution_count": 47,
   "metadata": {
    "ExecuteTime": {
     "end_time": "2020-09-09T14:56:46.248553Z",
     "start_time": "2020-09-09T14:56:46.238774Z"
    },
    "code_folding": []
   },
   "outputs": [],
   "source": [
    "def read_obstacles(file, grid, Obstacle, debug):\n",
    "    # Lecture de la liste des obstacles et placement sur la grille\n",
    "    line = file.readline()\n",
    "    while line[0]=='#':\t# on saute les commentaires\n",
    "        line = file.readline()\n",
    "\n",
    "    while line[0]!='#':\t# on lit jusqu'au prochain commentaires\n",
    "        coordonnee = line.strip().split(' ')\n",
    "        if int(coordonnee[0])>=0:\n",
    "            assert (int(coordonnee[0])>0 and int(coordonnee[2])>0)\n",
    "            assert (int(coordonnee[1])<X)\n",
    "            assert (int(coordonnee[3])<Y)\n",
    "            Obstacle(grid, int(coordonnee[0]), int(coordonnee[1]), int(coordonnee[2]), int(coordonnee[3]), debug)\n",
    "        else:\n",
    "            debug.affiche(\"obstacle non créé\", coordonnee)\n",
    "        line = file.readline()        \n",
    "\n",
    "    debug.affiche(len(grid.obstacleList), \"obstacles ont été créés\")"
   ]
  },
  {
   "cell_type": "code",
   "execution_count": 48,
   "metadata": {},
   "outputs": [
    {
     "name": "stdout",
     "output_type": "stream",
     "text": [
      "('obstacle non créé', ['-1', '-1', '-1', '-1'])\n",
      "(\"Création de l'obstacle (\", 1, 1, ') - (', 2, 7, ')')\n",
      "(\"Création de l'obstacle (\", 1, 7, ') - (', 8, 8, ')')\n",
      "(2, 'obstacles ont été créés')\n"
     ]
    }
   ],
   "source": [
    "# On lit tous les obstacles contenus dans le fichier de configuration\n",
    "read_obstacles(file, grid, Obstacle, debug)"
   ]
  },
  {
   "cell_type": "code",
   "execution_count": 49,
   "metadata": {
    "ExecuteTime": {
     "end_time": "2020-09-09T14:56:46.829744Z",
     "start_time": "2020-09-09T14:56:46.734536Z"
    }
   },
   "outputs": [
    {
     "data": {
      "image/png": "[encoded data removed]",
      "text/plain": [
       "<Figure size 432x288 with 1 Axes>"
      ]
     },
     "metadata": {
      "needs_background": "light"
     },
     "output_type": "display_data"
    }
   ],
   "source": [
    "# Affichage de la grille\n",
    "plt.imshow(grid.map, cmap='Paired', vmin=0, vmax=5)\n",
    "plt.show()"
   ]
  },
  {
   "cell_type": "markdown",
   "metadata": {},
   "source": [
    "### Définition d'une personne"
   ]
  },
  {
   "cell_type": "code",
   "execution_count": 50,
   "metadata": {
    "ExecuteTime": {
     "end_time": "2020-09-09T14:56:47.956152Z",
     "start_time": "2020-09-09T14:56:47.941709Z"
    }
   },
   "outputs": [],
   "source": [
    "def distance(X, Y):\n",
    "    return int(np.abs(X[0]-Y[0])+np.abs(X[1]-Y[1]))\n",
    "\n",
    "class Personne():\n",
    "    def __init__(self, grid, Xinit, Yinit, Xsortie, Ysortie, debug):\n",
    "        self.X = Xinit\n",
    "        self.Y = Yinit\n",
    "        self.Xsortie = Xsortie\n",
    "        self.Ysortie = Ysortie\n",
    "        self.debug = debug\n",
    "        personneCrée = grid.SetPersonne(self)\n",
    "        if personneCrée:\n",
    "            debug.affiche(\"Création de la personne qui part de\", Xinit, Yinit, \"pour aller à\", Xsortie, Ysortie)\n",
    "    \n",
    "    def getAvailableMove(self, grid): # retourne la liste triée des déplacements possibles\n",
    "        # distance à la grille\n",
    "        dist_actuel = distance((self.X, self.Y), (self.Xsortie, self.Ysortie))\n",
    "        depl = []\n",
    "        # on calcule la distance entre les case adjacente et la sortie\n",
    "        for x in range(self.X-1, self.X+2):\n",
    "            for y in range (self.Y-1, self.Y+2):\n",
    "                if (x!=self.X or y!=self.Y) and (x==self.X or y==self.Y) and (x>=0 and y>=0 and x<grid.Xmax and y<grid.Ymax): # deplacement uniquement points cardinaux\n",
    "                    # on est sur une case adjacente et on est sur la grille\n",
    "                    if grid.isCellEmpty(x, y): # si la case est vide\n",
    "                        dist = distance((self.Xsortie, self.Ysortie), (x,y))\n",
    "                        if (dist<dist_actuel): # on se rappproche\n",
    "                             depl.append((dist, x, y))\n",
    "        return sorted(depl)\n",
    "\n",
    "    def getBetterMove(self, grid):\n",
    "        return self.getAvailableMove(grid)[0]\n",
    "\n",
    "    def Move(self, grid, depl):\n",
    "        debug.affiche(\"Déplacement de la personne de (\", self.X, self.Y, \") à (\", depl[1], depl[2], \")\")\n",
    "        grid.Set(self.X, self.Y, const.EMPTY)\n",
    "        self.X = depl[1]\n",
    "        self.Y = depl[2]\n",
    "        grid.Set(self.X, self.Y, const.PERSONNE)\n",
    "        \n",
    "    def deplacePersonne(self, grid, debug):\n",
    "        if self.X==self.Xsortie and self.Y==self.Ysortie:\n",
    "            # la personne est arrivée à la sortie\n",
    "            # on retire la personne de la liste\n",
    "            grid.personneList.remove(self)\n",
    "            # on libere la case de sortie\n",
    "            grid.Set(self.X, self.Y, const.EMPTY)\n",
    "            return True, False\n",
    "    \n",
    "        # sinon on recherche les déplacements possibles\n",
    "        availableMove = self.getAvailableMove(grid)\n",
    "        debug.affiche(\"La personne (\", self.X, self.Y, \") peut se déplacer sur :\", availableMove)\n",
    "            \n",
    "        if len(availableMove)>0:\n",
    "            # on se déplace sure la nouvelle case\n",
    "            self.Move(grid, availableMove[0]) \n",
    "            return False, False\n",
    "        \n",
    "        # sinon aucun d\"éplacement n'est possible\n",
    "        if grid.UI==affichage.OpenCV:\n",
    "            grid.Set(self.X, self.Y, const.IMMOBILE)\n",
    "        debug.affiche(\"La personne (\", self.X, self.Y, \"ne peut pas se déplacer\")\n",
    "        return False, True"
   ]
  },
  {
   "cell_type": "code",
   "execution_count": 51,
   "metadata": {
    "ExecuteTime": {
     "end_time": "2020-09-09T14:56:48.629455Z",
     "start_time": "2020-09-09T14:56:48.617795Z"
    }
   },
   "outputs": [],
   "source": [
    "def read_personnes(file, grid, Personne, nombre, debug):\n",
    "    # Lecture de la liste des personnes et placement sur la grille\n",
    "    # s'arrête quand le nombre de personnes souhaité est atteind\n",
    "    # Si nombre = -1, on lit jusqu'à la fin du fichier (idem si nombre est supérieur aux nombres de personnes dans le fichier)\n",
    "    line = file.readline()\n",
    "    while line[0]=='#':\t# on saute les commentaires\n",
    "        line = file.readline()\n",
    "        \n",
    "    while line:\t# on lit jusqu'à la fin du fichier\n",
    "        coordonnee = line.strip().split(' ')\n",
    "        if coordonnee[0]!='#':\n",
    "            assert (int(coordonnee[0])>0 and int(coordonnee[1])>0\n",
    "                and int(coordonnee[2])<X or int(coordonnee[3])<Y) # La personne est sur la grille\n",
    "            assert ((int(coordonnee[2])==0 or int(coordonnee[2])==X-1)  # elle sort sur un bord X\n",
    "                and                                                  # et\n",
    "                (int(coordonnee[3])==0 or int(coordonnee[3])==Y-1)) # elle sort sur un bord Y\n",
    "            Personne(grid, int(coordonnee[0]), int(coordonnee[1]), int(coordonnee[2]), int(coordonnee[3]), debug)\n",
    "            \n",
    "        if len(grid.personneList)==nombre:\n",
    "            debug.affiche(len(grid.personneList), \"personnes ont été créées\")\n",
    "            file.close()\n",
    "            return\n",
    "        line = file.readline()\n",
    "    debug.affiche(\"Fermeture du fichier\")\n",
    "    file.close()\n",
    "    \n",
    "    debug.affiche(\"On a lut tout le fichier,\", len(grid.personneList), \"personnes ont été créées\")"
   ]
  },
  {
   "cell_type": "code",
   "execution_count": 52,
   "metadata": {},
   "outputs": [
    {
     "name": "stdout",
     "output_type": "stream",
     "text": [
      "('Création de la personne qui part de', 2, 2, 'pour aller à', 0, 0)\n",
      "('Création de la personne qui part de', 3, 3, 'pour aller à', 0, 9)\n",
      "('Création de la personne qui part de', 6, 6, 'pour aller à', 9, 0)\n",
      "('Création de la personne qui part de', 7, 7, 'pour aller à', 9, 9)\n",
      "('Fermeture du fichier',)\n",
      "('On a lut tout le fichier,', 4, 'personnes ont été créées')\n"
     ]
    }
   ],
   "source": [
    "# On lit toutes les personnes contenues dans le fichier de configuration\n",
    "read_personnes(file, grid, Personne, -1, debug)"
   ]
  },
  {
   "cell_type": "code",
   "execution_count": 53,
   "metadata": {
    "ExecuteTime": {
     "end_time": "2020-09-09T14:56:49.611918Z",
     "start_time": "2020-09-09T14:56:49.518984Z"
    }
   },
   "outputs": [
    {
     "data": {
      "image/png": "[encoded data removed]",
      "text/plain": [
       "<Figure size 432x288 with 1 Axes>"
      ]
     },
     "metadata": {
      "needs_background": "light"
     },
     "output_type": "display_data"
    }
   ],
   "source": [
    "# Affichage de la grille\n",
    "plt.imshow(grid.map, cmap='Paired', vmin=0, vmax=5)\n",
    "plt.show()"
   ]
  },
  {
   "cell_type": "markdown",
   "metadata": {},
   "source": [
    "### Construction d'une image pour OpenCV"
   ]
  },
  {
   "cell_type": "code",
   "execution_count": 54,
   "metadata": {
    "ExecuteTime": {
     "end_time": "2020-09-09T14:56:52.548943Z",
     "start_time": "2020-09-09T14:56:52.539805Z"
    }
   },
   "outputs": [],
   "source": [
    "# Uniquement nécessaire pour la visualisation en OpenCV\n",
    "def createImage(image):\n",
    "    X = image.shape[0]\n",
    "    Y = image.shape[1]\n",
    "    ZOOM = max(min(1024//X, 1024//Y), 1)\n",
    "    img = np.zeros((X*ZOOM, Y*ZOOM, 3), dtype=np.float)\n",
    "    for i in range(X):\n",
    "        for t in range(ZOOM):\n",
    "            for j in range(Y):\n",
    "                for u in range(ZOOM):\n",
    "                    if image[i][j]==const.EMPTY:\n",
    "                        img[ZOOM*i+t][ZOOM*j+u]=affichage.EMPTY\n",
    "                    elif image[i][j]==const.OBSTACLE:\n",
    "                        img[ZOOM*i+t][ZOOM*j+u]=affichage.OBSTACLE\n",
    "                    elif image[i][j]==const.PERSONNE:\n",
    "                        img[ZOOM*i+t][ZOOM*j+u]=affichage.PERSONNE\n",
    "                    elif image[i][j]==const.IMMOBILE:\n",
    "                        img[ZOOM*i+t][ZOOM*j+u]=affichage.IMMOBILE\n",
    "                    elif image[i][j]==const.ARRIVEE:  \n",
    "                        img[ZOOM*i+t][ZOOM*j+u]=affichage.ARRIVEE\n",
    "    return img"
   ]
  },
  {
   "cell_type": "code",
   "execution_count": 55,
   "metadata": {},
   "outputs": [],
   "source": [
    "# Affichage en OpenCV de la grille créée\n",
    "if UI==affichage.OpenCV:\n",
    "    cv2.imshow(\"img\", createImage(grid.map))\n",
    "    cv2.waitKey(5000) # Affichage pendant 5 secondes\n",
    "    cv2.destroyAllWindows()"
   ]
  },
  {
   "cell_type": "markdown",
   "metadata": {},
   "source": [
    "## Utilisation des procédures précédentes pour créer une nouvelle grille qui sera sauvegardée dans un fichier"
   ]
  },
  {
   "cell_type": "code",
   "execution_count": 56,
   "metadata": {},
   "outputs": [
    {
     "name": "stdout",
     "output_type": "stream",
     "text": [
      "(\"Initilisation de l'objet grille\",)\n"
     ]
    }
   ],
   "source": [
    "# Création d'une grille de 1024*1024\n",
    "debug = Debug(True)\n",
    "UI = affichage.Aucun\n",
    "\n",
    "X = 1024\n",
    "Y = 1024\n",
    "grid = Grille(X, Y, UI, debug)"
   ]
  },
  {
   "cell_type": "code",
   "execution_count": 57,
   "metadata": {},
   "outputs": [
    {
     "name": "stdout",
     "output_type": "stream",
     "text": [
      "(\"Création de l'obstacle (\", 7, 13, ') - (', 99, 253, ')')\n",
      "(\"Création de l'obstacle (\", 53, 52, ') - (', 179, 208, ')')\n",
      "(\"Création de l'obstacle (\", 112, 127, ') - (', 141, 105, ')')\n",
      "(\"Création de l'obstacle (\", 160, 212, ') - (', 156, 364, ')')\n",
      "(\"Création de l'obstacle (\", 201, 284, ') - (', 223, 321, ')')\n",
      "(\"Création de l'obstacle (\", 265, 325, ') - (', 433, 281, ')')\n",
      "(\"Création de l'obstacle (\", 310, 336, ') - (', 361, 332, ')')\n",
      "(\"Création de l'obstacle (\", 351, 396, ') - (', 374, 388, ')')\n",
      "(\"Création de l'obstacle (\", 402, 423, ') - (', 442, 493, ')')\n",
      "(\"Création de l'obstacle (\", 452, 526, ') - (', 498, 514, ')')\n",
      "(\"Création de l'obstacle (\", 501, 533, ') - (', 536, 510, ')')\n",
      "(\"Création de l'obstacle (\", 552, 627, ') - (', 551, 551, ')')\n",
      "(\"Création de l'obstacle (\", 606, 653, ') - (', 761, 761, ')')\n",
      "(\"Création de l'obstacle (\", 654, 686, ') - (', 701, 892, ')')\n",
      "(\"Création de l'obstacle (\", 703, 771, ') - (', 802, 704, ')')\n",
      "(\"Création de l'obstacle (\", 757, 833, ') - (', 855, 755, ')')\n",
      "(16, 'obstacles ont été créés')\n"
     ]
    }
   ],
   "source": [
    "# La grille contient 2^4 obstacles\n",
    "nb_obs = np.power(2,4)\n",
    "\n",
    "coordonnee = np.zeros((4,1), dtype=np.int)\n",
    "for i in range(nb_obs):\n",
    "    for j in range(4):\n",
    "        val_min = 1+50*i+np.random.randint(10)*10*j\n",
    "        if j%2 == 0:\n",
    "            val_max = min(1+val_min+np.random.randint(20), grid.Xmax)\n",
    "        else:\n",
    "            val_max = min(1+val_min+np.random.randint(20), grid.Ymax)\n",
    "        coordonnee[j] = np.random.randint(val_min, val_max)\n",
    "    \n",
    "    assert (int(coordonnee[0])>0 and int(coordonnee[2])>0)\n",
    "    assert (int(coordonnee[1])<X)\n",
    "    assert (int(coordonnee[3])<Y)\n",
    "    Obstacle(grid, int(coordonnee[0]), int(coordonnee[1]), int(coordonnee[2]), int(coordonnee[3]), debug)\n",
    "    \n",
    "debug.affiche(len(grid.obstacleList), \"obstacles ont été créés\")"
   ]
  },
  {
   "cell_type": "code",
   "execution_count": 58,
   "metadata": {},
   "outputs": [
    {
     "name": "stdout",
     "output_type": "stream",
     "text": [
      "('Création de la personne qui part de', 235, 391, 'pour aller à', 1023, 1023)\n",
      "('Création de la personne qui part de', 853, 978, 'pour aller à', 1023, 0)\n",
      "('Création de la personne qui part de', 586, 145, 'pour aller à', 1023, 0)\n",
      "('Création de la personne qui part de', 875, 434, 'pour aller à', 1023, 0)\n",
      "('Création de la personne qui part de', 389, 842, 'pour aller à', 1023, 0)\n",
      "('Création de la personne qui part de', 925, 816, 'pour aller à', 0, 0)\n",
      "('Création de la personne qui part de', 785, 677, 'pour aller à', 1023, 1023)\n",
      "('Création de la personne qui part de', 687, 846, 'pour aller à', 1023, 1023)\n",
      "('Création de la personne qui part de', 222, 720, 'pour aller à', 1023, 1023)\n",
      "('Création de la personne qui part de', 544, 753, 'pour aller à', 0, 1023)\n",
      "('Création de la personne qui part de', 573, 25, 'pour aller à', 0, 1023)\n",
      "('Création de la personne qui part de', 687, 150, 'pour aller à', 0, 0)\n",
      "('Création de la personne qui part de', 711, 161, 'pour aller à', 0, 0)\n",
      "('Création de la personne qui part de', 393, 181, 'pour aller à', 1023, 1023)\n",
      "('Création de la personne qui part de', 388, 431, 'pour aller à', 0, 1023)\n",
      "('Création de la personne qui part de', 269, 111, 'pour aller à', 0, 0)\n",
      "('Création de la personne qui part de', 533, 734, 'pour aller à', 1023, 0)\n",
      "('Création de la personne qui part de', 147, 18, 'pour aller à', 1023, 1023)\n",
      "('Création de la personne qui part de', 26, 894, 'pour aller à', 1023, 0)\n",
      "('Création de la personne qui part de', 432, 554, 'pour aller à', 1023, 0)\n",
      "('Création de la personne qui part de', 705, 954, 'pour aller à', 1023, 0)\n",
      "('Création de la personne qui part de', 706, 92, 'pour aller à', 0, 0)\n",
      "('Création de la personne qui part de', 929, 19, 'pour aller à', 1023, 1023)\n",
      "('Création de la personne qui part de', 268, 638, 'pour aller à', 1023, 1023)\n",
      "('Création de la personne qui part de', 265, 60, 'pour aller à', 1023, 1023)\n",
      "('Création de la personne qui part de', 892, 197, 'pour aller à', 0, 1023)\n",
      "('Création de la personne qui part de', 632, 455, 'pour aller à', 1023, 0)\n",
      "('Création de la personne qui part de', 583, 399, 'pour aller à', 0, 0)\n",
      "('Personne non créée, la place est occupée', 686, 720)\n",
      "('Création de la personne qui part de', 503, 527, 'pour aller à', 0, 1023)\n",
      "('Création de la personne qui part de', 650, 612, 'pour aller à', 0, 1023)\n",
      "('Création de la personne qui part de', 222, 699, 'pour aller à', 1023, 0)\n",
      "('Création de la personne qui part de', 957, 935, 'pour aller à', 1023, 0)\n",
      "('Création de la personne qui part de', 14, 529, 'pour aller à', 0, 0)\n",
      "('Création de la personne qui part de', 643, 193, 'pour aller à', 0, 0)\n",
      "('Création de la personne qui part de', 405, 797, 'pour aller à', 1023, 1023)\n",
      "('Création de la personne qui part de', 617, 306, 'pour aller à', 1023, 0)\n",
      "('Création de la personne qui part de', 372, 978, 'pour aller à', 1023, 1023)\n",
      "('Création de la personne qui part de', 717, 514, 'pour aller à', 1023, 1023)\n",
      "('Création de la personne qui part de', 716, 11, 'pour aller à', 1023, 0)\n",
      "('Création de la personne qui part de', 758, 621, 'pour aller à', 1023, 0)\n",
      "('Création de la personne qui part de', 551, 119, 'pour aller à', 0, 0)\n",
      "('Création de la personne qui part de', 317, 690, 'pour aller à', 0, 0)\n",
      "('Création de la personne qui part de', 389, 269, 'pour aller à', 1023, 1023)\n",
      "('Création de la personne qui part de', 185, 435, 'pour aller à', 0, 0)\n",
      "('Création de la personne qui part de', 481, 926, 'pour aller à', 0, 0)\n",
      "('Création de la personne qui part de', 796, 935, 'pour aller à', 0, 0)\n",
      "('Création de la personne qui part de', 822, 148, 'pour aller à', 1023, 0)\n",
      "('Création de la personne qui part de', 315, 700, 'pour aller à', 0, 0)\n",
      "('Création de la personne qui part de', 1000, 561, 'pour aller à', 1023, 0)\n",
      "('Personne non créée, la place est occupée', 259, 296)\n",
      "('Création de la personne qui part de', 713, 125, 'pour aller à', 1023, 0)\n",
      "('Création de la personne qui part de', 98, 829, 'pour aller à', 0, 1023)\n",
      "('Création de la personne qui part de', 153, 50, 'pour aller à', 0, 1023)\n",
      "('Création de la personne qui part de', 130, 100, 'pour aller à', 1023, 1023)\n",
      "('Création de la personne qui part de', 982, 817, 'pour aller à', 0, 0)\n",
      "('Création de la personne qui part de', 743, 311, 'pour aller à', 1023, 1023)\n",
      "('Création de la personne qui part de', 729, 503, 'pour aller à', 1023, 0)\n",
      "('Création de la personne qui part de', 1012, 987, 'pour aller à', 1023, 1023)\n",
      "('Création de la personne qui part de', 422, 193, 'pour aller à', 1023, 0)\n",
      "('Création de la personne qui part de', 36, 378, 'pour aller à', 1023, 1023)\n",
      "('Création de la personne qui part de', 729, 10, 'pour aller à', 0, 0)\n",
      "('Création de la personne qui part de', 414, 238, 'pour aller à', 0, 1023)\n",
      "('Création de la personne qui part de', 840, 460, 'pour aller à', 1023, 0)\n",
      "('Création de la personne qui part de', 337, 301, 'pour aller à', 1023, 1023)\n",
      "('Création de la personne qui part de', 174, 28, 'pour aller à', 0, 0)\n",
      "('Création de la personne qui part de', 634, 893, 'pour aller à', 1023, 0)\n",
      "('Création de la personne qui part de', 263, 968, 'pour aller à', 1023, 1023)\n",
      "('Création de la personne qui part de', 621, 458, 'pour aller à', 1023, 1023)\n",
      "('Création de la personne qui part de', 761, 449, 'pour aller à', 0, 0)\n",
      "('Création de la personne qui part de', 433, 227, 'pour aller à', 0, 0)\n",
      "('Création de la personne qui part de', 411, 900, 'pour aller à', 0, 0)\n",
      "('Création de la personne qui part de', 25, 1011, 'pour aller à', 0, 0)\n",
      "('Création de la personne qui part de', 392, 314, 'pour aller à', 1023, 0)\n",
      "('Création de la personne qui part de', 834, 576, 'pour aller à', 1023, 0)\n",
      "('Création de la personne qui part de', 582, 900, 'pour aller à', 1023, 1023)\n",
      "('Création de la personne qui part de', 578, 990, 'pour aller à', 1023, 1023)\n",
      "('Création de la personne qui part de', 806, 515, 'pour aller à', 1023, 0)\n",
      "('Création de la personne qui part de', 682, 539, 'pour aller à', 1023, 1023)\n",
      "('Création de la personne qui part de', 883, 763, 'pour aller à', 0, 1023)\n",
      "('Création de la personne qui part de', 576, 130, 'pour aller à', 1023, 1023)\n",
      "('Création de la personne qui part de', 528, 488, 'pour aller à', 0, 0)\n",
      "('Création de la personne qui part de', 16, 837, 'pour aller à', 0, 1023)\n",
      "('Création de la personne qui part de', 22, 83, 'pour aller à', 1023, 0)\n",
      "('Création de la personne qui part de', 902, 711, 'pour aller à', 0, 0)\n",
      "('Création de la personne qui part de', 791, 552, 'pour aller à', 1023, 1023)\n",
      "('Création de la personne qui part de', 65, 471, 'pour aller à', 0, 0)\n",
      "('Création de la personne qui part de', 426, 915, 'pour aller à', 1023, 1023)\n",
      "('Création de la personne qui part de', 98, 753, 'pour aller à', 1023, 0)\n",
      "('Personne non créée, la place est occupée', 166, 271)\n",
      "('Création de la personne qui part de', 129, 80, 'pour aller à', 1023, 0)\n",
      "('Création de la personne qui part de', 182, 431, 'pour aller à', 1023, 0)\n",
      "('Création de la personne qui part de', 576, 200, 'pour aller à', 1023, 1023)\n",
      "('Création de la personne qui part de', 886, 303, 'pour aller à', 1023, 0)\n",
      "('Création de la personne qui part de', 279, 917, 'pour aller à', 0, 1023)\n",
      "('Création de la personne qui part de', 111, 420, 'pour aller à', 0, 0)\n",
      "('Création de la personne qui part de', 790, 350, 'pour aller à', 1023, 1023)\n",
      "('Création de la personne qui part de', 921, 92, 'pour aller à', 1023, 0)\n",
      "('Création de la personne qui part de', 993, 790, 'pour aller à', 1023, 0)\n",
      "('Création de la personne qui part de', 442, 745, 'pour aller à', 0, 0)\n",
      "('Création de la personne qui part de', 239, 696, 'pour aller à', 0, 0)\n",
      "('Création de la personne qui part de', 451, 45, 'pour aller à', 0, 0)\n",
      "('Création de la personne qui part de', 435, 486, 'pour aller à', 0, 1023)\n",
      "('Création de la personne qui part de', 693, 579, 'pour aller à', 1023, 0)\n",
      "('Création de la personne qui part de', 532, 333, 'pour aller à', 1023, 0)\n",
      "('Personne non créée, la place est occupée', 665, 785)\n",
      "('Création de la personne qui part de', 426, 758, 'pour aller à', 0, 1023)\n",
      "('Personne non créée, la place est occupée', 165, 212)\n",
      "('Création de la personne qui part de', 720, 797, 'pour aller à', 1023, 1023)\n",
      "('Création de la personne qui part de', 94, 136, 'pour aller à', 1023, 1023)\n",
      "('Création de la personne qui part de', 559, 5, 'pour aller à', 1023, 1023)\n",
      "('Création de la personne qui part de', 699, 87, 'pour aller à', 0, 0)\n",
      "('Création de la personne qui part de', 358, 881, 'pour aller à', 0, 1023)\n",
      "('Personne non créée, la place est occupée', 251, 254)\n",
      "('Création de la personne qui part de', 372, 762, 'pour aller à', 1023, 0)\n",
      "('Création de la personne qui part de', 477, 704, 'pour aller à', 1023, 1023)\n",
      "('Création de la personne qui part de', 504, 541, 'pour aller à', 1023, 1023)\n",
      "('Création de la personne qui part de', 365, 444, 'pour aller à', 1023, 0)\n",
      "('Création de la personne qui part de', 289, 78, 'pour aller à', 1023, 0)\n",
      "('Création de la personne qui part de', 844, 553, 'pour aller à', 1023, 1023)\n",
      "('Création de la personne qui part de', 753, 479, 'pour aller à', 0, 0)\n",
      "('Création de la personne qui part de', 540, 228, 'pour aller à', 1023, 0)\n",
      "('Création de la personne qui part de', 199, 92, 'pour aller à', 0, 0)\n",
      "('Création de la personne qui part de', 484, 750, 'pour aller à', 0, 1023)\n",
      "('Création de la personne qui part de', 321, 274, 'pour aller à', 1023, 1023)\n",
      "('Création de la personne qui part de', 246, 986, 'pour aller à', 0, 1023)\n",
      "('Création de la personne qui part de', 558, 473, 'pour aller à', 0, 0)\n",
      "('Création de la personne qui part de', 320, 240, 'pour aller à', 0, 1023)\n",
      "('Création de la personne qui part de', 775, 970, 'pour aller à', 0, 0)\n",
      "('Création de la personne qui part de', 335, 381, 'pour aller à', 0, 1023)\n",
      "('Création de la personne qui part de', 569, 366, 'pour aller à', 1023, 1023)\n",
      "('Création de la personne qui part de', 214, 918, 'pour aller à', 1023, 1023)\n",
      "('Création de la personne qui part de', 573, 818, 'pour aller à', 1023, 0)\n",
      "('Création de la personne qui part de', 304, 1015, 'pour aller à', 1023, 1023)\n",
      "('Création de la personne qui part de', 460, 415, 'pour aller à', 0, 1023)\n",
      "('Création de la personne qui part de', 184, 125, 'pour aller à', 0, 0)\n",
      "('Création de la personne qui part de', 938, 439, 'pour aller à', 0, 1023)\n",
      "('Création de la personne qui part de', 439, 109, 'pour aller à', 0, 0)\n",
      "('Création de la personne qui part de', 462, 495, 'pour aller à', 0, 0)\n",
      "('Création de la personne qui part de', 992, 802, 'pour aller à', 1023, 0)\n",
      "('Création de la personne qui part de', 957, 497, 'pour aller à', 0, 1023)\n",
      "('Création de la personne qui part de', 983, 666, 'pour aller à', 0, 1023)\n",
      "('Création de la personne qui part de', 305, 175, 'pour aller à', 1023, 0)\n",
      "('Création de la personne qui part de', 970, 571, 'pour aller à', 0, 1023)\n",
      "('Création de la personne qui part de', 443, 298, 'pour aller à', 0, 1023)\n",
      "('Création de la personne qui part de', 271, 802, 'pour aller à', 1023, 0)\n",
      "('Création de la personne qui part de', 306, 690, 'pour aller à', 0, 0)\n",
      "('Création de la personne qui part de', 828, 660, 'pour aller à', 0, 1023)\n",
      "('Création de la personne qui part de', 773, 845, 'pour aller à', 0, 0)\n",
      "('Création de la personne qui part de', 874, 880, 'pour aller à', 0, 0)\n",
      "('Création de la personne qui part de', 861, 202, 'pour aller à', 1023, 0)\n",
      "('Création de la personne qui part de', 695, 594, 'pour aller à', 0, 1023)\n",
      "('Création de la personne qui part de', 3, 162, 'pour aller à', 1023, 0)\n",
      "('Création de la personne qui part de', 98, 929, 'pour aller à', 1023, 0)\n",
      "('Création de la personne qui part de', 267, 934, 'pour aller à', 1023, 1023)\n",
      "('Création de la personne qui part de', 382, 353, 'pour aller à', 0, 0)\n",
      "('Création de la personne qui part de', 809, 96, 'pour aller à', 1023, 1023)\n",
      "('Création de la personne qui part de', 605, 694, 'pour aller à', 0, 0)\n",
      "('Création de la personne qui part de', 404, 917, 'pour aller à', 0, 1023)\n",
      "('Création de la personne qui part de', 845, 670, 'pour aller à', 1023, 1023)\n",
      "('Création de la personne qui part de', 914, 761, 'pour aller à', 1023, 1023)\n",
      "('Création de la personne qui part de', 637, 385, 'pour aller à', 1023, 0)\n",
      "('Création de la personne qui part de', 953, 315, 'pour aller à', 1023, 1023)\n",
      "('Création de la personne qui part de', 426, 538, 'pour aller à', 0, 1023)\n",
      "('Création de la personne qui part de', 939, 345, 'pour aller à', 0, 0)\n",
      "('Création de la personne qui part de', 87, 494, 'pour aller à', 1023, 1023)\n",
      "('Création de la personne qui part de', 115, 982, 'pour aller à', 0, 1023)\n",
      "('Création de la personne qui part de', 832, 987, 'pour aller à', 0, 0)\n",
      "('Création de la personne qui part de', 28, 794, 'pour aller à', 1023, 1023)\n",
      "('Création de la personne qui part de', 449, 464, 'pour aller à', 0, 0)\n",
      "('Création de la personne qui part de', 976, 181, 'pour aller à', 0, 1023)\n",
      "('Création de la personne qui part de', 982, 448, 'pour aller à', 0, 0)\n",
      "('Création de la personne qui part de', 162, 561, 'pour aller à', 1023, 1023)\n",
      "('Création de la personne qui part de', 610, 680, 'pour aller à', 1023, 1023)\n",
      "('Création de la personne qui part de', 261, 511, 'pour aller à', 0, 1023)\n",
      "('Création de la personne qui part de', 955, 372, 'pour aller à', 1023, 1023)\n",
      "('Création de la personne qui part de', 894, 655, 'pour aller à', 1023, 0)\n",
      "('Création de la personne qui part de', 667, 450, 'pour aller à', 1023, 0)\n",
      "('Création de la personne qui part de', 529, 19, 'pour aller à', 1023, 0)\n",
      "('Création de la personne qui part de', 907, 114, 'pour aller à', 0, 1023)\n",
      "('Création de la personne qui part de', 517, 292, 'pour aller à', 0, 1023)\n",
      "('Création de la personne qui part de', 567, 858, 'pour aller à', 1023, 0)\n",
      "('Création de la personne qui part de', 673, 524, 'pour aller à', 0, 0)\n",
      "('Création de la personne qui part de', 96, 319, 'pour aller à', 0, 1023)\n",
      "('Création de la personne qui part de', 764, 5, 'pour aller à', 0, 1023)\n",
      "('Création de la personne qui part de', 867, 31, 'pour aller à', 1023, 1023)\n",
      "('Création de la personne qui part de', 486, 289, 'pour aller à', 1023, 1023)\n",
      "('Création de la personne qui part de', 452, 447, 'pour aller à', 0, 1023)\n",
      "('Personne non créée, la place est occupée', 270, 320)\n",
      "('Création de la personne qui part de', 984, 139, 'pour aller à', 0, 1023)\n",
      "('Création de la personne qui part de', 164, 810, 'pour aller à', 0, 0)\n",
      "('Création de la personne qui part de', 287, 593, 'pour aller à', 0, 1023)\n",
      "('Création de la personne qui part de', 50, 828, 'pour aller à', 0, 1023)\n",
      "('Création de la personne qui part de', 9, 444, 'pour aller à', 0, 0)\n",
      "('Création de la personne qui part de', 60, 111, 'pour aller à', 0, 1023)\n",
      "('Création de la personne qui part de', 27, 1009, 'pour aller à', 1023, 0)\n",
      "('Création de la personne qui part de', 796, 1001, 'pour aller à', 0, 0)\n",
      "('Personne non créée, la place est occupée', 248, 299)\n",
      "('Création de la personne qui part de', 148, 369, 'pour aller à', 0, 0)\n",
      "('Création de la personne qui part de', 346, 882, 'pour aller à', 1023, 1023)\n",
      "('Création de la personne qui part de', 604, 354, 'pour aller à', 1023, 0)\n",
      "('Création de la personne qui part de', 285, 70, 'pour aller à', 0, 1023)\n",
      "('Création de la personne qui part de', 101, 870, 'pour aller à', 0, 0)\n",
      "('Création de la personne qui part de', 967, 446, 'pour aller à', 0, 0)\n",
      "('Création de la personne qui part de', 567, 912, 'pour aller à', 1023, 0)\n",
      "('Création de la personne qui part de', 227, 45, 'pour aller à', 0, 1023)\n",
      "('Création de la personne qui part de', 109, 311, 'pour aller à', 1023, 1023)\n",
      "('Création de la personne qui part de', 689, 44, 'pour aller à', 1023, 0)\n",
      "('Création de la personne qui part de', 163, 583, 'pour aller à', 0, 1023)\n",
      "('Création de la personne qui part de', 249, 499, 'pour aller à', 0, 0)\n",
      "('Personne non créée, la place est occupée', 240, 294)\n",
      "('Création de la personne qui part de', 125, 135, 'pour aller à', 1023, 1023)\n",
      "('Création de la personne qui part de', 610, 554, 'pour aller à', 0, 0)\n",
      "('Création de la personne qui part de', 898, 59, 'pour aller à', 0, 1023)\n",
      "('Création de la personne qui part de', 863, 545, 'pour aller à', 1023, 0)\n",
      "('Création de la personne qui part de', 129, 139, 'pour aller à', 0, 1023)\n",
      "('Création de la personne qui part de', 646, 295, 'pour aller à', 1023, 1023)\n",
      "('Création de la personne qui part de', 1014, 132, 'pour aller à', 0, 1023)\n",
      "('Création de la personne qui part de', 306, 16, 'pour aller à', 0, 1023)\n",
      "('Création de la personne qui part de', 601, 659, 'pour aller à', 0, 1023)\n",
      "('Création de la personne qui part de', 57, 600, 'pour aller à', 1023, 1023)\n",
      "('Création de la personne qui part de', 966, 712, 'pour aller à', 0, 1023)\n",
      "('Création de la personne qui part de', 696, 715, 'pour aller à', 1023, 1023)\n",
      "('Création de la personne qui part de', 338, 279, 'pour aller à', 1023, 1023)\n",
      "('Création de la personne qui part de', 636, 269, 'pour aller à', 1023, 1023)\n",
      "('Création de la personne qui part de', 752, 664, 'pour aller à', 0, 0)\n",
      "('Création de la personne qui part de', 911, 836, 'pour aller à', 1023, 0)\n",
      "('Création de la personne qui part de', 88, 979, 'pour aller à', 1023, 0)\n",
      "('Personne non créée, la place est occupée', 201, 353)\n",
      "('Création de la personne qui part de', 333, 841, 'pour aller à', 1023, 1023)\n",
      "('Création de la personne qui part de', 185, 407, 'pour aller à', 0, 0)\n",
      "('Création de la personne qui part de', 312, 169, 'pour aller à', 0, 0)\n",
      "('Création de la personne qui part de', 483, 410, 'pour aller à', 1023, 1023)\n",
      "('Création de la personne qui part de', 522, 720, 'pour aller à', 1023, 1023)\n",
      "('Création de la personne qui part de', 854, 983, 'pour aller à', 0, 0)\n",
      "('Personne non créée, la place est occupée', 215, 306)\n",
      "('Création de la personne qui part de', 603, 279, 'pour aller à', 0, 0)\n",
      "('Création de la personne qui part de', 698, 226, 'pour aller à', 1023, 0)\n",
      "('Création de la personne qui part de', 251, 972, 'pour aller à', 0, 1023)\n",
      "('Création de la personne qui part de', 28, 702, 'pour aller à', 1023, 1023)\n",
      "('Création de la personne qui part de', 1013, 911, 'pour aller à', 0, 1023)\n",
      "('Création de la personne qui part de', 302, 750, 'pour aller à', 0, 0)\n",
      "('Création de la personne qui part de', 333, 933, 'pour aller à', 1023, 1023)\n",
      "('Création de la personne qui part de', 782, 974, 'pour aller à', 1023, 0)\n",
      "('Création de la personne qui part de', 664, 540, 'pour aller à', 0, 1023)\n",
      "('Création de la personne qui part de', 481, 316, 'pour aller à', 0, 0)\n",
      "('Création de la personne qui part de', 387, 505, 'pour aller à', 1023, 0)\n",
      "('Création de la personne qui part de', 953, 210, 'pour aller à', 1023, 1023)\n",
      "('Création de la personne qui part de', 376, 662, 'pour aller à', 0, 1023)\n",
      "('Création de la personne qui part de', 458, 515, 'pour aller à', 1023, 1023)\n",
      "('Création de la personne qui part de', 910, 495, 'pour aller à', 0, 1023)\n",
      "('Création de la personne qui part de', 199, 379, 'pour aller à', 0, 1023)\n",
      "('Création de la personne qui part de', 120, 20, 'pour aller à', 1023, 1023)\n",
      "('Création de la personne qui part de', 657, 486, 'pour aller à', 0, 1023)\n",
      "('Création de la personne qui part de', 15, 317, 'pour aller à', 0, 0)\n",
      "('Création de la personne qui part de', 338, 504, 'pour aller à', 0, 1023)\n",
      "('Création de la personne qui part de', 508, 19, 'pour aller à', 1023, 1023)\n",
      "('Création de la personne qui part de', 182, 521, 'pour aller à', 0, 1023)\n",
      "('Création de la personne qui part de', 128, 1003, 'pour aller à', 0, 0)\n",
      "('Création de la personne qui part de', 544, 515, 'pour aller à', 1023, 1023)\n",
      "('Création de la personne qui part de', 825, 57, 'pour aller à', 1023, 0)\n",
      "('Création de la personne qui part de', 212, 890, 'pour aller à', 1023, 1023)\n",
      "('Création de la personne qui part de', 613, 543, 'pour aller à', 1023, 1023)\n",
      "('Création de la personne qui part de', 640, 460, 'pour aller à', 1023, 1023)\n",
      "('Création de la personne qui part de', 838, 863, 'pour aller à', 0, 0)\n",
      "('Création de la personne qui part de', 459, 356, 'pour aller à', 1023, 1023)\n",
      "('Création de la personne qui part de', 319, 874, 'pour aller à', 1023, 1023)\n",
      "('Personne non créée, la place est occupée', 668, 801)\n",
      "('Création de la personne qui part de', 520, 145, 'pour aller à', 1023, 0)\n",
      "('Création de la personne qui part de', 568, 588, 'pour aller à', 0, 0)\n",
      "('Création de la personne qui part de', 733, 936, 'pour aller à', 0, 1023)\n",
      "('Création de la personne qui part de', 926, 652, 'pour aller à', 0, 1023)\n",
      "('Personne non créée, la place est occupée', 211, 325)\n",
      "('Création de la personne qui part de', 306, 859, 'pour aller à', 0, 1023)\n",
      "('Création de la personne qui part de', 371, 215, 'pour aller à', 1023, 1023)\n",
      "('Création de la personne qui part de', 877, 486, 'pour aller à', 1023, 0)\n",
      "('Création de la personne qui part de', 618, 309, 'pour aller à', 0, 0)\n",
      "('Création de la personne qui part de', 918, 188, 'pour aller à', 0, 0)\n",
      "('Création de la personne qui part de', 14, 260, 'pour aller à', 0, 1023)\n",
      "('Création de la personne qui part de', 880, 993, 'pour aller à', 0, 1023)\n",
      "('Création de la personne qui part de', 811, 949, 'pour aller à', 0, 1023)\n",
      "('Création de la personne qui part de', 868, 547, 'pour aller à', 0, 1023)\n",
      "('Création de la personne qui part de', 36, 644, 'pour aller à', 0, 0)\n",
      "('Création de la personne qui part de', 829, 152, 'pour aller à', 0, 0)\n",
      "('Création de la personne qui part de', 485, 190, 'pour aller à', 0, 0)\n",
      "('Création de la personne qui part de', 1014, 239, 'pour aller à', 1023, 0)\n",
      "('Création de la personne qui part de', 629, 296, 'pour aller à', 1023, 0)\n",
      "('Création de la personne qui part de', 282, 175, 'pour aller à', 0, 0)\n",
      "('Création de la personne qui part de', 622, 347, 'pour aller à', 0, 0)\n",
      "('Création de la personne qui part de', 641, 991, 'pour aller à', 0, 0)\n",
      "('Création de la personne qui part de', 306, 131, 'pour aller à', 1023, 1023)\n",
      "('Création de la personne qui part de', 483, 387, 'pour aller à', 1023, 1023)\n",
      "('Création de la personne qui part de', 762, 843, 'pour aller à', 1023, 0)\n",
      "('Création de la personne qui part de', 424, 530, 'pour aller à', 0, 1023)\n",
      "('Création de la personne qui part de', 440, 703, 'pour aller à', 1023, 0)\n",
      "('Création de la personne qui part de', 959, 425, 'pour aller à', 0, 1023)\n",
      "('Création de la personne qui part de', 195, 834, 'pour aller à', 1023, 0)\n",
      "('Création de la personne qui part de', 681, 262, 'pour aller à', 1023, 0)\n",
      "('Création de la personne qui part de', 1000, 695, 'pour aller à', 1023, 0)\n",
      "('Création de la personne qui part de', 987, 1013, 'pour aller à', 0, 0)\n",
      "('Création de la personne qui part de', 484, 776, 'pour aller à', 0, 0)\n",
      "('Création de la personne qui part de', 527, 949, 'pour aller à', 0, 1023)\n",
      "('Création de la personne qui part de', 213, 656, 'pour aller à', 1023, 1023)\n",
      "('Création de la personne qui part de', 278, 471, 'pour aller à', 0, 1023)\n",
      "('Création de la personne qui part de', 734, 810, 'pour aller à', 0, 0)\n",
      "('Création de la personne qui part de', 614, 829, 'pour aller à', 1023, 1023)\n",
      "('Création de la personne qui part de', 627, 22, 'pour aller à', 1023, 1023)\n",
      "('Création de la personne qui part de', 30, 545, 'pour aller à', 1023, 0)\n",
      "('Création de la personne qui part de', 705, 173, 'pour aller à', 1023, 0)\n",
      "('Création de la personne qui part de', 508, 639, 'pour aller à', 0, 0)\n",
      "('Création de la personne qui part de', 113, 566, 'pour aller à', 0, 1023)\n",
      "('Création de la personne qui part de', 212, 59, 'pour aller à', 0, 0)\n",
      "('Création de la personne qui part de', 338, 168, 'pour aller à', 1023, 1023)\n",
      "('Création de la personne qui part de', 805, 481, 'pour aller à', 1023, 1023)\n",
      "('Création de la personne qui part de', 689, 738, 'pour aller à', 1023, 0)\n",
      "('Création de la personne qui part de', 464, 781, 'pour aller à', 1023, 0)\n",
      "('Création de la personne qui part de', 94, 707, 'pour aller à', 1023, 0)\n",
      "('Création de la personne qui part de', 267, 453, 'pour aller à', 0, 0)\n",
      "('Création de la personne qui part de', 186, 113, 'pour aller à', 1023, 1023)\n",
      "('Création de la personne qui part de', 150, 849, 'pour aller à', 1023, 1023)\n",
      "('Création de la personne qui part de', 383, 697, 'pour aller à', 0, 0)\n",
      "('Création de la personne qui part de', 492, 324, 'pour aller à', 0, 1023)\n",
      "('Création de la personne qui part de', 962, 814, 'pour aller à', 1023, 0)\n",
      "('Création de la personne qui part de', 698, 261, 'pour aller à', 0, 0)\n",
      "('Création de la personne qui part de', 836, 822, 'pour aller à', 1023, 0)\n",
      "('Personne non créée, la place est occupée', 212, 273)\n",
      "('Création de la personne qui part de', 734, 736, 'pour aller à', 0, 1023)\n",
      "('Création de la personne qui part de', 137, 394, 'pour aller à', 1023, 1023)\n",
      "('Création de la personne qui part de', 861, 563, 'pour aller à', 1023, 0)\n",
      "('Création de la personne qui part de', 106, 444, 'pour aller à', 1023, 1023)\n",
      "('Création de la personne qui part de', 128, 322, 'pour aller à', 0, 1023)\n",
      "('Création de la personne qui part de', 649, 275, 'pour aller à', 1023, 0)\n",
      "('Création de la personne qui part de', 696, 669, 'pour aller à', 1023, 0)\n",
      "('Création de la personne qui part de', 674, 569, 'pour aller à', 0, 0)\n",
      "('Création de la personne qui part de', 195, 562, 'pour aller à', 1023, 1023)\n",
      "('Création de la personne qui part de', 344, 895, 'pour aller à', 0, 0)\n",
      "('Création de la personne qui part de', 456, 347, 'pour aller à', 0, 1023)\n",
      "('Création de la personne qui part de', 572, 410, 'pour aller à', 0, 1023)\n",
      "('Création de la personne qui part de', 94, 751, 'pour aller à', 1023, 1023)\n",
      "('Création de la personne qui part de', 4, 534, 'pour aller à', 1023, 1023)\n",
      "('Création de la personne qui part de', 300, 278, 'pour aller à', 1023, 1023)\n",
      "('Création de la personne qui part de', 599, 96, 'pour aller à', 0, 1023)\n",
      "('Création de la personne qui part de', 100, 968, 'pour aller à', 1023, 0)\n",
      "('Création de la personne qui part de', 233, 90, 'pour aller à', 0, 0)\n",
      "('Création de la personne qui part de', 560, 582, 'pour aller à', 0, 0)\n",
      "('Création de la personne qui part de', 629, 712, 'pour aller à', 0, 1023)\n",
      "('Création de la personne qui part de', 268, 376, 'pour aller à', 1023, 1023)\n",
      "('Création de la personne qui part de', 229, 792, 'pour aller à', 0, 0)\n",
      "('Création de la personne qui part de', 504, 86, 'pour aller à', 0, 0)\n",
      "('Création de la personne qui part de', 163, 1008, 'pour aller à', 0, 0)\n",
      "('Création de la personne qui part de', 869, 30, 'pour aller à', 0, 1023)\n",
      "('Création de la personne qui part de', 437, 607, 'pour aller à', 1023, 1023)\n",
      "('Création de la personne qui part de', 577, 105, 'pour aller à', 0, 1023)\n",
      "('Création de la personne qui part de', 431, 829, 'pour aller à', 0, 0)\n",
      "('Création de la personne qui part de', 649, 288, 'pour aller à', 0, 0)\n",
      "('Création de la personne qui part de', 763, 709, 'pour aller à', 1023, 0)\n",
      "('Création de la personne qui part de', 456, 419, 'pour aller à', 0, 0)\n",
      "('Création de la personne qui part de', 855, 959, 'pour aller à', 1023, 0)\n",
      "('Création de la personne qui part de', 33, 34, 'pour aller à', 1023, 1023)\n",
      "('Création de la personne qui part de', 158, 411, 'pour aller à', 1023, 0)\n",
      "('Création de la personne qui part de', 616, 166, 'pour aller à', 1023, 1023)\n",
      "('Création de la personne qui part de', 240, 366, 'pour aller à', 0, 1023)\n",
      "('Création de la personne qui part de', 955, 333, 'pour aller à', 0, 1023)\n",
      "('Création de la personne qui part de', 646, 460, 'pour aller à', 1023, 0)\n",
      "('Création de la personne qui part de', 435, 481, 'pour aller à', 0, 1023)\n",
      "('Création de la personne qui part de', 16, 823, 'pour aller à', 1023, 0)\n",
      "('Création de la personne qui part de', 586, 389, 'pour aller à', 1023, 1023)\n",
      "('Création de la personne qui part de', 217, 446, 'pour aller à', 1023, 0)\n",
      "('Création de la personne qui part de', 788, 262, 'pour aller à', 0, 0)\n",
      "('Création de la personne qui part de', 182, 399, 'pour aller à', 0, 0)\n",
      "('Création de la personne qui part de', 810, 962, 'pour aller à', 1023, 0)\n",
      "('Création de la personne qui part de', 101, 230, 'pour aller à', 1023, 1023)\n",
      "('Création de la personne qui part de', 265, 65, 'pour aller à', 1023, 0)\n",
      "('Création de la personne qui part de', 574, 410, 'pour aller à', 1023, 0)\n",
      "('Création de la personne qui part de', 383, 1004, 'pour aller à', 0, 0)\n",
      "('Création de la personne qui part de', 268, 530, 'pour aller à', 0, 1023)\n",
      "('Création de la personne qui part de', 763, 832, 'pour aller à', 1023, 0)\n",
      "('Création de la personne qui part de', 467, 181, 'pour aller à', 1023, 0)\n",
      "('Création de la personne qui part de', 912, 536, 'pour aller à', 1023, 1023)\n",
      "('Création de la personne qui part de', 510, 616, 'pour aller à', 0, 0)\n",
      "('Création de la personne qui part de', 1020, 317, 'pour aller à', 1023, 1023)\n",
      "('Création de la personne qui part de', 892, 918, 'pour aller à', 0, 1023)\n",
      "('Création de la personne qui part de', 4, 515, 'pour aller à', 0, 0)\n",
      "('Création de la personne qui part de', 630, 965, 'pour aller à', 0, 0)\n",
      "('Création de la personne qui part de', 298, 560, 'pour aller à', 1023, 1023)\n",
      "('Création de la personne qui part de', 182, 970, 'pour aller à', 1023, 1023)\n",
      "('Création de la personne qui part de', 116, 752, 'pour aller à', 0, 0)\n",
      "('Création de la personne qui part de', 611, 951, 'pour aller à', 1023, 0)\n",
      "('Création de la personne qui part de', 1021, 65, 'pour aller à', 0, 0)\n",
      "('Création de la personne qui part de', 1013, 725, 'pour aller à', 1023, 0)\n",
      "('Création de la personne qui part de', 469, 846, 'pour aller à', 1023, 0)\n",
      "('Création de la personne qui part de', 293, 881, 'pour aller à', 0, 0)\n",
      "('Création de la personne qui part de', 491, 538, 'pour aller à', 1023, 1023)\n",
      "('Création de la personne qui part de', 702, 1019, 'pour aller à', 1023, 1023)\n",
      "('Création de la personne qui part de', 317, 780, 'pour aller à', 1023, 0)\n",
      "('Personne non créée, la place est occupée', 163, 254)\n",
      "('Création de la personne qui part de', 103, 462, 'pour aller à', 1023, 1023)\n",
      "('Création de la personne qui part de', 621, 996, 'pour aller à', 1023, 1023)\n",
      "('Création de la personne qui part de', 193, 447, 'pour aller à', 1023, 0)\n",
      "('Création de la personne qui part de', 39, 14, 'pour aller à', 0, 1023)\n",
      "('Création de la personne qui part de', 405, 250, 'pour aller à', 1023, 0)\n",
      "('Création de la personne qui part de', 57, 128, 'pour aller à', 1023, 1023)\n",
      "('Personne non créée, la place est occupée', 267, 281)\n",
      "('Création de la personne qui part de', 657, 235, 'pour aller à', 1023, 1023)\n",
      "('Création de la personne qui part de', 355, 307, 'pour aller à', 0, 0)\n",
      "('Création de la personne qui part de', 24, 1021, 'pour aller à', 1023, 0)\n",
      "('Personne non créée, la place est occupée', 385, 374)\n",
      "('Création de la personne qui part de', 387, 1016, 'pour aller à', 0, 0)\n",
      "('Création de la personne qui part de', 891, 747, 'pour aller à', 1023, 1023)\n",
      "('Création de la personne qui part de', 41, 779, 'pour aller à', 0, 1023)\n",
      "('Création de la personne qui part de', 791, 633, 'pour aller à', 0, 1023)\n",
      "('Création de la personne qui part de', 389, 98, 'pour aller à', 1023, 0)\n",
      "('Création de la personne qui part de', 281, 763, 'pour aller à', 1023, 1023)\n",
      "('Création de la personne qui part de', 379, 205, 'pour aller à', 1023, 0)\n",
      "('Création de la personne qui part de', 754, 202, 'pour aller à', 1023, 1023)\n",
      "('Création de la personne qui part de', 573, 698, 'pour aller à', 1023, 0)\n",
      "('Création de la personne qui part de', 768, 719, 'pour aller à', 0, 1023)\n",
      "('Création de la personne qui part de', 46, 625, 'pour aller à', 1023, 1023)\n",
      "('Création de la personne qui part de', 937, 231, 'pour aller à', 1023, 1023)\n",
      "('Création de la personne qui part de', 542, 938, 'pour aller à', 0, 0)\n",
      "('Création de la personne qui part de', 334, 869, 'pour aller à', 1023, 1023)\n",
      "('Création de la personne qui part de', 137, 800, 'pour aller à', 0, 1023)\n",
      "('Création de la personne qui part de', 302, 712, 'pour aller à', 0, 0)\n",
      "('Création de la personne qui part de', 127, 456, 'pour aller à', 1023, 1023)\n",
      "('Création de la personne qui part de', 445, 305, 'pour aller à', 0, 1023)\n",
      "('Création de la personne qui part de', 690, 874, 'pour aller à', 1023, 1023)\n",
      "('Création de la personne qui part de', 846, 729, 'pour aller à', 0, 1023)\n",
      "('Création de la personne qui part de', 546, 980, 'pour aller à', 1023, 1023)\n",
      "('Création de la personne qui part de', 670, 106, 'pour aller à', 0, 0)\n",
      "('Création de la personne qui part de', 852, 540, 'pour aller à', 1023, 0)\n",
      "('Création de la personne qui part de', 892, 449, 'pour aller à', 0, 0)\n",
      "('Création de la personne qui part de', 58, 246, 'pour aller à', 1023, 1023)\n",
      "('Création de la personne qui part de', 804, 49, 'pour aller à', 1023, 0)\n",
      "('Création de la personne qui part de', 108, 913, 'pour aller à', 1023, 0)\n",
      "('Création de la personne qui part de', 485, 24, 'pour aller à', 0, 1023)\n",
      "('Création de la personne qui part de', 648, 291, 'pour aller à', 1023, 1023)\n",
      "('Création de la personne qui part de', 755, 838, 'pour aller à', 0, 0)\n",
      "('Création de la personne qui part de', 908, 399, 'pour aller à', 0, 1023)\n",
      "('Création de la personne qui part de', 728, 61, 'pour aller à', 0, 1023)\n",
      "('Création de la personne qui part de', 775, 80, 'pour aller à', 1023, 1023)\n",
      "('Création de la personne qui part de', 470, 372, 'pour aller à', 0, 1023)\n",
      "('Création de la personne qui part de', 335, 401, 'pour aller à', 1023, 1023)\n",
      "('Création de la personne qui part de', 152, 616, 'pour aller à', 1023, 1023)\n",
      "('Création de la personne qui part de', 892, 643, 'pour aller à', 0, 1023)\n",
      "('Création de la personne qui part de', 225, 810, 'pour aller à', 0, 0)\n",
      "('Création de la personne qui part de', 527, 713, 'pour aller à', 0, 0)\n",
      "('Création de la personne qui part de', 548, 794, 'pour aller à', 0, 1023)\n",
      "('Création de la personne qui part de', 650, 781, 'pour aller à', 1023, 1023)\n",
      "('Création de la personne qui part de', 330, 708, 'pour aller à', 1023, 0)\n",
      "('Création de la personne qui part de', 993, 1, 'pour aller à', 1023, 0)\n",
      "('Création de la personne qui part de', 157, 443, 'pour aller à', 1023, 1023)\n",
      "('Création de la personne qui part de', 714, 680, 'pour aller à', 0, 0)\n",
      "('Création de la personne qui part de', 110, 482, 'pour aller à', 1023, 0)\n",
      "('Création de la personne qui part de', 897, 547, 'pour aller à', 1023, 0)\n",
      "('Création de la personne qui part de', 388, 509, 'pour aller à', 0, 0)\n",
      "('Création de la personne qui part de', 480, 244, 'pour aller à', 1023, 0)\n",
      "('Création de la personne qui part de', 292, 735, 'pour aller à', 1023, 0)\n",
      "('Création de la personne qui part de', 567, 926, 'pour aller à', 0, 1023)\n",
      "('Création de la personne qui part de', 17, 259, 'pour aller à', 0, 1023)\n",
      "('Création de la personne qui part de', 955, 400, 'pour aller à', 1023, 0)\n",
      "('Création de la personne qui part de', 1022, 835, 'pour aller à', 0, 1023)\n",
      "('Création de la personne qui part de', 228, 461, 'pour aller à', 0, 0)\n",
      "('Création de la personne qui part de', 944, 300, 'pour aller à', 1023, 0)\n",
      "('Création de la personne qui part de', 528, 173, 'pour aller à', 0, 0)\n",
      "('Création de la personne qui part de', 51, 635, 'pour aller à', 0, 1023)\n",
      "('Création de la personne qui part de', 600, 372, 'pour aller à', 0, 1023)\n",
      "('Création de la personne qui part de', 1017, 488, 'pour aller à', 1023, 1023)\n",
      "('Création de la personne qui part de', 812, 374, 'pour aller à', 1023, 0)\n",
      "('Création de la personne qui part de', 309, 989, 'pour aller à', 0, 1023)\n",
      "('Création de la personne qui part de', 408, 603, 'pour aller à', 1023, 0)\n",
      "('Création de la personne qui part de', 309, 527, 'pour aller à', 0, 1023)\n",
      "('Création de la personne qui part de', 62, 296, 'pour aller à', 1023, 0)\n",
      "('Création de la personne qui part de', 91, 692, 'pour aller à', 1023, 0)\n",
      "('Création de la personne qui part de', 342, 95, 'pour aller à', 0, 1023)\n",
      "('Création de la personne qui part de', 131, 36, 'pour aller à', 0, 0)\n",
      "('Création de la personne qui part de', 1006, 438, 'pour aller à', 0, 0)\n",
      "('Création de la personne qui part de', 895, 736, 'pour aller à', 1023, 0)\n",
      "('Création de la personne qui part de', 398, 214, 'pour aller à', 0, 1023)\n",
      "('Création de la personne qui part de', 997, 685, 'pour aller à', 0, 1023)\n",
      "('Création de la personne qui part de', 665, 513, 'pour aller à', 0, 0)\n",
      "('Création de la personne qui part de', 831, 892, 'pour aller à', 1023, 1023)\n",
      "('Création de la personne qui part de', 708, 130, 'pour aller à', 1023, 0)\n",
      "('Création de la personne qui part de', 211, 559, 'pour aller à', 0, 0)\n",
      "('Création de la personne qui part de', 581, 213, 'pour aller à', 0, 0)\n",
      "('Création de la personne qui part de', 690, 870, 'pour aller à', 0, 0)\n",
      "('Création de la personne qui part de', 812, 295, 'pour aller à', 1023, 1023)\n",
      "('Création de la personne qui part de', 631, 582, 'pour aller à', 1023, 1023)\n",
      "('Création de la personne qui part de', 283, 738, 'pour aller à', 0, 1023)\n",
      "('Création de la personne qui part de', 808, 788, 'pour aller à', 0, 0)\n",
      "('Création de la personne qui part de', 183, 1022, 'pour aller à', 0, 1023)\n",
      "('Création de la personne qui part de', 475, 914, 'pour aller à', 0, 1023)\n",
      "('Création de la personne qui part de', 794, 91, 'pour aller à', 0, 0)\n",
      "('Création de la personne qui part de', 893, 517, 'pour aller à', 0, 1023)\n",
      "('Création de la personne qui part de', 271, 891, 'pour aller à', 1023, 1023)\n",
      "('Création de la personne qui part de', 936, 956, 'pour aller à', 0, 1023)\n",
      "('Création de la personne qui part de', 638, 448, 'pour aller à', 1023, 1023)\n",
      "('Création de la personne qui part de', 116, 944, 'pour aller à', 0, 1023)\n",
      "('Création de la personne qui part de', 480, 490, 'pour aller à', 0, 0)\n",
      "('Création de la personne qui part de', 80, 982, 'pour aller à', 1023, 0)\n",
      "('Création de la personne qui part de', 632, 895, 'pour aller à', 0, 0)\n",
      "('Création de la personne qui part de', 692, 499, 'pour aller à', 1023, 1023)\n",
      "('Création de la personne qui part de', 359, 173, 'pour aller à', 0, 0)\n",
      "('Création de la personne qui part de', 461, 110, 'pour aller à', 1023, 0)\n",
      "('Création de la personne qui part de', 892, 957, 'pour aller à', 0, 0)\n",
      "('Création de la personne qui part de', 369, 38, 'pour aller à', 1023, 0)\n",
      "('Création de la personne qui part de', 913, 370, 'pour aller à', 0, 0)\n",
      "('Création de la personne qui part de', 568, 943, 'pour aller à', 0, 1023)\n",
      "('Création de la personne qui part de', 505, 745, 'pour aller à', 1023, 0)\n",
      "('Création de la personne qui part de', 484, 804, 'pour aller à', 0, 1023)\n",
      "('Création de la personne qui part de', 945, 958, 'pour aller à', 0, 0)\n",
      "('Création de la personne qui part de', 867, 919, 'pour aller à', 0, 1023)\n",
      "('Création de la personne qui part de', 287, 736, 'pour aller à', 1023, 0)\n",
      "('Création de la personne qui part de', 240, 605, 'pour aller à', 0, 0)\n",
      "('Création de la personne qui part de', 542, 237, 'pour aller à', 0, 0)\n",
      "('Création de la personne qui part de', 779, 268, 'pour aller à', 0, 1023)\n",
      "('Création de la personne qui part de', 515, 152, 'pour aller à', 0, 0)\n",
      "('Création de la personne qui part de', 507, 821, 'pour aller à', 0, 0)\n",
      "('Création de la personne qui part de', 127, 384, 'pour aller à', 1023, 1023)\n",
      "('Création de la personne qui part de', 824, 656, 'pour aller à', 1023, 1023)\n",
      "('Création de la personne qui part de', 849, 390, 'pour aller à', 1023, 0)\n",
      "('Création de la personne qui part de', 198, 152, 'pour aller à', 0, 1023)\n",
      "('Création de la personne qui part de', 23, 757, 'pour aller à', 1023, 1023)\n",
      "('Création de la personne qui part de', 592, 700, 'pour aller à', 0, 1023)\n",
      "('Création de la personne qui part de', 816, 264, 'pour aller à', 1023, 1023)\n",
      "('Création de la personne qui part de', 566, 284, 'pour aller à', 0, 0)\n",
      "('Création de la personne qui part de', 26, 134, 'pour aller à', 0, 0)\n",
      "('Création de la personne qui part de', 747, 1014, 'pour aller à', 0, 1023)\n",
      "('Création de la personne qui part de', 973, 170, 'pour aller à', 1023, 1023)\n",
      "('Création de la personne qui part de', 328, 316, 'pour aller à', 0, 0)\n",
      "('Création de la personne qui part de', 810, 936, 'pour aller à', 0, 1023)\n",
      "('Création de la personne qui part de', 444, 429, 'pour aller à', 0, 1023)\n",
      "('Création de la personne qui part de', 889, 742, 'pour aller à', 0, 1023)\n",
      "('Création de la personne qui part de', 506, 226, 'pour aller à', 0, 1023)\n",
      "('Création de la personne qui part de', 38, 121, 'pour aller à', 0, 1023)\n",
      "('Création de la personne qui part de', 225, 782, 'pour aller à', 0, 0)\n",
      "('Création de la personne qui part de', 279, 977, 'pour aller à', 1023, 1023)\n",
      "('Création de la personne qui part de', 350, 664, 'pour aller à', 1023, 1023)\n",
      "('Création de la personne qui part de', 943, 730, 'pour aller à', 0, 0)\n",
      "('Création de la personne qui part de', 120, 860, 'pour aller à', 1023, 0)\n",
      "('Création de la personne qui part de', 889, 778, 'pour aller à', 1023, 1023)\n",
      "('Création de la personne qui part de', 837, 537, 'pour aller à', 0, 1023)\n",
      "('Création de la personne qui part de', 430, 517, 'pour aller à', 0, 1023)\n",
      "('Création de la personne qui part de', 236, 327, 'pour aller à', 0, 0)\n",
      "('Création de la personne qui part de', 719, 856, 'pour aller à', 1023, 1023)\n",
      "('Création de la personne qui part de', 1004, 352, 'pour aller à', 1023, 0)\n",
      "('Création de la personne qui part de', 107, 802, 'pour aller à', 0, 1023)\n",
      "('Création de la personne qui part de', 8, 366, 'pour aller à', 1023, 1023)\n",
      "('Création de la personne qui part de', 351, 22, 'pour aller à', 1023, 0)\n",
      "('Personne non créée, la place est occupée', 206, 345)\n",
      "('Création de la personne qui part de', 605, 166, 'pour aller à', 1023, 0)\n",
      "('Création de la personne qui part de', 623, 569, 'pour aller à', 1023, 0)\n",
      "('Création de la personne qui part de', 846, 242, 'pour aller à', 1023, 0)\n",
      "('Création de la personne qui part de', 259, 886, 'pour aller à', 1023, 0)\n",
      "('Création de la personne qui part de', 928, 492, 'pour aller à', 1023, 1023)\n",
      "('Création de la personne qui part de', 25, 769, 'pour aller à', 0, 1023)\n",
      "('Création de la personne qui part de', 656, 687, 'pour aller à', 1023, 0)\n",
      "('Création de la personne qui part de', 542, 486, 'pour aller à', 0, 0)\n",
      "('Création de la personne qui part de', 894, 519, 'pour aller à', 0, 0)\n",
      "('Création de la personne qui part de', 189, 410, 'pour aller à', 1023, 0)\n",
      "('Création de la personne qui part de', 580, 136, 'pour aller à', 1023, 0)\n",
      "('Création de la personne qui part de', 413, 737, 'pour aller à', 0, 0)\n",
      "('Création de la personne qui part de', 834, 358, 'pour aller à', 1023, 1023)\n",
      "('Création de la personne qui part de', 989, 135, 'pour aller à', 1023, 1023)\n",
      "('Création de la personne qui part de', 354, 310, 'pour aller à', 1023, 1023)\n",
      "('Création de la personne qui part de', 706, 594, 'pour aller à', 0, 1023)\n",
      "('Création de la personne qui part de', 220, 632, 'pour aller à', 1023, 0)\n",
      "('Création de la personne qui part de', 667, 683, 'pour aller à', 0, 1023)\n",
      "('Création de la personne qui part de', 939, 964, 'pour aller à', 1023, 1023)\n",
      "('Création de la personne qui part de', 758, 34, 'pour aller à', 1023, 0)\n",
      "('Création de la personne qui part de', 129, 315, 'pour aller à', 0, 0)\n",
      "('Création de la personne qui part de', 96, 226, 'pour aller à', 1023, 1023)\n",
      "('Création de la personne qui part de', 464, 166, 'pour aller à', 0, 0)\n",
      "('Création de la personne qui part de', 425, 546, 'pour aller à', 1023, 1023)\n",
      "('Création de la personne qui part de', 929, 1014, 'pour aller à', 0, 0)\n",
      "('Création de la personne qui part de', 524, 450, 'pour aller à', 1023, 0)\n",
      "('Création de la personne qui part de', 663, 358, 'pour aller à', 1023, 0)\n",
      "('Création de la personne qui part de', 774, 877, 'pour aller à', 0, 1023)\n",
      "('Création de la personne qui part de', 870, 391, 'pour aller à', 1023, 1023)\n",
      "('Personne non créée, la place est occupée', 250, 248)\n",
      "('Création de la personne qui part de', 859, 800, 'pour aller à', 0, 0)\n",
      "('Création de la personne qui part de', 975, 504, 'pour aller à', 0, 0)\n",
      "('Création de la personne qui part de', 572, 659, 'pour aller à', 1023, 1023)\n",
      "('Création de la personne qui part de', 422, 367, 'pour aller à', 0, 0)\n",
      "('Création de la personne qui part de', 399, 226, 'pour aller à', 0, 1023)\n",
      "('Création de la personne qui part de', 715, 369, 'pour aller à', 0, 1023)\n",
      "('Création de la personne qui part de', 536, 339, 'pour aller à', 1023, 1023)\n",
      "('Création de la personne qui part de', 512, 585, 'pour aller à', 1023, 1023)\n",
      "('Création de la personne qui part de', 654, 410, 'pour aller à', 0, 0)\n",
      "('Création de la personne qui part de', 688, 75, 'pour aller à', 1023, 0)\n",
      "('Création de la personne qui part de', 369, 144, 'pour aller à', 1023, 0)\n",
      "('Création de la personne qui part de', 817, 598, 'pour aller à', 0, 0)\n",
      "('Création de la personne qui part de', 449, 241, 'pour aller à', 0, 1023)\n",
      "('Création de la personne qui part de', 783, 350, 'pour aller à', 1023, 1023)\n",
      "('Création de la personne qui part de', 289, 327, 'pour aller à', 0, 1023)\n",
      "('Création de la personne qui part de', 750, 455, 'pour aller à', 0, 0)\n",
      "('Création de la personne qui part de', 861, 773, 'pour aller à', 0, 1023)\n",
      "('Création de la personne qui part de', 817, 676, 'pour aller à', 1023, 1023)\n",
      "('Création de la personne qui part de', 326, 311, 'pour aller à', 1023, 1023)\n",
      "('Création de la personne qui part de', 431, 408, 'pour aller à', 0, 1023)\n",
      "('Création de la personne qui part de', 510, 923, 'pour aller à', 1023, 0)\n",
      "('Création de la personne qui part de', 305, 335, 'pour aller à', 0, 1023)\n",
      "('Création de la personne qui part de', 156, 710, 'pour aller à', 0, 0)\n",
      "('Création de la personne qui part de', 247, 210, 'pour aller à', 1023, 0)\n",
      "('Création de la personne qui part de', 753, 994, 'pour aller à', 1023, 0)\n",
      "('Création de la personne qui part de', 1003, 610, 'pour aller à', 1023, 1023)\n",
      "('Création de la personne qui part de', 765, 39, 'pour aller à', 1023, 1023)\n",
      "('Création de la personne qui part de', 457, 612, 'pour aller à', 0, 0)\n",
      "('Création de la personne qui part de', 360, 448, 'pour aller à', 0, 1023)\n",
      "('Création de la personne qui part de', 114, 6, 'pour aller à', 0, 1023)\n",
      "('Création de la personne qui part de', 137, 783, 'pour aller à', 0, 1023)\n",
      "('Création de la personne qui part de', 950, 345, 'pour aller à', 1023, 1023)\n",
      "('Création de la personne qui part de', 170, 648, 'pour aller à', 0, 0)\n",
      "('Création de la personne qui part de', 32, 871, 'pour aller à', 0, 0)\n",
      "('Création de la personne qui part de', 157, 641, 'pour aller à', 1023, 1023)\n",
      "('Création de la personne qui part de', 23, 1013, 'pour aller à', 1023, 1023)\n",
      "('Création de la personne qui part de', 876, 16, 'pour aller à', 1023, 0)\n",
      "('Création de la personne qui part de', 592, 908, 'pour aller à', 0, 0)\n",
      "('Création de la personne qui part de', 590, 534, 'pour aller à', 1023, 1023)\n",
      "('Création de la personne qui part de', 919, 803, 'pour aller à', 1023, 1023)\n",
      "('Création de la personne qui part de', 957, 159, 'pour aller à', 1023, 1023)\n",
      "('Création de la personne qui part de', 244, 843, 'pour aller à', 1023, 1023)\n",
      "('Création de la personne qui part de', 149, 63, 'pour aller à', 0, 1023)\n",
      "('Personne non créée, la place est occupée', 12, 139)\n",
      "('Création de la personne qui part de', 2, 15, 'pour aller à', 1023, 1023)\n",
      "('Personne non créée, la place est occupée', 200, 359)\n",
      "('Création de la personne qui part de', 406, 888, 'pour aller à', 0, 0)\n",
      "('Création de la personne qui part de', 136, 338, 'pour aller à', 1023, 0)\n",
      "('Création de la personne qui part de', 843, 147, 'pour aller à', 1023, 0)\n",
      "('Création de la personne qui part de', 735, 434, 'pour aller à', 0, 1023)\n",
      "('Création de la personne qui part de', 589, 138, 'pour aller à', 1023, 1023)\n",
      "('Création de la personne qui part de', 139, 925, 'pour aller à', 1023, 1023)\n",
      "('Création de la personne qui part de', 768, 3, 'pour aller à', 0, 0)\n",
      "('Création de la personne qui part de', 971, 412, 'pour aller à', 0, 1023)\n",
      "('Création de la personne qui part de', 126, 284, 'pour aller à', 1023, 0)\n",
      "('Création de la personne qui part de', 1004, 157, 'pour aller à', 0, 0)\n",
      "('Création de la personne qui part de', 606, 672, 'pour aller à', 0, 1023)\n",
      "('Création de la personne qui part de', 147, 36, 'pour aller à', 1023, 1023)\n",
      "('Création de la personne qui part de', 418, 719, 'pour aller à', 1023, 1023)\n",
      "('Création de la personne qui part de', 665, 912, 'pour aller à', 0, 1023)\n",
      "('Création de la personne qui part de', 751, 335, 'pour aller à', 1023, 1023)\n",
      "('Création de la personne qui part de', 148, 160, 'pour aller à', 0, 0)\n",
      "('Création de la personne qui part de', 515, 805, 'pour aller à', 1023, 1023)\n",
      "('Création de la personne qui part de', 453, 787, 'pour aller à', 1023, 1023)\n",
      "('Création de la personne qui part de', 1019, 501, 'pour aller à', 0, 1023)\n",
      "('Création de la personne qui part de', 900, 605, 'pour aller à', 0, 1023)\n",
      "('Création de la personne qui part de', 598, 5, 'pour aller à', 0, 1023)\n",
      "('Création de la personne qui part de', 664, 324, 'pour aller à', 1023, 0)\n",
      "('Création de la personne qui part de', 919, 553, 'pour aller à', 1023, 1023)\n",
      "('Création de la personne qui part de', 474, 323, 'pour aller à', 1023, 1023)\n",
      "('Création de la personne qui part de', 118, 667, 'pour aller à', 0, 1023)\n",
      "('Création de la personne qui part de', 604, 188, 'pour aller à', 0, 0)\n",
      "('Création de la personne qui part de', 949, 574, 'pour aller à', 1023, 1023)\n",
      "('Création de la personne qui part de', 545, 690, 'pour aller à', 0, 0)\n",
      "('Création de la personne qui part de', 915, 304, 'pour aller à', 0, 1023)\n",
      "('Création de la personne qui part de', 1013, 651, 'pour aller à', 0, 0)\n",
      "('Création de la personne qui part de', 343, 732, 'pour aller à', 1023, 0)\n",
      "('Création de la personne qui part de', 843, 529, 'pour aller à', 0, 0)\n",
      "('Création de la personne qui part de', 338, 136, 'pour aller à', 1023, 1023)\n",
      "('Création de la personne qui part de', 157, 772, 'pour aller à', 0, 0)\n",
      "('Création de la personne qui part de', 864, 557, 'pour aller à', 1023, 1023)\n",
      "('Création de la personne qui part de', 140, 252, 'pour aller à', 1023, 0)\n",
      "('Création de la personne qui part de', 999, 201, 'pour aller à', 0, 1023)\n",
      "('Création de la personne qui part de', 840, 609, 'pour aller à', 1023, 0)\n",
      "('Création de la personne qui part de', 605, 152, 'pour aller à', 0, 0)\n",
      "('Création de la personne qui part de', 338, 62, 'pour aller à', 0, 1023)\n",
      "('Création de la personne qui part de', 597, 786, 'pour aller à', 1023, 0)\n",
      "('Création de la personne qui part de', 762, 740, 'pour aller à', 1023, 0)\n",
      "('Création de la personne qui part de', 292, 92, 'pour aller à', 0, 1023)\n",
      "('Création de la personne qui part de', 975, 862, 'pour aller à', 0, 1023)\n",
      "('Création de la personne qui part de', 974, 358, 'pour aller à', 0, 0)\n",
      "('Création de la personne qui part de', 439, 413, 'pour aller à', 0, 0)\n",
      "('Création de la personne qui part de', 320, 695, 'pour aller à', 1023, 1023)\n",
      "('Création de la personne qui part de', 898, 931, 'pour aller à', 0, 1023)\n",
      "('Création de la personne qui part de', 434, 381, 'pour aller à', 1023, 0)\n",
      "('Création de la personne qui part de', 676, 600, 'pour aller à', 1023, 1023)\n",
      "('Création de la personne qui part de', 328, 258, 'pour aller à', 0, 1023)\n",
      "('Création de la personne qui part de', 399, 458, 'pour aller à', 1023, 1023)\n",
      "('Création de la personne qui part de', 796, 636, 'pour aller à', 1023, 1023)\n",
      "('Création de la personne qui part de', 914, 141, 'pour aller à', 0, 1023)\n",
      "('Création de la personne qui part de', 745, 526, 'pour aller à', 1023, 0)\n",
      "('Création de la personne qui part de', 44, 912, 'pour aller à', 1023, 1023)\n",
      "('Création de la personne qui part de', 204, 82, 'pour aller à', 0, 0)\n",
      "('Création de la personne qui part de', 607, 800, 'pour aller à', 1023, 1023)\n",
      "('Création de la personne qui part de', 867, 321, 'pour aller à', 1023, 0)\n",
      "('Création de la personne qui part de', 766, 545, 'pour aller à', 0, 1023)\n",
      "('Création de la personne qui part de', 1020, 777, 'pour aller à', 0, 1023)\n",
      "('Création de la personne qui part de', 197, 482, 'pour aller à', 1023, 1023)\n",
      "('Création de la personne qui part de', 548, 428, 'pour aller à', 0, 0)\n",
      "('Création de la personne qui part de', 757, 119, 'pour aller à', 0, 1023)\n",
      "('Création de la personne qui part de', 527, 425, 'pour aller à', 1023, 1023)\n",
      "('Création de la personne qui part de', 127, 197, 'pour aller à', 1023, 1023)\n",
      "('Création de la personne qui part de', 582, 463, 'pour aller à', 0, 1023)\n",
      "('Personne non créée, la place est occupée', 271, 240)\n",
      "('Création de la personne qui part de', 822, 180, 'pour aller à', 0, 0)\n",
      "('Création de la personne qui part de', 30, 596, 'pour aller à', 0, 0)\n",
      "('Création de la personne qui part de', 110, 642, 'pour aller à', 0, 1023)\n",
      "('Création de la personne qui part de', 935, 661, 'pour aller à', 0, 0)\n",
      "('Création de la personne qui part de', 868, 508, 'pour aller à', 0, 0)\n",
      "('Personne non créée, la place est occupée', 130, 100)\n",
      "('Création de la personne qui part de', 136, 687, 'pour aller à', 1023, 1023)\n",
      "('Création de la personne qui part de', 973, 63, 'pour aller à', 1023, 1023)\n",
      "('Création de la personne qui part de', 495, 309, 'pour aller à', 1023, 0)\n",
      "('Création de la personne qui part de', 47, 702, 'pour aller à', 0, 1023)\n",
      "('Création de la personne qui part de', 117, 25, 'pour aller à', 0, 1023)\n",
      "('Création de la personne qui part de', 72, 108, 'pour aller à', 1023, 0)\n",
      "('Création de la personne qui part de', 776, 231, 'pour aller à', 0, 0)\n",
      "('Personne non créée, la place est occupée', 161, 308)\n",
      "('Création de la personne qui part de', 73, 866, 'pour aller à', 1023, 1023)\n",
      "('Création de la personne qui part de', 321, 451, 'pour aller à', 1023, 1023)\n",
      "('Création de la personne qui part de', 264, 73, 'pour aller à', 1023, 1023)\n",
      "('Création de la personne qui part de', 721, 658, 'pour aller à', 0, 0)\n",
      "('Création de la personne qui part de', 503, 120, 'pour aller à', 1023, 1023)\n",
      "('Création de la personne qui part de', 967, 373, 'pour aller à', 1023, 1023)\n",
      "('Création de la personne qui part de', 605, 930, 'pour aller à', 1023, 0)\n",
      "('Création de la personne qui part de', 998, 167, 'pour aller à', 1023, 1023)\n",
      "('Création de la personne qui part de', 519, 925, 'pour aller à', 0, 0)\n",
      "('Création de la personne qui part de', 238, 491, 'pour aller à', 1023, 0)\n",
      "('Création de la personne qui part de', 272, 722, 'pour aller à', 1023, 0)\n",
      "('Création de la personne qui part de', 265, 572, 'pour aller à', 1023, 0)\n",
      "('Création de la personne qui part de', 202, 537, 'pour aller à', 1023, 0)\n",
      "('Création de la personne qui part de', 728, 283, 'pour aller à', 0, 1023)\n",
      "('Création de la personne qui part de', 233, 175, 'pour aller à', 1023, 0)\n",
      "('Création de la personne qui part de', 802, 506, 'pour aller à', 1023, 1023)\n",
      "('Création de la personne qui part de', 992, 777, 'pour aller à', 1023, 1023)\n",
      "('Création de la personne qui part de', 1016, 114, 'pour aller à', 1023, 0)\n",
      "('Création de la personne qui part de', 949, 947, 'pour aller à', 1023, 0)\n",
      "('Création de la personne qui part de', 1013, 430, 'pour aller à', 1023, 0)\n",
      "('Création de la personne qui part de', 727, 736, 'pour aller à', 0, 1023)\n",
      "('Création de la personne qui part de', 498, 187, 'pour aller à', 1023, 0)\n",
      "('Création de la personne qui part de', 786, 441, 'pour aller à', 1023, 1023)\n",
      "('Création de la personne qui part de', 598, 156, 'pour aller à', 0, 1023)\n",
      "('Création de la personne qui part de', 153, 821, 'pour aller à', 1023, 1023)\n",
      "('Création de la personne qui part de', 703, 228, 'pour aller à', 1023, 1023)\n",
      "('Création de la personne qui part de', 756, 669, 'pour aller à', 0, 1023)\n",
      "('Création de la personne qui part de', 80, 802, 'pour aller à', 1023, 1023)\n",
      "('Création de la personne qui part de', 792, 979, 'pour aller à', 1023, 0)\n",
      "('Création de la personne qui part de', 256, 1020, 'pour aller à', 1023, 1023)\n",
      "('Création de la personne qui part de', 883, 378, 'pour aller à', 1023, 1023)\n",
      "('Création de la personne qui part de', 578, 358, 'pour aller à', 1023, 0)\n",
      "('Création de la personne qui part de', 900, 460, 'pour aller à', 0, 0)\n",
      "('Création de la personne qui part de', 632, 453, 'pour aller à', 0, 0)\n",
      "('Création de la personne qui part de', 648, 701, 'pour aller à', 1023, 1023)\n",
      "('Création de la personne qui part de', 347, 93, 'pour aller à', 1023, 1023)\n",
      "('Création de la personne qui part de', 705, 429, 'pour aller à', 1023, 1023)\n",
      "('Création de la personne qui part de', 366, 1006, 'pour aller à', 0, 0)\n",
      "('Création de la personne qui part de', 452, 952, 'pour aller à', 0, 0)\n",
      "('Création de la personne qui part de', 698, 925, 'pour aller à', 0, 1023)\n",
      "('Création de la personne qui part de', 311, 972, 'pour aller à', 1023, 1023)\n",
      "('Création de la personne qui part de', 372, 813, 'pour aller à', 1023, 0)\n",
      "('Création de la personne qui part de', 394, 688, 'pour aller à', 1023, 0)\n",
      "('Personne non créée, la place est occupée', 553, 551)\n",
      "('Création de la personne qui part de', 345, 646, 'pour aller à', 1023, 1023)\n",
      "('Création de la personne qui part de', 426, 620, 'pour aller à', 0, 0)\n",
      "('Création de la personne qui part de', 476, 324, 'pour aller à', 0, 1023)\n",
      "('Création de la personne qui part de', 355, 769, 'pour aller à', 0, 0)\n",
      "('Création de la personne qui part de', 770, 628, 'pour aller à', 0, 0)\n",
      "('Création de la personne qui part de', 576, 683, 'pour aller à', 0, 0)\n",
      "('Création de la personne qui part de', 52, 929, 'pour aller à', 0, 1023)\n",
      "('Création de la personne qui part de', 754, 996, 'pour aller à', 0, 0)\n",
      "('Création de la personne qui part de', 913, 879, 'pour aller à', 1023, 0)\n",
      "('Création de la personne qui part de', 653, 373, 'pour aller à', 0, 0)\n",
      "('Création de la personne qui part de', 86, 571, 'pour aller à', 1023, 0)\n",
      "('Création de la personne qui part de', 336, 698, 'pour aller à', 1023, 1023)\n",
      "('Création de la personne qui part de', 104, 843, 'pour aller à', 0, 0)\n",
      "('Création de la personne qui part de', 387, 926, 'pour aller à', 0, 0)\n",
      "('Création de la personne qui part de', 718, 422, 'pour aller à', 0, 0)\n",
      "('Création de la personne qui part de', 220, 972, 'pour aller à', 1023, 1023)\n",
      "('Création de la personne qui part de', 616, 674, 'pour aller à', 0, 0)\n",
      "('Création de la personne qui part de', 698, 364, 'pour aller à', 0, 0)\n",
      "('Création de la personne qui part de', 999, 802, 'pour aller à', 1023, 0)\n",
      "('Création de la personne qui part de', 625, 634, 'pour aller à', 0, 0)\n",
      "('Création de la personne qui part de', 842, 513, 'pour aller à', 1023, 0)\n",
      "('Création de la personne qui part de', 201, 76, 'pour aller à', 1023, 0)\n",
      "('Création de la personne qui part de', 67, 670, 'pour aller à', 0, 0)\n",
      "('Création de la personne qui part de', 663, 109, 'pour aller à', 1023, 0)\n",
      "('Création de la personne qui part de', 47, 640, 'pour aller à', 0, 0)\n",
      "('Création de la personne qui part de', 70, 617, 'pour aller à', 0, 0)\n",
      "('Création de la personne qui part de', 953, 861, 'pour aller à', 0, 0)\n",
      "('Création de la personne qui part de', 848, 886, 'pour aller à', 0, 1023)\n",
      "('Création de la personne qui part de', 739, 138, 'pour aller à', 0, 0)\n",
      "('Création de la personne qui part de', 825, 318, 'pour aller à', 0, 1023)\n",
      "('Création de la personne qui part de', 514, 943, 'pour aller à', 0, 0)\n",
      "('Création de la personne qui part de', 890, 1000, 'pour aller à', 0, 1023)\n",
      "('Création de la personne qui part de', 421, 321, 'pour aller à', 1023, 1023)\n",
      "('Création de la personne qui part de', 89, 301, 'pour aller à', 0, 1023)\n",
      "('Création de la personne qui part de', 656, 422, 'pour aller à', 1023, 1023)\n",
      "('Création de la personne qui part de', 653, 658, 'pour aller à', 1023, 0)\n",
      "('Création de la personne qui part de', 712, 1012, 'pour aller à', 1023, 0)\n",
      "('Création de la personne qui part de', 283, 987, 'pour aller à', 1023, 1023)\n",
      "('Création de la personne qui part de', 330, 598, 'pour aller à', 1023, 0)\n",
      "('Création de la personne qui part de', 112, 584, 'pour aller à', 1023, 0)\n",
      "('Personne non créée, la place est occupée', 208, 253)\n",
      "('Création de la personne qui part de', 270, 353, 'pour aller à', 0, 1023)\n",
      "('Création de la personne qui part de', 828, 192, 'pour aller à', 0, 1023)\n",
      "('Création de la personne qui part de', 324, 259, 'pour aller à', 1023, 1023)\n",
      "('Création de la personne qui part de', 286, 519, 'pour aller à', 0, 0)\n",
      "('Création de la personne qui part de', 307, 237, 'pour aller à', 1023, 1023)\n",
      "('Création de la personne qui part de', 4, 210, 'pour aller à', 0, 0)\n",
      "('Création de la personne qui part de', 998, 998, 'pour aller à', 0, 1023)\n",
      "('Personne non créée, la place est occupée', 7, 147)\n",
      "('Création de la personne qui part de', 360, 878, 'pour aller à', 0, 0)\n",
      "('Création de la personne qui part de', 484, 1013, 'pour aller à', 0, 1023)\n",
      "('Création de la personne qui part de', 965, 942, 'pour aller à', 1023, 0)\n",
      "('Création de la personne qui part de', 171, 5, 'pour aller à', 0, 1023)\n",
      "('Création de la personne qui part de', 641, 715, 'pour aller à', 0, 0)\n",
      "('Création de la personne qui part de', 458, 94, 'pour aller à', 1023, 1023)\n",
      "('Création de la personne qui part de', 257, 738, 'pour aller à', 1023, 0)\n",
      "('Création de la personne qui part de', 82, 417, 'pour aller à', 1023, 0)\n",
      "('Création de la personne qui part de', 366, 767, 'pour aller à', 0, 0)\n",
      "('Création de la personne qui part de', 62, 119, 'pour aller à', 0, 1023)\n",
      "('Création de la personne qui part de', 557, 396, 'pour aller à', 0, 1023)\n",
      "('Création de la personne qui part de', 274, 990, 'pour aller à', 1023, 0)\n",
      "('Création de la personne qui part de', 622, 467, 'pour aller à', 0, 0)\n",
      "('Création de la personne qui part de', 169, 405, 'pour aller à', 0, 1023)\n",
      "('Création de la personne qui part de', 205, 106, 'pour aller à', 1023, 1023)\n",
      "('Création de la personne qui part de', 762, 519, 'pour aller à', 0, 1023)\n",
      "('Création de la personne qui part de', 412, 738, 'pour aller à', 1023, 0)\n",
      "('Création de la personne qui part de', 192, 881, 'pour aller à', 0, 1023)\n",
      "('Création de la personne qui part de', 979, 1010, 'pour aller à', 0, 1023)\n",
      "('Création de la personne qui part de', 282, 832, 'pour aller à', 1023, 0)\n",
      "('Création de la personne qui part de', 529, 184, 'pour aller à', 1023, 1023)\n",
      "('Création de la personne qui part de', 648, 369, 'pour aller à', 1023, 1023)\n",
      "('Création de la personne qui part de', 168, 515, 'pour aller à', 0, 0)\n",
      "('Création de la personne qui part de', 38, 690, 'pour aller à', 0, 0)\n",
      "('Création de la personne qui part de', 988, 47, 'pour aller à', 0, 0)\n",
      "('Création de la personne qui part de', 434, 43, 'pour aller à', 1023, 0)\n",
      "('Création de la personne qui part de', 104, 318, 'pour aller à', 1023, 0)\n",
      "('Création de la personne qui part de', 331, 176, 'pour aller à', 1023, 0)\n",
      "('Création de la personne qui part de', 1020, 70, 'pour aller à', 1023, 1023)\n",
      "('Personne non créée, la place est occupée', 677, 724)\n",
      "('Création de la personne qui part de', 762, 656, 'pour aller à', 1023, 0)\n",
      "('Création de la personne qui part de', 540, 99, 'pour aller à', 1023, 0)\n",
      "('Création de la personne qui part de', 267, 891, 'pour aller à', 0, 1023)\n",
      "('Création de la personne qui part de', 849, 866, 'pour aller à', 0, 1023)\n",
      "('Création de la personne qui part de', 130, 896, 'pour aller à', 0, 0)\n",
      "('Création de la personne qui part de', 148, 800, 'pour aller à', 0, 1023)\n",
      "('Création de la personne qui part de', 1010, 401, 'pour aller à', 0, 1023)\n",
      "('Création de la personne qui part de', 548, 549, 'pour aller à', 1023, 1023)\n",
      "('Création de la personne qui part de', 73, 281, 'pour aller à', 0, 1023)\n",
      "('Création de la personne qui part de', 293, 401, 'pour aller à', 0, 0)\n",
      "('Création de la personne qui part de', 440, 193, 'pour aller à', 1023, 0)\n",
      "('Création de la personne qui part de', 765, 543, 'pour aller à', 0, 1023)\n",
      "('Création de la personne qui part de', 349, 720, 'pour aller à', 0, 0)\n",
      "('Création de la personne qui part de', 930, 75, 'pour aller à', 0, 0)\n",
      "('Création de la personne qui part de', 490, 855, 'pour aller à', 1023, 1023)\n",
      "('Création de la personne qui part de', 909, 55, 'pour aller à', 0, 0)\n",
      "('Création de la personne qui part de', 918, 472, 'pour aller à', 0, 1023)\n",
      "('Création de la personne qui part de', 676, 153, 'pour aller à', 1023, 1023)\n",
      "('Création de la personne qui part de', 329, 42, 'pour aller à', 0, 1023)\n",
      "('Création de la personne qui part de', 634, 950, 'pour aller à', 0, 1023)\n",
      "('Création de la personne qui part de', 210, 822, 'pour aller à', 1023, 1023)\n",
      "('Création de la personne qui part de', 395, 638, 'pour aller à', 0, 1023)\n",
      "('Création de la personne qui part de', 630, 938, 'pour aller à', 1023, 1023)\n",
      "('Création de la personne qui part de', 502, 25, 'pour aller à', 0, 0)\n",
      "('Création de la personne qui part de', 455, 397, 'pour aller à', 0, 1023)\n",
      "('Création de la personne qui part de', 67, 433, 'pour aller à', 1023, 0)\n",
      "('Création de la personne qui part de', 767, 874, 'pour aller à', 0, 1023)\n",
      "('Création de la personne qui part de', 734, 621, 'pour aller à', 1023, 0)\n",
      "('Création de la personne qui part de', 946, 927, 'pour aller à', 0, 0)\n",
      "('Création de la personne qui part de', 288, 412, 'pour aller à', 1023, 0)\n",
      "('Création de la personne qui part de', 819, 903, 'pour aller à', 0, 1023)\n",
      "('Création de la personne qui part de', 781, 239, 'pour aller à', 0, 0)\n",
      "('Création de la personne qui part de', 130, 913, 'pour aller à', 1023, 1023)\n",
      "('Création de la personne qui part de', 428, 165, 'pour aller à', 1023, 1023)\n",
      "('Création de la personne qui part de', 1009, 140, 'pour aller à', 1023, 1023)\n",
      "('Création de la personne qui part de', 975, 837, 'pour aller à', 1023, 1023)\n",
      "('Création de la personne qui part de', 271, 1016, 'pour aller à', 1023, 0)\n",
      "('Création de la personne qui part de', 744, 634, 'pour aller à', 1023, 0)\n",
      "('Création de la personne qui part de', 548, 176, 'pour aller à', 0, 0)\n",
      "('Création de la personne qui part de', 801, 312, 'pour aller à', 1023, 1023)\n",
      "('Création de la personne qui part de', 850, 1011, 'pour aller à', 0, 1023)\n",
      "('Création de la personne qui part de', 984, 334, 'pour aller à', 1023, 0)\n",
      "('Création de la personne qui part de', 786, 205, 'pour aller à', 1023, 1023)\n",
      "('Création de la personne qui part de', 927, 110, 'pour aller à', 0, 0)\n",
      "('Création de la personne qui part de', 150, 640, 'pour aller à', 1023, 0)\n",
      "('Personne non créée, la place est occupée', 201, 185)\n",
      "('Création de la personne qui part de', 455, 378, 'pour aller à', 1023, 1023)\n",
      "('Création de la personne qui part de', 907, 445, 'pour aller à', 0, 1023)\n",
      "('Création de la personne qui part de', 232, 856, 'pour aller à', 0, 1023)\n",
      "('Création de la personne qui part de', 844, 582, 'pour aller à', 0, 1023)\n",
      "('Création de la personne qui part de', 633, 61, 'pour aller à', 0, 0)\n",
      "('Création de la personne qui part de', 88, 710, 'pour aller à', 0, 0)\n",
      "('Création de la personne qui part de', 650, 907, 'pour aller à', 1023, 0)\n",
      "('Création de la personne qui part de', 77, 711, 'pour aller à', 0, 1023)\n",
      "('Création de la personne qui part de', 334, 863, 'pour aller à', 0, 0)\n",
      "('Création de la personne qui part de', 167, 831, 'pour aller à', 1023, 0)\n",
      "('Création de la personne qui part de', 425, 173, 'pour aller à', 0, 0)\n",
      "('Création de la personne qui part de', 167, 801, 'pour aller à', 0, 0)\n",
      "('Création de la personne qui part de', 674, 583, 'pour aller à', 1023, 0)\n",
      "('Création de la personne qui part de', 12, 274, 'pour aller à', 1023, 0)\n",
      "('Création de la personne qui part de', 760, 265, 'pour aller à', 0, 0)\n",
      "('Création de la personne qui part de', 470, 183, 'pour aller à', 1023, 0)\n",
      "('Création de la personne qui part de', 594, 497, 'pour aller à', 0, 0)\n",
      "('Création de la personne qui part de', 416, 251, 'pour aller à', 1023, 0)\n",
      "('Création de la personne qui part de', 112, 129, 'pour aller à', 1023, 1023)\n",
      "('Création de la personne qui part de', 467, 141, 'pour aller à', 0, 1023)\n",
      "('Création de la personne qui part de', 434, 638, 'pour aller à', 1023, 0)\n",
      "('Création de la personne qui part de', 25, 788, 'pour aller à', 0, 0)\n",
      "('Création de la personne qui part de', 950, 295, 'pour aller à', 0, 0)\n",
      "('Création de la personne qui part de', 65, 476, 'pour aller à', 0, 0)\n",
      "('Création de la personne qui part de', 98, 717, 'pour aller à', 1023, 1023)\n",
      "('Création de la personne qui part de', 733, 980, 'pour aller à', 1023, 1023)\n",
      "('Création de la personne qui part de', 221, 1015, 'pour aller à', 1023, 1023)\n",
      "('Création de la personne qui part de', 478, 536, 'pour aller à', 1023, 1023)\n",
      "('Création de la personne qui part de', 134, 667, 'pour aller à', 1023, 0)\n",
      "('Création de la personne qui part de', 473, 977, 'pour aller à', 0, 0)\n",
      "('Création de la personne qui part de', 619, 261, 'pour aller à', 0, 0)\n",
      "('Personne non créée, la place est occupée', 163, 244)\n",
      "('Création de la personne qui part de', 887, 215, 'pour aller à', 1023, 0)\n",
      "('Création de la personne qui part de', 106, 78, 'pour aller à', 1023, 1023)\n",
      "('Création de la personne qui part de', 660, 378, 'pour aller à', 1023, 0)\n",
      "('Création de la personne qui part de', 55, 389, 'pour aller à', 1023, 1023)\n",
      "('Création de la personne qui part de', 859, 768, 'pour aller à', 0, 1023)\n",
      "('Création de la personne qui part de', 766, 756, 'pour aller à', 0, 0)\n",
      "('Création de la personne qui part de', 829, 44, 'pour aller à', 0, 0)\n",
      "('Création de la personne qui part de', 37, 307, 'pour aller à', 1023, 1023)\n",
      "('Création de la personne qui part de', 185, 925, 'pour aller à', 0, 1023)\n",
      "('Création de la personne qui part de', 928, 535, 'pour aller à', 0, 0)\n",
      "('Création de la personne qui part de', 292, 395, 'pour aller à', 1023, 0)\n",
      "('Création de la personne qui part de', 628, 565, 'pour aller à', 0, 1023)\n",
      "('Création de la personne qui part de', 415, 273, 'pour aller à', 1023, 1023)\n",
      "('Création de la personne qui part de', 236, 59, 'pour aller à', 0, 0)\n",
      "('Création de la personne qui part de', 966, 105, 'pour aller à', 0, 1023)\n",
      "('Création de la personne qui part de', 856, 341, 'pour aller à', 1023, 0)\n",
      "('Création de la personne qui part de', 52, 81, 'pour aller à', 0, 0)\n",
      "('Création de la personne qui part de', 368, 175, 'pour aller à', 0, 0)\n",
      "('Création de la personne qui part de', 527, 287, 'pour aller à', 1023, 0)\n",
      "('Création de la personne qui part de', 793, 586, 'pour aller à', 1023, 0)\n",
      "('Création de la personne qui part de', 304, 229, 'pour aller à', 0, 0)\n",
      "('Création de la personne qui part de', 161, 576, 'pour aller à', 0, 1023)\n",
      "('Création de la personne qui part de', 368, 400, 'pour aller à', 1023, 0)\n",
      "('Création de la personne qui part de', 492, 1008, 'pour aller à', 1023, 0)\n",
      "('Création de la personne qui part de', 778, 137, 'pour aller à', 1023, 0)\n",
      "('Création de la personne qui part de', 285, 612, 'pour aller à', 0, 1023)\n",
      "('Création de la personne qui part de', 23, 383, 'pour aller à', 1023, 1023)\n",
      "('Création de la personne qui part de', 811, 692, 'pour aller à', 0, 0)\n",
      "('Création de la personne qui part de', 498, 307, 'pour aller à', 0, 1023)\n",
      "('Création de la personne qui part de', 241, 170, 'pour aller à', 0, 1023)\n",
      "('Création de la personne qui part de', 438, 137, 'pour aller à', 0, 1023)\n",
      "('Création de la personne qui part de', 512, 716, 'pour aller à', 1023, 0)\n",
      "('Création de la personne qui part de', 575, 173, 'pour aller à', 0, 1023)\n",
      "('Création de la personne qui part de', 730, 915, 'pour aller à', 0, 1023)\n",
      "('Création de la personne qui part de', 757, 468, 'pour aller à', 1023, 0)\n",
      "('Création de la personne qui part de', 358, 524, 'pour aller à', 0, 0)\n",
      "('Création de la personne qui part de', 391, 823, 'pour aller à', 1023, 0)\n",
      "('Création de la personne qui part de', 339, 586, 'pour aller à', 0, 0)\n",
      "('Création de la personne qui part de', 124, 163, 'pour aller à', 0, 1023)\n",
      "('Création de la personne qui part de', 402, 588, 'pour aller à', 1023, 0)\n",
      "('Création de la personne qui part de', 478, 10, 'pour aller à', 0, 0)\n",
      "('Création de la personne qui part de', 115, 700, 'pour aller à', 1023, 0)\n",
      "('Création de la personne qui part de', 447, 182, 'pour aller à', 1023, 1023)\n",
      "('Création de la personne qui part de', 980, 628, 'pour aller à', 1023, 1023)\n",
      "('Création de la personne qui part de', 647, 804, 'pour aller à', 1023, 0)\n",
      "('Création de la personne qui part de', 914, 693, 'pour aller à', 0, 1023)\n",
      "('Création de la personne qui part de', 981, 56, 'pour aller à', 1023, 0)\n",
      "('Création de la personne qui part de', 472, 106, 'pour aller à', 1023, 1023)\n",
      "('Personne non créée, la place est occupée', 175, 188)\n",
      "('Création de la personne qui part de', 680, 693, 'pour aller à', 1023, 1023)\n",
      "('Création de la personne qui part de', 220, 933, 'pour aller à', 1023, 0)\n",
      "('Personne non créée, la place est occupée', 208, 350)\n",
      "('Création de la personne qui part de', 758, 182, 'pour aller à', 0, 1023)\n",
      "('Création de la personne qui part de', 237, 540, 'pour aller à', 0, 1023)\n",
      "('Création de la personne qui part de', 666, 29, 'pour aller à', 1023, 0)\n",
      "('Création de la personne qui part de', 874, 912, 'pour aller à', 1023, 0)\n",
      "('Création de la personne qui part de', 835, 387, 'pour aller à', 1023, 0)\n",
      "('Création de la personne qui part de', 823, 429, 'pour aller à', 0, 0)\n",
      "('Création de la personne qui part de', 216, 770, 'pour aller à', 1023, 1023)\n",
      "('Création de la personne qui part de', 958, 657, 'pour aller à', 1023, 0)\n",
      "('Création de la personne qui part de', 872, 321, 'pour aller à', 0, 0)\n",
      "('Création de la personne qui part de', 558, 509, 'pour aller à', 0, 1023)\n",
      "('Création de la personne qui part de', 708, 971, 'pour aller à', 0, 1023)\n",
      "('Création de la personne qui part de', 756, 681, 'pour aller à', 0, 1023)\n",
      "('Création de la personne qui part de', 986, 102, 'pour aller à', 0, 1023)\n",
      "('Création de la personne qui part de', 634, 558, 'pour aller à', 1023, 1023)\n",
      "('Création de la personne qui part de', 1000, 506, 'pour aller à', 1023, 1023)\n",
      "('Création de la personne qui part de', 111, 818, 'pour aller à', 0, 0)\n",
      "('Création de la personne qui part de', 728, 692, 'pour aller à', 1023, 1023)\n",
      "('Création de la personne qui part de', 525, 180, 'pour aller à', 0, 0)\n",
      "('Création de la personne qui part de', 191, 10, 'pour aller à', 1023, 1023)\n",
      "('Création de la personne qui part de', 684, 265, 'pour aller à', 0, 1023)\n",
      "('Création de la personne qui part de', 594, 547, 'pour aller à', 0, 1023)\n",
      "('Création de la personne qui part de', 421, 964, 'pour aller à', 1023, 1023)\n"
     ]
    },
    {
     "name": "stdout",
     "output_type": "stream",
     "text": [
      "('Création de la personne qui part de', 116, 600, 'pour aller à', 0, 1023)\n",
      "('Création de la personne qui part de', 731, 199, 'pour aller à', 0, 1023)\n",
      "('Création de la personne qui part de', 784, 298, 'pour aller à', 1023, 1023)\n",
      "('Création de la personne qui part de', 643, 682, 'pour aller à', 0, 1023)\n",
      "('Création de la personne qui part de', 361, 1021, 'pour aller à', 1023, 1023)\n",
      "('Création de la personne qui part de', 904, 235, 'pour aller à', 0, 1023)\n",
      "('Création de la personne qui part de', 853, 720, 'pour aller à', 0, 0)\n",
      "('Création de la personne qui part de', 722, 509, 'pour aller à', 1023, 0)\n",
      "('Création de la personne qui part de', 89, 341, 'pour aller à', 0, 0)\n",
      "('Personne non créée, la place est occupée', 186, 230)\n",
      "('Création de la personne qui part de', 964, 980, 'pour aller à', 0, 0)\n",
      "('Création de la personne qui part de', 696, 698, 'pour aller à', 0, 0)\n",
      "('Création de la personne qui part de', 746, 671, 'pour aller à', 0, 1023)\n",
      "('Création de la personne qui part de', 615, 849, 'pour aller à', 1023, 1023)\n",
      "('Création de la personne qui part de', 602, 678, 'pour aller à', 1023, 1023)\n",
      "('Création de la personne qui part de', 1007, 469, 'pour aller à', 0, 0)\n",
      "('Création de la personne qui part de', 49, 875, 'pour aller à', 0, 0)\n",
      "('Création de la personne qui part de', 524, 896, 'pour aller à', 0, 0)\n",
      "('Création de la personne qui part de', 141, 787, 'pour aller à', 1023, 0)\n",
      "('Création de la personne qui part de', 815, 660, 'pour aller à', 0, 1023)\n",
      "('Création de la personne qui part de', 243, 644, 'pour aller à', 0, 0)\n",
      "('Création de la personne qui part de', 467, 12, 'pour aller à', 1023, 0)\n",
      "('Création de la personne qui part de', 742, 498, 'pour aller à', 1023, 1023)\n",
      "('Création de la personne qui part de', 234, 982, 'pour aller à', 0, 1023)\n",
      "('Création de la personne qui part de', 918, 391, 'pour aller à', 1023, 0)\n",
      "('Création de la personne qui part de', 876, 927, 'pour aller à', 1023, 1023)\n",
      "('Création de la personne qui part de', 923, 49, 'pour aller à', 0, 1023)\n",
      "('Création de la personne qui part de', 295, 917, 'pour aller à', 0, 1023)\n",
      "('Création de la personne qui part de', 907, 1004, 'pour aller à', 0, 0)\n",
      "('Création de la personne qui part de', 410, 63, 'pour aller à', 0, 0)\n",
      "('Création de la personne qui part de', 660, 306, 'pour aller à', 0, 1023)\n",
      "('Création de la personne qui part de', 945, 897, 'pour aller à', 1023, 1023)\n",
      "('Création de la personne qui part de', 119, 1006, 'pour aller à', 0, 1023)\n",
      "('Création de la personne qui part de', 201, 25, 'pour aller à', 0, 1023)\n",
      "('Création de la personne qui part de', 581, 55, 'pour aller à', 0, 0)\n",
      "('Création de la personne qui part de', 350, 539, 'pour aller à', 0, 0)\n",
      "('Personne non créée, la place est occupée', 160, 157)\n",
      "('Création de la personne qui part de', 823, 749, 'pour aller à', 0, 1023)\n",
      "('Création de la personne qui part de', 454, 316, 'pour aller à', 1023, 0)\n",
      "('Création de la personne qui part de', 979, 481, 'pour aller à', 0, 1023)\n",
      "('Création de la personne qui part de', 54, 221, 'pour aller à', 1023, 1023)\n",
      "('Création de la personne qui part de', 957, 443, 'pour aller à', 1023, 0)\n",
      "('Création de la personne qui part de', 806, 887, 'pour aller à', 1023, 1023)\n",
      "('Création de la personne qui part de', 647, 235, 'pour aller à', 1023, 0)\n",
      "('Création de la personne qui part de', 41, 460, 'pour aller à', 1023, 0)\n",
      "('Création de la personne qui part de', 247, 498, 'pour aller à', 1023, 1023)\n",
      "('Création de la personne qui part de', 372, 835, 'pour aller à', 1023, 0)\n",
      "('Création de la personne qui part de', 290, 687, 'pour aller à', 1023, 0)\n",
      "('Création de la personne qui part de', 922, 306, 'pour aller à', 0, 1023)\n",
      "('Création de la personne qui part de', 764, 8, 'pour aller à', 0, 1023)\n",
      "('Création de la personne qui part de', 36, 608, 'pour aller à', 1023, 0)\n",
      "('Création de la personne qui part de', 280, 685, 'pour aller à', 1023, 1023)\n",
      "('Création de la personne qui part de', 169, 682, 'pour aller à', 0, 0)\n",
      "('Création de la personne qui part de', 997, 920, 'pour aller à', 1023, 1023)\n",
      "('Création de la personne qui part de', 565, 1006, 'pour aller à', 0, 1023)\n",
      "('Création de la personne qui part de', 93, 321, 'pour aller à', 1023, 1023)\n",
      "('Création de la personne qui part de', 221, 508, 'pour aller à', 0, 0)\n",
      "('Création de la personne qui part de', 250, 1011, 'pour aller à', 1023, 1023)\n",
      "('Création de la personne qui part de', 161, 448, 'pour aller à', 0, 1023)\n",
      "('Création de la personne qui part de', 977, 692, 'pour aller à', 0, 1023)\n",
      "('Création de la personne qui part de', 507, 203, 'pour aller à', 1023, 0)\n",
      "('Création de la personne qui part de', 951, 714, 'pour aller à', 0, 1023)\n",
      "('Création de la personne qui part de', 257, 65, 'pour aller à', 1023, 1023)\n",
      "('Création de la personne qui part de', 934, 686, 'pour aller à', 0, 0)\n",
      "('Création de la personne qui part de', 357, 900, 'pour aller à', 0, 1023)\n",
      "('Création de la personne qui part de', 517, 766, 'pour aller à', 0, 1023)\n",
      "('Création de la personne qui part de', 706, 182, 'pour aller à', 1023, 1023)\n",
      "('Création de la personne qui part de', 91, 758, 'pour aller à', 0, 1023)\n",
      "('Création de la personne qui part de', 247, 215, 'pour aller à', 0, 0)\n",
      "('Création de la personne qui part de', 494, 876, 'pour aller à', 1023, 1023)\n",
      "('Création de la personne qui part de', 757, 960, 'pour aller à', 1023, 0)\n",
      "('Création de la personne qui part de', 323, 609, 'pour aller à', 0, 0)\n",
      "('Création de la personne qui part de', 1005, 892, 'pour aller à', 0, 0)\n",
      "('Création de la personne qui part de', 319, 980, 'pour aller à', 1023, 0)\n",
      "('Création de la personne qui part de', 835, 677, 'pour aller à', 0, 1023)\n",
      "('Création de la personne qui part de', 732, 743, 'pour aller à', 1023, 0)\n",
      "(1024, 'personnes ont été créées')\n"
     ]
    }
   ],
   "source": [
    "# La grille contient 2^10 personnes\n",
    "nb_person = np.power(2,10)\n",
    "\n",
    "coordonnee = np.zeros((2,1), dtype=np.int)\n",
    "sortie = np.zeros((2,1), dtype=np.int)\n",
    "while len(grid.personneList)<nb_person:\n",
    "    coordonnee[0] = np.random.randint(1,X)\n",
    "    coordonnee[1] = np.random.randint(1,Y)\n",
    "    sortie[0] = (X-1)*np.random.randint(2)\n",
    "    sortie[1] = (Y-1)*np.random.randint(2)\n",
    "    Personne(grid, int(coordonnee[0]), int(coordonnee[1]), int(sortie[0]), int(sortie[1]), debug)\n",
    "    \n",
    "debug.affiche(len(grid.personneList), \"personnes ont été créées\")"
   ]
  },
  {
   "cell_type": "code",
   "execution_count": 59,
   "metadata": {},
   "outputs": [],
   "source": [
    "# Sauvegarde de l'objet grille\n",
    "grid.Save(grande_grille)"
   ]
  },
  {
   "cell_type": "code",
   "execution_count": 60,
   "metadata": {},
   "outputs": [],
   "source": [
    "# Affichage de la grille créée\n",
    "if UI==affichage.OpenCV:\n",
    "    cv2.imshow(\"img\", createImage(grid.map))\n",
    "    cv2.waitKey(5000) # Affichage pendant 5 secondes\n",
    "    cv2.destroyAllWindows()"
   ]
  },
  {
   "cell_type": "markdown",
   "metadata": {},
   "source": [
    "## Solution itérative\n",
    "\n",
    "Chaque personne doit rejoindre sa case de sortie. Le code est fourni à titre d'exemple. Il est malheureusement incomplet car si une personne ne peut pas rejoindre sa case de sortie alors la simulation ne s'arrête pas.\n",
    "\n",
    "Si vous avez besoin de modifier les classes proposées. Il suffit de construire par héritage la nouvelle classe qui doit porter le même nom que la classe parente suffixé par \\_1 ou \\_2 ou \\_3 selon l'étape du projet, et de surcharger les méthodes qui doivent l'être.\n",
    "\n",
    "Les cellules suivantes donnent des exemples d'utilisation des primitives précédemment écrites."
   ]
  },
  {
   "cell_type": "markdown",
   "metadata": {},
   "source": [
    "### Avec trace mais sans visualisation"
   ]
  },
  {
   "cell_type": "code",
   "execution_count": 67,
   "metadata": {
    "ExecuteTime": {
     "end_time": "2020-09-09T14:57:23.812307Z",
     "start_time": "2020-09-09T14:57:23.802324Z"
    }
   },
   "outputs": [
    {
     "name": "stdout",
     "output_type": "stream",
     "text": [
      "('Ouverture du fichier', 'maps/map-initial.txt')\n",
      "('Simulation pour une grille:', 10, '*', 10)\n",
      "(\"Initilisation de l'objet grille\",)\n",
      "('obstacle non créé', ['-1', '-1', '-1', '-1'])\n",
      "(\"Création de l'obstacle (\", 1, 1, ') - (', 2, 7, ')')\n",
      "(\"Création de l'obstacle (\", 1, 7, ') - (', 8, 8, ')')\n",
      "(2, 'obstacles ont été créés')\n",
      "('Création de la personne qui part de', 2, 2, 'pour aller à', 0, 0)\n",
      "(1, 'personnes ont été créées')\n",
      "********************\n",
      "Début de la simulation\n",
      "('La personne (', 2, 2, ') peut se déplacer sur :', [(3, 2, 1)])\n",
      "('Déplacement de la personne de (', 2, 2, ') à (', 2, 1, ')')\n",
      "('La personne (', 2, 1, ') peut se déplacer sur :', [(2, 1, 1), (2, 2, 0)])\n",
      "('Déplacement de la personne de (', 2, 1, ') à (', 1, 1, ')')\n",
      "('La personne (', 1, 1, ') peut se déplacer sur :', [(1, 0, 1), (1, 1, 0)])\n",
      "('Déplacement de la personne de (', 1, 1, ') à (', 0, 1, ')')\n",
      "('La personne (', 0, 1, ') peut se déplacer sur :', [(0, 0, 0)])\n",
      "('Déplacement de la personne de (', 0, 1, ') à (', 0, 0, ')')\n",
      "('Une personne vient de sortir, il reste', 0, 'personnes')\n"
     ]
    }
   ],
   "source": [
    "# En mode debug avec 1 personne, sans UI\n",
    "debug = Debug(True)\n",
    "\n",
    "file = open_file(petite_grille, debug)  # On ouvre le fichier\n",
    "X, Y = read_grid_size(file, debug) # On lit la taille\n",
    "grid = Grille(X, Y, affichage.Aucun, debug)     # On créée l'objet grille\n",
    "read_obstacles(file, grid, Obstacle, debug)  # On lit et positionne les obstacles\n",
    "read_personnes(file, grid, Personne, 1, debug) # On lit et positionne une seule personne\n",
    "print(\"*\"*20)\n",
    "print(\"Début de la simulation\")\n",
    "grid.Simulation()"
   ]
  },
  {
   "cell_type": "markdown",
   "metadata": {},
   "source": [
    "### Visualisation de chacune des itérations avec Matplotlib"
   ]
  },
  {
   "cell_type": "code",
   "execution_count": 68,
   "metadata": {
    "ExecuteTime": {
     "end_time": "2020-09-09T14:49:25.241960Z",
     "start_time": "2020-09-09T14:49:24.715633Z"
    },
    "scrolled": true
   },
   "outputs": [
    {
     "data": {
      "image/png": "[encoded data removed]",
      "text/plain": [
       "<Figure size 432x288 with 1 Axes>"
      ]
     },
     "metadata": {
      "needs_background": "light"
     },
     "output_type": "display_data"
    },
    {
     "data": {
      "image/png": "[encoded data removed]",
      "text/plain": [
       "<Figure size 432x288 with 1 Axes>"
      ]
     },
     "metadata": {
      "needs_background": "light"
     },
     "output_type": "display_data"
    },
    {
     "data": {
      "image/png": "[encoded data removed]",
      "text/plain": [
       "<Figure size 432x288 with 1 Axes>"
      ]
     },
     "metadata": {
      "needs_background": "light"
     },
     "output_type": "display_data"
    },
    {
     "data": {
      "image/png": "[encoded data removed]",
      "text/plain": [
       "<Figure size 432x288 with 1 Axes>"
      ]
     },
     "metadata": {
      "needs_background": "light"
     },
     "output_type": "display_data"
    },
    {
     "data": {
      "image/png": "[encoded data removed]",
      "text/plain": [
       "<Figure size 432x288 with 1 Axes>"
      ]
     },
     "metadata": {
      "needs_background": "light"
     },
     "output_type": "display_data"
    },
    {
     "data": {
      "image/png": "[encoded data removed]",
      "text/plain": [
       "<Figure size 432x288 with 1 Axes>"
      ]
     },
     "metadata": {
      "needs_background": "light"
     },
     "output_type": "display_data"
    }
   ],
   "source": [
    "for img in grid.mapList:\n",
    "    plt.imshow(img, cmap='Paired', vmin=0, vmax=5)\n",
    "    plt.show()"
   ]
  },
  {
   "cell_type": "markdown",
   "metadata": {},
   "source": [
    "### Visualisation de chacune des itérations avec OpenCV"
   ]
  },
  {
   "cell_type": "code",
   "execution_count": 69,
   "metadata": {
    "ExecuteTime": {
     "end_time": "2020-09-09T14:49:37.845993Z",
     "start_time": "2020-09-09T14:49:25.860666Z"
    }
   },
   "outputs": [],
   "source": [
    "if UI==affichage.OpenCV:\n",
    "    for image in grid.mapList:\n",
    "        cv2.imshow(\"img\", createImage(image))\n",
    "        cv2.waitKey(500) # Wait for 0.5 second\n",
    "    cv2.destroyAllWindows()"
   ]
  },
  {
   "cell_type": "markdown",
   "metadata": {},
   "source": [
    "### Sans trace mais avec visualisation"
   ]
  },
  {
   "cell_type": "code",
   "execution_count": 70,
   "metadata": {
    "ExecuteTime": {
     "end_time": "2020-09-09T14:49:49.836016Z",
     "start_time": "2020-09-09T14:49:37.849761Z"
    }
   },
   "outputs": [],
   "source": [
    "# En mode sans trace avec 1 personne mais avec UI\n",
    "if UI==affichage.OpenCV:\n",
    "    debug = Debug(False)\n",
    "    file = open_file(petite_grille, debug)  # On ouvre le fichier\n",
    "    X, Y = read_grid_size(file, debug) # On lit la taille\n",
    "    grid = Grille(X, Y, affichage.OpenCV, debug)     # On créée l'objet grille\n",
    "    read_obstacles(file, grid, Obstacle, debug)  # On lit et positionne les obstacles\n",
    "    read_personnes(file, grid, Personne, 1, debug) # On lit et positionne une seule personne\n",
    "    grid.Simulation()"
   ]
  },
  {
   "cell_type": "markdown",
   "metadata": {},
   "source": [
    "## <span style=\"color:red\">Votre travail</span>\n",
    "\n",
    "Mettre en oeuvre plusieurs version du simulateur :\n",
    "1. Version itérative : un seul flot d'exécution. Celui-ci est presque terminé, il faut reste à trouver une manière la plus judicieuse possible pour résoudre le problème des personnes bloquées par un obsatacle sans modifier le comportement d'une personne.\n",
    "1. Version un flot d'exécution par personne. Attention a bien protéger par une section critique tout accès à une ressource concurrente que ce soit une trace d'exécution en mode debug ou une ressource partagée. On fera attention a reduire dans la mesure du possible la portée d'une section critique\n",
    "1. Version un flot d'exécution pour un quard de la grille. Une personne de coordonnée X, Y sera gérée par le flot d'exécution numéro $i = 2* (Y//(Ymax//2)) + X//(Xmax//2)$.\n",
    "\n",
    "Vous construirez ces différentes versions en créant si nécessaire des sous-classes aux classes existantes.\n",
    "\n"
   ]
  },
  {
   "cell_type": "markdown",
   "metadata": {
    "ExecuteTime": {
     "end_time": "2020-09-01T14:38:38.843007Z",
     "start_time": "2020-09-01T14:38:19.214514Z"
    },
    "scrolled": true
   },
   "source": [
    "Bien évidemment, on attend une étude comparative des différentes approches. Pour vous aider dans l'analyse des solutions qui doivent être décrites vous utiliserez un nombre variable de personnes. Pour cela, vous adapterez le code suivant afin de pouvoir mesurer l'évolution du temps d'exécution en fonction du nombre de personnes présentes sur la grille et comparer les temps d'exécution entre les scénarios\n",
    "<code>\n",
    "debug = Debug(False)\n",
    "\n",
    "duration_i = []  # i est le numéro du scénario\n",
    "nb_personnes = []\n",
    "for i in range(11):\n",
    "    nb_personnes += [np.power(2, i)]\n",
    "    print(\"*\"*30)\n",
    "    print(\"pour\", nb_personnes[-1], \"personnes\")\n",
    "\n",
    "    file = open_file(grande_grille, debug)  # On ouvre le fichier\n",
    "    X, Y = read_grid_size(file, debug) # On lit la taille\n",
    "    debug.affiche(\"simulation pour une grille:\", X, Y)\n",
    "    grid = Grille(X, Y, debug)     # On créée l'objet grille\n",
    "    read_obstacles(file, grid, Obstacle, debug)  # On lit et positionne les obstacles\n",
    "    read_personnes(file, grid, Personne, nb_personnes[-1], debug) # On lit et positionne le nombre de personne souhaité seule personne\n",
    "    debug.affiche(\"nbre de personnes\", len(grid.personneList))\n",
    "    \n",
    "    start = time.time()\n",
    "    grid.Simulation(debug)\n",
    "    end = time.time()\n",
    "    duration_i += [end-start]\n",
    "    print(\"La simulation a duré\", duration1[-1], \"secondes\")\n",
    "    print(\"Il restait\", XXXXX, \"personnes immobiles\")<code>"
   ]
  },
  {
   "cell_type": "markdown",
   "metadata": {},
   "source": [
    "Vous ferez un plot de l'évolution des temps d'exécution\n",
    "<code>\n",
    "plt.plot(nb_personnes, duration_1, label=\"Une seule thread\")\n",
    "plt.plot(nb_personnes, duration_2, label=\"Une thread par personne\")\n",
    "plt.plot(nb_personnes, duration_2, label=\"Une thread par quard de terrain\")\n",
    "plt.xlabel(\"nombre de personnes\")\n",
    "plt.ylabel(\"temps en secondes\")\n",
    "plt.legend()\n",
    "plt.show()<code>"
   ]
  },
  {
   "cell_type": "markdown",
   "metadata": {
    "ExecuteTime": {
     "end_time": "2020-09-01T15:08:57.408399Z",
     "start_time": "2020-09-01T15:08:57.304373Z"
    },
    "scrolled": true
   },
   "source": [
    "Vous calculerez les ratios entre les scénarios\n",
    "<code>\n",
    "ratio_2 = []\n",
    "ratio_3 = []\n",
    "for i,j,k in zip(duration_1, duration_2, duration_3):\n",
    "    ratio_2 += [j/i]\n",
    "    ratio_3 += [k/i]\n",
    "plt.plot(nb_personnes, ratio_2, label=\"...\")\n",
    "plt.plot(nb_personnes, ratio_3, label=\"...\")\n",
    "plt.xlabel(\"nombre de personnes\")\n",
    "plt.ylabel(\"...\")\n",
    "plt.legend()\n",
    "plt.show()<code>"
   ]
  },
  {
   "cell_type": "markdown",
   "metadata": {
    "ExecuteTime": {
     "end_time": "2020-09-09T14:49:56.668475Z",
     "start_time": "2020-09-09T14:49:56.663438Z"
    }
   },
   "source": [
    "Vous calculerez aussi le speedup (inverse du ratio précédent) et ferez un plot de celui-ci"
   ]
  },
  {
   "cell_type": "markdown",
   "metadata": {},
   "source": [
    "## Scénario 1 - version itérative"
   ]
  },
  {
   "cell_type": "code",
   "execution_count": null,
   "metadata": {},
   "outputs": [],
   "source": [
    "''' code du scénario 1 - vous pouvez utiliser plusieurs cellule '''"
   ]
  },
  {
   "cell_type": "code",
   "execution_count": null,
   "metadata": {},
   "outputs": [],
   "source": [
    "''' plot du temps d'exécution en fonction du nombre de personnes '''"
   ]
  },
  {
   "cell_type": "markdown",
   "metadata": {},
   "source": [
    "Votre analyse du scénario 1"
   ]
  },
  {
   "cell_type": "markdown",
   "metadata": {},
   "source": [
    "## Scénario 2 - version 1 thread par personne"
   ]
  },
  {
   "cell_type": "markdown",
   "metadata": {},
   "source": [
    "## Scénario 3 - version 1 thread pour 1/4 de la grille"
   ]
  },
  {
   "cell_type": "markdown",
   "metadata": {},
   "source": [
    "## Comparaison des trois approches\n",
    "\n",
    "<span style=\"color:red\">On attend ici une comparaison argumentée permettant de mettre en évidence les points forts et les points faibles des différentes solutions</span>"
   ]
  },
  {
   "cell_type": "markdown",
   "metadata": {},
   "source": [
    "## Export du notebook dans un fichier python"
   ]
  },
  {
   "cell_type": "code",
   "execution_count": null,
   "metadata": {
    "ExecuteTime": {
     "end_time": "2020-09-09T14:49:56.670691Z",
     "start_time": "2020-09-09T14:49:41.283Z"
    }
   },
   "outputs": [],
   "source": [
    "import sys,json\n",
    "import ipyparams\n",
    "\n",
    "def convertNotebook(notebookPath, modulePath):\n",
    "    f = open(notebookPath, 'r') #input.ipynb\n",
    "    j = json.load(f)\n",
    "\n",
    "    of = open(modulePath, 'w') #output.py\n",
    "\n",
    "    if j[\"nbformat\"] >=4:\n",
    "        for i,cell in enumerate(j[\"cells\"]):\n",
    "            if cell['cell_type']=='code':\n",
    "                of.write(\"#cell \"+str(i+1)+\"\\n\")\n",
    "                for line in cell[\"source\"]:\n",
    "                    of.write(line)\n",
    "                of.write('\\n\\n')\n",
    "    else:\n",
    "        print(\"not implemented\")\n",
    "\n",
    "    of.close()"
   ]
  },
  {
   "cell_type": "code",
   "execution_count": null,
   "metadata": {
    "ExecuteTime": {
     "end_time": "2020-09-09T14:49:56.671833Z",
     "start_time": "2020-09-09T14:49:46.226Z"
    }
   },
   "outputs": [],
   "source": [
    "''' Remarks: it is necessary to put the import code in a separate cell above the call of function.\n",
    "Otherwise Jupyter will try to run the code before the library is fully loaded,\n",
    "so the currentNotebook variable is still blank.\n",
    "\n",
    "Putting the import in its own cell forces it to load before moving to the next cell.\n",
    "'''\n",
    "if is_running_from_ipython():\n",
    "    currentNotebook = ipyparams.notebook_name\n",
    "    pythonName = currentNotebook.split(\".\")[0]+\".py\"\n",
    "    \n",
    "    convertNotebook(currentNotebook, pythonName)"
   ]
  },
  {
   "cell_type": "code",
   "execution_count": null,
   "metadata": {},
   "outputs": [],
   "source": []
  }
 ],
 "metadata": {
  "kernelspec": {
   "display_name": "Python 3",
   "language": "python",
   "name": "python3"
  },
  "language_info": {
   "codemirror_mode": {
    "name": "ipython",
    "version": 3
   },
   "file_extension": ".py",
   "mimetype": "text/x-python",
   "name": "python",
   "nbconvert_exporter": "python",
   "pygments_lexer": "ipython3",
   "version": "3.7.8"
  },
  "latex_envs": {
   "LaTeX_envs_menu_present": true,
   "autoclose": true,
   "autocomplete": true,
   "bibliofile": "biblio.bib",
   "cite_by": "apalike",
   "current_citInitial": 1,
   "eqLabelWithNumbers": true,
   "eqNumInitial": 1,
   "hotkeys": {
    "equation": "Ctrl-E",
    "itemize": "Ctrl-I"
   },
   "labels_anchors": false,
   "latex_user_defs": false,
   "report_style_numbering": false,
   "user_envs_cfg": false
  },
  "nbTranslate": {
   "displayLangs": [
    "*"
   ],
   "hotkey": "alt-t",
   "langInMainMenu": true,
   "sourceLang": "en",
   "targetLang": "fr",
   "useGoogleTranslate": true
  },
  "toc": {
   "base_numbering": 1,
   "nav_menu": {},
   "number_sections": true,
   "sideBar": true,
   "skip_h1_title": true,
   "title_cell": "Table of Contents",
   "title_sidebar": "Contents",
   "toc_cell": true,
   "toc_position": {},
   "toc_section_display": true,
   "toc_window_display": false
  }
 },
 "nbformat": 4,
 "nbformat_minor": 4
}
