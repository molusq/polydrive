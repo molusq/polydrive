{
 "cells": [
  {
   "cell_type": "markdown",
   "id": "23a93872",
   "metadata": {},
   "source": [
    "# Transformer models\n",
    "\n",
    "NLP tasks, with or without transformer models, look like the following pipeline:\n",
    "\n",
    "![](https://huggingface.co/datasets/huggingface-course/documentation-images/resolve/main/en/chapter2/full_nlp_pipeline.svg)\n",
    "\n",
    "We will detail each of the steps."
   ]
  },
  {
   "cell_type": "code",
   "execution_count": 1,
   "id": "18df823e",
   "metadata": {
    "ExecuteTime": {
     "end_time": "2022-10-04T13:53:06.635776Z",
     "start_time": "2022-10-04T13:53:06.438497Z"
    }
   },
   "outputs": [
    {
     "data": {
      "text/html": [
       "<div id=\"my_id_menu_nb\">run previous cell, wait for 2 seconds</div>\n",
       "<script>\n",
       "function repeat_indent_string(n){\n",
       "    var a = \"\" ;\n",
       "    for ( ; n > 0 ; --n)\n",
       "        a += \"    \";\n",
       "    return a;\n",
       "}\n",
       "// look up into all sections and builds an automated menu //\n",
       "var update_menu_string = function(begin, lfirst, llast, sformat, send, keep_item, begin_format, end_format) {\n",
       "    var anchors = document.getElementsByClassName(\"section\");\n",
       "    if (anchors.length == 0) {\n",
       "        anchors = document.getElementsByClassName(\"text_cell_render rendered_html\");\n",
       "    }\n",
       "    var i,t;\n",
       "    var text_menu = begin;\n",
       "    var text_memo = \"<pre>\\nlength:\" + anchors.length + \"\\n\";\n",
       "    var ind = \"\";\n",
       "    var memo_level = 1;\n",
       "    var href;\n",
       "    var tags = [];\n",
       "    var main_item = 0;\n",
       "    var format_open = 0;\n",
       "    for (i = 0; i <= llast; i++)\n",
       "        tags.push(\"h\" + i);\n",
       "\n",
       "    for (i = 0; i < anchors.length; i++) {\n",
       "        text_memo += \"**\" + anchors[i].id + \"--\\n\";\n",
       "\n",
       "        var child = null;\n",
       "        for(t = 0; t < tags.length; t++) {\n",
       "            var r = anchors[i].getElementsByTagName(tags[t]);\n",
       "            if (r.length > 0) {\n",
       "child = r[0];\n",
       "break;\n",
       "            }\n",
       "        }\n",
       "        if (child == null) {\n",
       "            text_memo += \"null\\n\";\n",
       "            continue;\n",
       "        }\n",
       "        if (anchors[i].hasAttribute(\"id\")) {\n",
       "            // when converted in RST\n",
       "            href = anchors[i].id;\n",
       "            text_memo += \"#1-\" + href;\n",
       "            // passer à child suivant (le chercher)\n",
       "        }\n",
       "        else if (child.hasAttribute(\"id\")) {\n",
       "            // in a notebook\n",
       "            href = child.id;\n",
       "            text_memo += \"#2-\" + href;\n",
       "        }\n",
       "        else {\n",
       "            text_memo += \"#3-\" + \"*\" + \"\\n\";\n",
       "            continue;\n",
       "        }\n",
       "        var title = child.textContent;\n",
       "        var level = parseInt(child.tagName.substring(1,2));\n",
       "\n",
       "        text_memo += \"--\" + level + \"?\" + lfirst + \"--\" + title + \"\\n\";\n",
       "\n",
       "        if ((level < lfirst) || (level > llast)) {\n",
       "            continue ;\n",
       "        }\n",
       "        if (title.endsWith('¶')) {\n",
       "            title = title.substring(0,title.length-1).replace(\"<\", \"&lt;\")\n",
       "         .replace(\">\", \"&gt;\").replace(\"&\", \"&amp;\");\n",
       "        }\n",
       "        if (title.length == 0) {\n",
       "            continue;\n",
       "        }\n",
       "\n",
       "        while (level < memo_level) {\n",
       "            text_menu += end_format + \"</ul>\\n\";\n",
       "            format_open -= 1;\n",
       "            memo_level -= 1;\n",
       "        }\n",
       "        if (level == lfirst) {\n",
       "            main_item += 1;\n",
       "        }\n",
       "        if (keep_item != -1 && main_item != keep_item + 1) {\n",
       "            // alert(main_item + \" - \" + level + \" - \" + keep_item);\n",
       "            continue;\n",
       "        }\n",
       "        while (level > memo_level) {\n",
       "            text_menu += \"<ul>\\n\";\n",
       "            memo_level += 1;\n",
       "        }\n",
       "        text_menu += repeat_indent_string(level-2);\n",
       "        text_menu += begin_format + sformat.replace(\"__HREF__\", href).replace(\"__TITLE__\", title);\n",
       "        format_open += 1;\n",
       "    }\n",
       "    while (1 < memo_level) {\n",
       "        text_menu += end_format + \"</ul>\\n\";\n",
       "        memo_level -= 1;\n",
       "        format_open -= 1;\n",
       "    }\n",
       "    text_menu += send;\n",
       "    //text_menu += \"\\n\" + text_memo;\n",
       "\n",
       "    while (format_open > 0) {\n",
       "        text_menu += end_format;\n",
       "        format_open -= 1;\n",
       "    }\n",
       "    return text_menu;\n",
       "};\n",
       "var update_menu = function() {\n",
       "    var sbegin = \"\";\n",
       "    var sformat = '<a href=\"#__HREF__\">__TITLE__</a>';\n",
       "    var send = \"\";\n",
       "    var begin_format = '<li>';\n",
       "    var end_format = '</li>';\n",
       "    var keep_item = -1;\n",
       "    var text_menu = update_menu_string(sbegin, 2, 4, sformat, send, keep_item,\n",
       "       begin_format, end_format);\n",
       "    var menu = document.getElementById(\"my_id_menu_nb\");\n",
       "    menu.innerHTML=text_menu;\n",
       "};\n",
       "window.setTimeout(update_menu,2000);\n",
       "            </script>"
      ],
      "text/plain": [
       "<IPython.core.display.HTML object>"
      ]
     },
     "execution_count": 1,
     "metadata": {},
     "output_type": "execute_result"
    }
   ],
   "source": [
    "\"\"\"\n",
    "(Practical tip) Table of contents can be compiled directly in jupyter notebooks using the following code:\n",
    "I set an exception: if the package is in your installation you can import it otherwise you download it \n",
    "then import it.\n",
    "\"\"\"\n",
    "try:\n",
    "    from jyquickhelper import add_notebook_menu \n",
    "except:\n",
    "    !pip install jyquickhelper\n",
    "    from jyquickhelper import add_notebook_menu\n",
    "    \n",
    "\"\"\"\n",
    "Output Table of contents to navigate easily in the notebook. \n",
    "For interested readers, the package also includes Ipython magic commands to go back to this cell\n",
    "wherever you are in the notebook to look for cells faster\n",
    "\"\"\"\n",
    "add_notebook_menu()"
   ]
  },
  {
   "cell_type": "markdown",
   "id": "c8cc153d",
   "metadata": {},
   "source": [
    "## The imports"
   ]
  },
  {
   "cell_type": "code",
   "execution_count": 2,
   "id": "c46fca35",
   "metadata": {
    "ExecuteTime": {
     "end_time": "2022-10-04T13:53:26.059202Z",
     "start_time": "2022-10-04T13:53:06.676592Z"
    }
   },
   "outputs": [],
   "source": [
    "import os\n",
    "import pandas as pd\n",
    "import numpy as np\n",
    "\n",
    "import tensorflow as tf\n",
    "from tensorflow.keras.utils import plot_model"
   ]
  },
  {
   "cell_type": "code",
   "execution_count": 3,
   "id": "47228489",
   "metadata": {
    "ExecuteTime": {
     "end_time": "2022-10-04T13:53:26.070342Z",
     "start_time": "2022-10-04T13:53:26.064878Z"
    }
   },
   "outputs": [],
   "source": [
    "#!pip install transformers"
   ]
  },
  {
   "cell_type": "code",
   "execution_count": 4,
   "id": "48a477e6",
   "metadata": {
    "ExecuteTime": {
     "end_time": "2022-10-04T13:53:26.083328Z",
     "start_time": "2022-10-04T13:53:26.075885Z"
    }
   },
   "outputs": [],
   "source": [
    "import warnings\n",
    "warnings.filterwarnings(\"ignore\")"
   ]
  },
  {
   "cell_type": "code",
   "execution_count": 5,
   "id": "7eb82da6",
   "metadata": {
    "ExecuteTime": {
     "end_time": "2022-10-04T13:53:26.096934Z",
     "start_time": "2022-10-04T13:53:26.089680Z"
    }
   },
   "outputs": [],
   "source": [
    "model_name = \"distilbert-base-uncased\"\n",
    "# Go to page https://huggingface.co/models for model list"
   ]
  },
  {
   "cell_type": "markdown",
   "id": "3833d61d",
   "metadata": {},
   "source": [
    "## Transformer tokenization\n",
    "\n",
    "Tokenizers are one of the core components of the NLP pipeline. They serve one purpose: to translate text into data that can be processed by the model. \n",
    "\n",
    "If we want to completely cover a language with a word-based tokenizer, we’ll need to have an identifier for each word in the language, which will generate a huge amount of tokens. For example, there are over 500,000 words in the English language, so to build a map from each word to an input ID we’d need to keep track of that many IDs. \n",
    "\n",
    "Finally, we need a custom token to represent words that are not in our vocabulary. This is known as the “unknown” token, often represented as ”[UNK]” or ””.\n",
    "\n",
    "One way to reduce the amount of unknown tokens is to go one level deeper, using a character-based tokenizer. This approach isn’t perfect either. Since the representation is now based on characters rather than words, one could argue that, intuitively, it’s less meaningful: each character doesn’t mean a lot on its own, whereas that is the case with words. \n",
    "\n",
    "To get the best of both worlds (word an char tokenization), we can use a third technique that combines the two approaches: subword tokenization."
   ]
  },
  {
   "cell_type": "code",
   "execution_count": 6,
   "id": "d5e91139",
   "metadata": {
    "ExecuteTime": {
     "end_time": "2022-10-04T13:53:28.582911Z",
     "start_time": "2022-10-04T13:53:26.101708Z"
    }
   },
   "outputs": [],
   "source": [
    "from transformers import AutoTokenizer"
   ]
  },
  {
   "cell_type": "code",
   "execution_count": 7,
   "id": "bea39485",
   "metadata": {
    "ExecuteTime": {
     "end_time": "2022-10-04T13:53:29.340656Z",
     "start_time": "2022-10-04T13:53:28.585478Z"
    }
   },
   "outputs": [],
   "source": [
    "# Load a pre-trained small model.\n",
    "tokenizer = AutoTokenizer.from_pretrained(model_name)"
   ]
  },
  {
   "cell_type": "code",
   "execution_count": 8,
   "id": "b4981754",
   "metadata": {
    "ExecuteTime": {
     "end_time": "2022-10-04T13:53:29.352776Z",
     "start_time": "2022-10-04T13:53:29.343916Z"
    }
   },
   "outputs": [],
   "source": [
    "sequence=\"don't be so judgmental\""
   ]
  },
  {
   "cell_type": "code",
   "execution_count": 9,
   "id": "eef4b739",
   "metadata": {
    "ExecuteTime": {
     "end_time": "2022-10-04T13:53:30.662501Z",
     "start_time": "2022-10-04T13:53:29.364806Z"
    }
   },
   "outputs": [
    {
     "name": "stdout",
     "output_type": "stream",
     "text": [
      "sent:\t\t ['don', \"'\", 't', 'be', 'so', 'judgment', '##al']\n",
      "ids:\t\t [2123, 1005, 1056, 2022, 2061, 8689, 2389]\n",
      "decode:\t\t don't be so judgmental\n"
     ]
    }
   ],
   "source": [
    "sent = tokenizer.tokenize(sequence)\n",
    "ids = tokenizer.convert_tokens_to_ids(sent)\n",
    "print(\"sent:\\t\\t\", sent)\n",
    "print(\"ids:\\t\\t\", ids)\n",
    "print(\"decode:\\t\\t\", tokenizer.decode(ids))"
   ]
  },
  {
   "cell_type": "code",
   "execution_count": 10,
   "id": "a7d16169",
   "metadata": {
    "ExecuteTime": {
     "end_time": "2022-10-04T13:53:30.685525Z",
     "start_time": "2022-10-04T13:53:30.674434Z"
    }
   },
   "outputs": [
    {
     "name": "stdout",
     "output_type": "stream",
     "text": [
      "model_inputs:\t [101, 2123, 1005, 1056, 2022, 2061, 8689, 2389, 102]\n",
      "decode:\t\t [CLS] don't be so judgmental [SEP]\n"
     ]
    }
   ],
   "source": [
    "model_inputs = tokenizer(sequence)\n",
    "print(\"model_inputs:\\t\", model_inputs[\"input_ids\"])\n",
    "print(\"decode:\\t\\t\", tokenizer.decode(model_inputs[\"input_ids\"]))"
   ]
  },
  {
   "cell_type": "code",
   "execution_count": 11,
   "id": "68305406",
   "metadata": {
    "ExecuteTime": {
     "end_time": "2022-10-04T13:53:30.719256Z",
     "start_time": "2022-10-04T13:53:30.702812Z"
    }
   },
   "outputs": [
    {
     "data": {
      "text/plain": [
       "{'input_ids': array([[ 101, 2123, 1005, 1056, 2022,  102]]), 'attention_mask': array([[1, 1, 1, 1, 1, 1]])}"
      ]
     },
     "execution_count": 11,
     "metadata": {},
     "output_type": "execute_result"
    }
   ],
   "source": [
    "tokenizer(sequence, max_length=6, padding=True, truncation=True, return_tensors=\"np\")"
   ]
  },
  {
   "cell_type": "markdown",
   "id": "d084f9b4",
   "metadata": {},
   "source": [
    "## Transformer model"
   ]
  },
  {
   "cell_type": "code",
   "execution_count": 12,
   "id": "03a4faf8",
   "metadata": {
    "ExecuteTime": {
     "end_time": "2022-10-04T13:53:30.787974Z",
     "start_time": "2022-10-04T13:53:30.731964Z"
    }
   },
   "outputs": [
    {
     "name": "stdout",
     "output_type": "stream",
     "text": [
      "Metal device set to: Apple M1 Max\n",
      "{'input_ids': <tf.Tensor: shape=(2, 16), dtype=int32, numpy=\n",
      "array([[ 101, 1045, 1005, 2310, 2042, 3403, 2005, 1037, 2784, 4083, 2607,\n",
      "        2026, 2878, 2166, 1012,  102],\n",
      "       [ 101, 1045, 5223, 2023, 2061, 2172,  999,  102,    0,    0,    0,\n",
      "           0,    0,    0,    0,    0]], dtype=int32)>, 'attention_mask': <tf.Tensor: shape=(2, 16), dtype=int32, numpy=\n",
      "array([[1, 1, 1, 1, 1, 1, 1, 1, 1, 1, 1, 1, 1, 1, 1, 1],\n",
      "       [1, 1, 1, 1, 1, 1, 1, 1, 0, 0, 0, 0, 0, 0, 0, 0]], dtype=int32)>}\n"
     ]
    },
    {
     "name": "stderr",
     "output_type": "stream",
     "text": [
      "2022-10-20 10:18:58.848604: I tensorflow/core/common_runtime/pluggable_device/pluggable_device_factory.cc:305] Could not identify NUMA node of platform GPU ID 0, defaulting to 0. Your kernel may not have been built with NUMA support.\n",
      "2022-10-20 10:18:58.849115: I tensorflow/core/common_runtime/pluggable_device/pluggable_device_factory.cc:271] Created TensorFlow device (/job:localhost/replica:0/task:0/device:GPU:0 with 0 MB memory) -> physical PluggableDevice (device: 0, name: METAL, pci bus id: <undefined>)\n"
     ]
    }
   ],
   "source": [
    "raw_inputs = [\n",
    "    \"I've been waiting for a Deep Learning course my whole life.\",\n",
    "    \"I hate this so much!\",\n",
    "]\n",
    "inputs = tokenizer(raw_inputs, padding=True, truncation=True, return_tensors=\"tf\")\n",
    "print(inputs)"
   ]
  },
  {
   "cell_type": "code",
   "execution_count": 14,
   "id": "c10af46f",
   "metadata": {
    "ExecuteTime": {
     "end_time": "2022-10-04T13:53:30.817459Z",
     "start_time": "2022-10-04T13:53:30.796459Z"
    }
   },
   "outputs": [
    {
     "name": "stderr",
     "output_type": "stream",
     "text": [
      "Some layers from the model checkpoint at distilbert-base-uncased were not used when initializing TFDistilBertModel: ['vocab_projector', 'vocab_transform', 'vocab_layer_norm', 'activation_13']\n",
      "- This IS expected if you are initializing TFDistilBertModel from the checkpoint of a model trained on another task or with another architecture (e.g. initializing a BertForSequenceClassification model from a BertForPreTraining model).\n",
      "- This IS NOT expected if you are initializing TFDistilBertModel from the checkpoint of a model that you expect to be exactly identical (initializing a BertForSequenceClassification model from a BertForSequenceClassification model).\n",
      "All the layers of TFDistilBertModel were initialized from the model checkpoint at distilbert-base-uncased.\n",
      "If your task is similar to the task the model of the checkpoint was trained on, you can already use TFDistilBertModel for predictions without further training.\n"
     ]
    }
   ],
   "source": [
    "from transformers import TFAutoModel\n",
    "\n",
    "model = TFAutoModel.from_pretrained(model_name)"
   ]
  },
  {
   "cell_type": "markdown",
   "id": "91ae87d6",
   "metadata": {},
   "source": [
    "The vector output by the Transformer module is usually large. It generally has three dimensions:\n",
    "\n",
    "* Batch size: The number of sequences processed at a time (2 in our example).\n",
    "* Sequence length: The length of the numerical representation of the sequence (16 in our example).\n",
    "* Hidden size: The vector dimension of each model input."
   ]
  },
  {
   "cell_type": "code",
   "execution_count": 15,
   "id": "922848db",
   "metadata": {
    "ExecuteTime": {
     "end_time": "2022-10-04T13:53:35.616112Z",
     "start_time": "2022-10-04T13:53:35.344863Z"
    }
   },
   "outputs": [
    {
     "name": "stdout",
     "output_type": "stream",
     "text": [
      "(2, 16, 768)\n"
     ]
    }
   ],
   "source": [
    "outputs = model(**inputs)\n",
    "print(outputs.last_hidden_state.shape)"
   ]
  },
  {
   "cell_type": "markdown",
   "id": "9a37a3c0",
   "metadata": {},
   "source": [
    "Note that the outputs of Transformers models behave like namedtuples or dictionaries.\n",
    "\n",
    "You can access the elements by attributes (like we did) or by key (outputs[\"last_hidden_state\"]), or even by index if you know exactly where the thing you are looking for is (outputs[0])."
   ]
  },
  {
   "cell_type": "markdown",
   "id": "3e6438ae",
   "metadata": {},
   "source": [
    "Shape explaination:\n",
    "* 2 sentences\n",
    "* Max_length = 16 (The longest sentence of the dataset or size fixed a priori)\n",
    "* EMbedding_size = 768 (see model)"
   ]
  },
  {
   "cell_type": "code",
   "execution_count": 16,
   "id": "2139d13d",
   "metadata": {
    "ExecuteTime": {
     "end_time": "2022-10-04T13:53:35.634295Z",
     "start_time": "2022-10-04T13:53:35.626972Z"
    }
   },
   "outputs": [
    {
     "data": {
      "text/plain": [
       "TensorShape([2, 16, 768])"
      ]
     },
     "execution_count": 16,
     "metadata": {},
     "output_type": "execute_result"
    }
   ],
   "source": [
    "outputs[\"last_hidden_state\"].shape"
   ]
  },
  {
   "cell_type": "code",
   "execution_count": 17,
   "id": "90f2d240",
   "metadata": {
    "ExecuteTime": {
     "end_time": "2022-10-04T13:53:35.654564Z",
     "start_time": "2022-10-04T13:53:35.640554Z"
    }
   },
   "outputs": [
    {
     "data": {
      "text/plain": [
       "TensorShape([2, 16, 768])"
      ]
     },
     "execution_count": 17,
     "metadata": {},
     "output_type": "execute_result"
    }
   ],
   "source": [
    "outputs[0].shape"
   ]
  },
  {
   "cell_type": "code",
   "execution_count": 18,
   "id": "a35eebf3",
   "metadata": {
    "ExecuteTime": {
     "end_time": "2022-10-04T13:53:42.663824Z",
     "start_time": "2022-10-04T13:53:35.659445Z"
    }
   },
   "outputs": [
    {
     "name": "stderr",
     "output_type": "stream",
     "text": [
      "Some layers from the model checkpoint at distilbert-base-uncased were not used when initializing TFDistilBertModel: ['vocab_projector', 'vocab_transform', 'vocab_layer_norm', 'activation_13']\n",
      "- This IS expected if you are initializing TFDistilBertModel from the checkpoint of a model trained on another task or with another architecture (e.g. initializing a BertForSequenceClassification model from a BertForPreTraining model).\n",
      "- This IS NOT expected if you are initializing TFDistilBertModel from the checkpoint of a model that you expect to be exactly identical (initializing a BertForSequenceClassification model from a BertForSequenceClassification model).\n",
      "All the layers of TFDistilBertModel were initialized from the model checkpoint at distilbert-base-uncased.\n",
      "If your task is similar to the task the model of the checkpoint was trained on, you can already use TFDistilBertModel for predictions without further training.\n"
     ]
    },
    {
     "name": "stdout",
     "output_type": "stream",
     "text": [
      "huggingface/tokenizers: The current process just got forked, after parallelism has already been used. Disabling parallelism to avoid deadlocks...\n",
      "To disable this warning, you can either:\n",
      "\t- Avoid using `tokenizers` before the fork if possible\n",
      "\t- Explicitly set the environment variable TOKENIZERS_PARALLELISM=(true | false)\n",
      "huggingface/tokenizers: The current process just got forked, after parallelism has already been used. Disabling parallelism to avoid deadlocks...\n",
      "To disable this warning, you can either:\n",
      "\t- Avoid using `tokenizers` before the fork if possible\n",
      "\t- Explicitly set the environment variable TOKENIZERS_PARALLELISM=(true | false)\n"
     ]
    },
    {
     "data": {
      "image/png": "[encoded data removed]",
      "text/plain": [
       "<IPython.core.display.Image object>"
      ]
     },
     "execution_count": 18,
     "metadata": {},
     "output_type": "execute_result"
    }
   ],
   "source": [
    "# We can plot the input and output of the model\n",
    "\"\"\" with output_hidden_states = False\n",
    "    return only hidden_state for last layer\n",
    "\"\"\"\n",
    "input_ids = tf.keras.layers.Input(shape=(None,), dtype=tf.int32, name=\"input_ids\")\n",
    "attention_mask = tf.keras.layers.Input(shape=(None,), dtype=tf.int32, name=\"attention_mask\")\n",
    "model = TFAutoModel.from_pretrained(model_name,\n",
    "                                    return_dict=True,           # True return output dict. Use to select output\n",
    "                                    output_hidden_states=False, # True return all hidden state\n",
    "                                    output_attentions=False,    # True return all attention matrix\n",
    "                                    )\n",
    "outputs = model(input_ids=input_ids,\n",
    "                  attention_mask = attention_mask)\n",
    "\n",
    "bert_model = tf.keras.models.Model(inputs=[input_ids, attention_mask], outputs=outputs)\n",
    "\n",
    "plot_model(bert_model, show_shapes=True, show_layer_names=True)"
   ]
  },
  {
   "cell_type": "code",
   "execution_count": 19,
   "id": "2c46b094",
   "metadata": {},
   "outputs": [
    {
     "name": "stderr",
     "output_type": "stream",
     "text": [
      "Some layers from the model checkpoint at distilbert-base-uncased were not used when initializing TFDistilBertModel: ['vocab_projector', 'vocab_transform', 'vocab_layer_norm', 'activation_13']\n",
      "- This IS expected if you are initializing TFDistilBertModel from the checkpoint of a model trained on another task or with another architecture (e.g. initializing a BertForSequenceClassification model from a BertForPreTraining model).\n",
      "- This IS NOT expected if you are initializing TFDistilBertModel from the checkpoint of a model that you expect to be exactly identical (initializing a BertForSequenceClassification model from a BertForSequenceClassification model).\n",
      "All the layers of TFDistilBertModel were initialized from the model checkpoint at distilbert-base-uncased.\n",
      "If your task is similar to the task the model of the checkpoint was trained on, you can already use TFDistilBertModel for predictions without further training.\n"
     ]
    },
    {
     "name": "stdout",
     "output_type": "stream",
     "text": [
      "huggingface/tokenizers: The current process just got forked, after parallelism has already been used. Disabling parallelism to avoid deadlocks...\n",
      "To disable this warning, you can either:\n",
      "\t- Avoid using `tokenizers` before the fork if possible\n",
      "\t- Explicitly set the environment variable TOKENIZERS_PARALLELISM=(true | false)\n",
      "huggingface/tokenizers: The current process just got forked, after parallelism has already been used. Disabling parallelism to avoid deadlocks...\n",
      "To disable this warning, you can either:\n",
      "\t- Avoid using `tokenizers` before the fork if possible\n",
      "\t- Explicitly set the environment variable TOKENIZERS_PARALLELISM=(true | false)\n"
     ]
    },
    {
     "data": {
      "image/png": "[encoded data removed]",
      "text/plain": [
       "<IPython.core.display.Image object>"
      ]
     },
     "execution_count": 19,
     "metadata": {},
     "output_type": "execute_result"
    }
   ],
   "source": [
    "# We can plot the input and output of the model\n",
    "\"\"\" with output_hidden_states = True\n",
    "    return hidden_state for all layers\n",
    "\"\"\"\n",
    "input_ids = tf.keras.layers.Input(shape=(None,), dtype=tf.int32, name=\"input_ids\")\n",
    "attention_mask = tf.keras.layers.Input(shape=(None,), dtype=tf.int32, name=\"attention_mask\")\n",
    "model = TFAutoModel.from_pretrained(model_name,\n",
    "                                    return_dict=True,           # True return output dict. Use to select output\n",
    "                                    output_hidden_states=True,  # True return all hidden state\n",
    "                                    output_attentions=False,    # True return all attention matrix\n",
    "                                    )\n",
    "outputs = model(input_ids=input_ids,\n",
    "                  attention_mask = attention_mask)\n",
    "\n",
    "bert_model = tf.keras.models.Model(inputs=[input_ids, attention_mask], outputs=outputs)\n",
    "\n",
    "plot_model(bert_model, show_shapes=True, show_layer_names=True)"
   ]
  },
  {
   "cell_type": "markdown",
   "id": "4eb41a6a",
   "metadata": {},
   "source": [
    "<font color=\"red\">\n",
    "Play with the output_hidden_states and output_attentions parameters to observe changes in the output tensor.\n",
    "</font>"
   ]
  },
  {
   "cell_type": "markdown",
   "id": "50244cbf",
   "metadata": {},
   "source": [
    "## Let's try to understand in depth\n",
    "\n",
    "\n",
    "The model heads take the high-dimensional vector of hidden states as input and project them onto a different dimension. They are usually composed of one or a few linear layers:\n",
    "\n",
    "![](https://huggingface.co/datasets/huggingface-course/documentation-images/resolve/main/en/chapter2/transformer_and_head.svg)\n",
    "\n",
    "The output of the Transformer model is sent directly to the model head to be processed.\n",
    "\n",
    "In this diagram, the model is represented by its embeddings layer and the subsequent layers. The embeddings layer converts each input ID in the tokenized input into a vector that represents the associated token. The subsequent layers manipulate those vectors using the attention mechanism to produce the final representation of the sentences.\n",
    "\n",
    "There are many different architectures available in Transformers, with each one designed around tackling a specific task. Here is a non-exhaustive list:\n",
    "\n",
    "* Model (retrieve the hidden states)\n",
    "* ForSequenceClassification (sentiment analysis)\n",
    "* ForTokenClassification (POS, NER, ...)\n",
    "* Translation task\n",
    "* and others"
   ]
  },
  {
   "cell_type": "markdown",
   "id": "2119aa7a",
   "metadata": {},
   "source": [
    "<font color=\"blue\">\n",
    "As we are able to encapsulate all or part of a transform (here only the embedding part) in a Keras model, it is clear that it is possible to add various layers either before or after.\n",
    "</font>"
   ]
  },
  {
   "cell_type": "markdown",
   "id": "1ad16b0b",
   "metadata": {
    "ExecuteTime": {
     "end_time": "2022-10-03T14:32:11.607429Z",
     "start_time": "2022-10-03T14:32:11.601382Z"
    }
   },
   "source": [
    "<hr>\n",
    "<hr>\n",
    "\n",
    "### Sequence classification task : N inputs tokens, 1 output labels\n"
   ]
  },
  {
   "cell_type": "markdown",
   "id": "62140e85",
   "metadata": {},
   "source": [
    "<font color=\"blue\">\n",
    "    <big><em>With a pre-trained pipeline</em></big>\n",
    "</font>"
   ]
  },
  {
   "cell_type": "code",
   "execution_count": 20,
   "id": "019b957b",
   "metadata": {},
   "outputs": [
    {
     "name": "stderr",
     "output_type": "stream",
     "text": [
      "No model was supplied, defaulted to distilbert-base-uncased-finetuned-sst-2-english and revision af0f99b (https://huggingface.co/distilbert-base-uncased-finetuned-sst-2-english).\n",
      "Using a pipeline without specifying a model name and revision in production is not recommended.\n",
      "Some layers from the model checkpoint at distilbert-base-uncased-finetuned-sst-2-english were not used when initializing TFDistilBertForSequenceClassification: ['dropout_19']\n",
      "- This IS expected if you are initializing TFDistilBertForSequenceClassification from the checkpoint of a model trained on another task or with another architecture (e.g. initializing a BertForSequenceClassification model from a BertForPreTraining model).\n",
      "- This IS NOT expected if you are initializing TFDistilBertForSequenceClassification from the checkpoint of a model that you expect to be exactly identical (initializing a BertForSequenceClassification model from a BertForSequenceClassification model).\n",
      "Some layers of TFDistilBertForSequenceClassification were not initialized from the model checkpoint at distilbert-base-uncased-finetuned-sst-2-english and are newly initialized: ['dropout_76']\n",
      "You should probably TRAIN this model on a down-stream task to be able to use it for predictions and inference.\n"
     ]
    },
    {
     "data": {
      "text/plain": [
       "[{'label': 'POSITIVE', 'score': 0.9598048329353333}]"
      ]
     },
     "execution_count": 20,
     "metadata": {},
     "output_type": "execute_result"
    }
   ],
   "source": [
    "from transformers import pipeline\n",
    "\n",
    "classifier = pipeline(\"sentiment-analysis\")\n",
    "classifier(\"I've been waiting for a HuggingFace course my whole life.\")\n"
   ]
  },
  {
   "cell_type": "markdown",
   "id": "11845ccc",
   "metadata": {},
   "source": [
    "<font color=\"blue\">\n",
    "    <big><em>Try to understand a little bit more</em></big>\n",
    "</font>"
   ]
  },
  {
   "cell_type": "code",
   "execution_count": 21,
   "id": "1469ee7c",
   "metadata": {
    "ExecuteTime": {
     "end_time": "2022-10-04T13:53:45.548192Z",
     "start_time": "2022-10-04T13:53:42.671572Z"
    }
   },
   "outputs": [
    {
     "name": "stderr",
     "output_type": "stream",
     "text": [
      "Some layers from the model checkpoint at distilbert-base-uncased were not used when initializing TFDistilBertForSequenceClassification: ['vocab_projector', 'vocab_transform', 'vocab_layer_norm', 'activation_13']\n",
      "- This IS expected if you are initializing TFDistilBertForSequenceClassification from the checkpoint of a model trained on another task or with another architecture (e.g. initializing a BertForSequenceClassification model from a BertForPreTraining model).\n",
      "- This IS NOT expected if you are initializing TFDistilBertForSequenceClassification from the checkpoint of a model that you expect to be exactly identical (initializing a BertForSequenceClassification model from a BertForSequenceClassification model).\n",
      "Some layers of TFDistilBertForSequenceClassification were not initialized from the model checkpoint at distilbert-base-uncased and are newly initialized: ['dropout_96', 'classifier', 'pre_classifier']\n",
      "You should probably TRAIN this model on a down-stream task to be able to use it for predictions and inference.\n"
     ]
    }
   ],
   "source": [
    "from transformers import AutoTokenizer, TFAutoModelForSequenceClassification\n",
    "\n",
    "model_name = \"distilbert-base-uncased\"\n",
    "tokenizer = AutoTokenizer.from_pretrained(model_name)\n",
    "model = TFAutoModelForSequenceClassification.from_pretrained(model_name)"
   ]
  },
  {
   "cell_type": "code",
   "execution_count": 22,
   "id": "a508c1f5",
   "metadata": {
    "ExecuteTime": {
     "end_time": "2022-10-04T13:53:47.841349Z",
     "start_time": "2022-10-04T13:53:45.554780Z"
    }
   },
   "outputs": [
    {
     "name": "stdout",
     "output_type": "stream",
     "text": [
      "huggingface/tokenizers: The current process just got forked, after parallelism has already been used. Disabling parallelism to avoid deadlocks...\n",
      "To disable this warning, you can either:\n",
      "\t- Avoid using `tokenizers` before the fork if possible\n",
      "\t- Explicitly set the environment variable TOKENIZERS_PARALLELISM=(true | false)\n",
      "huggingface/tokenizers: The current process just got forked, after parallelism has already been used. Disabling parallelism to avoid deadlocks...\n",
      "To disable this warning, you can either:\n",
      "\t- Avoid using `tokenizers` before the fork if possible\n",
      "\t- Explicitly set the environment variable TOKENIZERS_PARALLELISM=(true | false)\n"
     ]
    },
    {
     "data": {
      "image/png": "[encoded data removed]",
      "text/plain": [
       "<IPython.core.display.Image object>"
      ]
     },
     "execution_count": 22,
     "metadata": {},
     "output_type": "execute_result"
    }
   ],
   "source": [
    "input_ids = tf.keras.layers.Input(shape=(None,), dtype=tf.int32, name=\"input_ids\")\n",
    "attention_mask = tf.keras.layers.Input(shape=(None,), dtype=tf.int32, name=\"attention_mask\")\n",
    "outputs_ = model(input_ids=input_ids,\n",
    "                  attention_mask = attention_mask)\n",
    "\n",
    "bert_model = tf.keras.models.Model(inputs=[input_ids, attention_mask], outputs=outputs_)\n",
    "\n",
    "plot_model(bert_model, show_shapes=True, show_layer_names=True)"
   ]
  },
  {
   "cell_type": "code",
   "execution_count": 23,
   "id": "2f0822be",
   "metadata": {
    "ExecuteTime": {
     "end_time": "2022-10-04T13:53:47.873418Z",
     "start_time": "2022-10-04T13:53:47.848615Z"
    }
   },
   "outputs": [
    {
     "data": {
      "text/plain": [
       "{'input_ids': <tf.Tensor: shape=(2, 16), dtype=int32, numpy=\n",
       "array([[ 101, 1045, 1005, 2310, 2042, 3403, 2005, 1037, 2784, 3793, 2607,\n",
       "        2026, 2878, 2166, 1012,  102],\n",
       "       [ 101, 2023, 2607, 2003, 6429,  999,  102,    0,    0,    0,    0,\n",
       "           0,    0,    0,    0,    0]], dtype=int32)>, 'attention_mask': <tf.Tensor: shape=(2, 16), dtype=int32, numpy=\n",
       "array([[1, 1, 1, 1, 1, 1, 1, 1, 1, 1, 1, 1, 1, 1, 1, 1],\n",
       "       [1, 1, 1, 1, 1, 1, 1, 0, 0, 0, 0, 0, 0, 0, 0, 0]], dtype=int32)>}"
      ]
     },
     "execution_count": 23,
     "metadata": {},
     "output_type": "execute_result"
    }
   ],
   "source": [
    "sentences = [\n",
    "    \"I've been waiting for a Deep Text course my whole life.\",\n",
    "    \"This course is amazing!\",\n",
    "]\n",
    "\n",
    "inputs = tokenizer(sentences, padding=True, truncation=True, return_tensors=\"tf\")\n",
    "inputs"
   ]
  },
  {
   "cell_type": "code",
   "execution_count": 24,
   "id": "7c279476",
   "metadata": {
    "ExecuteTime": {
     "end_time": "2022-10-04T13:53:48.252395Z",
     "start_time": "2022-10-04T13:53:47.877934Z"
    }
   },
   "outputs": [
    {
     "data": {
      "text/plain": [
       "<tf.Tensor: shape=(2, 2), dtype=float32, numpy=\n",
       "array([[-0.06425199, -0.08580308],\n",
       "       [-0.03809012, -0.0859838 ]], dtype=float32)>"
      ]
     },
     "execution_count": 24,
     "metadata": {},
     "output_type": "execute_result"
    }
   ],
   "source": [
    "outputs = model(inputs)\n",
    "outputs.logits"
   ]
  },
  {
   "cell_type": "markdown",
   "id": "c19eb49d",
   "metadata": {},
   "source": [
    "To be converted to probabilities, they need to go through a SoftMax layer "
   ]
  },
  {
   "cell_type": "code",
   "execution_count": 25,
   "id": "918d9c6d",
   "metadata": {
    "ExecuteTime": {
     "end_time": "2022-10-04T13:53:48.271967Z",
     "start_time": "2022-10-04T13:53:48.263487Z"
    }
   },
   "outputs": [
    {
     "name": "stdout",
     "output_type": "stream",
     "text": [
      "tf.Tensor(\n",
      "[[0.5053876  0.4946125 ]\n",
      " [0.5119712  0.48802885]], shape=(2, 2), dtype=float32)\n"
     ]
    }
   ],
   "source": [
    "predictions = tf.math.softmax(outputs.logits, axis=-1)\n",
    "print(predictions)"
   ]
  },
  {
   "cell_type": "markdown",
   "id": "9fc25732",
   "metadata": {},
   "source": [
    "To get the labels corresponding to each position, we can inspect the id2label attribute of the model config:"
   ]
  },
  {
   "cell_type": "code",
   "execution_count": 26,
   "id": "68e1a997",
   "metadata": {
    "ExecuteTime": {
     "end_time": "2022-10-04T13:53:48.299244Z",
     "start_time": "2022-10-04T13:53:48.279716Z"
    }
   },
   "outputs": [
    {
     "data": {
      "text/plain": [
       "{0: 'LABEL_0', 1: 'LABEL_1'}"
      ]
     },
     "execution_count": 26,
     "metadata": {},
     "output_type": "execute_result"
    }
   ],
   "source": [
    "model.config.id2label"
   ]
  },
  {
   "cell_type": "code",
   "execution_count": 27,
   "id": "a67f85ba",
   "metadata": {
    "ExecuteTime": {
     "end_time": "2022-10-04T13:53:48.319803Z",
     "start_time": "2022-10-04T13:53:48.306551Z"
    }
   },
   "outputs": [
    {
     "data": {
      "text/plain": [
       "array([0, 0])"
      ]
     },
     "execution_count": 27,
     "metadata": {},
     "output_type": "execute_result"
    }
   ],
   "source": [
    "predictions = np.argmax(predictions, axis=1)\n",
    "predictions"
   ]
  },
  {
   "cell_type": "markdown",
   "id": "1824f99c",
   "metadata": {},
   "source": [
    "<font color=\"blue\">\n",
    "    <big><em>Fine tune a pre-trained model for sentence classification task</em></big>\n",
    "    \n",
    "    The main objective here is to adapt post_processing to our task:\n",
    "    * sentence classification\n",
    "    * number of labels\n",
    "</font>"
   ]
  },
  {
   "cell_type": "code",
   "execution_count": 28,
   "id": "2fb289bc",
   "metadata": {
    "ExecuteTime": {
     "end_time": "2022-10-04T13:53:48.336836Z",
     "start_time": "2022-10-04T13:53:48.327466Z"
    }
   },
   "outputs": [],
   "source": [
    "corpus = [\"I like chocolate\",\n",
    "            \"I like tea\",\n",
    "            \"You like chocolate\",\n",
    "            'You hate beer',\n",
    "            'I hate milk, wine and beer']\n",
    "\n",
    "labels = np.array([1,1,1,0,2]).reshape(-1, 1)"
   ]
  },
  {
   "cell_type": "code",
   "execution_count": 32,
   "id": "4758f6c3",
   "metadata": {
    "ExecuteTime": {
     "end_time": "2022-10-04T13:54:00.119952Z",
     "start_time": "2022-10-04T13:53:48.413091Z"
    }
   },
   "outputs": [
    {
     "name": "stderr",
     "output_type": "stream",
     "text": [
      "Some layers from the model checkpoint at distilbert-base-uncased were not used when initializing TFDistilBertForSequenceClassification: ['vocab_projector', 'vocab_transform', 'vocab_layer_norm', 'activation_13']\n",
      "- This IS expected if you are initializing TFDistilBertForSequenceClassification from the checkpoint of a model trained on another task or with another architecture (e.g. initializing a BertForSequenceClassification model from a BertForPreTraining model).\n",
      "- This IS NOT expected if you are initializing TFDistilBertForSequenceClassification from the checkpoint of a model that you expect to be exactly identical (initializing a BertForSequenceClassification model from a BertForSequenceClassification model).\n",
      "Some layers of TFDistilBertForSequenceClassification were not initialized from the model checkpoint at distilbert-base-uncased and are newly initialized: ['classifier', 'pre_classifier', 'dropout_156']\n",
      "You should probably TRAIN this model on a down-stream task to be able to use it for predictions and inference.\n"
     ]
    },
    {
     "name": "stdout",
     "output_type": "stream",
     "text": [
      "Epoch 1/5\n"
     ]
    },
    {
     "name": "stderr",
     "output_type": "stream",
     "text": [
      "2022-10-20 10:34:39.401820: I tensorflow/core/grappler/optimizers/custom_graph_optimizer_registry.cc:113] Plugin optimizer for device_type GPU is enabled.\n"
     ]
    },
    {
     "name": "stdout",
     "output_type": "stream",
     "text": [
      "1/1 [==============================] - 6s 6s/step - loss: 8.0918\n",
      "Epoch 2/5\n",
      "1/1 [==============================] - 0s 195ms/step - loss: 0.8789\n",
      "Epoch 3/5\n",
      "1/1 [==============================] - 0s 120ms/step - loss: 3.2155\n",
      "Epoch 4/5\n",
      "1/1 [==============================] - 0s 137ms/step - loss: 1.0986\n",
      "Epoch 5/5\n",
      "1/1 [==============================] - 0s 110ms/step - loss: 1.0986\n"
     ]
    },
    {
     "data": {
      "text/plain": [
       "<keras.callbacks.History at 0x2eb2646a0>"
      ]
     },
     "execution_count": 32,
     "metadata": {},
     "output_type": "execute_result"
    }
   ],
   "source": [
    "import tensorflow as tf\n",
    "import numpy as np\n",
    "from transformers import AutoTokenizer, TFAutoModelForSequenceClassification\n",
    "\n",
    "# Same as before\n",
    "model_name = \"distilbert-base-uncased\"\n",
    "tokenizer = AutoTokenizer.from_pretrained(model_name)\n",
    "model = TFAutoModelForSequenceClassification.from_pretrained(model_name, num_labels=len(np.unique(labels)))\n",
    "\n",
    "batch = dict(tokenizer(corpus, padding=True, truncation=True, return_tensors=\"tf\"))\n",
    "\n",
    "# This is new\n",
    "model.compile(optimizer=\"adam\", loss=\"sparse_categorical_crossentropy\")\n",
    "model.fit(batch, labels, epochs=5)"
   ]
  },
  {
   "cell_type": "code",
   "execution_count": 33,
   "id": "2bf8bee5",
   "metadata": {
    "ExecuteTime": {
     "end_time": "2022-10-04T13:54:00.405662Z",
     "start_time": "2022-10-04T13:54:00.125751Z"
    }
   },
   "outputs": [
    {
     "data": {
      "text/plain": [
       "(TensorShape([1, 3]), array([2]))"
      ]
     },
     "execution_count": 33,
     "metadata": {},
     "output_type": "execute_result"
    }
   ],
   "source": [
    "new_sentence=[\"I like beer\"]\n",
    "new_input = tokenizer(new_sentence, padding=True, truncation=True, return_tensors=\"tf\")\n",
    "new_outputs = model(new_input)\n",
    "new_outputs.logits.shape, np.argmax(new_outputs.logits, axis=1)"
   ]
  },
  {
   "cell_type": "markdown",
   "id": "2d1780bd",
   "metadata": {},
   "source": [
    "<hr>\n",
    "<hr>\n",
    "\n",
    "### Token classification task : N inputs tokens, N output labels"
   ]
  },
  {
   "cell_type": "markdown",
   "id": "8b357879",
   "metadata": {},
   "source": [
    "<font color=\"blue\">\n",
    "    <big><em>With a pre-trained pipeline</em></big>\n",
    "</font>\n"
   ]
  },
  {
   "cell_type": "code",
   "execution_count": 34,
   "id": "b1a8182e",
   "metadata": {},
   "outputs": [
    {
     "name": "stderr",
     "output_type": "stream",
     "text": [
      "No model was supplied, defaulted to dbmdz/bert-large-cased-finetuned-conll03-english and revision f2482bf (https://huggingface.co/dbmdz/bert-large-cased-finetuned-conll03-english).\n",
      "Using a pipeline without specifying a model name and revision in production is not recommended.\n",
      "Some layers from the model checkpoint at dbmdz/bert-large-cased-finetuned-conll03-english were not used when initializing TFBertForTokenClassification: ['dropout_147']\n",
      "- This IS expected if you are initializing TFBertForTokenClassification from the checkpoint of a model trained on another task or with another architecture (e.g. initializing a BertForSequenceClassification model from a BertForPreTraining model).\n",
      "- This IS NOT expected if you are initializing TFBertForTokenClassification from the checkpoint of a model that you expect to be exactly identical (initializing a BertForSequenceClassification model from a BertForSequenceClassification model).\n",
      "All the layers of TFBertForTokenClassification were initialized from the model checkpoint at dbmdz/bert-large-cased-finetuned-conll03-english.\n",
      "If your task is similar to the task the model of the checkpoint was trained on, you can already use TFBertForTokenClassification for predictions without further training.\n"
     ]
    },
    {
     "data": {
      "text/plain": [
       "[{'entity_group': 'PER',\n",
       "  'score': 0.9981694,\n",
       "  'word': 'Sylvain',\n",
       "  'start': 11,\n",
       "  'end': 18},\n",
       " {'entity_group': 'ORG',\n",
       "  'score': 0.97960204,\n",
       "  'word': 'Hugging Face',\n",
       "  'start': 33,\n",
       "  'end': 45},\n",
       " {'entity_group': 'LOC',\n",
       "  'score': 0.9932106,\n",
       "  'word': 'Brooklyn',\n",
       "  'start': 49,\n",
       "  'end': 57}]"
      ]
     },
     "execution_count": 34,
     "metadata": {},
     "output_type": "execute_result"
    }
   ],
   "source": [
    "from transformers import pipeline\n",
    "\n",
    "ner = pipeline(\"ner\", grouped_entities=True)\n",
    "ner(\"My name is Sylvain and I work at Hugging Face in Brooklyn.\")"
   ]
  },
  {
   "cell_type": "markdown",
   "id": "aaad4152",
   "metadata": {},
   "source": [
    "<font color=\"blue\">\n",
    "    <big><em>Try to understand a little bit more</em></big>\n",
    "</font>"
   ]
  },
  {
   "cell_type": "code",
   "execution_count": 35,
   "id": "fa072e53",
   "metadata": {
    "ExecuteTime": {
     "end_time": "2022-10-04T13:54:03.123074Z",
     "start_time": "2022-10-04T13:54:00.411761Z"
    }
   },
   "outputs": [
    {
     "name": "stderr",
     "output_type": "stream",
     "text": [
      "Some layers from the model checkpoint at distilbert-base-uncased were not used when initializing TFDistilBertForTokenClassification: ['vocab_projector', 'vocab_transform', 'vocab_layer_norm', 'activation_13']\n",
      "- This IS expected if you are initializing TFDistilBertForTokenClassification from the checkpoint of a model trained on another task or with another architecture (e.g. initializing a BertForSequenceClassification model from a BertForPreTraining model).\n",
      "- This IS NOT expected if you are initializing TFDistilBertForTokenClassification from the checkpoint of a model that you expect to be exactly identical (initializing a BertForSequenceClassification model from a BertForSequenceClassification model).\n",
      "Some layers of TFDistilBertForTokenClassification were not initialized from the model checkpoint at distilbert-base-uncased and are newly initialized: ['dropout_250', 'classifier']\n",
      "You should probably TRAIN this model on a down-stream task to be able to use it for predictions and inference.\n"
     ]
    }
   ],
   "source": [
    "from transformers import TFAutoModelForTokenClassification\n",
    "\n",
    "model_name = \"distilbert-base-uncased\"\n",
    "tokenizer = AutoTokenizer.from_pretrained(model_name)\n",
    "model = TFAutoModelForTokenClassification.from_pretrained(\"distilbert-base-uncased\")"
   ]
  },
  {
   "cell_type": "code",
   "execution_count": 36,
   "id": "505993e1",
   "metadata": {
    "ExecuteTime": {
     "end_time": "2022-10-04T13:54:05.364271Z",
     "start_time": "2022-10-04T13:54:03.128092Z"
    }
   },
   "outputs": [
    {
     "name": "stdout",
     "output_type": "stream",
     "text": [
      "huggingface/tokenizers: The current process just got forked, after parallelism has already been used. Disabling parallelism to avoid deadlocks...\n",
      "To disable this warning, you can either:\n",
      "\t- Avoid using `tokenizers` before the fork if possible\n",
      "\t- Explicitly set the environment variable TOKENIZERS_PARALLELISM=(true | false)\n",
      "huggingface/tokenizers: The current process just got forked, after parallelism has already been used. Disabling parallelism to avoid deadlocks...\n",
      "To disable this warning, you can either:\n",
      "\t- Avoid using `tokenizers` before the fork if possible\n",
      "\t- Explicitly set the environment variable TOKENIZERS_PARALLELISM=(true | false)\n"
     ]
    },
    {
     "data": {
      "image/png": "[encoded data removed]",
      "text/plain": [
       "<IPython.core.display.Image object>"
      ]
     },
     "execution_count": 36,
     "metadata": {},
     "output_type": "execute_result"
    }
   ],
   "source": [
    "input_ids = tf.keras.layers.Input(shape=(None,), dtype=tf.int32, name=\"input_ids\")\n",
    "attention_mask = tf.keras.layers.Input(shape=(None,), dtype=tf.int32, name=\"attention_mask\")\n",
    "outputs_ = model(input_ids=input_ids,\n",
    "                  attention_mask = attention_mask)\n",
    "\n",
    "bert_model = tf.keras.models.Model(inputs=[input_ids, attention_mask], outputs=outputs_)\n",
    "\n",
    "plot_model(bert_model, show_shapes=True, show_layer_names=True)"
   ]
  },
  {
   "cell_type": "code",
   "execution_count": 37,
   "id": "e046a484",
   "metadata": {
    "ExecuteTime": {
     "end_time": "2022-10-04T13:54:05.397027Z",
     "start_time": "2022-10-04T13:54:05.373714Z"
    }
   },
   "outputs": [
    {
     "data": {
      "text/plain": [
       "{'input_ids': <tf.Tensor: shape=(2, 16), dtype=int32, numpy=\n",
       "array([[ 101, 1045, 1005, 2310, 2042, 3403, 2005, 1037, 2784, 3793, 2607,\n",
       "        2026, 2878, 2166, 1012,  102],\n",
       "       [ 101, 2023, 2607, 2003, 6429,  999,  102,    0,    0,    0,    0,\n",
       "           0,    0,    0,    0,    0]], dtype=int32)>, 'attention_mask': <tf.Tensor: shape=(2, 16), dtype=int32, numpy=\n",
       "array([[1, 1, 1, 1, 1, 1, 1, 1, 1, 1, 1, 1, 1, 1, 1, 1],\n",
       "       [1, 1, 1, 1, 1, 1, 1, 0, 0, 0, 0, 0, 0, 0, 0, 0]], dtype=int32)>}"
      ]
     },
     "execution_count": 37,
     "metadata": {},
     "output_type": "execute_result"
    }
   ],
   "source": [
    "sentences = [\n",
    "    \"I've been waiting for a Deep Text course my whole life.\",\n",
    "    \"This course is amazing!\",\n",
    "]\n",
    "\n",
    "inputs = tokenizer(sentences, padding=True, truncation=True, return_tensors=\"tf\")\n",
    "inputs"
   ]
  },
  {
   "cell_type": "code",
   "execution_count": 38,
   "id": "ecc82594",
   "metadata": {
    "ExecuteTime": {
     "end_time": "2022-10-04T13:54:05.736587Z",
     "start_time": "2022-10-04T13:54:05.412138Z"
    }
   },
   "outputs": [
    {
     "data": {
      "text/plain": [
       "TensorShape([2, 16, 2])"
      ]
     },
     "execution_count": 38,
     "metadata": {},
     "output_type": "execute_result"
    }
   ],
   "source": [
    "outputs = model(inputs)\n",
    "outputs.logits.shape"
   ]
  },
  {
   "cell_type": "code",
   "execution_count": 39,
   "id": "f274255f",
   "metadata": {
    "ExecuteTime": {
     "end_time": "2022-10-04T13:54:05.778358Z",
     "start_time": "2022-10-04T13:54:05.753827Z"
    }
   },
   "outputs": [
    {
     "data": {
      "text/plain": [
       "array([[1, 1, 0, 1, 1, 0, 0, 0, 0, 0, 0, 1, 1, 1, 0, 1],\n",
       "       [0, 0, 1, 1, 1, 1, 0, 1, 1, 1, 1, 1, 1, 1, 1, 1]])"
      ]
     },
     "execution_count": 39,
     "metadata": {},
     "output_type": "execute_result"
    }
   ],
   "source": [
    "predictions = tf.math.softmax(outputs.logits, axis=-1)\n",
    "predictions = np.argmax(predictions, axis=-1)\n",
    "predictions"
   ]
  },
  {
   "cell_type": "markdown",
   "id": "64dee0a7",
   "metadata": {
    "ExecuteTime": {
     "end_time": "2022-10-03T13:04:04.321716Z",
     "start_time": "2022-10-03T13:04:04.318671Z"
    }
   },
   "source": [
    "<font color=\"blue\">\n",
    "    <big><em>Fine tune a pre-trained model for token classification task</em></big>\n",
    "    \n",
    "    The main objective here is to adapt post_processing to our task:\n",
    "    * token classification\n",
    "    * number of labels\n",
    "</font>"
   ]
  },
  {
   "cell_type": "markdown",
   "id": "47e86b2d",
   "metadata": {},
   "source": [
    "<font color=\"blue\">\n",
    "    <big>Understand the needed preprocessing</big>\n",
    "</font>"
   ]
  },
  {
   "cell_type": "code",
   "execution_count": 40,
   "id": "16cbf7ea",
   "metadata": {},
   "outputs": [],
   "source": [
    "#!pip install datasets"
   ]
  },
  {
   "cell_type": "code",
   "execution_count": 41,
   "id": "1f0d5759",
   "metadata": {
    "ExecuteTime": {
     "end_time": "2022-10-04T13:54:10.026696Z",
     "start_time": "2022-10-04T13:54:05.791955Z"
    }
   },
   "outputs": [
    {
     "name": "stderr",
     "output_type": "stream",
     "text": [
      "Found cached dataset conll2003 (/Users/miriveill/.cache/huggingface/datasets/conll2003/conll2003/1.0.0/9a4d16a94f8674ba3466315300359b0acd891b68b6c8743ddf60b9c702adce98)\n"
     ]
    },
    {
     "name": "stdout",
     "output_type": "stream",
     "text": [
      "huggingface/tokenizers: The current process just got forked, after parallelism has already been used. Disabling parallelism to avoid deadlocks...\n",
      "To disable this warning, you can either:\n",
      "\t- Avoid using `tokenizers` before the fork if possible\n",
      "\t- Explicitly set the environment variable TOKENIZERS_PARALLELISM=(true | false)\n"
     ]
    },
    {
     "data": {
      "application/json": {
       "ascii": false,
       "bar_format": null,
       "colour": null,
       "elapsed": 0.010301828384399414,
       "initial": 0,
       "n": 0,
       "ncols": null,
       "nrows": 24,
       "postfix": null,
       "prefix": "",
       "rate": null,
       "total": 3,
       "unit": "it",
       "unit_divisor": 1000,
       "unit_scale": false
      },
      "application/vnd.jupyter.widget-view+json": {
       "model_id": "83d4e8998edc4283a523fa9b15649fd1",
       "version_major": 2,
       "version_minor": 0
      },
      "text/plain": [
       "  0%|          | 0/3 [00:00<?, ?it/s]"
      ]
     },
     "metadata": {},
     "output_type": "display_data"
    }
   ],
   "source": [
    "\"\"\" Load a dataset for NER task \"\"\"\n",
    "from datasets import load_dataset\n",
    "\n",
    "raw_datasets = load_dataset(\"conll2003\")"
   ]
  },
  {
   "cell_type": "code",
   "execution_count": 43,
   "id": "8d8f2565",
   "metadata": {
    "ExecuteTime": {
     "end_time": "2022-10-04T13:54:10.282886Z",
     "start_time": "2022-10-04T13:54:10.044424Z"
    }
   },
   "outputs": [
    {
     "name": "stderr",
     "output_type": "stream",
     "text": [
      "Loading cached shuffled indices for dataset at /Users/miriveill/.cache/huggingface/datasets/conll2003/conll2003/1.0.0/9a4d16a94f8674ba3466315300359b0acd891b68b6c8743ddf60b9c702adce98/cache-2fe5320fac60946d.arrow\n"
     ]
    }
   ],
   "source": [
    "\"\"\" select one sentences \"\"\"\n",
    "X = raw_datasets[\"train\"][8][\"tokens\"]\n",
    "y = raw_datasets[\"train\"][8][\"ner_tags\"]\n",
    "\n",
    "\n",
    "\"\"\" select some sentences \"\"\"\n",
    "nb = 500\n",
    "small_train_dataset = raw_datasets[\"train\"].shuffle(seed=42).select(range(nb))"
   ]
  },
  {
   "cell_type": "code",
   "execution_count": 44,
   "id": "88e87f0c",
   "metadata": {
    "ExecuteTime": {
     "end_time": "2022-10-04T13:54:10.313190Z",
     "start_time": "2022-10-04T13:54:10.293608Z"
    }
   },
   "outputs": [
    {
     "data": {
      "text/plain": [
       "Sequence(feature=ClassLabel(names=['O', 'B-PER', 'I-PER', 'B-ORG', 'I-ORG', 'B-LOC', 'I-LOC', 'B-MISC', 'I-MISC'], id=None), length=-1, id=None)"
      ]
     },
     "execution_count": 44,
     "metadata": {},
     "output_type": "execute_result"
    }
   ],
   "source": [
    "ner_feature = raw_datasets[\"train\"].features[\"ner_tags\"]\n",
    "ner_feature"
   ]
  },
  {
   "cell_type": "code",
   "execution_count": 45,
   "id": "bfe73db3",
   "metadata": {
    "ExecuteTime": {
     "end_time": "2022-10-04T13:54:10.332791Z",
     "start_time": "2022-10-04T13:54:10.320424Z"
    }
   },
   "outputs": [
    {
     "data": {
      "text/plain": [
       "['O', 'B-PER', 'I-PER', 'B-ORG', 'I-ORG', 'B-LOC', 'I-LOC', 'B-MISC', 'I-MISC']"
      ]
     },
     "execution_count": 45,
     "metadata": {},
     "output_type": "execute_result"
    }
   ],
   "source": [
    "label_names = ner_feature.feature.names\n",
    "label_names"
   ]
  },
  {
   "cell_type": "code",
   "execution_count": 46,
   "id": "e7fbf502",
   "metadata": {
    "ExecuteTime": {
     "end_time": "2022-10-04T13:54:10.368029Z",
     "start_time": "2022-10-04T13:54:10.360799Z"
    }
   },
   "outputs": [],
   "source": [
    "label2id = {label:i for i, label in enumerate(label_names)}\n",
    "label2id[\"SEP/CLS\"] = -100\n",
    "\n",
    "id2label = {v: k for k, v in label2id.items()}\n",
    "\n",
    "nb_labels = len(label_names)"
   ]
  },
  {
   "cell_type": "code",
   "execution_count": 47,
   "id": "ff4ca9de",
   "metadata": {},
   "outputs": [
    {
     "data": {
      "text/plain": [
       "{'O': 0,\n",
       " 'B-PER': 1,\n",
       " 'I-PER': 2,\n",
       " 'B-ORG': 3,\n",
       " 'I-ORG': 4,\n",
       " 'B-LOC': 5,\n",
       " 'I-LOC': 6,\n",
       " 'B-MISC': 7,\n",
       " 'I-MISC': 8,\n",
       " 'SEP/CLS': -100}"
      ]
     },
     "execution_count": 47,
     "metadata": {},
     "output_type": "execute_result"
    }
   ],
   "source": [
    "label2id"
   ]
  },
  {
   "cell_type": "code",
   "execution_count": 48,
   "id": "fb1aaef8",
   "metadata": {
    "ExecuteTime": {
     "end_time": "2022-10-04T13:54:10.387578Z",
     "start_time": "2022-10-04T13:54:10.377010Z"
    }
   },
   "outputs": [
    {
     "name": "stdout",
     "output_type": "stream",
     "text": [
      "Fischler proposed EU-wide measures after reports from Britain and France that under laboratory condi\n",
      "B-PER    O        B-MISC  O        O     O       O    B-LOC   O   B-LOC  O    O     O          O    \n"
     ]
    }
   ],
   "source": [
    "line1 = \"\"\n",
    "line2 = \"\"\n",
    "for word, label in zip(X, y):\n",
    "    full_label = label_names[label]\n",
    "    max_length = max(len(word), len(full_label))\n",
    "    line1 += word + \" \" * (max_length - len(word) + 1)\n",
    "    line2 += full_label + \" \" * (max_length - len(full_label) + 1)\n",
    "\n",
    "print(line1[:100])\n",
    "print(line2[:100])"
   ]
  },
  {
   "cell_type": "code",
   "execution_count": 49,
   "id": "ea5d0aab",
   "metadata": {
    "ExecuteTime": {
     "end_time": "2022-10-04T13:54:10.901324Z",
     "start_time": "2022-10-04T13:54:10.396241Z"
    }
   },
   "outputs": [],
   "source": [
    "from transformers import AutoTokenizer\n",
    "\n",
    "model_name = \"distilbert-base-uncased\"\n",
    "tokenizer = AutoTokenizer.from_pretrained(model_name)"
   ]
  },
  {
   "cell_type": "code",
   "execution_count": 50,
   "id": "ac7f2b0e",
   "metadata": {
    "ExecuteTime": {
     "end_time": "2022-10-04T13:54:10.948145Z",
     "start_time": "2022-10-04T13:54:10.905873Z"
    }
   },
   "outputs": [
    {
     "name": "stdout",
     "output_type": "stream",
     "text": [
      "['[CLS]', 'fis', '##ch', '##ler', 'proposed', 'eu', '-', 'wide', 'measures', 'after', 'reports', 'from', 'britain', 'and', 'france', 'that', 'under', 'laboratory', 'conditions', 'sheep', 'could', 'contract', 'bo', '##vine', 'sp', '##ong', '##iform', 'en', '##ce', '##pha', '##lo', '##pathy', '(', 'bs', '##e', ')', '-', '-', 'mad', 'cow', 'disease', '.', '[SEP]']\n"
     ]
    }
   ],
   "source": [
    "inputs = tokenizer(X, is_split_into_words=True)\n",
    "print(inputs.tokens())"
   ]
  },
  {
   "cell_type": "markdown",
   "id": "d7af194e",
   "metadata": {},
   "source": [
    "<font color=\"red\">\n",
    "As we can see, the tokenizer added the special tokens used by the model ([CLS] at the beginning and [SEP] at the end) and left most of the words untouched. Some words, however, was tokenized into three subwords, 'fis', '##ch', '##ler'.\n",
    "\n",
    "This introduces a mismatch between our inputs and the labels.\n",
    "\n",
    "Fortunately, for many tokenizers, we can easily match each token to its label.\n",
    "</font>"
   ]
  },
  {
   "cell_type": "code",
   "execution_count": 51,
   "id": "8e7ba292",
   "metadata": {
    "ExecuteTime": {
     "end_time": "2022-10-04T13:54:10.978740Z",
     "start_time": "2022-10-04T13:54:10.956477Z"
    }
   },
   "outputs": [
    {
     "name": "stdout",
     "output_type": "stream",
     "text": [
      "[None, 0, 0, 0, 1, 2, 2, 2, 3, 4, 5, 6, 7, 8, 9, 10, 11, 12, 13, 14, 15, 16, 17, 17, 18, 18, 18, 19, 19, 19, 19, 19, 20, 21, 21, 22, 23, 23, 24, 25, 26, 27, None]\n"
     ]
    }
   ],
   "source": [
    "print(inputs.word_ids())"
   ]
  },
  {
   "cell_type": "code",
   "execution_count": 52,
   "id": "5d2109f5",
   "metadata": {
    "ExecuteTime": {
     "end_time": "2022-10-04T13:54:10.997434Z",
     "start_time": "2022-10-04T13:54:10.985282Z"
    }
   },
   "outputs": [],
   "source": [
    "def align_labels_with_tokens(labels, word_ids):\n",
    "    new_labels = []\n",
    "    current_word = None\n",
    "    for word_id in word_ids:\n",
    "        if word_id is None:\n",
    "            # Special token\n",
    "            current_word = word_id\n",
    "            new_labels.append(label2id[\"SEP/CLS\"]) #--> Add the same extra label for CLS/SEP\n",
    "        elif word_id != current_word:\n",
    "            # Start of a new word!\n",
    "            current_word = word_id\n",
    "            new_labels.append(labels[word_id])\n",
    "        else:\n",
    "            # Same word as previous token\n",
    "            label = labels[word_id]\n",
    "            # If the label is B-XXX we change it to I-XXX\n",
    "            if label % 2 == 1:\n",
    "                label += 1\n",
    "            new_labels.append(label)\n",
    "\n",
    "    return new_labels"
   ]
  },
  {
   "cell_type": "code",
   "execution_count": 53,
   "id": "425ee614",
   "metadata": {
    "ExecuteTime": {
     "end_time": "2022-10-04T13:54:11.011733Z",
     "start_time": "2022-10-04T13:54:11.002453Z"
    }
   },
   "outputs": [
    {
     "name": "stdout",
     "output_type": "stream",
     "text": [
      "[1, 0, 7, 0, 0, 0, 0, 5, 0, 5, 0, 0, 0, 0, 0, 0, 0, 7, 8, 8, 0, 7, 0, 0, 0, 0, 0, 0]\n",
      "[-100, 1, 2, 2, 0, 7, 8, 8, 0, 0, 0, 0, 5, 0, 5, 0, 0, 0, 0, 0, 0, 0, 7, 8, 8, 8, 8, 8, 8, 8, 8, 8, 0, 7, 8, 0, 0, 0, 0, 0, 0, 0, -100]\n"
     ]
    }
   ],
   "source": [
    "print(y)\n",
    "print(align_labels_with_tokens(y, inputs.word_ids()))"
   ]
  },
  {
   "cell_type": "code",
   "execution_count": 54,
   "id": "9c1ad05f",
   "metadata": {
    "ExecuteTime": {
     "end_time": "2022-10-04T13:54:11.029121Z",
     "start_time": "2022-10-04T13:54:11.018973Z"
    }
   },
   "outputs": [],
   "source": [
    "def tokenize_and_align_labels(examples):\n",
    "    tokenized_inputs = tokenizer(\n",
    "        examples[\"tokens\"], truncation=True, is_split_into_words=True\n",
    "    )\n",
    "    all_labels = examples[\"ner_tags\"]\n",
    "    new_labels = []\n",
    "    for i, labels in enumerate(all_labels):\n",
    "        word_ids = tokenized_inputs.word_ids(i)\n",
    "        new_labels.append(align_labels_with_tokens(labels, word_ids))\n",
    "    tokenized_inputs[\"labels\"] = new_labels\n",
    "    return tokenized_inputs"
   ]
  },
  {
   "cell_type": "markdown",
   "id": "a68e6050",
   "metadata": {},
   "source": [
    "Note that we haven’t padded our inputs yet; we’ll do that later, when creating the batches with a data collator."
   ]
  },
  {
   "cell_type": "code",
   "execution_count": 55,
   "id": "84e596c9",
   "metadata": {
    "ExecuteTime": {
     "end_time": "2022-10-04T13:54:11.142398Z",
     "start_time": "2022-10-04T13:54:11.035462Z"
    }
   },
   "outputs": [
    {
     "data": {
      "application/json": {
       "ascii": false,
       "bar_format": null,
       "colour": null,
       "elapsed": 0.010266780853271484,
       "initial": 0,
       "n": 0,
       "ncols": null,
       "nrows": 24,
       "postfix": null,
       "prefix": "",
       "rate": null,
       "total": 1,
       "unit": "ba",
       "unit_divisor": 1000,
       "unit_scale": false
      },
      "application/vnd.jupyter.widget-view+json": {
       "model_id": "c6d954f25f574d5e81c3d9cd465ae479",
       "version_major": 2,
       "version_minor": 0
      },
      "text/plain": [
       "  0%|          | 0/1 [00:00<?, ?ba/s]"
      ]
     },
     "metadata": {},
     "output_type": "display_data"
    }
   ],
   "source": [
    "tokenized_train_datasets = small_train_dataset.map(\n",
    "    tokenize_and_align_labels,\n",
    "    batched=True,\n",
    "    remove_columns=small_train_dataset.column_names,\n",
    ")"
   ]
  },
  {
   "cell_type": "markdown",
   "id": "a14ebfb7",
   "metadata": {},
   "source": [
    "<font color=\"blue\">\n",
    "    <big>Fine-tuning your own model</big>\n",
    "<font color=\"red\">\n",
    "<br>\n",
    "    \n",
    "The main difficulty is to put the data set expected by the model. Here is a proposal from the tutorial available on the website \"huggingface.co\".\n",
    "</font>\n",
    "    \n",
    "* [Access to the tutorial](https://huggingface.co/course/chapter7/2?fw=tf)\n",
    "    \n",
    "If your work with your own dataset use the [load_dataset](https://huggingface.co/docs/datasets/loading) function provided by huggingface"
   ]
  },
  {
   "cell_type": "markdown",
   "id": "1a1434df",
   "metadata": {},
   "source": [
    "**Prepare the dataset**"
   ]
  },
  {
   "cell_type": "code",
   "execution_count": 57,
   "id": "3789b695",
   "metadata": {
    "ExecuteTime": {
     "end_time": "2022-10-04T13:54:11.171933Z",
     "start_time": "2022-10-04T13:54:11.149866Z"
    }
   },
   "outputs": [],
   "source": [
    "from transformers import DataCollatorForTokenClassification\n",
    "\n",
    "data_collator = DataCollatorForTokenClassification(\n",
    "    tokenizer=tokenizer,\n",
    "    return_tensors=\"tf\"\n",
    ")"
   ]
  },
  {
   "cell_type": "code",
   "execution_count": 58,
   "id": "594b781c",
   "metadata": {},
   "outputs": [
    {
     "name": "stderr",
     "output_type": "stream",
     "text": [
      "You're using a DistilBertTokenizerFast tokenizer. Please note that with a fast tokenizer, using the `__call__` method is faster than using a method to encode the text followed by a call to the `pad` method to get a padded encoding.\n"
     ]
    },
    {
     "data": {
      "text/plain": [
       "<tf.Tensor: shape=(2, 38), dtype=int64, numpy=\n",
       "array([[-100,    0,    0,    0,    7,    8,    0,    7,    0,    0,    0,\n",
       "           0,    0,    0,    0,    0,    7,    0,    0,    0,    0,    0,\n",
       "           0,    0,    0,    0,    0,    0,    0,    0,    0,    0,    5,\n",
       "           0,    5,    0,    0, -100],\n",
       "       [-100,    5,    0,    0,    0,    0,    0, -100, -100, -100, -100,\n",
       "        -100, -100, -100, -100, -100, -100, -100, -100, -100, -100, -100,\n",
       "        -100, -100, -100, -100, -100, -100, -100, -100, -100, -100, -100,\n",
       "        -100, -100, -100, -100, -100]])>"
      ]
     },
     "execution_count": 58,
     "metadata": {},
     "output_type": "execute_result"
    }
   ],
   "source": [
    "batch = data_collator([tokenized_train_datasets[i] for i in range(2)])\n",
    "batch[\"labels\"]"
   ]
  },
  {
   "cell_type": "code",
   "execution_count": 59,
   "id": "c3b778d4",
   "metadata": {},
   "outputs": [
    {
     "name": "stdout",
     "output_type": "stream",
     "text": [
      "[-100, 0, 0, 0, 7, 8, 0, 7, 0, 0, 0, 0, 0, 0, 0, 0, 7, 0, 0, 0, 0, 0, 0, 0, 0, 0, 0, 0, 0, 0, 0, 0, 5, 0, 5, 0, 0, -100]\n",
      "[-100, 5, 0, 0, 0, 0, 0, -100]\n"
     ]
    }
   ],
   "source": [
    "for i in range(2):\n",
    "    print(tokenized_train_datasets[i][\"labels\"])"
   ]
  },
  {
   "cell_type": "code",
   "execution_count": 60,
   "id": "bbe60ead",
   "metadata": {
    "ExecuteTime": {
     "end_time": "2022-10-04T13:54:12.110235Z",
     "start_time": "2022-10-04T13:54:11.177188Z"
    }
   },
   "outputs": [],
   "source": [
    "tf_train_dataset = tokenized_train_datasets.to_tf_dataset(\n",
    "    columns=[\"attention_mask\", \"input_ids\", \"labels\"], #, \"token_type_ids\"],\n",
    "    collate_fn=data_collator,\n",
    "    shuffle=True,\n",
    "    batch_size=1,\n",
    ")"
   ]
  },
  {
   "cell_type": "markdown",
   "id": "9ef5658c",
   "metadata": {},
   "source": [
    "**Build and fit the model**"
   ]
  },
  {
   "cell_type": "code",
   "execution_count": 61,
   "id": "c9d69f71",
   "metadata": {
    "ExecuteTime": {
     "end_time": "2022-10-04T13:54:14.931245Z",
     "start_time": "2022-10-04T13:54:12.113433Z"
    }
   },
   "outputs": [
    {
     "name": "stderr",
     "output_type": "stream",
     "text": [
      "Some layers from the model checkpoint at distilbert-base-uncased were not used when initializing TFDistilBertForTokenClassification: ['vocab_projector', 'vocab_transform', 'vocab_layer_norm', 'activation_13']\n",
      "- This IS expected if you are initializing TFDistilBertForTokenClassification from the checkpoint of a model trained on another task or with another architecture (e.g. initializing a BertForSequenceClassification model from a BertForPreTraining model).\n",
      "- This IS NOT expected if you are initializing TFDistilBertForTokenClassification from the checkpoint of a model that you expect to be exactly identical (initializing a BertForSequenceClassification model from a BertForSequenceClassification model).\n",
      "Some layers of TFDistilBertForTokenClassification were not initialized from the model checkpoint at distilbert-base-uncased and are newly initialized: ['classifier', 'dropout_270']\n",
      "You should probably TRAIN this model on a down-stream task to be able to use it for predictions and inference.\n"
     ]
    },
    {
     "data": {
      "text/plain": [
       "10"
      ]
     },
     "execution_count": 61,
     "metadata": {},
     "output_type": "execute_result"
    }
   ],
   "source": [
    "from transformers import AutoTokenizer, TFAutoModelForTokenClassification\n",
    "\n",
    "model_name = \"distilbert-base-uncased\"\n",
    "tokenizer = AutoTokenizer.from_pretrained(model_name)\n",
    "model = TFAutoModelForTokenClassification.from_pretrained(\"distilbert-base-uncased\",\n",
    "                                                          id2label=id2label,\n",
    "                                                          label2id=label2id,\n",
    ")\n",
    "model.config.num_labels"
   ]
  },
  {
   "cell_type": "markdown",
   "id": "1f2b54e1",
   "metadata": {},
   "source": [
    "There is no need to provide a loss function to the compile() function. This is because templates can calculate the loss internally that is appropriate for the task and template type you have chosen."
   ]
  },
  {
   "cell_type": "code",
   "execution_count": 62,
   "id": "b52fac2b",
   "metadata": {
    "ExecuteTime": {
     "end_time": "2022-10-04T13:54:35.862086Z",
     "start_time": "2022-10-04T13:54:14.935701Z"
    }
   },
   "outputs": [
    {
     "name": "stderr",
     "output_type": "stream",
     "text": [
      "No loss specified in compile() - the model's internal loss computation will be used as the loss. Don't panic - this is a common way to train TensorFlow models in Transformers! To disable this behaviour please pass a loss argument, or explicitly pass `loss=None` if you do not want your model to compute a loss.\n"
     ]
    },
    {
     "name": "stdout",
     "output_type": "stream",
     "text": [
      "Epoch 1/2\n"
     ]
    },
    {
     "name": "stderr",
     "output_type": "stream",
     "text": [
      "2022-10-20 10:44:38.915512: I tensorflow/core/grappler/optimizers/custom_graph_optimizer_registry.cc:113] Plugin optimizer for device_type GPU is enabled.\n"
     ]
    },
    {
     "name": "stdout",
     "output_type": "stream",
     "text": [
      "500/500 [==============================] - 1000s 2s/step - loss: 0.5039\n",
      "Epoch 2/2\n",
      "500/500 [==============================] - 979s 2s/step - loss: 0.1552\n"
     ]
    },
    {
     "data": {
      "text/plain": [
       "<keras.callbacks.History at 0x3f263ec40>"
      ]
     },
     "execution_count": 62,
     "metadata": {},
     "output_type": "execute_result"
    }
   ],
   "source": [
    "from transformers import create_optimizer\n",
    "\n",
    "epochs = 2\n",
    "\n",
    "optimizer, schedule = create_optimizer(\n",
    "    init_lr=2e-5,\n",
    "    num_warmup_steps=0,\n",
    "    num_train_steps=len(tf_train_dataset) * epochs,\n",
    "    weight_decay_rate=0.01,\n",
    ")\n",
    "\n",
    "model.compile(optimizer=optimizer)\n",
    "model.fit(tf_train_dataset, epochs=epochs, verbose=1)"
   ]
  },
  {
   "cell_type": "markdown",
   "id": "f9331235",
   "metadata": {
    "ExecuteTime": {
     "end_time": "2022-10-04T12:34:45.522625Z",
     "start_time": "2022-10-04T12:34:45.510873Z"
    }
   },
   "source": [
    "**Evaluate the model**"
   ]
  },
  {
   "cell_type": "code",
   "execution_count": 64,
   "id": "aad6a07b",
   "metadata": {},
   "outputs": [],
   "source": [
    "#!pip install seqeval`"
   ]
  },
  {
   "cell_type": "code",
   "execution_count": 65,
   "id": "ee2b0fc2",
   "metadata": {
    "ExecuteTime": {
     "end_time": "2022-10-04T13:54:40.717465Z",
     "start_time": "2022-10-04T13:54:35.866700Z"
    }
   },
   "outputs": [],
   "source": [
    "from seqeval.metrics import classification_report"
   ]
  },
  {
   "cell_type": "code",
   "execution_count": 66,
   "id": "6ddcce84",
   "metadata": {
    "ExecuteTime": {
     "end_time": "2022-10-04T13:54:41.145102Z",
     "start_time": "2022-10-04T13:54:40.721922Z"
    }
   },
   "outputs": [
    {
     "name": "stderr",
     "output_type": "stream",
     "text": [
      "Loading cached shuffled indices for dataset at /Users/miriveill/.cache/huggingface/datasets/conll2003/conll2003/1.0.0/9a4d16a94f8674ba3466315300359b0acd891b68b6c8743ddf60b9c702adce98/cache-2fe5320fac60946d.arrow\n",
      "Loading cached processed dataset at /Users/miriveill/.cache/huggingface/datasets/conll2003/conll2003/1.0.0/9a4d16a94f8674ba3466315300359b0acd891b68b6c8743ddf60b9c702adce98/cache-33f743642a974d65.arrow\n"
     ]
    }
   ],
   "source": [
    "# Preprocess the test dataset\n",
    "small_test_dataset = raw_datasets[\"train\"].shuffle(seed=42).select(range(5))\n",
    "tokenized_test_datasets = small_test_dataset.map(\n",
    "    tokenize_and_align_labels,\n",
    "    batched=True,\n",
    "    remove_columns=small_test_dataset.column_names,\n",
    ")\n",
    "tf_test_dataset = tokenized_test_datasets.to_tf_dataset(\n",
    "    columns=[\"attention_mask\", \"input_ids\", \"labels\"], #\"token_type_ids\"],\n",
    "    collate_fn=data_collator,\n",
    "    shuffle=False,\n",
    "    batch_size=1,\n",
    ")"
   ]
  },
  {
   "cell_type": "code",
   "execution_count": 67,
   "id": "2ff49f75",
   "metadata": {
    "ExecuteTime": {
     "end_time": "2022-10-04T13:54:47.305138Z",
     "start_time": "2022-10-04T13:54:41.153644Z"
    }
   },
   "outputs": [
    {
     "name": "stderr",
     "output_type": "stream",
     "text": [
      "2022-10-20 11:21:52.342136: I tensorflow/core/grappler/optimizers/custom_graph_optimizer_registry.cc:113] Plugin optimizer for device_type GPU is enabled.\n"
     ]
    },
    {
     "name": "stdout",
     "output_type": "stream",
     "text": [
      "1/1 [==============================] - 6s 6s/step\n",
      "[0 0 0 0 7 4 0 7 0 0 0 0 0 0 0 0 7 0 0 0 0 0 0 0 0 0 0 0 0 0 0 0 5 0 5 0 0\n",
      " 6]\n"
     ]
    },
    {
     "name": "stderr",
     "output_type": "stream",
     "text": [
      "2022-10-20 11:21:57.727262: I tensorflow/core/grappler/optimizers/custom_graph_optimizer_registry.cc:113] Plugin optimizer for device_type GPU is enabled.\n"
     ]
    },
    {
     "name": "stdout",
     "output_type": "stream",
     "text": [
      "1/1 [==============================] - 5s 5s/step\n",
      "[0 5 0 0 0 0 0 6]\n",
      "1/1 [==============================] - 3s 3s/step\n",
      "[0 3 4 4 0 0 0 0 0 0 0 6]\n",
      "1/1 [==============================] - 3s 3s/step\n",
      "[0 0 0 0 0 0 0 0 7 0 0 0 5 0 0 0 0 0 0 0 0 0 0 0 0 0 0 0 0 0 0 0 6]\n",
      "1/1 [==============================] - 1s 547ms/step\n",
      "[0 5 0 0 0 0 0 6]\n"
     ]
    }
   ],
   "source": [
    "import numpy as np\n",
    "\n",
    "all_pred = []\n",
    "all_true = []\n",
    "for batch in tf_test_dataset:\n",
    "    logits = model.predict(batch)[\"logits\"]\n",
    "    labels = batch[\"labels\"]\n",
    "    predictions = np.argmax(logits, axis=-1)\n",
    "    for prediction, label in zip(predictions, labels):\n",
    "        print(prediction)\n",
    "        p_ = []\n",
    "        t_ = []\n",
    "        for predicted_idx, label_idx in zip(prediction, label):\n",
    "            if label_idx == label2id[\"SEP/CLS\"]:\n",
    "                continue\n",
    "            p_.append(label_names[predicted_idx])\n",
    "            t_.append(label_names[label_idx])\n",
    "        all_pred.append(p_)\n",
    "        all_true.append(t_)"
   ]
  },
  {
   "cell_type": "code",
   "execution_count": 68,
   "id": "a570e670",
   "metadata": {
    "ExecuteTime": {
     "end_time": "2022-10-04T13:54:47.339176Z",
     "start_time": "2022-10-04T13:54:47.308499Z"
    }
   },
   "outputs": [
    {
     "name": "stdout",
     "output_type": "stream",
     "text": [
      "              precision    recall  f1-score   support\n",
      "\n",
      "         LOC       1.00      1.00      1.00         5\n",
      "        MISC       0.75      0.75      0.75         4\n",
      "         ORG       1.00      0.50      0.67         2\n",
      "\n",
      "   micro avg       0.90      0.82      0.86        11\n",
      "   macro avg       0.92      0.75      0.81        11\n",
      "weighted avg       0.91      0.82      0.85        11\n",
      "\n"
     ]
    }
   ],
   "source": [
    "print(classification_report(all_pred, all_true))"
   ]
  },
  {
   "cell_type": "markdown",
   "id": "7752325b",
   "metadata": {},
   "source": [
    "<hr>\n",
    "<hr>\n",
    "\n",
    "### Translation task : N inputs tokens, M output labels\n",
    "\n",
    "Similar task:\n",
    "* Translation: Creating a model that translates texts written in a certain style to another (e.g., formal to casual or Shakespearean English to modern English), or translate sentences from one language to another one ;\n",
    "* Q&A : Creating a model that generates answers to questions, given a context ;\n",
    "* Text summarization: understanding long passages and generating coherent text that captures the main topics in a document."
   ]
  },
  {
   "cell_type": "markdown",
   "id": "3a09eab9",
   "metadata": {},
   "source": [
    "<font color=\"blue\">\n",
    "    <big><em>With a pre-trained pipeline</em></big>\n",
    "</font>"
   ]
  },
  {
   "cell_type": "code",
   "execution_count": 70,
   "id": "20c47fb5",
   "metadata": {},
   "outputs": [
    {
     "data": {
      "application/json": {
       "ascii": false,
       "bar_format": null,
       "colour": null,
       "elapsed": 0.03082275390625,
       "initial": 0,
       "n": 0,
       "ncols": null,
       "nrows": 24,
       "postfix": null,
       "prefix": "Downloading",
       "rate": null,
       "total": 1416,
       "unit": "B",
       "unit_divisor": 1000,
       "unit_scale": true
      },
      "application/vnd.jupyter.widget-view+json": {
       "model_id": "7b9e84a445824396bfde777eb227f1d1",
       "version_major": 2,
       "version_minor": 0
      },
      "text/plain": [
       "Downloading:   0%|          | 0.00/1.42k [00:00<?, ?B/s]"
      ]
     },
     "metadata": {},
     "output_type": "display_data"
    },
    {
     "data": {
      "application/json": {
       "ascii": false,
       "bar_format": null,
       "colour": null,
       "elapsed": 0.0346219539642334,
       "initial": 0,
       "n": 0,
       "ncols": null,
       "nrows": 24,
       "postfix": null,
       "prefix": "Downloading",
       "rate": null,
       "total": 301299328,
       "unit": "B",
       "unit_divisor": 1000,
       "unit_scale": true
      },
      "application/vnd.jupyter.widget-view+json": {
       "model_id": "d9a38466eea7405d9e9a0ce6c69feaf9",
       "version_major": 2,
       "version_minor": 0
      },
      "text/plain": [
       "Downloading:   0%|          | 0.00/301M [00:00<?, ?B/s]"
      ]
     },
     "metadata": {},
     "output_type": "display_data"
    },
    {
     "name": "stderr",
     "output_type": "stream",
     "text": [
      "All model checkpoint layers were used when initializing TFMarianMTModel.\n",
      "\n",
      "All the layers of TFMarianMTModel were initialized from the model checkpoint at Helsinki-NLP/opus-mt-fr-en.\n",
      "If your task is similar to the task the model of the checkpoint was trained on, you can already use TFMarianMTModel for predictions without further training.\n"
     ]
    },
    {
     "data": {
      "application/json": {
       "ascii": false,
       "bar_format": null,
       "colour": null,
       "elapsed": 0.013400077819824219,
       "initial": 0,
       "n": 0,
       "ncols": null,
       "nrows": 24,
       "postfix": null,
       "prefix": "Downloading",
       "rate": null,
       "total": 42,
       "unit": "B",
       "unit_divisor": 1000,
       "unit_scale": true
      },
      "application/vnd.jupyter.widget-view+json": {
       "model_id": "6d96d265c32e44d9934508dcbed7df7f",
       "version_major": 2,
       "version_minor": 0
      },
      "text/plain": [
       "Downloading:   0%|          | 0.00/42.0 [00:00<?, ?B/s]"
      ]
     },
     "metadata": {},
     "output_type": "display_data"
    },
    {
     "data": {
      "application/json": {
       "ascii": false,
       "bar_format": null,
       "colour": null,
       "elapsed": 0.01618218421936035,
       "initial": 0,
       "n": 0,
       "ncols": null,
       "nrows": 24,
       "postfix": null,
       "prefix": "Downloading",
       "rate": null,
       "total": 802397,
       "unit": "B",
       "unit_divisor": 1000,
       "unit_scale": true
      },
      "application/vnd.jupyter.widget-view+json": {
       "model_id": "43b1e7e350a34ec7a7fda36774443407",
       "version_major": 2,
       "version_minor": 0
      },
      "text/plain": [
       "Downloading:   0%|          | 0.00/802k [00:00<?, ?B/s]"
      ]
     },
     "metadata": {},
     "output_type": "display_data"
    },
    {
     "data": {
      "application/json": {
       "ascii": false,
       "bar_format": null,
       "colour": null,
       "elapsed": 0.011097192764282227,
       "initial": 0,
       "n": 0,
       "ncols": null,
       "nrows": 24,
       "postfix": null,
       "prefix": "Downloading",
       "rate": null,
       "total": 778395,
       "unit": "B",
       "unit_divisor": 1000,
       "unit_scale": true
      },
      "application/vnd.jupyter.widget-view+json": {
       "model_id": "e6aa07631bbf4fb0b9a59e673c4f9e7a",
       "version_major": 2,
       "version_minor": 0
      },
      "text/plain": [
       "Downloading:   0%|          | 0.00/778k [00:00<?, ?B/s]"
      ]
     },
     "metadata": {},
     "output_type": "display_data"
    },
    {
     "data": {
      "application/json": {
       "ascii": false,
       "bar_format": null,
       "colour": null,
       "elapsed": 0.028872966766357422,
       "initial": 0,
       "n": 0,
       "ncols": null,
       "nrows": 24,
       "postfix": null,
       "prefix": "Downloading",
       "rate": null,
       "total": 1339166,
       "unit": "B",
       "unit_divisor": 1000,
       "unit_scale": true
      },
      "application/vnd.jupyter.widget-view+json": {
       "model_id": "2aca886f38f6415792991beaa60f07df",
       "version_major": 2,
       "version_minor": 0
      },
      "text/plain": [
       "Downloading:   0%|          | 0.00/1.34M [00:00<?, ?B/s]"
      ]
     },
     "metadata": {},
     "output_type": "display_data"
    },
    {
     "data": {
      "text/plain": [
       "[{'translation_text': 'This course is produced by Hugging Face.'}]"
      ]
     },
     "execution_count": 70,
     "metadata": {},
     "output_type": "execute_result"
    }
   ],
   "source": [
    "from transformers import pipeline\n",
    "\n",
    "translator = pipeline(\"translation\", model=\"Helsinki-NLP/opus-mt-fr-en\")\n",
    "translator(\"Ce cours est produit par Hugging Face.\")"
   ]
  },
  {
   "cell_type": "markdown",
   "id": "b0463c18",
   "metadata": {},
   "source": [
    "<font color=\"blue\">\n",
    "    <big><em>Try to understand a little bit more</em></big>\n",
    "</font>"
   ]
  },
  {
   "cell_type": "code",
   "execution_count": 71,
   "id": "bf10c18f",
   "metadata": {
    "ExecuteTime": {
     "end_time": "2022-10-04T14:28:41.610589Z",
     "start_time": "2022-10-04T14:28:34.919996Z"
    }
   },
   "outputs": [
    {
     "name": "stderr",
     "output_type": "stream",
     "text": [
      "Using custom data configuration en-fr-lang1=en,lang2=fr\n",
      "Found cached dataset kde4 (/Users/miriveill/.cache/huggingface/datasets/kde4/en-fr-lang1=en,lang2=fr/0.0.0/243129fb2398d5b0b4f7f6831ab27ad84774b7ce374cf10f60f6e1ff331648ac)\n"
     ]
    },
    {
     "data": {
      "application/json": {
       "ascii": false,
       "bar_format": null,
       "colour": null,
       "elapsed": 0.013155698776245117,
       "initial": 0,
       "n": 0,
       "ncols": null,
       "nrows": 24,
       "postfix": null,
       "prefix": "",
       "rate": null,
       "total": 1,
       "unit": "it",
       "unit_divisor": 1000,
       "unit_scale": false
      },
      "application/vnd.jupyter.widget-view+json": {
       "model_id": "215eb07571ae4c9c94c118af6e0447eb",
       "version_major": 2,
       "version_minor": 0
      },
      "text/plain": [
       "  0%|          | 0/1 [00:00<?, ?it/s]"
      ]
     },
     "metadata": {},
     "output_type": "display_data"
    }
   ],
   "source": [
    "from datasets import load_dataset\n",
    "\n",
    "raw_datasets = load_dataset(\"kde4\", lang1=\"en\", lang2=\"fr\")"
   ]
  },
  {
   "cell_type": "code",
   "execution_count": 72,
   "id": "28c0a507",
   "metadata": {
    "ExecuteTime": {
     "end_time": "2022-10-04T14:28:41.666332Z",
     "start_time": "2022-10-04T14:28:41.617549Z"
    }
   },
   "outputs": [
    {
     "name": "stderr",
     "output_type": "stream",
     "text": [
      "Loading cached split indices for dataset at /Users/miriveill/.cache/huggingface/datasets/kde4/en-fr-lang1=en,lang2=fr/0.0.0/243129fb2398d5b0b4f7f6831ab27ad84774b7ce374cf10f60f6e1ff331648ac/cache-e77c3a039db6a83f.arrow and /Users/miriveill/.cache/huggingface/datasets/kde4/en-fr-lang1=en,lang2=fr/0.0.0/243129fb2398d5b0b4f7f6831ab27ad84774b7ce374cf10f60f6e1ff331648ac/cache-c55a7419ebb6ab45.arrow\n"
     ]
    },
    {
     "data": {
      "text/plain": [
       "DatasetDict({\n",
       "    train: Dataset({\n",
       "        features: ['id', 'translation'],\n",
       "        num_rows: 16\n",
       "    })\n",
       "    test: Dataset({\n",
       "        features: ['id', 'translation'],\n",
       "        num_rows: 2\n",
       "    })\n",
       "})"
      ]
     },
     "execution_count": 72,
     "metadata": {},
     "output_type": "execute_result"
    }
   ],
   "source": [
    "# Select only some sentences\n",
    "nb = 18\n",
    "\n",
    "split_datasets = raw_datasets[\"train\"].select(range(nb)).train_test_split(train_size=0.9, seed=20)\n",
    "split_datasets"
   ]
  },
  {
   "cell_type": "code",
   "execution_count": 73,
   "id": "d888ea97",
   "metadata": {
    "ExecuteTime": {
     "end_time": "2022-10-04T14:28:41.792768Z",
     "start_time": "2022-10-04T14:28:41.693480Z"
    }
   },
   "outputs": [
    {
     "data": {
      "text/plain": [
       "{'en': 'Not all languages are available from the Babelfish service.',\n",
       " 'fr': 'Toutes les langues ne sont pas disponibles à partir du service Babelfish.'}"
      ]
     },
     "execution_count": 73,
     "metadata": {},
     "output_type": "execute_result"
    }
   ],
   "source": [
    "# take a look at one element of the dataset:\n",
    "split_datasets[\"train\"][0][\"translation\"]"
   ]
  },
  {
   "cell_type": "code",
   "execution_count": 74,
   "id": "3ba0b296",
   "metadata": {
    "ExecuteTime": {
     "end_time": "2022-10-04T14:28:41.819810Z",
     "start_time": "2022-10-04T14:28:41.804332Z"
    }
   },
   "outputs": [],
   "source": [
    "#!pip install sentencepiece"
   ]
  },
  {
   "cell_type": "code",
   "execution_count": 75,
   "id": "60247e15",
   "metadata": {
    "ExecuteTime": {
     "end_time": "2022-10-04T14:29:17.612030Z",
     "start_time": "2022-10-04T14:29:16.954241Z"
    },
    "scrolled": true
   },
   "outputs": [
    {
     "data": {
      "application/json": {
       "ascii": false,
       "bar_format": null,
       "colour": null,
       "elapsed": 0.031625986099243164,
       "initial": 0,
       "n": 0,
       "ncols": null,
       "nrows": 24,
       "postfix": null,
       "prefix": "Downloading",
       "rate": null,
       "total": 42,
       "unit": "B",
       "unit_divisor": 1000,
       "unit_scale": true
      },
      "application/vnd.jupyter.widget-view+json": {
       "model_id": "22a2365e80564a01ae18172648020fbc",
       "version_major": 2,
       "version_minor": 0
      },
      "text/plain": [
       "Downloading:   0%|          | 0.00/42.0 [00:00<?, ?B/s]"
      ]
     },
     "metadata": {},
     "output_type": "display_data"
    },
    {
     "data": {
      "application/json": {
       "ascii": false,
       "bar_format": null,
       "colour": null,
       "elapsed": 0.02691507339477539,
       "initial": 0,
       "n": 0,
       "ncols": null,
       "nrows": 24,
       "postfix": null,
       "prefix": "Downloading",
       "rate": null,
       "total": 1416,
       "unit": "B",
       "unit_divisor": 1000,
       "unit_scale": true
      },
      "application/vnd.jupyter.widget-view+json": {
       "model_id": "5f79fbb0404640dd80db1d7a2e2dfa50",
       "version_major": 2,
       "version_minor": 0
      },
      "text/plain": [
       "Downloading:   0%|          | 0.00/1.42k [00:00<?, ?B/s]"
      ]
     },
     "metadata": {},
     "output_type": "display_data"
    },
    {
     "data": {
      "application/json": {
       "ascii": false,
       "bar_format": null,
       "colour": null,
       "elapsed": 0.03181624412536621,
       "initial": 0,
       "n": 0,
       "ncols": null,
       "nrows": 24,
       "postfix": null,
       "prefix": "Downloading",
       "rate": null,
       "total": 778395,
       "unit": "B",
       "unit_divisor": 1000,
       "unit_scale": true
      },
      "application/vnd.jupyter.widget-view+json": {
       "model_id": "5cf43bebe9614dbfab4e7ad10b5ef031",
       "version_major": 2,
       "version_minor": 0
      },
      "text/plain": [
       "Downloading:   0%|          | 0.00/778k [00:00<?, ?B/s]"
      ]
     },
     "metadata": {},
     "output_type": "display_data"
    },
    {
     "data": {
      "application/json": {
       "ascii": false,
       "bar_format": null,
       "colour": null,
       "elapsed": 0.03371286392211914,
       "initial": 0,
       "n": 0,
       "ncols": null,
       "nrows": 24,
       "postfix": null,
       "prefix": "Downloading",
       "rate": null,
       "total": 802397,
       "unit": "B",
       "unit_divisor": 1000,
       "unit_scale": true
      },
      "application/vnd.jupyter.widget-view+json": {
       "model_id": "84f85bd7430d49e8a538d8334dd945bb",
       "version_major": 2,
       "version_minor": 0
      },
      "text/plain": [
       "Downloading:   0%|          | 0.00/802k [00:00<?, ?B/s]"
      ]
     },
     "metadata": {},
     "output_type": "display_data"
    },
    {
     "data": {
      "application/json": {
       "ascii": false,
       "bar_format": null,
       "colour": null,
       "elapsed": 0.027463912963867188,
       "initial": 0,
       "n": 0,
       "ncols": null,
       "nrows": 24,
       "postfix": null,
       "prefix": "Downloading",
       "rate": null,
       "total": 1339166,
       "unit": "B",
       "unit_divisor": 1000,
       "unit_scale": true
      },
      "application/vnd.jupyter.widget-view+json": {
       "model_id": "87a251438c4e482198107d4d159b2b31",
       "version_major": 2,
       "version_minor": 0
      },
      "text/plain": [
       "Downloading:   0%|          | 0.00/1.34M [00:00<?, ?B/s]"
      ]
     },
     "metadata": {},
     "output_type": "display_data"
    }
   ],
   "source": [
    "from transformers import AutoTokenizer\n",
    "\n",
    "model_checkpoint = \"Helsinki-NLP/opus-mt-en-fr\"\n",
    "# The Helsinki-NLP/opus-mt-en-fr checkpoint only has PyTorch weights -- return_tensors=\"pt\"\n",
    "tokenizer = AutoTokenizer.from_pretrained(model_checkpoint, return_tensors=\"pt\")\n"
   ]
  },
  {
   "cell_type": "markdown",
   "id": "2c49d5f2",
   "metadata": {},
   "source": [
    "If you are using a multilingual tokenizer such as mBART, mBART-50, or M2M100, you will need to set the language codes of your inputs and targets in the tokenizer by setting tokenizer.src_lang and tokenizer.tgt_lang to the right values."
   ]
  },
  {
   "cell_type": "markdown",
   "id": "db602011",
   "metadata": {},
   "source": [
    "The preparation of our data is pretty straightforward. There’s just one thing to remember; you need to ensure that the tokenizer processes the targets in the output language (here, French). You can do this by passing the targets to the `text_targets` argument of the tokenizer’s `__call__` method."
   ]
  },
  {
   "cell_type": "code",
   "execution_count": 76,
   "id": "41230185",
   "metadata": {
    "ExecuteTime": {
     "end_time": "2022-10-04T14:29:18.493290Z",
     "start_time": "2022-10-04T14:29:18.483250Z"
    }
   },
   "outputs": [
    {
     "data": {
      "text/plain": [
       "{'input_ids': [2033, 98, 3467, 52, 494, 64, 4, 188, 25028, 14473, 272, 3, 0], 'attention_mask': [1, 1, 1, 1, 1, 1, 1, 1, 1, 1, 1, 1, 1], 'labels': [3743, 16, 2594, 76, 70, 53, 1559, 17, 929, 22, 272, 188, 25028, 483, 3089, 3, 0]}"
      ]
     },
     "execution_count": 76,
     "metadata": {},
     "output_type": "execute_result"
    }
   ],
   "source": [
    "en_sentence = split_datasets[\"train\"][0][\"translation\"][\"en\"]\n",
    "fr_sentence = split_datasets[\"train\"][0][\"translation\"][\"fr\"]\n",
    "\n",
    "inputs = tokenizer(en_sentence, text_target=fr_sentence)\n",
    "inputs # Input_ids: token in a source language / labels: tokens in a target language"
   ]
  },
  {
   "cell_type": "code",
   "execution_count": 77,
   "id": "136ae3c1",
   "metadata": {
    "ExecuteTime": {
     "end_time": "2022-10-04T14:29:18.910527Z",
     "start_time": "2022-10-04T14:29:18.900746Z"
    }
   },
   "outputs": [
    {
     "name": "stdout",
     "output_type": "stream",
     "text": [
      "['▁Not', '▁all', '▁languages', '▁are', '▁available', '▁from', '▁the', '▁B', 'abel', 'fish', '▁service', '.', '</s>']\n"
     ]
    }
   ],
   "source": [
    "# token to text for input language\n",
    "print(tokenizer.convert_ids_to_tokens(inputs[\"input_ids\"]))"
   ]
  },
  {
   "cell_type": "code",
   "execution_count": 78,
   "id": "855fdde4",
   "metadata": {
    "ExecuteTime": {
     "end_time": "2022-10-04T14:29:19.313838Z",
     "start_time": "2022-10-04T14:29:19.308201Z"
    }
   },
   "outputs": [
    {
     "name": "stdout",
     "output_type": "stream",
     "text": [
      "['▁Toutes', '▁les', '▁langues', '▁ne', '▁sont', '▁pas', '▁disponibles', '▁à', '▁partir', '▁du', '▁service', '▁B', 'abel', 'f', 'ish', '.', '</s>']\n"
     ]
    }
   ],
   "source": [
    "# token to text for output language (labels)\n",
    "print(tokenizer.convert_ids_to_tokens(inputs[\"labels\"]))"
   ]
  },
  {
   "cell_type": "code",
   "execution_count": 79,
   "id": "ac185a21",
   "metadata": {
    "ExecuteTime": {
     "end_time": "2022-10-04T14:29:19.661735Z",
     "start_time": "2022-10-04T14:29:19.650436Z"
    }
   },
   "outputs": [
    {
     "name": "stdout",
     "output_type": "stream",
     "text": [
      "['▁To', 'ute', 's', '▁les', '▁langue', 's', '▁ne', '▁son', 't', '▁pa', 's', '▁dis', 'pon', 'ible', 's', '▁à', '▁part', 'ir', '▁du', '▁service', '▁B', 'abel', 'fish', '.', '</s>']\n"
     ]
    }
   ],
   "source": [
    "# If we use the wrong tokenizer, here English for French text.\n",
    "wrong_targets = tokenizer(fr_sentence) # \n",
    "print(tokenizer.convert_ids_to_tokens(wrong_targets[\"input_ids\"]))"
   ]
  },
  {
   "cell_type": "markdown",
   "id": "1b7ff812",
   "metadata": {},
   "source": [
    "As we can see, using the English tokenizer to preprocess a French sentence results in a lot more tokens, since the tokenizer doesn’t know any French words (except those that also appear in the English language, like “discussion”)."
   ]
  },
  {
   "cell_type": "code",
   "execution_count": 80,
   "id": "af47a015",
   "metadata": {
    "ExecuteTime": {
     "end_time": "2022-10-04T14:29:20.368865Z",
     "start_time": "2022-10-04T14:29:20.362161Z"
    }
   },
   "outputs": [],
   "source": [
    "max_length = 128\n",
    "\n",
    "def preprocess_function(examples):\n",
    "    inputs = [ex[\"en\"] for ex in examples[\"translation\"]]\n",
    "    targets = [ex[\"fr\"] for ex in examples[\"translation\"]]\n",
    "    model_inputs = tokenizer(\n",
    "        inputs, text_target=targets, max_length=max_length, truncation=True\n",
    "    )\n",
    "    return model_inputs"
   ]
  },
  {
   "cell_type": "markdown",
   "id": "d1f9b708",
   "metadata": {
    "ExecuteTime": {
     "end_time": "2022-10-04T13:37:02.817485Z",
     "start_time": "2022-10-04T13:37:02.806100Z"
    }
   },
   "source": [
    "We can now apply that preprocessing in one go on all the splits of our dataset:"
   ]
  },
  {
   "cell_type": "code",
   "execution_count": 81,
   "id": "0bac1e60",
   "metadata": {
    "ExecuteTime": {
     "end_time": "2022-10-04T14:29:22.473152Z",
     "start_time": "2022-10-04T14:29:21.094451Z"
    }
   },
   "outputs": [
    {
     "name": "stderr",
     "output_type": "stream",
     "text": [
      "Loading cached processed dataset at /Users/miriveill/.cache/huggingface/datasets/kde4/en-fr-lang1=en,lang2=fr/0.0.0/243129fb2398d5b0b4f7f6831ab27ad84774b7ce374cf10f60f6e1ff331648ac/cache-5a35de402b8df58b.arrow\n",
      "Loading cached processed dataset at /Users/miriveill/.cache/huggingface/datasets/kde4/en-fr-lang1=en,lang2=fr/0.0.0/243129fb2398d5b0b4f7f6831ab27ad84774b7ce374cf10f60f6e1ff331648ac/cache-47079d5a28bbed26.arrow\n"
     ]
    }
   ],
   "source": [
    "tokenized_datasets = split_datasets.map(\n",
    "    preprocess_function,\n",
    "    batched=True,\n",
    "    remove_columns=split_datasets[\"train\"].column_names,\n",
    ")"
   ]
  },
  {
   "cell_type": "code",
   "execution_count": 82,
   "id": "7338215d",
   "metadata": {
    "ExecuteTime": {
     "end_time": "2022-10-04T14:29:22.500057Z",
     "start_time": "2022-10-04T14:29:22.482216Z"
    }
   },
   "outputs": [
    {
     "data": {
      "text/plain": [
       "'Helsinki-NLP/opus-mt-en-fr'"
      ]
     },
     "execution_count": 82,
     "metadata": {},
     "output_type": "execute_result"
    }
   ],
   "source": [
    "model_checkpoint"
   ]
  },
  {
   "cell_type": "code",
   "execution_count": 84,
   "id": "e32d1ccc",
   "metadata": {},
   "outputs": [],
   "source": [
    "#!pip install torch"
   ]
  },
  {
   "cell_type": "code",
   "execution_count": 85,
   "id": "37f4dc81",
   "metadata": {
    "ExecuteTime": {
     "end_time": "2022-10-04T14:29:42.609170Z",
     "start_time": "2022-10-04T14:29:22.507313Z"
    }
   },
   "outputs": [
    {
     "name": "stderr",
     "output_type": "stream",
     "text": [
      "All PyTorch model weights were used when initializing TFMarianMTModel.\n",
      "\n",
      "All the weights of TFMarianMTModel were initialized from the PyTorch model.\n",
      "If your task is similar to the task the model of the checkpoint was trained on, you can already use TFMarianMTModel for predictions without further training.\n"
     ]
    }
   ],
   "source": [
    "#!pip install torch\n",
    "from transformers import TFAutoModelForSeq2SeqLM\n",
    "\n",
    "# The Helsinki-NLP/opus-mt-en-fr checkpoint only has PyTorch weights -- return_tensors=\"pt\"\n",
    "model = TFAutoModelForSeq2SeqLM.from_pretrained(model_checkpoint, from_pt=True)"
   ]
  },
  {
   "cell_type": "markdown",
   "id": "98f0ce1f",
   "metadata": {},
   "source": [
    "We’ll need a data collator to deal with the padding for dynamic batching. We can’t just use a DataCollatorWithPadding like in the previous example (NER task), because that only pads the inputs (input IDs, attention mask, and token type IDs). Our labels should also be padded to the maximum length encountered in the labels. And, as mentioned previously, the padding value used to pad the labels should be -100 and not the padding token of the tokenizer, to make sure those padded values are ignored in the loss computation."
   ]
  },
  {
   "cell_type": "code",
   "execution_count": 86,
   "id": "1c155c61",
   "metadata": {
    "ExecuteTime": {
     "end_time": "2022-10-04T14:29:42.627156Z",
     "start_time": "2022-10-04T14:29:42.614664Z"
    }
   },
   "outputs": [],
   "source": [
    "from transformers import DataCollatorForSeq2Seq\n",
    "\n",
    "data_collator = DataCollatorForSeq2Seq(tokenizer,\n",
    "                                       model=model,\n",
    "                                       return_tensors=\"tf\")"
   ]
  },
  {
   "cell_type": "code",
   "execution_count": 87,
   "id": "50759f22",
   "metadata": {
    "ExecuteTime": {
     "end_time": "2022-10-04T14:29:44.019457Z",
     "start_time": "2022-10-04T14:29:42.645683Z"
    }
   },
   "outputs": [],
   "source": [
    "# use this data_collator to convert each of our datasets to a tf.data.Dataset\n",
    "tf_train_dataset = tokenized_datasets[\"train\"].to_tf_dataset(\n",
    "    columns=[\"input_ids\", \"attention_mask\", \"labels\"],\n",
    "    collate_fn=data_collator,\n",
    "    shuffle=True,\n",
    "    batch_size=32,\n",
    ")\n",
    "tf_test_dataset = tokenized_datasets[\"test\"].to_tf_dataset(\n",
    "    columns=[\"input_ids\", \"attention_mask\", \"labels\"],\n",
    "    collate_fn=data_collator,\n",
    "    shuffle=False,\n",
    "    batch_size=16,\n",
    ")"
   ]
  },
  {
   "cell_type": "markdown",
   "id": "7c40bbef",
   "metadata": {},
   "source": [
    "**Fine tune the model**"
   ]
  },
  {
   "cell_type": "code",
   "execution_count": 88,
   "id": "364ed00b",
   "metadata": {
    "ExecuteTime": {
     "end_time": "2022-10-04T14:18:17.436406Z",
     "start_time": "2022-10-04T14:18:17.427200Z"
    }
   },
   "outputs": [],
   "source": [
    "import os\n",
    "os.environ[\"TOKENIZERS_PARALLELISM\"] = \"false\""
   ]
  },
  {
   "cell_type": "code",
   "execution_count": 89,
   "id": "e2360871",
   "metadata": {
    "ExecuteTime": {
     "end_time": "2022-10-04T14:30:39.499200Z",
     "start_time": "2022-10-04T14:29:44.022453Z"
    }
   },
   "outputs": [
    {
     "name": "stderr",
     "output_type": "stream",
     "text": [
      "No loss specified in compile() - the model's internal loss computation will be used as the loss. Don't panic - this is a common way to train TensorFlow models in Transformers! To disable this behaviour please pass a loss argument, or explicitly pass `loss=None` if you do not want your model to compute a loss.\n"
     ]
    },
    {
     "name": "stdout",
     "output_type": "stream",
     "text": [
      "WARNING:tensorflow:Mixed precision compatibility check (mixed_float16): WARNING\n",
      "Your GPU may run slowly with dtype policy mixed_float16 because it does not have compute capability of at least 7.0. Your GPU:\n",
      "  METAL, no compute capability (probably not an Nvidia GPU)\n",
      "See https://developer.nvidia.com/cuda-gpus for a list of GPUs and their compute capabilities.\n",
      "If you will use compatible GPU(s) not attached to this host, e.g. by running a multi-worker model, you can ignore this warning. This message will only be logged once\n",
      "Epoch 1/3\n"
     ]
    },
    {
     "name": "stderr",
     "output_type": "stream",
     "text": [
      "2022-10-20 12:19:40.490142: I tensorflow/core/grappler/optimizers/custom_graph_optimizer_registry.cc:113] Plugin optimizer for device_type GPU is enabled.\n"
     ]
    },
    {
     "name": "stdout",
     "output_type": "stream",
     "text": [
      "1/1 [==============================] - 50s 50s/step - loss: 0.9289\n",
      "Epoch 2/3\n",
      "1/1 [==============================] - 3s 3s/step - loss: 0.6057\n",
      "Epoch 3/3\n",
      "1/1 [==============================] - 4s 4s/step - loss: 0.4805\n"
     ]
    },
    {
     "data": {
      "text/plain": [
       "<keras.callbacks.History at 0x2e4432a60>"
      ]
     },
     "execution_count": 89,
     "metadata": {},
     "output_type": "execute_result"
    }
   ],
   "source": [
    "from transformers import create_optimizer\n",
    "import tensorflow as tf\n",
    "\n",
    "# The number of training steps is the number of samples in the dataset, divided by the batch size then multiplied\n",
    "# by the total number of epochs. Note that the tf_train_dataset here is a batched tf.data.Dataset,\n",
    "# not the original Hugging Face Dataset, so its len() is already num_samples // batch_size.\n",
    "num_epochs = 3\n",
    "num_train_steps = len(tf_train_dataset) * num_epochs\n",
    "\n",
    "optimizer, schedule = create_optimizer(\n",
    "    init_lr=5e-5,\n",
    "    num_warmup_steps=0,\n",
    "    num_train_steps=num_train_steps,\n",
    "    weight_decay_rate=0.01,\n",
    ")\n",
    "model.compile(optimizer=optimizer)\n",
    "\n",
    "# Train in mixed-precision float16\n",
    "tf.keras.mixed_precision.set_global_policy(\"mixed_float16\")\n",
    "\n",
    "# Fit the model\n",
    "model.fit(\n",
    "    tf_train_dataset,\n",
    "    epochs=num_epochs,\n",
    ")"
   ]
  },
  {
   "cell_type": "markdown",
   "id": "14de6bff",
   "metadata": {},
   "source": [
    "**Using the fine-tuned model**"
   ]
  },
  {
   "cell_type": "code",
   "execution_count": 90,
   "id": "f6f1a92d",
   "metadata": {
    "ExecuteTime": {
     "end_time": "2022-10-04T16:00:22.649151Z",
     "start_time": "2022-10-04T16:00:22.131230Z"
    }
   },
   "outputs": [
    {
     "name": "stderr",
     "output_type": "stream",
     "text": [
      "2022-10-20 12:20:32.402664: I tensorflow/core/grappler/optimizers/custom_graph_optimizer_registry.cc:113] Plugin optimizer for device_type GPU is enabled.\n"
     ]
    },
    {
     "name": "stdout",
     "output_type": "stream",
     "text": [
      "1/1 [==============================] - 13s 13s/step\n"
     ]
    },
    {
     "data": {
      "text/plain": [
       "(2, 55)"
      ]
     },
     "execution_count": 90,
     "metadata": {},
     "output_type": "execute_result"
    }
   ],
   "source": [
    "y_pred = model.predict(tf_test_dataset)['logits']\n",
    "y_pred = np.argmax(y_pred, axis=-1)\n",
    "y_pred.shape"
   ]
  },
  {
   "cell_type": "code",
   "execution_count": 91,
   "id": "be3dbbea",
   "metadata": {
    "ExecuteTime": {
     "end_time": "2022-10-04T16:03:23.818793Z",
     "start_time": "2022-10-04T16:03:23.766190Z"
    }
   },
   "outputs": [],
   "source": [
    "y_true = np.zeros_like(y_pred_fine_tuned)\n",
    "for elt in tf_test_dataset.as_numpy_iterator():\n",
    "    y_true = elt['labels']\n",
    "mask = (y_true>0)"
   ]
  },
  {
   "cell_type": "code",
   "execution_count": 92,
   "id": "e1c0ebe1",
   "metadata": {
    "ExecuteTime": {
     "end_time": "2022-10-04T16:03:45.281855Z",
     "start_time": "2022-10-04T16:03:45.268038Z"
    }
   },
   "outputs": [
    {
     "name": "stdout",
     "output_type": "stream",
     "text": [
      "--------------------------------------------------\n",
      "▁&▁traducteurJeromeBlanc;\n",
      "▁R▁R_▁suis_</s>\n",
      "--------------------------------------------------\n",
      "▁Vous▁pouvez▁accéder▁au▁module▁externe▁Babelfish▁depuis▁la▁barre▁de▁menus▁de▁&▁konqueror;,▁dans▁Outils▁Traduire▁la▁page▁web.▁Choisissez▁dans▁la▁liste▁déroulante▁la▁langue▁du▁texte▁à▁traduire▁et▁la▁langue▁dans▁laquelle▁vous▁souhaitez▁la▁traduire.\n",
      "▁Le▁pouvez▁accéder▁au▁module▁externe▁Babelfish▁dans▁la▁barre▁de▁menus▁de▁&▁konqueror;▁sous▁sous▁la▁Transduire▁la▁page▁Web.▁Sélectionnez▁dans▁la▁liste▁quie▁la▁langue▁à▁texte▁et▁traduire▁et▁la▁langue▁à▁laquelle▁il▁devez▁traduire▁traduire.\n"
     ]
    }
   ],
   "source": [
    "\n",
    "for y_, t_, mask in zip(y_pred, y_true, mask):\n",
    "    print(\"-\"*50)\n",
    "    print(''.join(tokenizer.convert_ids_to_tokens(t_[mask])))\n",
    "    print(''.join(tokenizer.convert_ids_to_tokens(y_[mask])))"
   ]
  },
  {
   "cell_type": "markdown",
   "id": "e7acf5b8",
   "metadata": {},
   "source": [
    "## Text generation\n",
    "\n",
    "<font color=\"blue\">\n",
    "    <big><em>With a pre-trained pipeline</em></big>\n",
    "</font>"
   ]
  },
  {
   "cell_type": "code",
   "execution_count": 95,
   "id": "cb2304fb",
   "metadata": {},
   "outputs": [
    {
     "data": {
      "application/json": {
       "ascii": false,
       "bar_format": null,
       "colour": null,
       "elapsed": 0.02944779396057129,
       "initial": 0,
       "n": 0,
       "ncols": null,
       "nrows": 24,
       "postfix": null,
       "prefix": "Downloading",
       "rate": null,
       "total": 762,
       "unit": "B",
       "unit_divisor": 1000,
       "unit_scale": true
      },
      "application/vnd.jupyter.widget-view+json": {
       "model_id": "a86f55aa72384fdab4b3e2c78f9bd635",
       "version_major": 2,
       "version_minor": 0
      },
      "text/plain": [
       "Downloading:   0%|          | 0.00/762 [00:00<?, ?B/s]"
      ]
     },
     "metadata": {},
     "output_type": "display_data"
    },
    {
     "data": {
      "application/json": {
       "ascii": false,
       "bar_format": null,
       "colour": null,
       "elapsed": 0.030546903610229492,
       "initial": 0,
       "n": 0,
       "ncols": null,
       "nrows": 24,
       "postfix": null,
       "prefix": "Downloading",
       "rate": null,
       "total": 327744160,
       "unit": "B",
       "unit_divisor": 1000,
       "unit_scale": true
      },
      "application/vnd.jupyter.widget-view+json": {
       "model_id": "c2a14c518e8a4948bdeb9db1bf316364",
       "version_major": 2,
       "version_minor": 0
      },
      "text/plain": [
       "Downloading:   0%|          | 0.00/328M [00:00<?, ?B/s]"
      ]
     },
     "metadata": {},
     "output_type": "display_data"
    },
    {
     "name": "stderr",
     "output_type": "stream",
     "text": [
      "All model checkpoint layers were used when initializing TFGPT2LMHeadModel.\n",
      "\n",
      "All the layers of TFGPT2LMHeadModel were initialized from the model checkpoint at distilgpt2.\n",
      "If your task is similar to the task the model of the checkpoint was trained on, you can already use TFGPT2LMHeadModel for predictions without further training.\n"
     ]
    },
    {
     "data": {
      "application/json": {
       "ascii": false,
       "bar_format": null,
       "colour": null,
       "elapsed": 0.024944782257080078,
       "initial": 0,
       "n": 0,
       "ncols": null,
       "nrows": 24,
       "postfix": null,
       "prefix": "Downloading",
       "rate": null,
       "total": 1042301,
       "unit": "B",
       "unit_divisor": 1000,
       "unit_scale": true
      },
      "application/vnd.jupyter.widget-view+json": {
       "model_id": "83417777c17c42f092092f479e4eff75",
       "version_major": 2,
       "version_minor": 0
      },
      "text/plain": [
       "Downloading:   0%|          | 0.00/1.04M [00:00<?, ?B/s]"
      ]
     },
     "metadata": {},
     "output_type": "display_data"
    },
    {
     "data": {
      "application/json": {
       "ascii": false,
       "bar_format": null,
       "colour": null,
       "elapsed": 0.030173063278198242,
       "initial": 0,
       "n": 0,
       "ncols": null,
       "nrows": 24,
       "postfix": null,
       "prefix": "Downloading",
       "rate": null,
       "total": 456318,
       "unit": "B",
       "unit_divisor": 1000,
       "unit_scale": true
      },
      "application/vnd.jupyter.widget-view+json": {
       "model_id": "39a9c6dfb50b49ee87685472f3fecb0a",
       "version_major": 2,
       "version_minor": 0
      },
      "text/plain": [
       "Downloading:   0%|          | 0.00/456k [00:00<?, ?B/s]"
      ]
     },
     "metadata": {},
     "output_type": "display_data"
    },
    {
     "data": {
      "application/json": {
       "ascii": false,
       "bar_format": null,
       "colour": null,
       "elapsed": 0.027194976806640625,
       "initial": 0,
       "n": 0,
       "ncols": null,
       "nrows": 24,
       "postfix": null,
       "prefix": "Downloading",
       "rate": null,
       "total": 1355256,
       "unit": "B",
       "unit_divisor": 1000,
       "unit_scale": true
      },
      "application/vnd.jupyter.widget-view+json": {
       "model_id": "32a2535d19f34b58af5fcf2a13bed4fe",
       "version_major": 2,
       "version_minor": 0
      },
      "text/plain": [
       "Downloading:   0%|          | 0.00/1.36M [00:00<?, ?B/s]"
      ]
     },
     "metadata": {},
     "output_type": "display_data"
    },
    {
     "name": "stderr",
     "output_type": "stream",
     "text": [
      "Setting `pad_token_id` to 50256 (first `eos_token_id`) to generate sequence\n"
     ]
    },
    {
     "data": {
      "text/plain": [
       "[{'generated_text': 'Michel RIVEILL is a professor of psychology at Yale University. She writes about the psychology of the public.'},\n",
       " {'generated_text': 'Michel RIVEILL is a PhD student based on research on health and well-being at the University of California Riverside. He is an author,'}]"
      ]
     },
     "execution_count": 95,
     "metadata": {},
     "output_type": "execute_result"
    }
   ],
   "source": [
    "from transformers import pipeline\n",
    "\n",
    "generator = pipeline(\"text-generation\", model=\"distilgpt2\")\n",
    "generator(\n",
    "    \"Michel RIVEILL is\",\n",
    "    max_length=30,\n",
    "    num_return_sequences=2,\n",
    ")"
   ]
  },
  {
   "cell_type": "markdown",
   "id": "7d64d151",
   "metadata": {},
   "source": [
    "## Other task with transformer\n",
    "\n",
    "https://huggingface.co/docs/transformers/task_summary"
   ]
  }
 ],
 "metadata": {
  "kernelspec": {
   "display_name": "Python 3",
   "language": "python",
   "name": "python3"
  },
  "language_info": {
   "codemirror_mode": {
    "name": "ipython",
    "version": 3
   },
   "file_extension": ".py",
   "mimetype": "text/x-python",
   "name": "python",
   "nbconvert_exporter": "python",
   "pygments_lexer": "ipython3",
   "version": "3.8.8"
  },
  "latex_envs": {
   "LaTeX_envs_menu_present": true,
   "autoclose": true,
   "autocomplete": true,
   "bibliofile": "biblio.bib",
   "cite_by": "apalike",
   "current_citInitial": 1,
   "eqLabelWithNumbers": true,
   "eqNumInitial": 1,
   "hotkeys": {
    "equation": "Ctrl-E",
    "itemize": "Ctrl-I"
   },
   "labels_anchors": false,
   "latex_user_defs": false,
   "report_style_numbering": false,
   "user_envs_cfg": false
  },
  "nbTranslate": {
   "displayLangs": [
    "*"
   ],
   "hotkey": "alt-t",
   "langInMainMenu": true,
   "sourceLang": "en",
   "targetLang": "fr",
   "useGoogleTranslate": true
  }
 },
 "nbformat": 4,
 "nbformat_minor": 5
}
