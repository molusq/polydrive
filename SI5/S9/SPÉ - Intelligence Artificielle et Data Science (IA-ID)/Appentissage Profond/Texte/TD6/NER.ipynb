{
  "nbformat": 4,
  "nbformat_minor": 0,
  "metadata": {
    "colab": {
      "provenance": []
    },
    "kernelspec": {
      "name": "python3",
      "display_name": "Python 3"
    },
    "language_info": {
      "name": "python"
    }
  },
  "cells": [
    {
      "cell_type": "markdown",
      "source": [
        "#Reconnaissance d’Entité Nommée (NER) - Rendu 2 - Gabriel Reynes"
      ],
      "metadata": {
        "id": "LkUKiSF6YY3U"
      }
    },
    {
      "cell_type": "markdown",
      "source": [
        "## Imports"
      ],
      "metadata": {
        "id": "swCQdn5xhd9J"
      }
    },
    {
      "cell_type": "code",
      "source": [
        "import numpy as np\n",
        "import matplotlib.pyplot as plt"
      ],
      "metadata": {
        "id": "aQriORFEhkeq"
      },
      "execution_count": 16,
      "outputs": []
    },
    {
      "cell_type": "code",
      "source": [
        "import sklearn"
      ],
      "metadata": {
        "id": "8jkUg10ihofv"
      },
      "execution_count": 17,
      "outputs": []
    },
    {
      "cell_type": "code",
      "source": [
        "!pip install git+https://github.com/MeMartijn/updated-sklearn-crfsuite.git#egg=sklearn_crfsuite\n",
        "from sklearn_crfsuite import CRF, metrics"
      ],
      "metadata": {
        "colab": {
          "base_uri": "https://localhost:8080/"
        },
        "id": "PY63dLuAhqH0",
        "outputId": "1e2c7292-ceca-416f-cdaf-2ca8f491fae8"
      },
      "execution_count": 18,
      "outputs": [
        {
          "output_type": "stream",
          "name": "stdout",
          "text": [
            "Looking in indexes: https://pypi.org/simple, https://us-python.pkg.dev/colab-wheels/public/simple/\n",
            "Collecting sklearn_crfsuite\n",
            "  Cloning https://github.com/MeMartijn/updated-sklearn-crfsuite.git to /tmp/pip-install-mfyww6ve/sklearn-crfsuite_f151a831a73e4bcb8836eb2fc39b53c1\n",
            "  Running command git clone -q https://github.com/MeMartijn/updated-sklearn-crfsuite.git /tmp/pip-install-mfyww6ve/sklearn-crfsuite_f151a831a73e4bcb8836eb2fc39b53c1\n",
            "Requirement already satisfied: tqdm>=2.0 in /usr/local/lib/python3.7/dist-packages (from sklearn_crfsuite) (4.64.1)\n",
            "Requirement already satisfied: six in /usr/local/lib/python3.7/dist-packages (from sklearn_crfsuite) (1.15.0)\n",
            "Requirement already satisfied: tabulate in /usr/local/lib/python3.7/dist-packages (from sklearn_crfsuite) (0.8.10)\n",
            "Requirement already satisfied: python-crfsuite>=0.8.3 in /usr/local/lib/python3.7/dist-packages (from sklearn_crfsuite) (0.9.8)\n"
          ]
        }
      ]
    },
    {
      "cell_type": "code",
      "source": [
        "import tensorflow as tf\n",
        "from tensorflow.keras.models import Model\n",
        "from tensorflow.keras import layers, optimizers, regularizers\n",
        "from tensorflow.keras.callbacks import EarlyStopping\n",
        "from tensorflow.keras.utils import plot_model"
      ],
      "metadata": {
        "id": "cZpNgKrlwl08"
      },
      "execution_count": 19,
      "outputs": []
    },
    {
      "cell_type": "markdown",
      "source": [
        "## The dataset"
      ],
      "metadata": {
        "id": "D_RrRZrchwOw"
      }
    },
    {
      "cell_type": "code",
      "source": [
        "def _generate_examples(filepath):\n",
        "        with open(filepath, encoding=\"utf-8\") as f:\n",
        "            sent = []\n",
        "            for line in f:\n",
        "                if line.startswith(\"-DOCSTART-\") or line == \"\" or line == \"\\n\":\n",
        "                    if sent:\n",
        "                        yield sent\n",
        "                        sent = []\n",
        "                else:\n",
        "                    splits = line.split(\" \")\n",
        "                    token = splits[0]\n",
        "                    pos_tag = splits[1]\n",
        "                    ner_tag = splits[3].rstrip()\n",
        "                    if 'MISC' in ner_tag:\n",
        "                        ner_tag = 'O'\n",
        "                    \n",
        "                    sent.append((token, pos_tag, ner_tag))"
      ],
      "metadata": {
        "id": "yUC45cIzhxHo"
      },
      "execution_count": 20,
      "outputs": []
    },
    {
      "cell_type": "code",
      "source": [
        "%%time\n",
        "train_sents = list(_generate_examples('NER Dataset/train.txt'))\n",
        "test_sents = list(_generate_examples('NER Dataset/test.txt'))"
      ],
      "metadata": {
        "colab": {
          "base_uri": "https://localhost:8080/"
        },
        "id": "-UwajClqhzVN",
        "outputId": "c630dd4c-4c0c-48fb-e16c-ccbf11c5e2a6"
      },
      "execution_count": 21,
      "outputs": [
        {
          "output_type": "stream",
          "name": "stdout",
          "text": [
            "CPU times: user 239 ms, sys: 31 ms, total: 270 ms\n",
            "Wall time: 277 ms\n"
          ]
        }
      ]
    },
    {
      "cell_type": "code",
      "source": [
        "# reduced features\n",
        "def reduced_word2features(sent, i):\n",
        "    word = sent[i][0]\n",
        "    postag = sent[i][1]\n",
        "\n",
        "    features = {\n",
        "        'w':word.lower(),\n",
        "    }\n",
        "    \n",
        "    return sent[i][0].lower()"
      ],
      "metadata": {
        "id": "oR-vDEUBiCJ9"
      },
      "execution_count": 22,
      "outputs": []
    },
    {
      "cell_type": "code",
      "source": [
        "# sophisticated features\n",
        "def sophisticated_word2features(sent, i):\n",
        "    word = sent[i][0]\n",
        "    postag = sent[i][1]\n",
        "    \n",
        "    features = {\n",
        "        'bias': 1.0,\n",
        "        'word.lower()': word.lower(),\n",
        "        'word[-3:]': word[-3:],\n",
        "        'word.isupper()': word.isupper(),\n",
        "        'word.istitle()': word.istitle(),\n",
        "        'word.isdigit()': word.isdigit(),\n",
        "        'postag': postag,\n",
        "        'postag[:2]': postag[:2],        \n",
        "    }\n",
        "    if i > 0:\n",
        "        word1 = sent[i-1][0]\n",
        "        postag1 = sent[i-1][1]\n",
        "        features.update({\n",
        "            '-1:word.lower()': word1.lower(),\n",
        "            '-1:word.istitle()': word1.istitle(),\n",
        "            '-1:word.isupper()': word1.isupper(),\n",
        "            '-1:postag': postag1,\n",
        "            '-1:postag[:2]': postag1[:2],\n",
        "        })\n",
        "    else:\n",
        "        features['BOS'] = True\n",
        "        \n",
        "    if i < len(sent)-1:\n",
        "        word1 = sent[i+1][0]\n",
        "        postag1 = sent[i+1][1]\n",
        "        features.update({\n",
        "            '+1:word.lower()': word1.lower(),\n",
        "            '+1:word.istitle()': word1.istitle(),\n",
        "            '+1:word.isupper()': word1.isupper(),\n",
        "            '+1:postag': postag1,\n",
        "            '+1:postag[:2]': postag1[:2],\n",
        "        })\n",
        "    else:\n",
        "        features['EOS'] = True\n",
        "                \n",
        "    return features\n"
      ],
      "metadata": {
        "id": "LiPP_0R2uk_R"
      },
      "execution_count": 23,
      "outputs": []
    },
    {
      "cell_type": "code",
      "source": [
        "def sent2features(sent):\n",
        "    return [reduced_word2features(sent, i) for i in range(len(sent))]\n",
        "\n",
        "def sent2labels(sent):\n",
        "    return [label for token, postag, label in sent]\n",
        "\n",
        "def sent2tokens(sent):\n",
        "    return [token for token, postag, label in sent]"
      ],
      "metadata": {
        "id": "virhoEBxumkz"
      },
      "execution_count": 24,
      "outputs": []
    },
    {
      "cell_type": "code",
      "source": [
        "%%time\n",
        "X_train = [sent2features(s) for s in train_sents]\n",
        "y_train = [sent2labels(s) for s in train_sents]\n",
        "\n",
        "X_test = [sent2features(s) for s in test_sents]\n",
        "y_test = [sent2labels(s) for s in test_sents]"
      ],
      "metadata": {
        "colab": {
          "base_uri": "https://localhost:8080/"
        },
        "id": "4gRWjjlrupUY",
        "outputId": "c9490f32-ab98-46cd-b567-052063b88a41"
      },
      "execution_count": 25,
      "outputs": [
        {
          "output_type": "stream",
          "name": "stdout",
          "text": [
            "CPU times: user 396 ms, sys: 20.9 ms, total: 417 ms\n",
            "Wall time: 441 ms\n"
          ]
        }
      ]
    },
    {
      "cell_type": "code",
      "source": [
        "X_test[2]"
      ],
      "metadata": {
        "colab": {
          "base_uri": "https://localhost:8080/"
        },
        "id": "IrQOoni4urQm",
        "outputId": "3f4b2d10-8f3f-4f72-aa46-94a71992a400"
      },
      "execution_count": 26,
      "outputs": [
        {
          "output_type": "execute_result",
          "data": {
            "text/plain": [
              "['al-ain', ',', 'united', 'arab', 'emirates', '1996-12-06']"
            ]
          },
          "metadata": {},
          "execution_count": 26
        }
      ]
    },
    {
      "cell_type": "code",
      "source": [
        "y_test[2]"
      ],
      "metadata": {
        "colab": {
          "base_uri": "https://localhost:8080/"
        },
        "id": "42p1NqkbusgD",
        "outputId": "3824236b-2eb7-459f-ce80-ba2ad350915b"
      },
      "execution_count": 27,
      "outputs": [
        {
          "output_type": "execute_result",
          "data": {
            "text/plain": [
              "['I-LOC', 'O', 'I-LOC', 'I-LOC', 'I-LOC', 'O']"
            ]
          },
          "metadata": {},
          "execution_count": 27
        }
      ]
    },
    {
      "cell_type": "markdown",
      "source": [
        "## Baseline Model (CRF)"
      ],
      "metadata": {
        "id": "p1ufAJjyvQ_b"
      }
    },
    {
      "cell_type": "code",
      "source": [
        "%%time\n",
        "crf = CRF(\n",
        "    algorithm='lbfgs',\n",
        "    c1=0.1,\n",
        "    c2=0.1,\n",
        "    max_iterations=100,\n",
        "    all_possible_transitions=True\n",
        ")\n",
        "\n",
        "try: # https://stackoverflow.com/questions/66059532/attributeerror-crf-object-has-no-attribute-keep-tempfiles\n",
        "    crf.fit(X_train, y_train)\n",
        "except AttributeError:\n",
        "    pass"
      ],
      "metadata": {
        "colab": {
          "base_uri": "https://localhost:8080/"
        },
        "id": "i7i9lxntuvOf",
        "outputId": "127ec346-8236-4535-dea5-1f73a3aa82ae"
      },
      "execution_count": 28,
      "outputs": [
        {
          "output_type": "stream",
          "name": "stdout",
          "text": [
            "CPU times: user 16.2 s, sys: 93.3 ms, total: 16.3 s\n",
            "Wall time: 19.9 s\n"
          ]
        }
      ]
    },
    {
      "cell_type": "code",
      "source": [
        "y_pred = crf.predict(X_test)"
      ],
      "metadata": {
        "id": "z6L42RubvUpA"
      },
      "execution_count": 29,
      "outputs": []
    },
    {
      "cell_type": "code",
      "source": [
        "labels = list(crf.classes_)\n",
        "labels"
      ],
      "metadata": {
        "colab": {
          "base_uri": "https://localhost:8080/"
        },
        "id": "IiWsImIlvaM0",
        "outputId": "41c17c18-7eb2-4c43-f196-a6e5050dcce7"
      },
      "execution_count": 30,
      "outputs": [
        {
          "output_type": "execute_result",
          "data": {
            "text/plain": [
              "['I-ORG', 'O', 'I-PER', 'I-LOC', 'B-LOC', 'B-ORG']"
            ]
          },
          "metadata": {},
          "execution_count": 30
        }
      ]
    },
    {
      "cell_type": "code",
      "source": [
        "metrics.flat_f1_score(y_test, y_pred, average='weighted', labels=labels)"
      ],
      "metadata": {
        "colab": {
          "base_uri": "https://localhost:8080/"
        },
        "id": "p0bkWUUDvblz",
        "outputId": "1c2d04dd-a6f0-48be-caaf-a3d03ce4d5d5"
      },
      "execution_count": 31,
      "outputs": [
        {
          "output_type": "execute_result",
          "data": {
            "text/plain": [
              "0.8024228725375101"
            ]
          },
          "metadata": {},
          "execution_count": 31
        }
      ]
    },
    {
      "cell_type": "code",
      "source": [
        "# Group B and I label\n",
        "y_test2 = [item if len(item)==1 else item[2:] for sublist in y_test for item in sublist]\n",
        "y_pred2 = [item if len(item)==1 else item[2:] for sublist in y_pred for item in sublist]\n",
        "\n",
        "labels2 =list(np.unique(y_test2))\n",
        "labels2.remove('O')\n",
        "\n",
        "print(sklearn.metrics.classification_report(y_test2, y_pred2, labels=labels2, digits=3))"
      ],
      "metadata": {
        "colab": {
          "base_uri": "https://localhost:8080/"
        },
        "id": "45dmtXDPvgnk",
        "outputId": "7c11f5c3-0ef4-4867-c3c4-ab9a4aff2f30"
      },
      "execution_count": 32,
      "outputs": [
        {
          "output_type": "stream",
          "name": "stdout",
          "text": [
            "              precision    recall  f1-score   support\n",
            "\n",
            "         LOC      0.296     0.104     0.154      1925\n",
            "         ORG      0.303     0.087     0.135      2496\n",
            "         PER      0.440     0.100     0.162      2773\n",
            "\n",
            "   micro avg      0.343     0.096     0.151      7194\n",
            "   macro avg      0.347     0.097     0.151      7194\n",
            "weighted avg      0.354     0.096     0.151      7194\n",
            "\n"
          ]
        }
      ]
    },
    {
      "cell_type": "markdown",
      "source": [
        "## RNN Model"
      ],
      "metadata": {
        "id": "vudF7wvKv_Jh"
      }
    },
    {
      "cell_type": "code",
      "source": [
        "def lengths(data):\n",
        "    return max([len(sent) for sent in data])\n",
        "\n",
        "max_length = lengths(X_train)"
      ],
      "metadata": {
        "id": "2xSd9PXNwHYP"
      },
      "execution_count": 34,
      "outputs": []
    },
    {
      "cell_type": "code",
      "source": [
        "from tensorflow.keras.layers import TextVectorization\n",
        "\n",
        "X_vectorizer = TextVectorization(standardize=None,\n",
        "                                 split=\"whitespace\",\n",
        "                                 output_mode=\"int\",\n",
        "                                 output_sequence_length=max_length)\n",
        "\n",
        "x_ = [' '.join(sent) for sent in X_train]\n",
        "X_vectorizer.adapt(x_)\n",
        "X_train_enc = X_vectorizer(x_)\n",
        "\n",
        "x_ = [' '.join(sent) for sent in X_test]\n",
        "X_test_enc = X_vectorizer(x_)"
      ],
      "metadata": {
        "id": "cdksBAE-wMgN"
      },
      "execution_count": 42,
      "outputs": []
    },
    {
      "cell_type": "code",
      "source": [
        "vocabulary = X_vectorizer.get_vocabulary()"
      ],
      "metadata": {
        "id": "6aXrefqOwRpo"
      },
      "execution_count": 43,
      "outputs": []
    },
    {
      "cell_type": "code",
      "source": [
        "y_vectorizer = TextVectorization(standardize=None,\n",
        "                                 split=\"whitespace\",\n",
        "                                 output_mode=\"int\",\n",
        "                                 output_sequence_length=max_length)\n",
        "\n",
        "x_ = [' '.join(sent) for sent in y_train]\n",
        "y_vectorizer.adapt(x_)\n",
        "y_train_enc = y_vectorizer(x_)\n",
        "\n",
        "x_ = [' '.join(sent) for sent in y_test]\n",
        "y_test_enc = y_vectorizer(x_)"
      ],
      "metadata": {
        "id": "ZMk5cQB1wTlV"
      },
      "execution_count": 44,
      "outputs": []
    },
    {
      "cell_type": "code",
      "source": [
        "labels = y_vectorizer.get_vocabulary()"
      ],
      "metadata": {
        "id": "hOzMcmkJwVaG"
      },
      "execution_count": 45,
      "outputs": []
    },
    {
      "cell_type": "code",
      "source": [
        "# Constants\n",
        "vocab_size = len(vocabulary)\n",
        "nb_labels = len(labels)\n",
        "\n",
        "max_len = 10  # Sequence length to pad the outputs to.\n",
        "embedding_dim = 50\n",
        "lstm_hidden = 100"
      ],
      "metadata": {
        "id": "vT6L4fUPvhdF"
      },
      "execution_count": 46,
      "outputs": []
    },
    {
      "cell_type": "code",
      "source": [
        "# define the model\n",
        "input_ = layers.Input(shape=(max_length,), dtype=tf.int32)\n",
        "x = layers.Embedding(input_dim=vocab_size, output_dim=embedding_dim, name=\"Embedding\")(input_)\n",
        "x = layers.LSTM(lstm_hidden, return_sequences=True, name=\"hidden\")(x)\n",
        "output_ = layers.Dense(nb_labels, activation='softmax')(x)\n",
        "model = Model(input_, output_)\n",
        "# summarize the model\n",
        "model.summary()"
      ],
      "metadata": {
        "colab": {
          "base_uri": "https://localhost:8080/"
        },
        "id": "6hHN9z49wD2J",
        "outputId": "5b4bd8c7-cb3b-4a12-df7f-bb9ce3600a5c"
      },
      "execution_count": 47,
      "outputs": [
        {
          "output_type": "stream",
          "name": "stdout",
          "text": [
            "Model: \"model_1\"\n",
            "_________________________________________________________________\n",
            " Layer (type)                Output Shape              Param #   \n",
            "=================================================================\n",
            " input_2 (InputLayer)        [(None, 30)]              0         \n",
            "                                                                 \n",
            " Embedding (Embedding)       (None, 30, 50)            1050550   \n",
            "                                                                 \n",
            " hidden (LSTM)               (None, 30, 100)           60400     \n",
            "                                                                 \n",
            " dense_1 (Dense)             (None, 30, 8)             808       \n",
            "                                                                 \n",
            "=================================================================\n",
            "Total params: 1,111,758\n",
            "Trainable params: 1,111,758\n",
            "Non-trainable params: 0\n",
            "_________________________________________________________________\n"
          ]
        }
      ]
    },
    {
      "cell_type": "code",
      "source": [
        "callbacks_list = [EarlyStopping(monitor='val_accuracy', min_delta=0.0005, patience=10, verbose=1, mode='max', restore_best_weights=True)\n",
        "                 ]\n",
        "\n",
        "model.compile(loss='sparse_categorical_crossentropy', optimizer='adam', metrics=['accuracy'])\n",
        "hist = model.fit(X_train_enc, y_train_enc, validation_split=0.2,\n",
        "                 epochs=1000, batch_size=250, callbacks=callbacks_list, verbose=1)"
      ],
      "metadata": {
        "colab": {
          "base_uri": "https://localhost:8080/"
        },
        "id": "O3zFVXslwdRX",
        "outputId": "b9962c4f-b38d-4cbf-d8ea-b3c430d7633c"
      },
      "execution_count": 49,
      "outputs": [
        {
          "output_type": "stream",
          "name": "stdout",
          "text": [
            "Epoch 1/1000\n",
            "45/45 [==============================] - 10s 174ms/step - loss: 1.1981 - accuracy: 0.6861 - val_loss: 0.6895 - val_accuracy: 0.8678\n",
            "Epoch 2/1000\n",
            "45/45 [==============================] - 7s 160ms/step - loss: 0.4912 - accuracy: 0.8858 - val_loss: 0.4193 - val_accuracy: 0.9163\n",
            "Epoch 3/1000\n",
            "45/45 [==============================] - 7s 162ms/step - loss: 0.3466 - accuracy: 0.9215 - val_loss: 0.3301 - val_accuracy: 0.9297\n",
            "Epoch 4/1000\n",
            "45/45 [==============================] - 7s 161ms/step - loss: 0.2852 - accuracy: 0.9277 - val_loss: 0.2841 - val_accuracy: 0.9320\n",
            "Epoch 5/1000\n",
            "45/45 [==============================] - 7s 160ms/step - loss: 0.2385 - accuracy: 0.9312 - val_loss: 0.2407 - val_accuracy: 0.9339\n",
            "Epoch 6/1000\n",
            "45/45 [==============================] - 7s 159ms/step - loss: 0.1932 - accuracy: 0.9346 - val_loss: 0.2042 - val_accuracy: 0.9362\n",
            "Epoch 7/1000\n",
            "45/45 [==============================] - 8s 189ms/step - loss: 0.1561 - accuracy: 0.9431 - val_loss: 0.1819 - val_accuracy: 0.9418\n",
            "Epoch 8/1000\n",
            "45/45 [==============================] - 7s 161ms/step - loss: 0.1314 - accuracy: 0.9520 - val_loss: 0.1650 - val_accuracy: 0.9472\n",
            "Epoch 9/1000\n",
            "45/45 [==============================] - 7s 160ms/step - loss: 0.1125 - accuracy: 0.9611 - val_loss: 0.1580 - val_accuracy: 0.9517\n",
            "Epoch 10/1000\n",
            "45/45 [==============================] - 8s 172ms/step - loss: 0.0972 - accuracy: 0.9701 - val_loss: 0.1464 - val_accuracy: 0.9576\n",
            "Epoch 11/1000\n",
            "45/45 [==============================] - 7s 160ms/step - loss: 0.0833 - accuracy: 0.9779 - val_loss: 0.1389 - val_accuracy: 0.9608\n",
            "Epoch 12/1000\n",
            "45/45 [==============================] - 7s 160ms/step - loss: 0.0706 - accuracy: 0.9838 - val_loss: 0.1315 - val_accuracy: 0.9634\n",
            "Epoch 13/1000\n",
            "45/45 [==============================] - 7s 162ms/step - loss: 0.0587 - accuracy: 0.9878 - val_loss: 0.1312 - val_accuracy: 0.9651\n",
            "Epoch 14/1000\n",
            "45/45 [==============================] - 7s 160ms/step - loss: 0.0487 - accuracy: 0.9906 - val_loss: 0.1257 - val_accuracy: 0.9660\n",
            "Epoch 15/1000\n",
            "45/45 [==============================] - 7s 161ms/step - loss: 0.0410 - accuracy: 0.9925 - val_loss: 0.1301 - val_accuracy: 0.9670\n",
            "Epoch 16/1000\n",
            "45/45 [==============================] - 7s 158ms/step - loss: 0.0348 - accuracy: 0.9937 - val_loss: 0.1245 - val_accuracy: 0.9657\n",
            "Epoch 17/1000\n",
            "45/45 [==============================] - 7s 160ms/step - loss: 0.0294 - accuracy: 0.9947 - val_loss: 0.1253 - val_accuracy: 0.9666\n",
            "Epoch 18/1000\n",
            "45/45 [==============================] - 7s 159ms/step - loss: 0.0249 - accuracy: 0.9954 - val_loss: 0.1268 - val_accuracy: 0.9625\n",
            "Epoch 19/1000\n",
            "45/45 [==============================] - 7s 160ms/step - loss: 0.0219 - accuracy: 0.9957 - val_loss: 0.1286 - val_accuracy: 0.9662\n",
            "Epoch 20/1000\n",
            "45/45 [==============================] - 7s 159ms/step - loss: 0.0184 - accuracy: 0.9963 - val_loss: 0.1275 - val_accuracy: 0.9673\n",
            "Epoch 21/1000\n",
            "45/45 [==============================] - 7s 160ms/step - loss: 0.0158 - accuracy: 0.9968 - val_loss: 0.1359 - val_accuracy: 0.9672\n",
            "Epoch 22/1000\n",
            "45/45 [==============================] - 7s 160ms/step - loss: 0.0140 - accuracy: 0.9969 - val_loss: 0.1365 - val_accuracy: 0.9660\n",
            "Epoch 23/1000\n",
            "45/45 [==============================] - 7s 160ms/step - loss: 0.0128 - accuracy: 0.9971 - val_loss: 0.1411 - val_accuracy: 0.9663\n",
            "Epoch 24/1000\n",
            "45/45 [==============================] - 7s 161ms/step - loss: 0.0117 - accuracy: 0.9972 - val_loss: 0.1397 - val_accuracy: 0.9664\n",
            "Epoch 25/1000\n",
            "45/45 [==============================] - ETA: 0s - loss: 0.0107 - accuracy: 0.9973Restoring model weights from the end of the best epoch: 15.\n",
            "45/45 [==============================] - 7s 159ms/step - loss: 0.0107 - accuracy: 0.9973 - val_loss: 0.1410 - val_accuracy: 0.9654\n",
            "Epoch 25: early stopping\n"
          ]
        }
      ]
    },
    {
      "cell_type": "code",
      "source": [
        "y_pred_enc = model.predict(X_test_enc)\n",
        "y_pred_enc = np.argmax(y_pred_enc, axis=2)"
      ],
      "metadata": {
        "colab": {
          "base_uri": "https://localhost:8080/"
        },
        "id": "QvKxrh7mwvg5",
        "outputId": "24b2aecc-d44f-483d-a442-966f2878eefe"
      },
      "execution_count": 50,
      "outputs": [
        {
          "output_type": "stream",
          "name": "stdout",
          "text": [
            "108/108 [==============================] - 1s 10ms/step\n"
          ]
        }
      ]
    },
    {
      "cell_type": "code",
      "source": [
        "labels = ['[PAD]']+labels[1:]\n",
        "labels_id = [i for i, _ in enumerate(labels)]\n",
        "labels, labels_id"
      ],
      "metadata": {
        "colab": {
          "base_uri": "https://localhost:8080/"
        },
        "id": "sgcwyV8cw19U",
        "outputId": "0f8dd1d7-9252-4ef2-ea70-94ba4dd1e75b"
      },
      "execution_count": 51,
      "outputs": [
        {
          "output_type": "execute_result",
          "data": {
            "text/plain": [
              "(['[PAD]', '[UNK]', 'O', 'I-PER', 'I-ORG', 'I-LOC', 'B-ORG', 'B-LOC'],\n",
              " [0, 1, 2, 3, 4, 5, 6, 7])"
            ]
          },
          "metadata": {},
          "execution_count": 51
        }
      ]
    },
    {
      "cell_type": "code",
      "source": [
        "sklearn.metrics.f1_score(tf.reshape(y_test_enc, [-1]), tf.reshape(y_pred_enc, [-1]), average='weighted')"
      ],
      "metadata": {
        "colab": {
          "base_uri": "https://localhost:8080/"
        },
        "id": "qF9_I8Evw3Y5",
        "outputId": "0622af84-52e3-4a76-8909-f835601fd7df"
      },
      "execution_count": 52,
      "outputs": [
        {
          "output_type": "execute_result",
          "data": {
            "text/plain": [
              "0.9593919196948972"
            ]
          },
          "metadata": {},
          "execution_count": 52
        }
      ]
    },
    {
      "cell_type": "code",
      "source": [
        "# Group B and I label\n",
        "y_test2 = [-1 if item<3 else item%3 for sublist in y_test_enc for item in sublist]\n",
        "y_pred2 = [-1 if item<3 else item%3 for sublist in y_pred_enc for item in sublist]\n",
        "\n",
        "labels2 =list(np.unique(y_test2))\n",
        "labels2.remove(-1)\n",
        "\n",
        "print(sklearn.metrics.classification_report(y_test2, y_pred2,\n",
        "                                            target_names=[\"LOC\", \"PER\", \"ORG\"],\n",
        "                                            labels=labels2, digits=3))"
      ],
      "metadata": {
        "colab": {
          "base_uri": "https://localhost:8080/"
        },
        "id": "z4_PEF0Ew5mw",
        "outputId": "2da065e2-bd39-469d-ce65-d3df0bf26e9d"
      },
      "execution_count": 53,
      "outputs": [
        {
          "output_type": "stream",
          "name": "stdout",
          "text": [
            "              precision    recall  f1-score   support\n",
            "\n",
            "         LOC      0.915     0.558     0.694      2540\n",
            "         PER      0.538     0.440     0.484      2375\n",
            "         ORG      0.674     0.760     0.714      1820\n",
            "\n",
            "   micro avg      0.694     0.571     0.626      6735\n",
            "   macro avg      0.709     0.586     0.631      6735\n",
            "weighted avg      0.717     0.571     0.625      6735\n",
            "\n"
          ]
        }
      ]
    },
    {
      "cell_type": "markdown",
      "source": [
        "## RNN Model with Attention"
      ],
      "metadata": {
        "id": "VL72gAJ00RcI"
      }
    },
    {
      "cell_type": "code",
      "source": [
        "# define the model\n",
        "input_ = layers.Input(shape=(max_length,), dtype=tf.int32)\n",
        "encoder_embedding = layers.Embedding(input_dim=vocab_size, output_dim=embedding_dim, name=\"vocab_embedding\")(input_)\n",
        "encoder_outputs, encoder_state_h, encoder_state_c = layers.LSTM(lstm_hidden, return_sequences=True, return_state=True, name=\"hidden\")(encoder_embedding)\n",
        "\n",
        "# We discard `encoder_outputs` and only keep the states. \n",
        "encoder_states = [encoder_state_h, encoder_state_c]\n",
        "\n",
        "print(encoder_outputs.shape)"
      ],
      "metadata": {
        "colab": {
          "base_uri": "https://localhost:8080/"
        },
        "id": "TB5og9-nysdj",
        "outputId": "dffa7657-d828-4532-943f-7a383771e917"
      },
      "execution_count": 62,
      "outputs": [
        {
          "output_type": "stream",
          "name": "stdout",
          "text": [
            "(None, 30, 100)\n"
          ]
        }
      ]
    },
    {
      "cell_type": "code",
      "source": [
        "\"\"\" Decoder part \"\"\"\n",
        "# Set up the decoder, using `encoder_states` as initial state. \n",
        "decoder_inputs = layers.Input(shape=(None,), dtype=tf.int32, name=\"label_input\")\n",
        "decoder_embedding = layers.Embedding(nb_labels, embedding_dim,\n",
        "                                     name=\"label_embedding\")(decoder_inputs)\n",
        "decoder_outputs, decoder_state_h, decoder_state_c = layers.LSTM(lstm_hidden, return_sequences=True, return_state=True, name=\"Decoder\")(decoder_embedding, initial_state=encoder_states)\n",
        "\n",
        "print(decoder_outputs.shape)"
      ],
      "metadata": {
        "colab": {
          "base_uri": "https://localhost:8080/"
        },
        "id": "B4CnWw0Lu4y9",
        "outputId": "f32b08a4-5667-4f00-bdb3-0ace58170446"
      },
      "execution_count": 63,
      "outputs": [
        {
          "output_type": "stream",
          "name": "stdout",
          "text": [
            "(None, None, 100)\n"
          ]
        }
      ]
    },
    {
      "cell_type": "code",
      "source": [
        "\"\"\" Attentional part \"\"\"\n",
        "# We use all encoder ouput\n",
        "attention = layers.dot([decoder_outputs, encoder_outputs], axes=[2,2], name=\"Attention_score\")\n",
        "attention = layers.Activation('softmax', name=\"Attention_weight\")(attention)\n",
        "print(attention.shape)"
      ],
      "metadata": {
        "colab": {
          "base_uri": "https://localhost:8080/"
        },
        "id": "3tU2Qneqv3qA",
        "outputId": "3c350cde-3d03-4a9c-d977-4d102a77cd90"
      },
      "execution_count": 64,
      "outputs": [
        {
          "output_type": "stream",
          "name": "stdout",
          "text": [
            "(None, None, 30)\n"
          ]
        }
      ]
    },
    {
      "cell_type": "code",
      "source": [
        "\"\"\" Context vector \"\"\"\n",
        "context = layers.dot([attention, encoder_outputs], axes=[2,1], name=\"Attention_output\")\n",
        "print(context.shape)"
      ],
      "metadata": {
        "colab": {
          "base_uri": "https://localhost:8080/"
        },
        "id": "jSbuz7oVv9md",
        "outputId": "6d4b0c4e-9ed3-403e-bece-ec3cb88d15c7"
      },
      "execution_count": 65,
      "outputs": [
        {
          "output_type": "stream",
          "name": "stdout",
          "text": [
            "(None, None, 100)\n"
          ]
        }
      ]
    },
    {
      "cell_type": "code",
      "source": [
        "\"\"\" Combine attention with decoder ouput \"\"\"\n",
        "decoder_combined_context = layers.concatenate([context, decoder_outputs], name=\"Luong_Attention\")\n",
        "print(decoder_combined_context.shape)"
      ],
      "metadata": {
        "colab": {
          "base_uri": "https://localhost:8080/"
        },
        "id": "07bCtPo-v-zG",
        "outputId": "82687540-6d0b-4f31-85ae-51bdec5feb80"
      },
      "execution_count": 66,
      "outputs": [
        {
          "output_type": "stream",
          "name": "stdout",
          "text": [
            "(None, None, 200)\n"
          ]
        }
      ]
    },
    {
      "cell_type": "code",
      "source": [
        "\"\"\" Ouput of the model \"\"\"\n",
        "decoder_outputs = layers.Dense(nb_labels, activation='softmax', name=\"Output\")(decoder_combined_context)\n",
        "print(decoder_outputs.shape)"
      ],
      "metadata": {
        "colab": {
          "base_uri": "https://localhost:8080/"
        },
        "id": "pu0MbNY4wAMR",
        "outputId": "fb3cc229-3a37-4407-d4e4-4c4ae5da03ea"
      },
      "execution_count": 68,
      "outputs": [
        {
          "output_type": "stream",
          "name": "stdout",
          "text": [
            "(None, None, 8)\n"
          ]
        }
      ]
    },
    {
      "cell_type": "code",
      "source": [
        "\"\"\" The model \"\"\"\n",
        "# Define the model that will turn\n",
        "# `encoder_input_data` & `decoder_input_data` into `decoder_target_data`\n",
        "model = Model([input_, decoder_inputs], decoder_outputs)\n",
        "\n",
        "plot_model(model, show_shapes=True)"
      ],
      "metadata": {
        "colab": {
          "base_uri": "https://localhost:8080/",
          "height": 996
        },
        "id": "IBYMKQQ4wDr2",
        "outputId": "b6f66b78-25f5-407e-df75-eb9a7e83a150"
      },
      "execution_count": 70,
      "outputs": [
        {
          "output_type": "execute_result",
          "data": {
            "image/png": "[encoded data removed]",
            "text/plain": [
              "<IPython.core.display.Image object>"
            ]
          },
          "metadata": {},
          "execution_count": 70
        }
      ]
    },
    {
      "cell_type": "code",
      "source": [
        "x_ = [' '.join(sent) for sent in y_train]\n",
        "y_vectorizer.adapt(x_)\n",
        "y_teacher_enc = y_vectorizer(x_)\n",
        "y_target_enc = np.zeros_like(y_teacher_enc)\n",
        "y_target_enc[:,:-1] = y_teacher_enc[:,1:]\n",
        "y_teacher_enc.shape"
      ],
      "metadata": {
        "colab": {
          "base_uri": "https://localhost:8080/"
        },
        "id": "QepnFsWpzfeH",
        "outputId": "865814e5-d7e0-4153-e2b1-b1e4eaf98778"
      },
      "execution_count": 100,
      "outputs": [
        {
          "output_type": "execute_result",
          "data": {
            "text/plain": [
              "TensorShape([14041, 30])"
            ]
          },
          "metadata": {},
          "execution_count": 100
        }
      ]
    },
    {
      "cell_type": "code",
      "source": [
        "model.compile(loss='sparse_categorical_crossentropy', optimizer='adam', metrics=['accuracy'])\n",
        "hist = model.fit([X_train_enc, y_teacher_enc], y_target_enc, validation_split=0.2,\n",
        "                 epochs=1000, batch_size=250, callbacks=callbacks_list, verbose=1)"
      ],
      "metadata": {
        "colab": {
          "base_uri": "https://localhost:8080/"
        },
        "id": "IwvjRPBHxPUE",
        "outputId": "769c52a2-7bab-43ac-e944-ba77fd5a643b"
      },
      "execution_count": 80,
      "outputs": [
        {
          "output_type": "stream",
          "name": "stdout",
          "text": [
            "Epoch 1/1000\n",
            "45/45 [==============================] - 21s 376ms/step - loss: 0.9164 - accuracy: 0.7865 - val_loss: 0.4154 - val_accuracy: 0.8914\n",
            "Epoch 2/1000\n",
            "45/45 [==============================] - 16s 349ms/step - loss: 0.3212 - accuracy: 0.9117 - val_loss: 0.3105 - val_accuracy: 0.9172\n",
            "Epoch 3/1000\n",
            "45/45 [==============================] - 15s 336ms/step - loss: 0.2677 - accuracy: 0.9286 - val_loss: 0.2781 - val_accuracy: 0.9213\n",
            "Epoch 4/1000\n",
            "45/45 [==============================] - 17s 388ms/step - loss: 0.2602 - accuracy: 0.9273 - val_loss: 0.2631 - val_accuracy: 0.9284\n",
            "Epoch 5/1000\n",
            "45/45 [==============================] - 17s 372ms/step - loss: 0.2419 - accuracy: 0.9352 - val_loss: 0.2587 - val_accuracy: 0.9295\n",
            "Epoch 6/1000\n",
            "45/45 [==============================] - 16s 354ms/step - loss: 0.2339 - accuracy: 0.9367 - val_loss: 0.2515 - val_accuracy: 0.9319\n",
            "Epoch 7/1000\n",
            "45/45 [==============================] - 16s 355ms/step - loss: 0.2281 - accuracy: 0.9375 - val_loss: 0.2517 - val_accuracy: 0.9284\n",
            "Epoch 8/1000\n",
            "45/45 [==============================] - 16s 350ms/step - loss: 0.2216 - accuracy: 0.9373 - val_loss: 0.2323 - val_accuracy: 0.9385\n",
            "Epoch 9/1000\n",
            "45/45 [==============================] - 15s 337ms/step - loss: 0.2056 - accuracy: 0.9407 - val_loss: 0.2204 - val_accuracy: 0.9418\n",
            "Epoch 10/1000\n",
            "45/45 [==============================] - 15s 335ms/step - loss: 0.1981 - accuracy: 0.9415 - val_loss: 0.2176 - val_accuracy: 0.9420\n",
            "Epoch 11/1000\n",
            "45/45 [==============================] - 15s 336ms/step - loss: 0.1911 - accuracy: 0.9433 - val_loss: 0.2235 - val_accuracy: 0.9374\n",
            "Epoch 12/1000\n",
            "45/45 [==============================] - 15s 337ms/step - loss: 0.1841 - accuracy: 0.9445 - val_loss: 0.2099 - val_accuracy: 0.9433\n",
            "Epoch 13/1000\n",
            "45/45 [==============================] - 17s 385ms/step - loss: 0.1748 - accuracy: 0.9472 - val_loss: 0.2062 - val_accuracy: 0.9437\n",
            "Epoch 14/1000\n",
            "45/45 [==============================] - 15s 333ms/step - loss: 0.1684 - accuracy: 0.9478 - val_loss: 0.2012 - val_accuracy: 0.9444\n",
            "Epoch 15/1000\n",
            "45/45 [==============================] - 16s 348ms/step - loss: 0.1780 - accuracy: 0.9444 - val_loss: 0.4109 - val_accuracy: 0.9041\n",
            "Epoch 16/1000\n",
            "45/45 [==============================] - 15s 335ms/step - loss: 0.2019 - accuracy: 0.9361 - val_loss: 0.2113 - val_accuracy: 0.9374\n",
            "Epoch 17/1000\n",
            "45/45 [==============================] - 15s 336ms/step - loss: 0.1667 - accuracy: 0.9459 - val_loss: 0.2023 - val_accuracy: 0.9414\n",
            "Epoch 18/1000\n",
            "45/45 [==============================] - 15s 335ms/step - loss: 0.1586 - accuracy: 0.9470 - val_loss: 0.1991 - val_accuracy: 0.9422\n",
            "Epoch 19/1000\n",
            "45/45 [==============================] - 15s 335ms/step - loss: 0.1547 - accuracy: 0.9473 - val_loss: 0.1969 - val_accuracy: 0.9429\n",
            "Epoch 20/1000\n",
            "45/45 [==============================] - 15s 335ms/step - loss: 0.1514 - accuracy: 0.9476 - val_loss: 0.1988 - val_accuracy: 0.9426\n",
            "Epoch 21/1000\n",
            "45/45 [==============================] - 15s 335ms/step - loss: 0.1487 - accuracy: 0.9479 - val_loss: 0.1972 - val_accuracy: 0.9436\n",
            "Epoch 22/1000\n",
            "45/45 [==============================] - 15s 334ms/step - loss: 0.1463 - accuracy: 0.9483 - val_loss: 0.2033 - val_accuracy: 0.9425\n",
            "Epoch 23/1000\n",
            "45/45 [==============================] - 15s 335ms/step - loss: 0.1439 - accuracy: 0.9491 - val_loss: 0.2046 - val_accuracy: 0.9425\n",
            "Epoch 24/1000\n",
            "45/45 [==============================] - ETA: 0s - loss: 0.1417 - accuracy: 0.9499Restoring model weights from the end of the best epoch: 14.\n",
            "45/45 [==============================] - 16s 364ms/step - loss: 0.1417 - accuracy: 0.9499 - val_loss: 0.2023 - val_accuracy: 0.9436\n",
            "Epoch 24: early stopping\n"
          ]
        }
      ]
    },
    {
      "cell_type": "code",
      "source": [
        "x_ = [' '.join(sent) for sent in y_test]\n",
        "y_vectorizer.adapt(x_)\n",
        "y_teacher_enc = y_vectorizer(x_)\n",
        "y_teacher_enc.shape"
      ],
      "metadata": {
        "colab": {
          "base_uri": "https://localhost:8080/"
        },
        "id": "0Z3_B0tE8IZ6",
        "outputId": "2d6bd6a0-bb00-44f5-d881-3adb442445cf"
      },
      "execution_count": 118,
      "outputs": [
        {
          "output_type": "execute_result",
          "data": {
            "text/plain": [
              "TensorShape([3453, 30])"
            ]
          },
          "metadata": {},
          "execution_count": 118
        }
      ]
    },
    {
      "cell_type": "code",
      "source": [
        "y_pred_enc = model.predict([X_test_enc, y_teacher_enc])\n",
        "y_pred_enc = np.argmax(y_pred_enc, axis=2)"
      ],
      "metadata": {
        "colab": {
          "base_uri": "https://localhost:8080/"
        },
        "id": "CzxrtlXI47MW",
        "outputId": "356c3f68-16d4-4364-9b10-1540f6507c6f"
      },
      "execution_count": 119,
      "outputs": [
        {
          "output_type": "stream",
          "name": "stdout",
          "text": [
            "108/108 [==============================] - 2s 20ms/step\n"
          ]
        }
      ]
    },
    {
      "cell_type": "code",
      "source": [
        "sklearn.metrics.f1_score(tf.reshape(y_test_enc, [-1]), tf.reshape(y_pred_enc, [-1]), average='weighted')"
      ],
      "metadata": {
        "colab": {
          "base_uri": "https://localhost:8080/"
        },
        "id": "sitKHpS65U_i",
        "outputId": "c37fa327-bf26-414e-e375-6b8b797db1d5"
      },
      "execution_count": 120,
      "outputs": [
        {
          "output_type": "execute_result",
          "data": {
            "text/plain": [
              "0.8806754182854544"
            ]
          },
          "metadata": {},
          "execution_count": 120
        }
      ]
    },
    {
      "cell_type": "code",
      "source": [
        "# Group B and I label\n",
        "y_test2 = [-1 if item<3 else item%3 for sublist in y_test_enc for item in sublist]\n",
        "y_pred2 = [-1 if item<3 else item%3 for sublist in y_pred_enc for item in sublist]\n",
        "\n",
        "labels2 =list(np.unique(y_test2))\n",
        "labels2.remove(-1)\n",
        "\n",
        "print(sklearn.metrics.classification_report(y_test2, y_pred2,\n",
        "                                            target_names=[\"LOC\", \"PER\", \"ORG\"],\n",
        "                                            labels=labels2, digits=3))"
      ],
      "metadata": {
        "colab": {
          "base_uri": "https://localhost:8080/"
        },
        "id": "TDBKUavp0sB9",
        "outputId": "4fa71a44-a6fd-4714-bd59-b428a2357728"
      },
      "execution_count": 121,
      "outputs": [
        {
          "output_type": "stream",
          "name": "stdout",
          "text": [
            "              precision    recall  f1-score   support\n",
            "\n",
            "         LOC      0.552     0.126     0.205      2540\n",
            "         PER      1.000     0.045     0.085      2375\n",
            "         ORG      1.000     0.001     0.001      1820\n",
            "\n",
            "   micro avg      0.622     0.063     0.115      6735\n",
            "   macro avg      0.851     0.057     0.097      6735\n",
            "weighted avg      0.831     0.063     0.108      6735\n",
            "\n"
          ]
        }
      ]
    }
  ]
}