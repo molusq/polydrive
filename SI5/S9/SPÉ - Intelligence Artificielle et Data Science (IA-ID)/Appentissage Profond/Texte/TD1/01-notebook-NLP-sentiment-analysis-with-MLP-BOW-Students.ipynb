{
 "cells": [
  {
   "cell_type": "markdown",
   "metadata": {},
   "source": [
    "# Sentiment analysis with an MLP and BOW representation"
   ]
  },
  {
   "cell_type": "code",
   "execution_count": null,
   "metadata": {
    "ExecuteTime": {
     "end_time": "2022-09-12T11:03:24.167030Z",
     "start_time": "2022-09-12T11:03:24.163927Z"
    }
   },
   "outputs": [],
   "source": [
    "import ssl\n",
    "ssl._create_default_https_context = ssl._create_unverified_context"
   ]
  },
  {
   "cell_type": "code",
   "execution_count": null,
   "metadata": {
    "ExecuteTime": {
     "end_time": "2022-09-12T11:03:28.046996Z",
     "start_time": "2022-09-12T11:03:28.043976Z"
    }
   },
   "outputs": [],
   "source": [
    "import warnings\n",
    "warnings.filterwarnings('ignore')"
   ]
  },
  {
   "cell_type": "code",
   "execution_count": null,
   "metadata": {},
   "outputs": [],
   "source": [
    "import numpy as np\n",
    "import matplotlib.pyplot as plt\n",
    "import seaborn as sns\n",
    "import pandas as pd\n",
    "import time"
   ]
  },
  {
   "cell_type": "code",
   "execution_count": null,
   "metadata": {},
   "outputs": [],
   "source": [
    "from sklearn.model_selection import train_test_split\n",
    "\n",
    "from sklearn.pipeline import Pipeline\n",
    "from sklearn.feature_extraction.text import CountVectorizer\n",
    "from sklearn.preprocessing import OneHotEncoder\n",
    "\n",
    "from sklearn.linear_model import LogisticRegression\n",
    "from sklearn.metrics import classification_report\n",
    "from sklearn.metrics import confusion_matrix"
   ]
  },
  {
   "cell_type": "code",
   "execution_count": null,
   "metadata": {},
   "outputs": [],
   "source": [
    "import nltk\n",
    "from nltk import word_tokenize          \n",
    "from nltk import FreqDist"
   ]
  },
  {
   "cell_type": "code",
   "execution_count": null,
   "metadata": {},
   "outputs": [],
   "source": [
    "import tensorflow as tf\n",
    "from tensorflow.keras.models import Model\n",
    "from tensorflow.keras.layers import Input, Dense, TextVectorization\n",
    "from tensorflow.keras.callbacks import EarlyStopping"
   ]
  },
  {
   "cell_type": "markdown",
   "metadata": {
    "id": "R_c9ULzNvq_g"
   },
   "source": [
    "## Sentiment Analysis\n",
    "\n",
    "Text classification is a machine learning technique that assigns a set of predefined categories to open-ended text. Text classifiers can be used to organize, structure, and categorize pretty much any kind of text – from documents, medical studies and files, and all over the web.\n",
    "\n",
    "For example, new articles can be organized by topics; support tickets can be organized by urgency; chat conversations can be organized by language; brand mentions can be organized by sentiment; and so on.\n",
    "\n",
    "Text classification is one of the fundamental tasks in natural language processing with broad applications such as **sentiment analysis**, topic labeling, spam detection, and intent detection.\n",
    "\n",
    "**Why is Text Classification Important?**\n",
    "\n",
    "It’s estimated that around 80% of all information is unstructured, with text being one of the most common types of unstructured data. Because of the messy nature of text, analyzing, understanding, organizing, and sorting through text data is hard and time-consuming, so most companies fail to use it to its full potential.\n",
    "\n",
    "This is where text classification with machine learning comes in. Using text classifiers, companies can automatically structure all manner of relevant text, from emails, legal documents, social media, chatbots, surveys, and more in a fast and cost-effective way. This allows companies to save time analyzing text data, automate business processes, and make data-driven business decisions.\n",
    "\n",
    "**How Does Text Classification Work?**\n",
    "\n",
    "Instead of relying on manually crafted rules, machine learning text classification learns to make classifications based on past observations. By using pre-labeled examples as training data, machine learning algorithms can learn the different associations between pieces of text, and that a particular output (i.e., tags) is expected for a particular input (i.e., text). A “tag” is the pre-determined classification or category that any given text could fall into.\n",
    "\n",
    "The first step towards training a machine learning NLP classifier is feature extraction: a method is used to transform each text into a numerical representation in the form of a vector. One of the most frequently used approaches is bag of words, where a vector represents the frequency of a word in a predefined dictionary of words.\n",
    "\n",
    "Then, the machine learning algorithm is fed with training data that consists of pairs of feature sets (vectors for each text example) and tags (e.g. sports, politics) to produce a classification model:\n",
    "\n",
    "![training](https://monkeylearn.com/static/507a7b5d0557f416857a038f553865d1/2ed04/text_process_training.webp)\n",
    "\n",
    "Once it’s trained with enough training samples, the machine learning model can begin to make accurate predictions. The same feature extractor is used to transform unseen text to feature sets, which can be fed into the classification model to get predictions on tags (e.g., sports, politics):\n",
    "\n",
    "![prediction](https://monkeylearn.com/static/afa7e0536886ee7152dfa4c628fe59f0/2b924/text_process_prediction.webp)\n",
    "\n",
    "Text classification with machine learning is usually much more accurate than human-crafted rule systems, especially on complex NLP classification tasks. Also, classifiers with machine learning are easier to maintain and you can always tag new examples to learn new tasks."
   ]
  },
  {
   "cell_type": "markdown",
   "metadata": {
    "id": "AmQlCKQVvq_p",
    "toc": true
   },
   "source": [
    "<h1>Table of Contents<span class=\"tocSkip\"></span></h1>\n",
    "<div class=\"toc\"><ul class=\"toc-item\"><li><span><a href=\"#Today-lab\" data-toc-modified-id=\"Today-lab-1\"><span class=\"toc-item-num\">1&nbsp;&nbsp;</span>Today lab</a></span></li><li><span><a href=\"#Load-dataset\" data-toc-modified-id=\"Load-dataset-2\"><span class=\"toc-item-num\">2&nbsp;&nbsp;</span>Load dataset</a></span><ul class=\"toc-item\"><li><span><a href=\"#About-Train,-validation-and-test-sets\" data-toc-modified-id=\"About-Train,-validation-and-test-sets-2.1\"><span class=\"toc-item-num\">2.1&nbsp;&nbsp;</span><a href=\"https://towardsdatascience.com/train-validation-and-test-sets-72cb40cba9e7\" rel=\"nofollow\" target=\"_blank\">About Train, validation and test sets</a></a></span></li><li><span><a href=\"#Undestand-the-dataset\" data-toc-modified-id=\"Undestand-the-dataset-2.2\"><span class=\"toc-item-num\">2.2&nbsp;&nbsp;</span>Undestand the dataset</a></span></li></ul></li><li><span><a href=\"#Build-X-(features-vectors)-and-y-(labels)\" data-toc-modified-id=\"Build-X-(features-vectors)-and-y-(labels)-3\"><span class=\"toc-item-num\">3&nbsp;&nbsp;</span>Build X (features vectors) and y (labels)</a></span></li><li><span><a href=\"#Our-previous-baseline\" data-toc-modified-id=\"Our-previous-baseline-4\"><span class=\"toc-item-num\">4&nbsp;&nbsp;</span>Our previous baseline</a></span></li><li><span><a href=\"#Build-an-MLP-Classifier\" data-toc-modified-id=\"Build-an-MLP-Classifier-5\"><span class=\"toc-item-num\">5&nbsp;&nbsp;</span>Build an MLP Classifier</a></span></li></ul></div>"
   ]
  },
  {
   "cell_type": "markdown",
   "metadata": {
    "id": "UgzggwPnvq_o"
   },
   "source": [
    "## The dataset\n",
    "\n",
    "In this lab we use part of the 'Amazon_Unlocked_Mobile.csv' dataset published by Kaggle. The dataset contain the following information:\n",
    "* Product Name\n",
    "* Brand Name\n",
    "* Price\n",
    "* Rating\n",
    "* Reviews\n",
    "* Review Votes\n",
    "\n",
    "We are mainly interested by the 'Reviews' (X) and by the 'Rating' (y)\n",
    "\n",
    "The goal is to try to predict the 'Rating' after reading the 'Reviews'. I've prepared for you TRAIN and TEST set. We use accuracy score in order to evaluate the model."
   ]
  },
  {
   "cell_type": "markdown",
   "metadata": {
    "id": "_vlbVhVpvq_s"
   },
   "source": [
    "### [About Train, validation and test sets](https://towardsdatascience.com/train-validation-and-test-sets-72cb40cba9e7)\n",
    "![test/train/val](https://miro.medium.com/max/1466/1*aNPC1ifHN2WydKHyEZYENg.png)\n",
    "\n",
    "* **Training Dataset:** The sample of data used to fit the model.\n",
    "* **Validation Dataset:** The sample of data used to provide an unbiased evaluation of a model fit on the training dataset while tuning model hyperparameters. The evaluation becomes more biased as skill on the validation dataset is incorporated into the model configuration.\n",
    "* **Test Dataset:** The sample of data used to provide an unbiased evaluation of a final model fit on the training dataset."
   ]
  },
  {
   "cell_type": "markdown",
   "metadata": {},
   "source": [
    "## Load the dataset"
   ]
  },
  {
   "cell_type": "code",
   "execution_count": null,
   "metadata": {
    "ExecuteTime": {
     "end_time": "2022-09-12T11:03:44.104630Z",
     "start_time": "2022-09-12T11:03:43.708710Z"
    },
    "colab": {
     "base_uri": "https://localhost:8080/",
     "height": 204
    },
    "executionInfo": {
     "elapsed": 2638,
     "status": "ok",
     "timestamp": 1634734106855,
     "user": {
      "displayName": "Antoine Collin",
      "photoUrl": "https://lh3.googleusercontent.com/a/default-user=s64",
      "userId": "01107865217976062482"
     },
     "user_tz": -120
    },
    "id": "MLWzp9CAvq_t",
    "outputId": "abb836f6-8137-43a7-decb-f1d7a8a981be"
   },
   "outputs": [],
   "source": [
    "TRAIN = pd.read_csv(\"http://www.i3s.unice.fr/~riveill/dataset/Amazon_Unlocked_Mobile/train.csv.gz\")\n",
    "VAL = pd.read_csv(\"http://www.i3s.unice.fr/~riveill/dataset/Amazon_Unlocked_Mobile/val.csv.gz\")\n",
    "TEST = pd.read_csv(\"http://www.i3s.unice.fr/~riveill/dataset/Amazon_Unlocked_Mobile/test.csv.gz\")\n",
    "\n",
    "TRAIN.head()"
   ]
  },
  {
   "cell_type": "markdown",
   "metadata": {
    "id": "RR3A2Imxvq_v"
   },
   "source": [
    "### Undestand the dataset\n",
    "\n",
    "To choose certain constants (size of vocabulary, length of a line, etc.), it is good to know the dataset used."
   ]
  },
  {
   "cell_type": "code",
   "execution_count": null,
   "metadata": {
    "ExecuteTime": {
     "end_time": "2022-09-12T11:03:47.218803Z",
     "start_time": "2022-09-12T11:03:46.004453Z"
    },
    "colab": {
     "base_uri": "https://localhost:8080/"
    },
    "executionInfo": {
     "elapsed": 2186,
     "status": "ok",
     "timestamp": 1634738626074,
     "user": {
      "displayName": "Antoine Collin",
      "photoUrl": "https://lh3.googleusercontent.com/a/default-user=s64",
      "userId": "01107865217976062482"
     },
     "user_tz": -120
    },
    "id": "_nfBsi81vq_w",
    "outputId": "190bea69-e01d-498d-da18-7399cc9b125d"
   },
   "outputs": [],
   "source": [
    "# Tokenized the reviews\n",
    "reviews_tokenized = [word_tokenize(review) for review in TRAIN['Reviews']]\n",
    "reviews_tokenized[:10]"
   ]
  },
  {
   "cell_type": "code",
   "execution_count": null,
   "metadata": {
    "ExecuteTime": {
     "end_time": "2022-09-12T11:03:58.690386Z",
     "start_time": "2022-09-12T11:03:58.667811Z"
    },
    "colab": {
     "base_uri": "https://localhost:8080/"
    },
    "executionInfo": {
     "elapsed": 245,
     "status": "ok",
     "timestamp": 1634738642975,
     "user": {
      "displayName": "Antoine Collin",
      "photoUrl": "https://lh3.googleusercontent.com/a/default-user=s64",
      "userId": "01107865217976062482"
     },
     "user_tz": -120
    },
    "id": "atVnL9Hgvq_x",
    "outputId": "df84536b-1ee9-4dde-8572-ab143fa052ba"
   },
   "outputs": [],
   "source": [
    "# Count the vocabulary\n",
    "flatten_reviews = [item for sublist in reviews_tokenized for item in sublist]\n",
    "vocabulary_size = len(set(flatten_reviews))\n",
    "vocabulary_size"
   ]
  },
  {
   "cell_type": "code",
   "execution_count": null,
   "metadata": {
    "ExecuteTime": {
     "end_time": "2022-09-12T11:04:00.414142Z",
     "start_time": "2022-09-12T11:04:00.099855Z"
    },
    "colab": {
     "base_uri": "https://localhost:8080/",
     "height": 317
    },
    "executionInfo": {
     "elapsed": 373,
     "status": "ok",
     "timestamp": 1634738643624,
     "user": {
      "displayName": "Antoine Collin",
      "photoUrl": "https://lh3.googleusercontent.com/a/default-user=s64",
      "userId": "01107865217976062482"
     },
     "user_tz": -120
    },
    "id": "tpc7i6STvq_x",
    "outputId": "9e2983b6-ead4-4e0c-cb94-f513241253d2"
   },
   "outputs": [],
   "source": [
    "# Plot the distribution of words\n",
    "from nltk import FreqDist\n",
    "\n",
    "freqDist = FreqDist(flatten_reviews)\n",
    "print(freqDist.most_common(10))\n",
    "freqDist.plot(25, cumulative=False)"
   ]
  },
  {
   "cell_type": "code",
   "execution_count": null,
   "metadata": {
    "ExecuteTime": {
     "end_time": "2022-09-12T11:04:01.399830Z",
     "start_time": "2022-09-12T11:04:01.140034Z"
    },
    "colab": {
     "base_uri": "https://localhost:8080/",
     "height": 282
    },
    "executionInfo": {
     "elapsed": 283,
     "status": "ok",
     "timestamp": 1634738644154,
     "user": {
      "displayName": "Antoine Collin",
      "photoUrl": "https://lh3.googleusercontent.com/a/default-user=s64",
      "userId": "01107865217976062482"
     },
     "user_tz": -120
    },
    "id": "4URU1HDlvq_y",
    "outputId": "ba5f1b6d-c7ad-48d9-f552-e637e12fbe26"
   },
   "outputs": [],
   "source": [
    "# Plot the distibution of word length size\n",
    "len_words = [len(w) for w in flatten_reviews]\n",
    "freqDist2 = FreqDist(len_words)\n",
    "freqDist2.plot(cumulative=False)"
   ]
  },
  {
   "cell_type": "code",
   "execution_count": null,
   "metadata": {
    "ExecuteTime": {
     "end_time": "2022-09-12T11:04:11.935131Z",
     "start_time": "2022-09-12T11:04:11.924115Z"
    },
    "colab": {
     "base_uri": "https://localhost:8080/"
    },
    "executionInfo": {
     "elapsed": 8,
     "status": "ok",
     "timestamp": 1634738644429,
     "user": {
      "displayName": "Antoine Collin",
      "photoUrl": "https://lh3.googleusercontent.com/a/default-user=s64",
      "userId": "01107865217976062482"
     },
     "user_tz": -120
    },
    "id": "x_DhE9vTvq_y",
    "outputId": "efc79a22-80bd-4288-f23c-60287030ec29"
   },
   "outputs": [],
   "source": [
    "# On TRAIN only because we don't know future data\n",
    "\n",
    "# Add a column to the dataframe with the length in tokens of the review\n",
    "TRAIN['length'] = [len(r) for r in reviews_tokenized]\n",
    "\n",
    "# What is the maximum length of a review\n",
    "print(\"MAX:\", TRAIN['length'].max())\n",
    "\n",
    "# What is the average length of a review\n",
    "print(\"MEAN:\", TRAIN['length'].mean())\n",
    "\n",
    "# What is the length of a review so that 90% of it is under\n",
    "print(\"90%:\", TRAIN['length'].quantile(0.9))"
   ]
  },
  {
   "cell_type": "code",
   "execution_count": null,
   "metadata": {
    "ExecuteTime": {
     "end_time": "2022-09-12T11:04:14.771605Z",
     "start_time": "2022-09-12T11:04:14.764010Z"
    },
    "colab": {
     "base_uri": "https://localhost:8080/"
    },
    "executionInfo": {
     "elapsed": 5,
     "status": "ok",
     "timestamp": 1634738644430,
     "user": {
      "displayName": "Antoine Collin",
      "photoUrl": "https://lh3.googleusercontent.com/a/default-user=s64",
      "userId": "01107865217976062482"
     },
     "user_tz": -120
    },
    "id": "HernkbJ4vq_z",
    "outputId": "9fec4b69-b51b-478f-b00f-0f47879d8163"
   },
   "outputs": [],
   "source": [
    "# Put all reviews in lower case\n",
    "lower_reviews = [r.lower() for r in TRAIN['Reviews']]\n",
    "lower_reviews[:10]"
   ]
  },
  {
   "cell_type": "code",
   "execution_count": null,
   "metadata": {},
   "outputs": [],
   "source": [
    "# Is the dataset is balanced ?\n",
    "data=pd.DataFrame(y_train)['Rating'].value_counts().reset_index()\n",
    "sns.barplot(x=\"index\", y=\"Rating\", data=data)\n",
    "\n",
    "y=len(y_train)/5\n",
    "data=pd.DataFrame({\"index\":[0,4],\"Rating\":[y,y]})\n",
    "sns.lineplot(x=\"index\", y=\"Rating\", data=data, color=\"red\")"
   ]
  },
  {
   "cell_type": "markdown",
   "metadata": {
    "ExecuteTime": {
     "end_time": "2022-09-12T12:06:34.997094Z",
     "start_time": "2022-09-12T12:06:34.993095Z"
    }
   },
   "source": [
    "$$[TODO - Students]$$ \n",
    "\n",
    "Is accuracy adequate metric ?"
   ]
  },
  {
   "cell_type": "markdown",
   "metadata": {
    "id": "o2eC1L4fvq_0"
   },
   "source": [
    "## Build X (features vectors) and y (labels)"
   ]
  },
  {
   "cell_type": "code",
   "execution_count": null,
   "metadata": {
    "ExecuteTime": {
     "end_time": "2022-09-12T11:04:21.578336Z",
     "start_time": "2022-09-12T11:04:21.572454Z"
    },
    "colab": {
     "base_uri": "https://localhost:8080/"
    },
    "executionInfo": {
     "elapsed": 284,
     "status": "ok",
     "timestamp": 1634738820951,
     "user": {
      "displayName": "Antoine Collin",
      "photoUrl": "https://lh3.googleusercontent.com/a/default-user=s64",
      "userId": "01107865217976062482"
     },
     "user_tz": -120
    },
    "id": "dOnscXEBvq_0",
    "outputId": "4364f457-545c-49d3-c2fe-5540d52b0f58"
   },
   "outputs": [],
   "source": [
    "# Construct X_train and y_train\n",
    "X_train = TRAIN['Reviews'].fillna(\"\")\n",
    "y_train = TRAIN['Rating']\n",
    "X_train.shape, y_train.shape"
   ]
  },
  {
   "cell_type": "code",
   "execution_count": null,
   "metadata": {
    "ExecuteTime": {
     "end_time": "2022-09-12T11:04:22.786928Z",
     "start_time": "2022-09-12T11:04:22.781414Z"
    },
    "colab": {
     "base_uri": "https://localhost:8080/"
    },
    "executionInfo": {
     "elapsed": 9,
     "status": "ok",
     "timestamp": 1634738821203,
     "user": {
      "displayName": "Antoine Collin",
      "photoUrl": "https://lh3.googleusercontent.com/a/default-user=s64",
      "userId": "01107865217976062482"
     },
     "user_tz": -120
    },
    "id": "P6bCQYzPvq_0",
    "outputId": "86267359-2b32-401b-a7a2-59b7645e469e"
   },
   "outputs": [],
   "source": [
    "# Construct X_val and y_val\n",
    "X_val = VAL['Reviews'].fillna(\"\")\n",
    "y_val = VAL['Rating']\n",
    "X_val.shape, y_val.shape"
   ]
  },
  {
   "cell_type": "code",
   "execution_count": null,
   "metadata": {
    "ExecuteTime": {
     "end_time": "2022-09-12T11:04:24.396612Z",
     "start_time": "2022-09-12T11:04:24.391621Z"
    },
    "colab": {
     "base_uri": "https://localhost:8080/"
    },
    "executionInfo": {
     "elapsed": 6,
     "status": "ok",
     "timestamp": 1634738821203,
     "user": {
      "displayName": "Antoine Collin",
      "photoUrl": "https://lh3.googleusercontent.com/a/default-user=s64",
      "userId": "01107865217976062482"
     },
     "user_tz": -120
    },
    "id": "338OMkmHvq_1",
    "outputId": "aea649ad-4a81-4aa7-976f-4b97c3461644"
   },
   "outputs": [],
   "source": [
    "# Construct X_test and y_test\n",
    "X_test = TEST['Reviews'].fillna(\"\")\n",
    "y_test = TEST['Rating']\n",
    "X_test.shape, y_test.shape"
   ]
  },
  {
   "cell_type": "markdown",
   "metadata": {
    "id": "2L3YiNzWvq_1"
   },
   "source": [
    "## Build a baseline"
   ]
  },
  {
   "cell_type": "markdown",
   "metadata": {},
   "source": [
    "### What does \"baseline\" mean in the context of machine learning and data science?\n",
    "\n",
    "A baseline is a method that uses heuristics, simple summary statistics, randomness, or machine learning to create predictions for a dataset. You can use these predictions to measure the baseline's performance (e.g., accuracy)-- this metric will then become what you compare any other machine learning algorithm against.\n",
    "\n",
    "In more detail:\n",
    "\n",
    "* A machine learning algorithm tries to learn a function that models the relationship between the input (feature) data and the target variable (or label). When you test it, you will typically measure performance in one way or another. For example, your algorithm may be 75% accurate. But what does this mean? You can infer this meaning by comparing with a baseline's performance.\n",
    "\n",
    "Typical baselines include those supported by scikit-learn's \"dummy\" estimators:\n",
    "\n",
    "* Classification baselines:\n",
    "\n",
    "    * “stratified”: generates predictions by respecting the training set’s class distribution.\n",
    "    * “most_frequent”: always predicts the most frequent label in the training set.\n",
    "    * “prior”: always predicts the class that maximizes the class prior.\n",
    "    * “uniform”: generates predictions uniformly at random.\n",
    "    * “constant”: always predicts a constant label that is provided by the user.\n",
    "    * This is useful for metrics that evaluate a non-majority class.\n",
    "\n",
    "* Regression baselines:\n",
    "\n",
    "    * “median”: always predicts the median of the training set\n",
    "    * “quantile”: always predicts a specified quantile of the training set,provided with the quantile parameter.\n",
    "    * “constant”: always predicts a constant value that is provided by the user.\n",
    "\n",
    "In general, you will want your approach to outperform the baselines you have selected. In the example above, you would want your 75% accuracy to be higher than any baseline you have run on the same data.\n",
    "\n",
    "Finally, if you are dealing with a specific domain of machine learning (such as recommender systems), then you will typically pick baselines that are current state-of-the-art(SoTA) approaches - since you will usually want to demonstrate that your approach does better than these. For example, while you evaluate a new collaborative filtering algorithm, you may want to compare it to matrix factorization -- which itself is a learning algorithm, but is now a popular baseline since it has been so successful in recommender system research."
   ]
  },
  {
   "cell_type": "markdown",
   "metadata": {},
   "source": [
    "Using a binary `CountVectorizer` and a `LogisticRegression` classifier, learned in a previous lecture, build a first model.\n",
    "\n",
    "For this model, you will not pre-process the text and will only use words (not N-grams). Leaves all parameter as default.\n",
    "\n",
    "The evaluation metric is accuracy."
   ]
  },
  {
   "cell_type": "markdown",
   "metadata": {
    "id": "UbTccrE7B2JX"
   },
   "source": [
    "$$[TODO - Students]$$ \n",
    "Quickly remind what are CountVectorizer and LogisticRegression and how they work."
   ]
  },
  {
   "cell_type": "code",
   "execution_count": null,
   "metadata": {
    "ExecuteTime": {
     "end_time": "2022-09-12T11:04:38.686352Z",
     "start_time": "2022-09-12T11:04:36.195819Z"
    },
    "colab": {
     "base_uri": "https://localhost:8080/"
    },
    "executionInfo": {
     "elapsed": 8234,
     "status": "ok",
     "timestamp": 1634739073199,
     "user": {
      "displayName": "Antoine Collin",
      "photoUrl": "https://lh3.googleusercontent.com/a/default-user=s64",
      "userId": "01107865217976062482"
     },
     "user_tz": -120
    },
    "id": "aErFvDg6vq_2",
    "outputId": "1caadb43-483e-4be7-920a-ed3d45dc265d"
   },
   "outputs": [],
   "source": [
    "# I define the pipeline\n",
    "lr_pipeline = Pipeline([\n",
    "        ('feature_extraction',  CountVectorizer()),\n",
    "        ('classification',  LogisticRegression(multi_class='auto', max_iter=400))\n",
    "        ])\n",
    "\n",
    "# I fit the model\n",
    "lr_pipeline.fit(X_train, y_train)\n",
    "\n",
    "# I evaluate the model\n",
    "y_pred = lr_pipeline.predict(X_test)\n",
    "\n",
    "print(classification_report(y_pred, y_test))"
   ]
  },
  {
   "cell_type": "markdown",
   "metadata": {
    "id": "mdEeQY2Hvq_2"
   },
   "source": [
    "## Build an MLP Classifier\n"
   ]
  },
  {
   "cell_type": "code",
   "execution_count": null,
   "metadata": {
    "ExecuteTime": {
     "end_time": "2022-09-12T11:04:46.547069Z",
     "start_time": "2022-09-12T11:04:46.278784Z"
    },
    "id": "m0jx2omzvq_3"
   },
   "outputs": [],
   "source": [
    "# Encode dataset with CountVectorizer (X) and \n",
    "from sklearn.feature_extraction.text import CountVectorizer\n",
    "from sklearn.preprocessing import OneHotEncoder\n",
    "\n",
    "cv = CountVectorizer()\n",
    "X_train_encoded = cv.fit_transform(X_train).toarray()\n",
    "X_val_encoded = cv.transform(X_val).toarray()\n",
    "X_test_encoded = cv.transform(X_test).toarray()"
   ]
  },
  {
   "cell_type": "markdown",
   "metadata": {
    "id": "vLoZRWAkC2Qw"
   },
   "source": [
    "$$[TODO - Students]$$ \n",
    "\n",
    "Encode y_train, y_val and y_test using OneHotEncoder. What is the purpose of OneHotEncoding ?"
   ]
  },
  {
   "cell_type": "code",
   "execution_count": null,
   "metadata": {
    "ExecuteTime": {
     "end_time": "2022-09-12T11:04:58.812699Z",
     "start_time": "2022-09-12T11:04:58.810604Z"
    },
    "executionInfo": {
     "elapsed": 335,
     "status": "ok",
     "timestamp": 1634741467400,
     "user": {
      "displayName": "Antoine Collin",
      "photoUrl": "https://lh3.googleusercontent.com/a/default-user=s64",
      "userId": "01107865217976062482"
     },
     "user_tz": -120
    },
    "id": "eG3z4Bq-LtnT"
   },
   "outputs": [],
   "source": [
    "# Your code here"
   ]
  },
  {
   "cell_type": "code",
   "execution_count": null,
   "metadata": {
    "ExecuteTime": {
     "end_time": "2022-09-12T11:05:00.046249Z",
     "start_time": "2022-09-12T11:05:00.043005Z"
    },
    "id": "HuUkAgdxvq_4"
   },
   "outputs": [],
   "source": [
    "# Define constant\n",
    "num_classes = len(np.unique(y_train))\n",
    "\n",
    "feature_vector_length = X_train_encoded.shape[1]\n",
    "feature_vector_length, num_classes"
   ]
  },
  {
   "cell_type": "markdown",
   "metadata": {
    "id": "wGUO66DRDQDY"
   },
   "source": [
    "$$[TODO - Students]$$ \n",
    "\n",
    "Build a simple network to predict the star rating of a review using the functional API. It should have the folowing characteristic : one hidden layer with 256 nodes and relu activation.\n",
    "\n"
   ]
  },
  {
   "cell_type": "code",
   "execution_count": null,
   "metadata": {
    "ExecuteTime": {
     "end_time": "2022-09-12T11:05:00.833873Z",
     "start_time": "2022-09-12T11:05:00.831828Z"
    },
    "executionInfo": {
     "elapsed": 217,
     "status": "ok",
     "timestamp": 1634741548737,
     "user": {
      "displayName": "Antoine Collin",
      "photoUrl": "https://lh3.googleusercontent.com/a/default-user=s64",
      "userId": "01107865217976062482"
     },
     "user_tz": -120
    },
    "id": "LiuynQmZMFy7"
   },
   "outputs": [],
   "source": [
    "# Your code here"
   ]
  },
  {
   "cell_type": "markdown",
   "metadata": {
    "id": "axBVvIHCD4_h"
   },
   "source": [
    "$$[TODO - Students]$$ \n",
    "\n",
    "We are now training the model. Using the tensorflow documentation, explain the purpose the EarlyStopping callback and detail its arguments.\n",
    "\n",
    "Complete the following code with the appropriate loss and explain what it does.\n",
    "\n",
    "Choose the correct loss function and metrics."
   ]
  },
  {
   "cell_type": "code",
   "execution_count": null,
   "metadata": {
    "ExecuteTime": {
     "end_time": "2022-09-12T11:05:02.191989Z",
     "start_time": "2022-09-12T11:05:02.153631Z"
    },
    "colab": {
     "base_uri": "https://localhost:8080/"
    },
    "executionInfo": {
     "elapsed": 29782,
     "status": "ok",
     "timestamp": 1634740224894,
     "user": {
      "displayName": "Antoine Collin",
      "photoUrl": "https://lh3.googleusercontent.com/a/default-user=s64",
      "userId": "01107865217976062482"
     },
     "user_tz": -120
    },
    "id": "C4zg06r3vq_6",
    "outputId": "0f308061-087c-4724-e163-c3649c762f07"
   },
   "outputs": [],
   "source": [
    "# Configure the model and start training\n",
    "# Stop training with early stopping with patience of 20\n",
    "callbacks_list = [EarlyStopping(monitor=\"XXX\", min_delta=\"XXX\", patience=\"XXX\", verbose=1, mode=\"XXX\",\n",
    "                                restore_best_weights=True)\n",
    "                 ]\n",
    "\n",
    "model.compile(loss=\"XXX\", optimizer='adam', metrics=['XXX'])\n",
    "history = model.fit(X_train_encoded, y_train_encoded,\n",
    "                    validation_data=(X_val_encoded, y_val_encoded),\n",
    "                    epochs=1000, batch_size=250,\n",
    "                    callbacks=callbacks_list, verbose=1)"
   ]
  },
  {
   "cell_type": "code",
   "execution_count": null,
   "metadata": {
    "ExecuteTime": {
     "end_time": "2022-09-12T11:05:03.890890Z",
     "start_time": "2022-09-12T11:05:03.876614Z"
    },
    "colab": {
     "base_uri": "https://localhost:8080/",
     "height": 320
    },
    "executionInfo": {
     "elapsed": 593,
     "status": "ok",
     "timestamp": 1634739502335,
     "user": {
      "displayName": "Antoine Collin",
      "photoUrl": "https://lh3.googleusercontent.com/a/default-user=s64",
      "userId": "01107865217976062482"
     },
     "user_tz": -120
    },
    "id": "UAGMeWF_vq_7",
    "outputId": "08483bc2-2034-4535-cc6d-0363246d974b"
   },
   "outputs": [],
   "source": [
    "# Plot the learning curves and analyze them\n",
    "pd.DataFrame(history.history).plot(figsize=(8,5))\n",
    "plt.show()"
   ]
  },
  {
   "cell_type": "markdown",
   "metadata": {
    "id": "Uvu-O2JJHNrA"
   },
   "source": [
    "$$[TODO - Students]$$ \n",
    "\n",
    "How do you interpret those learning curves ?\n"
   ]
  },
  {
   "cell_type": "markdown",
   "metadata": {
    "id": "VVq-Z3sQHT78"
   },
   "source": [
    "The model is seemingly overfitting the training data. Various strategies could reduce the overfitting but for this lab, we'll settle on changing the layers number and size"
   ]
  },
  {
   "cell_type": "code",
   "execution_count": null,
   "metadata": {
    "ExecuteTime": {
     "end_time": "2022-09-12T11:05:06.242460Z",
     "start_time": "2022-09-12T11:05:06.228453Z"
    },
    "colab": {
     "base_uri": "https://localhost:8080/"
    },
    "executionInfo": {
     "elapsed": 255,
     "status": "ok",
     "timestamp": 1634741041810,
     "user": {
      "displayName": "Antoine Collin",
      "photoUrl": "https://lh3.googleusercontent.com/a/default-user=s64",
      "userId": "01107865217976062482"
     },
     "user_tz": -120
    },
    "id": "zS8fi1z3vq_8",
    "outputId": "fd7a327b-b3fb-4e59-c44b-f081a25499da"
   },
   "outputs": [],
   "source": [
    "# Evaluate the model\n",
    "y_pred_encoded = model.predict(X_test_encoded)\n",
    "y_pred = np.argmax(y_pred_encoded,axis=1) + 1\n",
    "\n",
    "print(classification_report(y_test, y_pred))"
   ]
  },
  {
   "cell_type": "code",
   "execution_count": null,
   "metadata": {
    "ExecuteTime": {
     "end_time": "2022-09-12T11:05:07.288063Z",
     "start_time": "2022-09-12T11:05:07.107645Z"
    },
    "colab": {
     "base_uri": "https://localhost:8080/",
     "height": 282
    },
    "executionInfo": {
     "elapsed": 752,
     "status": "ok",
     "timestamp": 1634741048104,
     "user": {
      "displayName": "Antoine Collin",
      "photoUrl": "https://lh3.googleusercontent.com/a/default-user=s64",
      "userId": "01107865217976062482"
     },
     "user_tz": -120
    },
    "id": "_gSjyTEMH2nQ",
    "outputId": "1c052541-d573-48ad-b4e8-95061f705763"
   },
   "outputs": [],
   "source": [
    "# Print/plot the confusion matrix\n",
    "from sklearn.metrics import confusion_matrix\n",
    "import seaborn as sns\n",
    "sns.heatmap(confusion_matrix(y_test, y_pred, normalize='true'),annot=True)"
   ]
  },
  {
   "cell_type": "markdown",
   "metadata": {
    "id": "jtJUkEx6xGL2"
   },
   "source": [
    "## Same example with Keras TextVectorization layer\n",
    "\n",
    "Do you understand it? Study the differences and choose the approach you think is best for the rest of the Lab."
   ]
  },
  {
   "cell_type": "code",
   "execution_count": null,
   "metadata": {},
   "outputs": [],
   "source": [
    "text_dataset = tf.data.Dataset.from_tensor_slices(X_train)\n",
    "\n",
    "# Create the layer.\n",
    "vectorize_layer = tf.keras.layers.TextVectorization(output_mode='count')\n",
    "\n",
    "# Now that the vocab layer has been created, call `adapt` on the\n",
    "# text-only dataset to create the vocabulary. You don't have to batch,\n",
    "# but for large datasets this means we're not keeping spare copies of\n",
    "# the dataset.\n",
    "vectorize_layer.adapt(text_dataset.batch(64))"
   ]
  },
  {
   "cell_type": "code",
   "execution_count": null,
   "metadata": {},
   "outputs": [],
   "source": [
    "# Create the model that uses the vectorize text layer\n",
    "\n",
    "# Set the input layer\n",
    "# It needs to have a shape of (1,) (because we need to guarantee that there is exactly\n",
    "# one string input per batch), and the dtype needs to be 'string'.\n",
    "text_input = Input(shape=(1,), dtype=tf.string, name='input')\n",
    "\n",
    "# The first layer in our model is the vectorization layer.\n",
    "h =vectorize_layer(text_input)\n",
    "\n",
    "# Set the hidden layer\n",
    "h = Dense(256, activation='relu', name='hidden')(h)\n",
    "\n",
    "# Set the output layer\n",
    "ouputs = Dense(num_classes, activation='softmax', name='output')(h)\n",
    "\n",
    "# Build the model\n",
    "model = Model(text_input, ouputs)\n",
    "\n",
    "# Print the model\n",
    "model.summary()"
   ]
  },
  {
   "cell_type": "code",
   "execution_count": null,
   "metadata": {},
   "outputs": [],
   "source": [
    "# Configure the model and start training\n",
    "# Stop training with early stopping with patience of 20\n",
    "callbacks_list = [EarlyStopping(monitor='val_accuracy', min_delta=0.0005, patience=20, verbose=1, mode='max', restore_best_weights=True)\n",
    "                 ]\n",
    "\n",
    "model.compile(loss='sparse_categorical_crossentropy', optimizer='adam', metrics=['accuracy'])\n",
    "history = model.fit(X_train, y_train-np.min(y_train),\n",
    "                    validation_data=(X_val, y_val-np.min(y_val)),\n",
    "                    epochs=1000, batch_size=250,\n",
    "                    callbacks=callbacks_list, verbose=1)"
   ]
  },
  {
   "cell_type": "markdown",
   "metadata": {
    "ExecuteTime": {
     "end_time": "2022-09-12T11:45:10.965691Z",
     "start_time": "2022-09-12T11:45:10.954897Z"
    }
   },
   "source": [
    "## Main part of the lab\n",
    "\n",
    "$$[TODO - Students]$$ \n",
    "\n",
    "Improve the model by changing the preprocessing, the number of layers and the number of neurons per layer.\n",
    "The goal is to increase the model accuracy."
   ]
  }
 ],
 "metadata": {
  "colab": {
   "collapsed_sections": [],
   "name": "Copie de 02-notebook-NLP-sentiment-analysis-with-MLP-AC-Students.ipynb",
   "provenance": [],
   "toc_visible": true
  },
  "kernelspec": {
   "display_name": "Python 3",
   "language": "python",
   "name": "python3"
  },
  "language_info": {
   "codemirror_mode": {
    "name": "ipython",
    "version": 3
   },
   "file_extension": ".py",
   "mimetype": "text/x-python",
   "name": "python",
   "nbconvert_exporter": "python",
   "pygments_lexer": "ipython3",
   "version": "3.8.8"
  },
  "latex_envs": {
   "LaTeX_envs_menu_present": true,
   "autoclose": true,
   "autocomplete": true,
   "bibliofile": "biblio.bib",
   "cite_by": "apalike",
   "current_citInitial": 1,
   "eqLabelWithNumbers": true,
   "eqNumInitial": 1,
   "hotkeys": {
    "equation": "Ctrl-E",
    "itemize": "Ctrl-I"
   },
   "labels_anchors": false,
   "latex_user_defs": false,
   "report_style_numbering": false,
   "user_envs_cfg": false
  },
  "nbTranslate": {
   "displayLangs": [
    "*"
   ],
   "hotkey": "alt-t",
   "langInMainMenu": true,
   "sourceLang": "en",
   "targetLang": "fr",
   "useGoogleTranslate": true
  },
  "toc": {
   "base_numbering": 1,
   "nav_menu": {},
   "number_sections": true,
   "sideBar": true,
   "skip_h1_title": true,
   "title_cell": "Table of Contents",
   "title_sidebar": "Contents",
   "toc_cell": true,
   "toc_position": {},
   "toc_section_display": true,
   "toc_window_display": false
  }
 },
 "nbformat": 4,
 "nbformat_minor": 1
}
