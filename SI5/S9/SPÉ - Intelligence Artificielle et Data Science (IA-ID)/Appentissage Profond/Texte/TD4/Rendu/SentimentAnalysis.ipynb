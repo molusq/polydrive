{
  "nbformat": 4,
  "nbformat_minor": 0,
  "metadata": {
    "colab": {
      "provenance": [],
      "collapsed_sections": []
    },
    "kernelspec": {
      "name": "python3",
      "display_name": "Python 3"
    },
    "language_info": {
      "name": "python"
    }
  },
  "cells": [
    {
      "cell_type": "markdown",
      "source": [
        "# Appentissage profond pour le texte.\n",
        "# Rendu 1 : Sentiment Analysis"
      ],
      "metadata": {
        "id": "CKT8REsE-t_w"
      }
    },
    {
      "cell_type": "code",
      "source": [
        "import ssl\n",
        "ssl._create_default_https_context = ssl._create_unverified_context"
      ],
      "metadata": {
        "id": "p2NeRiLp_EuL"
      },
      "execution_count": null,
      "outputs": []
    },
    {
      "cell_type": "code",
      "source": [
        "import warnings\n",
        "warnings.filterwarnings('ignore')"
      ],
      "metadata": {
        "id": "lCDiXOGwGFy3"
      },
      "execution_count": null,
      "outputs": []
    },
    {
      "cell_type": "code",
      "source": [
        "import numpy as np\n",
        "import matplotlib.pyplot as plt\n",
        "import seaborn as sns\n",
        "import pandas as pd\n",
        "import time"
      ],
      "metadata": {
        "id": "u3XRGOv5GJnN"
      },
      "execution_count": null,
      "outputs": []
    },
    {
      "cell_type": "code",
      "source": [
        "from sklearn.model_selection import train_test_split\n",
        "\n",
        "from sklearn.pipeline import Pipeline\n",
        "from sklearn.feature_extraction.text import CountVectorizer\n",
        "from sklearn.preprocessing import OneHotEncoder\n",
        "\n",
        "from sklearn.linear_model import LogisticRegression\n",
        "from sklearn.metrics import classification_report, confusion_matrix, f1_score"
      ],
      "metadata": {
        "id": "9ckogDcTGLF8"
      },
      "execution_count": null,
      "outputs": []
    },
    {
      "cell_type": "code",
      "source": [
        "import nltk\n",
        "nltk.download(\"punkt\")\n",
        "from nltk import word_tokenize          \n",
        "from nltk import FreqDist"
      ],
      "metadata": {
        "id": "RjBfC3fMGMu4",
        "colab": {
          "base_uri": "https://localhost:8080/"
        },
        "outputId": "bb3abaa0-ff13-4118-d641-02d83a11fb0f"
      },
      "execution_count": null,
      "outputs": [
        {
          "output_type": "stream",
          "name": "stderr",
          "text": [
            "[nltk_data] Downloading package punkt to /root/nltk_data...\n",
            "[nltk_data]   Unzipping tokenizers/punkt.zip.\n"
          ]
        }
      ]
    },
    {
      "cell_type": "code",
      "source": [
        "import tensorflow as tf\n",
        "from tensorflow.keras.models import Model\n",
        "from tensorflow.keras.layers import Input, Dense, TextVectorization\n",
        "from tensorflow.keras.callbacks import EarlyStopping"
      ],
      "metadata": {
        "id": "JTpdNrHFGN4B"
      },
      "execution_count": null,
      "outputs": []
    },
    {
      "cell_type": "markdown",
      "source": [
        "## Dataset Loading"
      ],
      "metadata": {
        "id": "jHpKfabhG-qW"
      }
    },
    {
      "cell_type": "markdown",
      "source": [
        "### Load The dataset"
      ],
      "metadata": {
        "id": "sC8VrmK6Go-4"
      }
    },
    {
      "cell_type": "code",
      "source": [
        "TRAIN = pd.read_csv(\"http://www.i3s.unice.fr/~riveill/dataset/Amazon_Unlocked_Mobile/train.csv.gz\")\n",
        "VAL = pd.read_csv(\"http://www.i3s.unice.fr/~riveill/dataset/Amazon_Unlocked_Mobile/val.csv.gz\")\n",
        "TEST = pd.read_csv(\"http://www.i3s.unice.fr/~riveill/dataset/Amazon_Unlocked_Mobile/test.csv.gz\")\n",
        "\n",
        "TRAIN.head()"
      ],
      "metadata": {
        "colab": {
          "base_uri": "https://localhost:8080/",
          "height": 206
        },
        "id": "R7knUHj8G2qv",
        "outputId": "7b9599ea-2784-4634-d83f-10bbac3cc882"
      },
      "execution_count": null,
      "outputs": [
        {
          "output_type": "execute_result",
          "data": {
            "text/plain": [
              "                                        Product Name Brand Name   Price  \\\n",
              "0  Samsung Galaxy Note 4 N910C Unlocked Cellphone...    Samsung  449.99   \n",
              "1  BLU Energy X Plus Smartphone - With 4000 mAh S...        BLU  139.00   \n",
              "2                   Apple iPhone 6 128GB Silver AT&T      Apple  599.95   \n",
              "3  BLU Advance 4.0L Unlocked Smartphone -US GSM -...        BLU   51.99   \n",
              "4  Huawei P8 Lite US Version- 5 Unlocked Android ...     Huawei  198.99   \n",
              "\n",
              "   Rating                                            Reviews  Review Votes  \n",
              "0       4             I love it!!! I absolutely love it!! 👌👍           0.0  \n",
              "1       5  I love the BLU phones! This is my second one t...           4.0  \n",
              "2       5                                        Great phone           1.0  \n",
              "3       4  Very happy with the performance. The apps work...           2.0  \n",
              "4       5                            Easy to use great price           0.0  "
            ],
            "text/html": [
              "\n",
              "  <div id=\"df-67f51591-5dd6-4b9a-abd6-f3c5fb19a157\">\n",
              "    <div class=\"colab-df-container\">\n",
              "      <div>\n",
              "<style scoped>\n",
              "    .dataframe tbody tr th:only-of-type {\n",
              "        vertical-align: middle;\n",
              "    }\n",
              "\n",
              "    .dataframe tbody tr th {\n",
              "        vertical-align: top;\n",
              "    }\n",
              "\n",
              "    .dataframe thead th {\n",
              "        text-align: right;\n",
              "    }\n",
              "</style>\n",
              "<table border=\"1\" class=\"dataframe\">\n",
              "  <thead>\n",
              "    <tr style=\"text-align: right;\">\n",
              "      <th></th>\n",
              "      <th>Product Name</th>\n",
              "      <th>Brand Name</th>\n",
              "      <th>Price</th>\n",
              "      <th>Rating</th>\n",
              "      <th>Reviews</th>\n",
              "      <th>Review Votes</th>\n",
              "    </tr>\n",
              "  </thead>\n",
              "  <tbody>\n",
              "    <tr>\n",
              "      <th>0</th>\n",
              "      <td>Samsung Galaxy Note 4 N910C Unlocked Cellphone...</td>\n",
              "      <td>Samsung</td>\n",
              "      <td>449.99</td>\n",
              "      <td>4</td>\n",
              "      <td>I love it!!! I absolutely love it!! 👌👍</td>\n",
              "      <td>0.0</td>\n",
              "    </tr>\n",
              "    <tr>\n",
              "      <th>1</th>\n",
              "      <td>BLU Energy X Plus Smartphone - With 4000 mAh S...</td>\n",
              "      <td>BLU</td>\n",
              "      <td>139.00</td>\n",
              "      <td>5</td>\n",
              "      <td>I love the BLU phones! This is my second one t...</td>\n",
              "      <td>4.0</td>\n",
              "    </tr>\n",
              "    <tr>\n",
              "      <th>2</th>\n",
              "      <td>Apple iPhone 6 128GB Silver AT&amp;T</td>\n",
              "      <td>Apple</td>\n",
              "      <td>599.95</td>\n",
              "      <td>5</td>\n",
              "      <td>Great phone</td>\n",
              "      <td>1.0</td>\n",
              "    </tr>\n",
              "    <tr>\n",
              "      <th>3</th>\n",
              "      <td>BLU Advance 4.0L Unlocked Smartphone -US GSM -...</td>\n",
              "      <td>BLU</td>\n",
              "      <td>51.99</td>\n",
              "      <td>4</td>\n",
              "      <td>Very happy with the performance. The apps work...</td>\n",
              "      <td>2.0</td>\n",
              "    </tr>\n",
              "    <tr>\n",
              "      <th>4</th>\n",
              "      <td>Huawei P8 Lite US Version- 5 Unlocked Android ...</td>\n",
              "      <td>Huawei</td>\n",
              "      <td>198.99</td>\n",
              "      <td>5</td>\n",
              "      <td>Easy to use great price</td>\n",
              "      <td>0.0</td>\n",
              "    </tr>\n",
              "  </tbody>\n",
              "</table>\n",
              "</div>\n",
              "      <button class=\"colab-df-convert\" onclick=\"convertToInteractive('df-67f51591-5dd6-4b9a-abd6-f3c5fb19a157')\"\n",
              "              title=\"Convert this dataframe to an interactive table.\"\n",
              "              style=\"display:none;\">\n",
              "        \n",
              "  <svg xmlns=\"http://www.w3.org/2000/svg\" height=\"24px\"viewBox=\"0 0 24 24\"\n",
              "       width=\"24px\">\n",
              "    <path d=\"M0 0h24v24H0V0z\" fill=\"none\"/>\n",
              "    <path d=\"M18.56 5.44l.94 2.06.94-2.06 2.06-.94-2.06-.94-.94-2.06-.94 2.06-2.06.94zm-11 1L8.5 8.5l.94-2.06 2.06-.94-2.06-.94L8.5 2.5l-.94 2.06-2.06.94zm10 10l.94 2.06.94-2.06 2.06-.94-2.06-.94-.94-2.06-.94 2.06-2.06.94z\"/><path d=\"M17.41 7.96l-1.37-1.37c-.4-.4-.92-.59-1.43-.59-.52 0-1.04.2-1.43.59L10.3 9.45l-7.72 7.72c-.78.78-.78 2.05 0 2.83L4 21.41c.39.39.9.59 1.41.59.51 0 1.02-.2 1.41-.59l7.78-7.78 2.81-2.81c.8-.78.8-2.07 0-2.86zM5.41 20L4 18.59l7.72-7.72 1.47 1.35L5.41 20z\"/>\n",
              "  </svg>\n",
              "      </button>\n",
              "      \n",
              "  <style>\n",
              "    .colab-df-container {\n",
              "      display:flex;\n",
              "      flex-wrap:wrap;\n",
              "      gap: 12px;\n",
              "    }\n",
              "\n",
              "    .colab-df-convert {\n",
              "      background-color: #E8F0FE;\n",
              "      border: none;\n",
              "      border-radius: 50%;\n",
              "      cursor: pointer;\n",
              "      display: none;\n",
              "      fill: #1967D2;\n",
              "      height: 32px;\n",
              "      padding: 0 0 0 0;\n",
              "      width: 32px;\n",
              "    }\n",
              "\n",
              "    .colab-df-convert:hover {\n",
              "      background-color: #E2EBFA;\n",
              "      box-shadow: 0px 1px 2px rgba(60, 64, 67, 0.3), 0px 1px 3px 1px rgba(60, 64, 67, 0.15);\n",
              "      fill: #174EA6;\n",
              "    }\n",
              "\n",
              "    [theme=dark] .colab-df-convert {\n",
              "      background-color: #3B4455;\n",
              "      fill: #D2E3FC;\n",
              "    }\n",
              "\n",
              "    [theme=dark] .colab-df-convert:hover {\n",
              "      background-color: #434B5C;\n",
              "      box-shadow: 0px 1px 3px 1px rgba(0, 0, 0, 0.15);\n",
              "      filter: drop-shadow(0px 1px 2px rgba(0, 0, 0, 0.3));\n",
              "      fill: #FFFFFF;\n",
              "    }\n",
              "  </style>\n",
              "\n",
              "      <script>\n",
              "        const buttonEl =\n",
              "          document.querySelector('#df-67f51591-5dd6-4b9a-abd6-f3c5fb19a157 button.colab-df-convert');\n",
              "        buttonEl.style.display =\n",
              "          google.colab.kernel.accessAllowed ? 'block' : 'none';\n",
              "\n",
              "        async function convertToInteractive(key) {\n",
              "          const element = document.querySelector('#df-67f51591-5dd6-4b9a-abd6-f3c5fb19a157');\n",
              "          const dataTable =\n",
              "            await google.colab.kernel.invokeFunction('convertToInteractive',\n",
              "                                                     [key], {});\n",
              "          if (!dataTable) return;\n",
              "\n",
              "          const docLinkHtml = 'Like what you see? Visit the ' +\n",
              "            '<a target=\"_blank\" href=https://colab.research.google.com/notebooks/data_table.ipynb>data table notebook</a>'\n",
              "            + ' to learn more about interactive tables.';\n",
              "          element.innerHTML = '';\n",
              "          dataTable['output_type'] = 'display_data';\n",
              "          await google.colab.output.renderOutput(dataTable, element);\n",
              "          const docLink = document.createElement('div');\n",
              "          docLink.innerHTML = docLinkHtml;\n",
              "          element.appendChild(docLink);\n",
              "        }\n",
              "      </script>\n",
              "    </div>\n",
              "  </div>\n",
              "  "
            ]
          },
          "metadata": {},
          "execution_count": 8
        }
      ]
    },
    {
      "cell_type": "markdown",
      "source": [
        "### Understand the dataset"
      ],
      "metadata": {
        "id": "Px2e9w4xHD1h"
      }
    },
    {
      "cell_type": "code",
      "source": [
        "# Tokenized the reviews\n",
        "reviews_tokenized = [word_tokenize(review) for review in TRAIN['Reviews']]\n",
        "reviews_tokenized[:10]"
      ],
      "metadata": {
        "id": "Zx_A4Mt8G4-7"
      },
      "execution_count": null,
      "outputs": []
    },
    {
      "cell_type": "code",
      "source": [
        "# Count the vocabulary\n",
        "flatten_reviews = [item for sublist in reviews_tokenized for item in sublist]\n",
        "vocabulary_size = len(set(flatten_reviews))\n",
        "vocabulary_size"
      ],
      "metadata": {
        "colab": {
          "base_uri": "https://localhost:8080/"
        },
        "id": "8iFJ958jHRRk",
        "outputId": "cab391e7-b01b-40e2-dbab-3d37b475b303"
      },
      "execution_count": null,
      "outputs": [
        {
          "output_type": "execute_result",
          "data": {
            "text/plain": [
              "13099"
            ]
          },
          "metadata": {},
          "execution_count": 9
        }
      ]
    },
    {
      "cell_type": "code",
      "source": [
        "# Plot the distribution of words\n",
        "from nltk import FreqDist\n",
        "\n",
        "freqDist = FreqDist(flatten_reviews)\n",
        "print(freqDist.most_common(10))\n",
        "freqDist.plot(25, cumulative=False)"
      ],
      "metadata": {
        "colab": {
          "base_uri": "https://localhost:8080/",
          "height": 335
        },
        "id": "zoxBUC4THSm5",
        "outputId": "a1bb0945-1b3a-493d-f7c2-fdcbff5c8e1b"
      },
      "execution_count": null,
      "outputs": [
        {
          "output_type": "stream",
          "name": "stdout",
          "text": [
            "[('.', 10867), ('the', 8323), ('I', 6743), (',', 6551), ('and', 5429), ('it', 5217), ('phone', 5132), ('a', 4855), ('to', 4682), ('is', 3991)]\n"
          ]
        },
        {
          "output_type": "display_data",
          "data": {
            "text/plain": [
              "<Figure size 432x288 with 1 Axes>"
            ],
            "image/png": "[encoded data removed]"
          },
          "metadata": {
            "needs_background": "light"
          }
        },
        {
          "output_type": "execute_result",
          "data": {
            "text/plain": [
              "<matplotlib.axes._subplots.AxesSubplot at 0x7fa225949810>"
            ]
          },
          "metadata": {},
          "execution_count": 10
        }
      ]
    },
    {
      "cell_type": "code",
      "source": [
        "# Plot the distibution of word length size\n",
        "len_words = [len(w) for w in flatten_reviews]\n",
        "freqDist2 = FreqDist(len_words)\n",
        "freqDist2.plot(cumulative=False)"
      ],
      "metadata": {
        "colab": {
          "base_uri": "https://localhost:8080/",
          "height": 299
        },
        "id": "D4NxEP5hHUTV",
        "outputId": "7088a896-31b3-45a3-8e74-04b94c463bba"
      },
      "execution_count": null,
      "outputs": [
        {
          "output_type": "display_data",
          "data": {
            "text/plain": [
              "<Figure size 432x288 with 1 Axes>"
            ],
            "image/png": "[encoded data removed]"
          },
          "metadata": {
            "needs_background": "light"
          }
        },
        {
          "output_type": "execute_result",
          "data": {
            "text/plain": [
              "<matplotlib.axes._subplots.AxesSubplot at 0x7fa2258d47d0>"
            ]
          },
          "metadata": {},
          "execution_count": 11
        }
      ]
    },
    {
      "cell_type": "code",
      "source": [
        "# On TRAIN only because we don't know future data\n",
        "\n",
        "# Add a column to the dataframe with the length in tokens of the review\n",
        "TRAIN['length'] = [len(r) for r in reviews_tokenized]\n",
        "\n",
        "# What is the maximum length of a review\n",
        "print(\"MAX:\", TRAIN['length'].max())\n",
        "\n",
        "# What is the average length of a review\n",
        "print(\"MEAN:\", TRAIN['length'].mean())\n",
        "\n",
        "# What is the length of a review so that 90% of it is under\n",
        "print(\"90%:\", TRAIN['length'].quantile(0.9))"
      ],
      "metadata": {
        "colab": {
          "base_uri": "https://localhost:8080/"
        },
        "id": "o0TFfKXjHV90",
        "outputId": "a24a23f3-5acb-4e2d-da1c-73cdb7c4457a"
      },
      "execution_count": null,
      "outputs": [
        {
          "output_type": "stream",
          "name": "stdout",
          "text": [
            "MAX: 1137\n",
            "MEAN: 45.7284\n",
            "90%: 109.0\n"
          ]
        }
      ]
    },
    {
      "cell_type": "code",
      "source": [
        "# Put all reviews in lower case\n",
        "lower_reviews = [r.lower() for r in TRAIN['Reviews']]\n",
        "lower_reviews[:10]"
      ],
      "metadata": {
        "id": "0dycUwmoHYNP"
      },
      "execution_count": null,
      "outputs": []
    },
    {
      "cell_type": "code",
      "source": [
        "# Is the dataset is balanced ?\n",
        "data=pd.DataFrame(y_train)['Rating'].value_counts().reset_index()\n",
        "sns.barplot(x=\"index\", y=\"Rating\", data=data)\n",
        "\n",
        "y=len(y_train)/5\n",
        "data=pd.DataFrame({\"index\":[0,4],\"Rating\":[y,y]})\n",
        "sns.lineplot(x=\"index\", y=\"Rating\", data=data, color=\"red\")"
      ],
      "metadata": {
        "id": "Uegql4C2Harp",
        "colab": {
          "base_uri": "https://localhost:8080/",
          "height": 296
        },
        "outputId": "8bbfb488-6201-4061-eb5c-5c109c6470e9"
      },
      "execution_count": null,
      "outputs": [
        {
          "output_type": "execute_result",
          "data": {
            "text/plain": [
              "<matplotlib.axes._subplots.AxesSubplot at 0x7fa225414350>"
            ]
          },
          "metadata": {},
          "execution_count": 18
        },
        {
          "output_type": "display_data",
          "data": {
            "text/plain": [
              "<Figure size 432x288 with 1 Axes>"
            ],
            "image/png": "[encoded data removed]"
          },
          "metadata": {
            "needs_background": "light"
          }
        }
      ]
    },
    {
      "cell_type": "markdown",
      "source": [
        "## Build X (features vectors) and y (labels)"
      ],
      "metadata": {
        "id": "mpGqwToCIPdb"
      }
    },
    {
      "cell_type": "code",
      "source": [
        "# Construct X_train and y_train\n",
        "X_train = TRAIN['Reviews'].fillna(\"\")\n",
        "y_train = TRAIN['Rating']\n",
        "X_train.shape, y_train.shape"
      ],
      "metadata": {
        "id": "APPi0mdtITXd",
        "colab": {
          "base_uri": "https://localhost:8080/"
        },
        "outputId": "d15824e5-8c69-40b8-9776-c566128bb259"
      },
      "execution_count": null,
      "outputs": [
        {
          "output_type": "execute_result",
          "data": {
            "text/plain": [
              "((5000,), (5000,))"
            ]
          },
          "metadata": {},
          "execution_count": 9
        }
      ]
    },
    {
      "cell_type": "code",
      "source": [
        "# Construct X_val and y_val\n",
        "X_val = VAL['Reviews'].fillna(\"\")\n",
        "y_val = VAL['Rating']\n",
        "X_val.shape, y_val.shape"
      ],
      "metadata": {
        "id": "DSbKFnaXITnd",
        "colab": {
          "base_uri": "https://localhost:8080/"
        },
        "outputId": "d8c791a6-e56d-48d9-b311-5013304fbcce"
      },
      "execution_count": null,
      "outputs": [
        {
          "output_type": "execute_result",
          "data": {
            "text/plain": [
              "((1000,), (1000,))"
            ]
          },
          "metadata": {},
          "execution_count": 10
        }
      ]
    },
    {
      "cell_type": "code",
      "source": [
        "# Construct X_test and y_test\n",
        "X_test = TEST['Reviews'].fillna(\"\")\n",
        "y_test = TEST['Rating']\n",
        "X_test.shape, y_test.shape"
      ],
      "metadata": {
        "id": "cFDuhIJ6IT5B",
        "colab": {
          "base_uri": "https://localhost:8080/"
        },
        "outputId": "1d4e4fd9-ec11-44ad-c330-1e9e96627c99"
      },
      "execution_count": null,
      "outputs": [
        {
          "output_type": "execute_result",
          "data": {
            "text/plain": [
              "((1000,), (1000,))"
            ]
          },
          "metadata": {},
          "execution_count": 11
        }
      ]
    },
    {
      "cell_type": "markdown",
      "source": [
        "## Preprocessing"
      ],
      "metadata": {
        "id": "_VKWXQVu8l5k"
      }
    },
    {
      "cell_type": "code",
      "source": [
        "# Encode dataset with CountVectorizer (X) and \n",
        "from sklearn.feature_extraction.text import CountVectorizer\n",
        "from sklearn.preprocessing import OneHotEncoder\n",
        "\n",
        "cv = CountVectorizer()\n",
        "X_train_encoded = cv.fit_transform(X_train).toarray()\n",
        "X_val_encoded = cv.transform(X_val).toarray()\n",
        "X_test_encoded = cv.transform(X_test).toarray()\n",
        "\n",
        "ohe = OneHotEncoder()\n",
        "ohe.fit(np.array([1,2,3,4,5]).reshape(-1, 1))\n",
        "y_train_encoded = ohe.transform(np.array(y_train).reshape(-1, 1)).toarray()\n",
        "y_test_encoded = ohe.transform(np.array(y_test).reshape(-1, 1)).toarray()\n",
        "y_val_encoded = ohe.transform(np.array(y_val).reshape(-1, 1)).toarray()\n",
        "\n",
        "X_train_encoded.shape"
      ],
      "metadata": {
        "colab": {
          "base_uri": "https://localhost:8080/"
        },
        "id": "SFpN7Lfz8pbv",
        "outputId": "06d3fe5e-5a32-43f4-ee7b-337baafcc8c3"
      },
      "execution_count": null,
      "outputs": [
        {
          "output_type": "execute_result",
          "data": {
            "text/plain": [
              "(5000, 8991)"
            ]
          },
          "metadata": {},
          "execution_count": 12
        }
      ]
    },
    {
      "cell_type": "code",
      "source": [
        "# Initialize f1_score results dictionary\n",
        "f1_scores = {}"
      ],
      "metadata": {
        "id": "z9ozyz1-Dikt"
      },
      "execution_count": null,
      "outputs": []
    },
    {
      "cell_type": "markdown",
      "source": [
        "## BOW + Logistic Regression"
      ],
      "metadata": {
        "id": "lweuhDVpFhDO"
      }
    },
    {
      "cell_type": "code",
      "source": [
        "# Define the pipeline\n",
        "lr_pipeline = Pipeline([\n",
        "        ('feature_extraction',  CountVectorizer()),\n",
        "        ('classification',  LogisticRegression(multi_class='auto', max_iter=400))\n",
        "        ])\n",
        "\n",
        "# I fit the model\n",
        "lr_pipeline.fit(X_train, y_train)\n",
        "\n",
        "# I evaluate the model\n",
        "y_pred = lr_pipeline.predict(X_test)\n",
        "\n",
        "print(classification_report(y_pred, y_test))\n",
        "\n",
        "f1_scores['bow-lr'] = f1_score(y_test, y_pred, average='weighted')"
      ],
      "metadata": {
        "id": "DIOfSSvpFl0m",
        "colab": {
          "base_uri": "https://localhost:8080/"
        },
        "outputId": "68fe6c55-5a85-40fd-8400-92da388faac7"
      },
      "execution_count": null,
      "outputs": [
        {
          "output_type": "stream",
          "name": "stdout",
          "text": [
            "              precision    recall  f1-score   support\n",
            "\n",
            "           1       0.62      0.64      0.63       155\n",
            "           2       0.18      0.29      0.22        31\n",
            "           3       0.17      0.23      0.20        52\n",
            "           4       0.25      0.44      0.32        94\n",
            "           5       0.91      0.76      0.83       668\n",
            "\n",
            "    accuracy                           0.67      1000\n",
            "   macro avg       0.43      0.47      0.44      1000\n",
            "weighted avg       0.74      0.67      0.70      1000\n",
            "\n"
          ]
        }
      ]
    },
    {
      "cell_type": "markdown",
      "source": [
        "## BOW + MLP"
      ],
      "metadata": {
        "id": "ZNTubhH2FmVx"
      }
    },
    {
      "cell_type": "code",
      "source": [
        "# !pip install tensorflow-addons"
      ],
      "metadata": {
        "id": "Ecz7JP0WNLwy"
      },
      "execution_count": null,
      "outputs": []
    },
    {
      "cell_type": "code",
      "source": [
        "from tensorflow_addons.metrics import F1Score\n",
        "\n",
        "nb_classes = 5 # number of classes to predict\n",
        "\n",
        "f1_metric = F1Score(num_classes=nb_classes, threshold=0.5, average='weighted')"
      ],
      "metadata": {
        "id": "kAqjM1CnM1dz"
      },
      "execution_count": null,
      "outputs": []
    },
    {
      "cell_type": "code",
      "source": [
        "# Configure the model and start training\n",
        "# Stop training with early stopping with patience of 20\n",
        "callbacks_list = [EarlyStopping(monitor='val_f1_score', min_delta=0.0005, \n",
        "                                patience=20, verbose=1, mode='max', \n",
        "                                restore_best_weights=True)]"
      ],
      "metadata": {
        "id": "hVil3d-DELi1"
      },
      "execution_count": null,
      "outputs": []
    },
    {
      "cell_type": "code",
      "source": [
        "from tensorflow.keras.models import Sequential\n",
        "from tensorflow.keras.layers import Dense, Conv2D, Activation\n",
        "\n",
        "model = Sequential()\n",
        "model.add(Dense(256, activation='relu'))\n",
        "model.add(Dense(5, activation='softmax'))\n",
        "model.compile(optimizer='rmsprop', loss='categorical_crossentropy', metrics=[f1_metric])"
      ],
      "metadata": {
        "id": "5uIt6KpTFqFM"
      },
      "execution_count": null,
      "outputs": []
    },
    {
      "cell_type": "code",
      "source": [
        "model.fit(X_train_encoded, y_train_encoded,\n",
        "                    validation_data=(X_val_encoded, y_val_encoded),\n",
        "                    epochs=1000, batch_size=250,\n",
        "                    callbacks=callbacks_list, verbose=1)"
      ],
      "metadata": {
        "id": "yNAAcu-jEBl9"
      },
      "execution_count": null,
      "outputs": []
    },
    {
      "cell_type": "code",
      "source": [
        "# Evaluate the model\n",
        "y_pred_encoded = model.predict(X_test_encoded)\n",
        "y_pred = np.argmax(y_pred_encoded,axis=1) + 1\n",
        "\n",
        "print(classification_report(y_test, y_pred))\n",
        "\n",
        "f1_scores['bow-mlp'] = f1_score(y_pred, y_test, average='weighted')"
      ],
      "metadata": {
        "colab": {
          "base_uri": "https://localhost:8080/"
        },
        "id": "3fh7JCrfEbUu",
        "outputId": "4eceb908-f69c-4c77-e3e0-996103673a9a"
      },
      "execution_count": null,
      "outputs": [
        {
          "output_type": "stream",
          "name": "stdout",
          "text": [
            "              precision    recall  f1-score   support\n",
            "\n",
            "           1       0.66      0.60      0.63       159\n",
            "           2       0.30      0.24      0.26        51\n",
            "           3       0.25      0.21      0.23        71\n",
            "           4       0.40      0.26      0.31       163\n",
            "           5       0.77      0.90      0.83       556\n",
            "\n",
            "    accuracy                           0.66      1000\n",
            "   macro avg       0.48      0.44      0.45      1000\n",
            "weighted avg       0.63      0.66      0.64      1000\n",
            "\n"
          ]
        }
      ]
    },
    {
      "cell_type": "markdown",
      "source": [
        "## Keras embedding + MLP"
      ],
      "metadata": {
        "id": "dpi4TadMFqUH"
      }
    },
    {
      "cell_type": "code",
      "source": [
        "vocab_size = 500 # fix your vocabulary size\n",
        "max_len = 32   # Sequence length to pad the outputs to.\n",
        "                # In order to fix it, you have to know the distribution on lengh... see first lab\n",
        "embed_dim = 100 # embedding dimension\n",
        "\n",
        "vectorize_layer = TextVectorization(max_tokens=vocab_size,\n",
        "  output_mode='int',\n",
        "  output_sequence_length=max_len)\n",
        "\n",
        "vectorize_layer.adapt(X_train)"
      ],
      "metadata": {
        "id": "gQyFIaZeFt0x"
      },
      "execution_count": null,
      "outputs": []
    },
    {
      "cell_type": "code",
      "source": [
        "from tensorflow.keras.layers import Input, Dense, TextVectorization, Flatten, Embedding\n",
        "\n",
        "input_ = Input(shape=(1, ), name=\"input\", dtype=tf.string)\n",
        "x = vectorize_layer(input_)\n",
        "x = Embedding(vocab_size, embed_dim, name=\"Embedding\")(x)\n",
        "x = Flatten()(x)\n",
        "x = Dense(128, activation=\"sigmoid\", name=\"hidden1\")(x)\n",
        "output_ = Dense(nb_classes, activation='softmax', name=\"output\")(x)\n",
        "model = Model(input_, output_)\n",
        "model.summary()"
      ],
      "metadata": {
        "colab": {
          "base_uri": "https://localhost:8080/"
        },
        "id": "-kHEfPkWE_rO",
        "outputId": "1174ed22-5d8c-47bc-de01-0c31c118d426"
      },
      "execution_count": null,
      "outputs": [
        {
          "output_type": "stream",
          "name": "stdout",
          "text": [
            "Model: \"model_8\"\n",
            "_________________________________________________________________\n",
            " Layer (type)                Output Shape              Param #   \n",
            "=================================================================\n",
            " input (InputLayer)          [(None, 1)]               0         \n",
            "                                                                 \n",
            " text_vectorization (TextVec  (None, 32)               0         \n",
            " torization)                                                     \n",
            "                                                                 \n",
            " Embedding (Embedding)       (None, 32, 100)           50000     \n",
            "                                                                 \n",
            " flatten_8 (Flatten)         (None, 3200)              0         \n",
            "                                                                 \n",
            " hidden1 (Dense)             (None, 128)               409728    \n",
            "                                                                 \n",
            " output (Dense)              (None, 5)                 645       \n",
            "                                                                 \n",
            "=================================================================\n",
            "Total params: 460,373\n",
            "Trainable params: 460,373\n",
            "Non-trainable params: 0\n",
            "_________________________________________________________________\n"
          ]
        }
      ]
    },
    {
      "cell_type": "code",
      "source": [
        "model.compile(loss='categorical_crossentropy', optimizer='adam', metrics=[f1_metric])\n",
        "model.fit(X_train, y_train_encoded - np.min(y_train_encoded),\n",
        "                    validation_data=(X_val, y_val_encoded - np.min(y_val_encoded)),\n",
        "                    epochs=1000, batch_size=250,\n",
        "                    callbacks=callbacks_list, verbose=1)"
      ],
      "metadata": {
        "id": "QR67cfNVGEdk"
      },
      "execution_count": null,
      "outputs": []
    },
    {
      "cell_type": "code",
      "source": [
        "# Evaluate the model\n",
        "y_pred_encoded = model.predict(X_test)\n",
        "y_pred = np.argmax(y_pred_encoded,axis=1) + 1\n",
        "\n",
        "print(classification_report(y_test, y_pred))\n",
        "\n",
        "f1_scores['emb-mlp'] = f1_score(y_pred, y_test, average='micro')"
      ],
      "metadata": {
        "colab": {
          "base_uri": "https://localhost:8080/"
        },
        "id": "u6aEkRsKGJC2",
        "outputId": "97f1ef1f-5784-49b7-f0c1-ca867c5afc05"
      },
      "execution_count": null,
      "outputs": [
        {
          "output_type": "stream",
          "name": "stdout",
          "text": [
            "              precision    recall  f1-score   support\n",
            "\n",
            "           1       0.56      0.57      0.56       159\n",
            "           2       0.10      0.06      0.07        51\n",
            "           3       0.22      0.15      0.18        71\n",
            "           4       0.37      0.23      0.28       163\n",
            "           5       0.73      0.86      0.79       556\n",
            "\n",
            "    accuracy                           0.62      1000\n",
            "   macro avg       0.39      0.37      0.38      1000\n",
            "weighted avg       0.57      0.62      0.59      1000\n",
            "\n"
          ]
        }
      ]
    },
    {
      "cell_type": "markdown",
      "source": [
        "## Word2vec + MLP"
      ],
      "metadata": {
        "id": "Bfei6DT_FuC_"
      }
    },
    {
      "cell_type": "code",
      "source": [
        "# Build word dict\n",
        "voc = vectorize_layer.get_vocabulary()\n",
        "word_index = dict(zip(voc, range(len(voc))))"
      ],
      "metadata": {
        "id": "f9VMkZG1nf2O"
      },
      "execution_count": null,
      "outputs": []
    },
    {
      "cell_type": "code",
      "source": [
        "# Download the pre-trained embeddin matrix for exemple from glove\n",
        "# !wget http://nlp.stanford.edu/data/glove.6B.zip\n",
        "# !unzip -q glove.6B.zip"
      ],
      "metadata": {
        "id": "0JnnvaJuFw-e"
      },
      "execution_count": null,
      "outputs": []
    },
    {
      "cell_type": "code",
      "source": [
        "# Make a dict mapping words (strings) to their NumPy vector representation:\n",
        "path_to_glove_file = \"glove.6B.100d.txt\"\n",
        "\n",
        "embeddings_index = {}\n",
        "with open(path_to_glove_file) as f:\n",
        "    for line in f:\n",
        "        word, coefs = line.split(maxsplit=1)\n",
        "        coefs = np.fromstring(coefs, \"f\", sep=\" \")\n",
        "        embeddings_index[word] = coefs\n",
        "\n",
        "print(f\"Found {len(embeddings_index)} word vectors.\")"
      ],
      "metadata": {
        "colab": {
          "base_uri": "https://localhost:8080/"
        },
        "id": "3vBc9RIKl_Br",
        "outputId": "d37d40b1-e436-49e4-88f2-c8285c6b1efa"
      },
      "execution_count": null,
      "outputs": [
        {
          "output_type": "stream",
          "name": "stdout",
          "text": [
            "Found 400000 word vectors.\n"
          ]
        }
      ]
    },
    {
      "cell_type": "code",
      "source": [
        "num_tokens = len(voc) + 2\n",
        "hits = 0\n",
        "misses = 0\n",
        "\n",
        "# Prepare embedding matrix\n",
        "embedding_matrix = np.zeros((num_tokens, embed_dim))\n",
        "for word, i in word_index.items():\n",
        "    # print(word, i)\n",
        "    embedding_vector = embeddings_index.get(word)\n",
        "    if embedding_vector is not None:\n",
        "        # Words not found in embedding index will be all-zeros.\n",
        "        # This includes the representation for \"padding\" and \"OOV\"\n",
        "        embedding_matrix[i] = embedding_vector\n",
        "        hits += 1\n",
        "    else:\n",
        "        misses += 1\n",
        "print(\"Converted %d words (%d misses)\" % (hits, misses))"
      ],
      "metadata": {
        "colab": {
          "base_uri": "https://localhost:8080/"
        },
        "id": "SUJYdBNpm3Wi",
        "outputId": "44c089e1-1218-4369-e6d1-ef948ed3a1d2"
      },
      "execution_count": null,
      "outputs": [
        {
          "output_type": "stream",
          "name": "stdout",
          "text": [
            "Converted 497 words (3 misses)\n"
          ]
        }
      ]
    },
    {
      "cell_type": "code",
      "source": [
        "# Initialize the Embedding layer with the weight of each word\n",
        "embedding_layer = Embedding(\n",
        "    num_tokens,\n",
        "    embed_dim,\n",
        "    embeddings_initializer=tf.keras.initializers.Constant(embedding_matrix),\n",
        "    trainable=False,\n",
        ")\n",
        "num_tokens, embed_dim, max_len"
      ],
      "metadata": {
        "colab": {
          "base_uri": "https://localhost:8080/"
        },
        "id": "vLPkNZLsn_BQ",
        "outputId": "6c4991b7-3ae2-4d48-a65e-6e3edfbf03be"
      },
      "execution_count": null,
      "outputs": [
        {
          "output_type": "execute_result",
          "data": {
            "text/plain": [
              "(502, 100, 32)"
            ]
          },
          "metadata": {},
          "execution_count": 36
        }
      ]
    },
    {
      "cell_type": "code",
      "source": [
        "input_ = Input(shape=(1, ), name=\"input\", dtype=tf.string)\n",
        "x = vectorize_layer(input_)\n",
        "x = embedding_layer(x)\n",
        "x = Flatten()(x)\n",
        "x = Dense(256, activation=\"relu\", name=\"hidden\")(x)\n",
        "output_ = Dense(nb_classes, activation='softmax', name=\"output\")(x)\n",
        "model = Model(input_, output_)\n",
        "model.summary()"
      ],
      "metadata": {
        "colab": {
          "base_uri": "https://localhost:8080/"
        },
        "id": "bt5IfVsuoKWO",
        "outputId": "69b8fa67-2342-4060-f99d-a5c57800f511"
      },
      "execution_count": null,
      "outputs": [
        {
          "output_type": "stream",
          "name": "stdout",
          "text": [
            "Model: \"model_9\"\n",
            "_________________________________________________________________\n",
            " Layer (type)                Output Shape              Param #   \n",
            "=================================================================\n",
            " input (InputLayer)          [(None, 1)]               0         \n",
            "                                                                 \n",
            " text_vectorization (TextVec  (None, 32)               0         \n",
            " torization)                                                     \n",
            "                                                                 \n",
            " embedding (Embedding)       (None, 32, 100)           50200     \n",
            "                                                                 \n",
            " flatten_9 (Flatten)         (None, 3200)              0         \n",
            "                                                                 \n",
            " hidden (Dense)              (None, 256)               819456    \n",
            "                                                                 \n",
            " output (Dense)              (None, 5)                 1285      \n",
            "                                                                 \n",
            "=================================================================\n",
            "Total params: 870,941\n",
            "Trainable params: 820,741\n",
            "Non-trainable params: 50,200\n",
            "_________________________________________________________________\n"
          ]
        }
      ]
    },
    {
      "cell_type": "code",
      "source": [
        "model.compile(loss='categorical_crossentropy', optimizer='adam', metrics=[f1_metric])\n",
        "model.fit(X_train, y_train_encoded - np.min(y_train_encoded),\n",
        "                    validation_data=(X_val, y_val_encoded - np.min(y_val_encoded)),\n",
        "                    epochs=1000, batch_size=250,\n",
        "                    callbacks=callbacks_list, verbose=1)"
      ],
      "metadata": {
        "id": "ckwddoQ6oUC-"
      },
      "execution_count": null,
      "outputs": []
    },
    {
      "cell_type": "code",
      "source": [
        "# Evaluate the model\n",
        "y_pred_encoded = model.predict(X_test)\n",
        "y_pred = np.argmax(y_pred_encoded,axis=1) + 1\n",
        "\n",
        "print(classification_report(y_test, y_pred))\n",
        "\n",
        "f1_scores['v2w-mlp'] = f1_score(y_pred, y_test, average='micro')"
      ],
      "metadata": {
        "colab": {
          "base_uri": "https://localhost:8080/"
        },
        "id": "_slKhWV-ohYI",
        "outputId": "5e0b4d53-52e7-4fe5-cb8b-24e5417fe532"
      },
      "execution_count": null,
      "outputs": [
        {
          "output_type": "stream",
          "name": "stdout",
          "text": [
            "              precision    recall  f1-score   support\n",
            "\n",
            "           1       0.45      0.47      0.46       159\n",
            "           2       0.19      0.10      0.13        51\n",
            "           3       0.10      0.07      0.08        71\n",
            "           4       0.28      0.21      0.24       163\n",
            "           5       0.71      0.81      0.76       556\n",
            "\n",
            "    accuracy                           0.57      1000\n",
            "   macro avg       0.35      0.33      0.34      1000\n",
            "weighted avg       0.53      0.57      0.55      1000\n",
            "\n"
          ]
        }
      ]
    },
    {
      "cell_type": "markdown",
      "source": [
        "## Embedding au choix + RNN"
      ],
      "metadata": {
        "id": "09OtBgRHFxRM"
      }
    },
    {
      "cell_type": "code",
      "source": [],
      "metadata": {
        "id": "c_yULYIwF1An"
      },
      "execution_count": null,
      "outputs": []
    },
    {
      "cell_type": "markdown",
      "source": [
        "### Affichage des résultats"
      ],
      "metadata": {
        "id": "kG8U-iUwKyyB"
      }
    },
    {
      "cell_type": "code",
      "source": [
        "df = pd.DataFrame({\"model\":[i for i in f1_scores.keys()], \"f1 score\":[i for i in f1_scores.values()]})\n",
        "df.plot(x=\"model\", y=\"f1 score\", kind=\"bar\")"
      ],
      "metadata": {
        "colab": {
          "base_uri": "https://localhost:8080/",
          "height": 331
        },
        "id": "NeSSK-OaK2d6",
        "outputId": "f43f4c74-c2e6-4257-8d01-97aa791e5717"
      },
      "execution_count": null,
      "outputs": [
        {
          "output_type": "execute_result",
          "data": {
            "text/plain": [
              "<matplotlib.axes._subplots.AxesSubplot at 0x7f4141d7f510>"
            ]
          },
          "metadata": {},
          "execution_count": 66
        },
        {
          "output_type": "display_data",
          "data": {
            "text/plain": [
              "<Figure size 432x288 with 1 Axes>"
            ],
            "image/png": "[encoded data removed]"
          },
          "metadata": {
            "needs_background": "light"
          }
        }
      ]
    }
  ]
}