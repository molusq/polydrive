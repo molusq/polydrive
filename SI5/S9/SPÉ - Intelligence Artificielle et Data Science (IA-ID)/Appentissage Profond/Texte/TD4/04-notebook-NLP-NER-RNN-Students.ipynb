{
 "cells": [
  {
   "cell_type": "markdown",
   "id": "2ac1cc5a",
   "metadata": {},
   "source": [
    "# Named Entity Recognition with LSTM - Students\n",
    "\n",
    "Named entity recognition (NER) — sometimes referred to as entity chunking, extraction, or identification — is the task of identifying and categorizing key information (entities) in text. An entity can be any word or series of words that consistently refers to the same thing. Every detected entity is classified into a predetermined category. For example, an NER machine learning (ML) model might detect the word “super.AI” in a text and classify it as a “Company”.\n",
    "\n",
    "NER is a form of natural language processing (NLP), a subfield of artificial intelligence. NLP is concerned with computers processing and analyzing natural language, i.e., any language that has developed naturally, rather than artificially, such as with computer coding languages.\n",
    "\n",
    "![image](https://miro.medium.com/max/720/0*GZ9EzgeviitRHAT8)\n",
    "\n",
    "At the heart of any NER model is a two step process:\n",
    "* Detect a named entity\n",
    "* Categorize the entity\n"
   ]
  },
  {
   "cell_type": "code",
   "execution_count": null,
   "id": "99cfa5bf",
   "metadata": {
    "ExecuteTime": {
     "end_time": "2022-09-25T10:50:36.487007Z",
     "start_time": "2022-09-25T10:50:36.456346Z"
    }
   },
   "outputs": [],
   "source": [
    "\"\"\"\n",
    "(Practical tip) Table of contents can be compiled directly in jupyter notebooks using the following code:\n",
    "I set an exception: if the package is in your installation you can import it otherwise you download it \n",
    "then import it.\n",
    "\"\"\"\n",
    "try:\n",
    "    from jyquickhelper import add_notebook_menu \n",
    "except:\n",
    "    !pip install jyquickhelper\n",
    "    from jyquickhelper import add_notebook_menu"
   ]
  },
  {
   "cell_type": "code",
   "execution_count": 2,
   "id": "db51163d",
   "metadata": {
    "ExecuteTime": {
     "end_time": "2022-09-25T10:50:36.608200Z",
     "start_time": "2022-09-25T10:50:36.529914Z"
    }
   },
   "outputs": [
    {
     "data": {
      "text/html": [
       "<div id=\"my_id_menu_nb\">run previous cell, wait for 2 seconds</div>\n",
       "<script>\n",
       "function repeat_indent_string(n){\n",
       "    var a = \"\" ;\n",
       "    for ( ; n > 0 ; --n)\n",
       "        a += \"    \";\n",
       "    return a;\n",
       "}\n",
       "// look up into all sections and builds an automated menu //\n",
       "var update_menu_string = function(begin, lfirst, llast, sformat, send, keep_item, begin_format, end_format) {\n",
       "    var anchors = document.getElementsByClassName(\"section\");\n",
       "    if (anchors.length == 0) {\n",
       "        anchors = document.getElementsByClassName(\"text_cell_render rendered_html\");\n",
       "    }\n",
       "    var i,t;\n",
       "    var text_menu = begin;\n",
       "    var text_memo = \"<pre>\\nlength:\" + anchors.length + \"\\n\";\n",
       "    var ind = \"\";\n",
       "    var memo_level = 1;\n",
       "    var href;\n",
       "    var tags = [];\n",
       "    var main_item = 0;\n",
       "    var format_open = 0;\n",
       "    for (i = 0; i <= llast; i++)\n",
       "        tags.push(\"h\" + i);\n",
       "\n",
       "    for (i = 0; i < anchors.length; i++) {\n",
       "        text_memo += \"**\" + anchors[i].id + \"--\\n\";\n",
       "\n",
       "        var child = null;\n",
       "        for(t = 0; t < tags.length; t++) {\n",
       "            var r = anchors[i].getElementsByTagName(tags[t]);\n",
       "            if (r.length > 0) {\n",
       "child = r[0];\n",
       "break;\n",
       "            }\n",
       "        }\n",
       "        if (child == null) {\n",
       "            text_memo += \"null\\n\";\n",
       "            continue;\n",
       "        }\n",
       "        if (anchors[i].hasAttribute(\"id\")) {\n",
       "            // when converted in RST\n",
       "            href = anchors[i].id;\n",
       "            text_memo += \"#1-\" + href;\n",
       "            // passer à child suivant (le chercher)\n",
       "        }\n",
       "        else if (child.hasAttribute(\"id\")) {\n",
       "            // in a notebook\n",
       "            href = child.id;\n",
       "            text_memo += \"#2-\" + href;\n",
       "        }\n",
       "        else {\n",
       "            text_memo += \"#3-\" + \"*\" + \"\\n\";\n",
       "            continue;\n",
       "        }\n",
       "        var title = child.textContent;\n",
       "        var level = parseInt(child.tagName.substring(1,2));\n",
       "\n",
       "        text_memo += \"--\" + level + \"?\" + lfirst + \"--\" + title + \"\\n\";\n",
       "\n",
       "        if ((level < lfirst) || (level > llast)) {\n",
       "            continue ;\n",
       "        }\n",
       "        if (title.endsWith('¶')) {\n",
       "            title = title.substring(0,title.length-1).replace(\"<\", \"&lt;\")\n",
       "         .replace(\">\", \"&gt;\").replace(\"&\", \"&amp;\");\n",
       "        }\n",
       "        if (title.length == 0) {\n",
       "            continue;\n",
       "        }\n",
       "\n",
       "        while (level < memo_level) {\n",
       "            text_menu += end_format + \"</ul>\\n\";\n",
       "            format_open -= 1;\n",
       "            memo_level -= 1;\n",
       "        }\n",
       "        if (level == lfirst) {\n",
       "            main_item += 1;\n",
       "        }\n",
       "        if (keep_item != -1 && main_item != keep_item + 1) {\n",
       "            // alert(main_item + \" - \" + level + \" - \" + keep_item);\n",
       "            continue;\n",
       "        }\n",
       "        while (level > memo_level) {\n",
       "            text_menu += \"<ul>\\n\";\n",
       "            memo_level += 1;\n",
       "        }\n",
       "        text_menu += repeat_indent_string(level-2);\n",
       "        text_menu += begin_format + sformat.replace(\"__HREF__\", href).replace(\"__TITLE__\", title);\n",
       "        format_open += 1;\n",
       "    }\n",
       "    while (1 < memo_level) {\n",
       "        text_menu += end_format + \"</ul>\\n\";\n",
       "        memo_level -= 1;\n",
       "        format_open -= 1;\n",
       "    }\n",
       "    text_menu += send;\n",
       "    //text_menu += \"\\n\" + text_memo;\n",
       "\n",
       "    while (format_open > 0) {\n",
       "        text_menu += end_format;\n",
       "        format_open -= 1;\n",
       "    }\n",
       "    return text_menu;\n",
       "};\n",
       "var update_menu = function() {\n",
       "    var sbegin = \"\";\n",
       "    var sformat = '<a href=\"#__HREF__\">__TITLE__</a>';\n",
       "    var send = \"\";\n",
       "    var begin_format = '<li>';\n",
       "    var end_format = '</li>';\n",
       "    var keep_item = -1;\n",
       "    var text_menu = update_menu_string(sbegin, 2, 4, sformat, send, keep_item,\n",
       "       begin_format, end_format);\n",
       "    var menu = document.getElementById(\"my_id_menu_nb\");\n",
       "    menu.innerHTML=text_menu;\n",
       "};\n",
       "window.setTimeout(update_menu,2000);\n",
       "            </script>"
      ],
      "text/plain": [
       "<IPython.core.display.HTML object>"
      ]
     },
     "execution_count": 2,
     "metadata": {},
     "output_type": "execute_result"
    }
   ],
   "source": [
    "\"\"\"\n",
    "Output Table of contents to navigate easily in the notebook. \n",
    "For interested readers, the package also includes Ipython magic commands to go back to this cell\n",
    "wherever you are in the notebook to look for cells faster\n",
    "\"\"\"\n",
    "add_notebook_menu()"
   ]
  },
  {
   "cell_type": "markdown",
   "id": "c445ce9f",
   "metadata": {},
   "source": [
    "## Imports"
   ]
  },
  {
   "cell_type": "code",
   "execution_count": 3,
   "id": "wanted-building",
   "metadata": {
    "ExecuteTime": {
     "end_time": "2022-09-25T10:50:38.044122Z",
     "start_time": "2022-09-25T10:50:36.640327Z"
    }
   },
   "outputs": [],
   "source": [
    "import numpy as np\n",
    "import matplotlib.pyplot as plt"
   ]
  },
  {
   "cell_type": "code",
   "execution_count": 4,
   "id": "bbd04df7",
   "metadata": {
    "ExecuteTime": {
     "end_time": "2022-09-25T10:50:40.342301Z",
     "start_time": "2022-09-25T10:50:38.047876Z"
    }
   },
   "outputs": [],
   "source": [
    "import sklearn"
   ]
  },
  {
   "cell_type": "code",
   "execution_count": 5,
   "id": "4cb801e4",
   "metadata": {
    "ExecuteTime": {
     "end_time": "2022-09-25T10:50:40.428413Z",
     "start_time": "2022-09-25T10:50:40.380022Z"
    }
   },
   "outputs": [],
   "source": [
    "#!pip install git+https://github.com/MeMartijn/updated-sklearn-crfsuite.git#egg=sklearn_crfsuite\n",
    "from sklearn_crfsuite import metrics"
   ]
  },
  {
   "cell_type": "code",
   "execution_count": 6,
   "id": "90763b5f",
   "metadata": {
    "ExecuteTime": {
     "end_time": "2022-09-25T10:50:51.700573Z",
     "start_time": "2022-09-25T10:50:40.431206Z"
    }
   },
   "outputs": [
    {
     "name": "stderr",
     "output_type": "stream",
     "text": [
      "2022-09-25 12:50:40.463340: I tensorflow/core/platform/cpu_feature_guard.cc:193] This TensorFlow binary is optimized with oneAPI Deep Neural Network Library (oneDNN) to use the following CPU instructions in performance-critical operations:  AVX2 FMA\n",
      "To enable them in other operations, rebuild TensorFlow with the appropriate compiler flags.\n"
     ]
    }
   ],
   "source": [
    "import tensorflow as tf\n",
    "from tensorflow.keras.models import Model\n",
    "from tensorflow.keras import layers, optimizers, regularizers\n",
    "from tensorflow.keras.callbacks import EarlyStopping\n",
    "from tensorflow.keras.utils import plot_model"
   ]
  },
  {
   "cell_type": "markdown",
   "id": "a7212bac",
   "metadata": {},
   "source": [
    "## The Dataset"
   ]
  },
  {
   "cell_type": "markdown",
   "id": "traditional-fisher",
   "metadata": {},
   "source": [
    "A simple sentence NER example:\n",
    "\n",
    "[**ORG** U.N. ] official [**PER** Ekeus ] heads for [**LOC** Baghdad ] \n",
    "\n",
    "We will concentrate on four types of named entities:\n",
    " * persons (**PER**), \n",
    " * locations (**LOC**) \n",
    " * organizations (**ORG**)\n",
    " * Others (**O**)"
   ]
  },
  {
   "cell_type": "code",
   "execution_count": 7,
   "id": "innovative-aberdeen",
   "metadata": {
    "ExecuteTime": {
     "end_time": "2022-09-25T10:50:51.718219Z",
     "start_time": "2022-09-25T10:50:51.703597Z"
    }
   },
   "outputs": [],
   "source": [
    "def _generate_examples(filepath):\n",
    "        with open(filepath, encoding=\"utf-8\") as f:\n",
    "            sent = []\n",
    "            for line in f:\n",
    "                if line.startswith(\"-DOCSTART-\") or line == \"\" or line == \"\\n\":\n",
    "                    if sent:\n",
    "                        yield sent\n",
    "                        sent = []\n",
    "                else:\n",
    "                    splits = line.split(\" \")\n",
    "                    token = splits[0]\n",
    "                    pos_tag = splits[1]\n",
    "                    ner_tag = splits[3].rstrip()\n",
    "                    if 'MISC' in ner_tag:\n",
    "                        ner_tag = 'O'\n",
    "                    \n",
    "                    sent.append((token, pos_tag, ner_tag))"
   ]
  },
  {
   "cell_type": "code",
   "execution_count": 8,
   "id": "capital-stopping",
   "metadata": {
    "ExecuteTime": {
     "end_time": "2022-09-25T10:50:52.174908Z",
     "start_time": "2022-09-25T10:50:51.726063Z"
    }
   },
   "outputs": [
    {
     "name": "stdout",
     "output_type": "stream",
     "text": [
      "CPU times: user 299 ms, sys: 45.8 ms, total: 345 ms\n",
      "Wall time: 441 ms\n"
     ]
    }
   ],
   "source": [
    "%%time\n",
    "train_sents = list(_generate_examples('NER Dataset/train.txt'))\n",
    "test_sents = list(_generate_examples('NER Dataset/test.txt'))"
   ]
  },
  {
   "cell_type": "code",
   "execution_count": 15,
   "id": "minimal-student",
   "metadata": {
    "ExecuteTime": {
     "end_time": "2022-09-25T10:51:24.137506Z",
     "start_time": "2022-09-25T10:51:24.126934Z"
    }
   },
   "outputs": [
    {
     "data": {
      "text/plain": [
       "[('United', 'NNP', 'B-LOC'),\n",
       " ('Arab', 'NNP', 'I-LOC'),\n",
       " ('Emirates', 'NNPS', 'I-LOC'),\n",
       " ('1996-12-06', 'CD', 'O')]"
      ]
     },
     "execution_count": 15,
     "metadata": {},
     "output_type": "execute_result"
    }
   ],
   "source": [
    "test_sents[2]"
   ]
  },
  {
   "cell_type": "code",
   "execution_count": 11,
   "id": "acquired-oxide",
   "metadata": {
    "ExecuteTime": {
     "end_time": "2022-09-25T10:51:02.246686Z",
     "start_time": "2022-09-25T10:51:02.239068Z"
    }
   },
   "outputs": [],
   "source": [
    "# reduced features\n",
    "def reduced_word2features(sent, i):\n",
    "    word = sent[i][0]\n",
    "    postag = sent[i][1]\n",
    "\n",
    "    features = {\n",
    "        'w':word.lower(),\n",
    "    }\n",
    "    \n",
    "    return sent[i][0].lower()"
   ]
  },
  {
   "cell_type": "code",
   "execution_count": 13,
   "id": "addressed-showcase",
   "metadata": {
    "ExecuteTime": {
     "end_time": "2022-09-25T10:51:10.276558Z",
     "start_time": "2022-09-25T10:51:10.271201Z"
    }
   },
   "outputs": [],
   "source": [
    "def sent2features(sent):\n",
    "    return [reduced_word2features(sent, i) for i in range(len(sent))]\n",
    "\n",
    "def sent2labels(sent):\n",
    "    return [label for token, postag, label in sent]\n",
    "\n",
    "def sent2tokens(sent):\n",
    "    return [token for token, postag, label in sent]"
   ]
  },
  {
   "cell_type": "code",
   "execution_count": 16,
   "id": "acquired-robertson",
   "metadata": {
    "ExecuteTime": {
     "end_time": "2022-09-25T10:51:28.752715Z",
     "start_time": "2022-09-25T10:51:28.736584Z"
    }
   },
   "outputs": [
    {
     "data": {
      "text/plain": [
       "['united', 'arab', 'emirates', '1996-12-06']"
      ]
     },
     "execution_count": 16,
     "metadata": {},
     "output_type": "execute_result"
    }
   ],
   "source": [
    "sent2features(test_sents[2])"
   ]
  },
  {
   "cell_type": "code",
   "execution_count": 17,
   "id": "a271b1d9",
   "metadata": {
    "ExecuteTime": {
     "end_time": "2022-09-25T10:51:28.957855Z",
     "start_time": "2022-09-25T10:51:28.939314Z"
    }
   },
   "outputs": [
    {
     "data": {
      "text/plain": [
       "['B-LOC', 'I-LOC', 'I-LOC', 'O']"
      ]
     },
     "execution_count": 17,
     "metadata": {},
     "output_type": "execute_result"
    }
   ],
   "source": [
    "sent2labels(test_sents[2])"
   ]
  },
  {
   "cell_type": "code",
   "execution_count": 18,
   "id": "1b793f5e",
   "metadata": {
    "ExecuteTime": {
     "end_time": "2022-09-25T10:51:29.354775Z",
     "start_time": "2022-09-25T10:51:29.336780Z"
    }
   },
   "outputs": [
    {
     "data": {
      "text/plain": [
       "['United', 'Arab', 'Emirates', '1996-12-06']"
      ]
     },
     "execution_count": 18,
     "metadata": {},
     "output_type": "execute_result"
    }
   ],
   "source": [
    "sent2tokens(test_sents[2])"
   ]
  },
  {
   "cell_type": "code",
   "execution_count": 19,
   "id": "completed-contribution",
   "metadata": {
    "ExecuteTime": {
     "end_time": "2022-09-25T10:51:33.716495Z",
     "start_time": "2022-09-25T10:51:33.346322Z"
    }
   },
   "outputs": [],
   "source": [
    "X_train = [sent2features(s) for s in train_sents]\n",
    "y_train = [sent2labels(s) for s in train_sents]\n",
    "\n",
    "X_test = [sent2features(s) for s in test_sents]\n",
    "y_test = [sent2labels(s) for s in test_sents]"
   ]
  },
  {
   "cell_type": "code",
   "execution_count": 20,
   "id": "dbb5a66e",
   "metadata": {
    "ExecuteTime": {
     "end_time": "2022-09-25T10:51:34.729878Z",
     "start_time": "2022-09-25T10:51:34.707609Z"
    }
   },
   "outputs": [
    {
     "data": {
      "text/plain": [
       "['united', 'arab', 'emirates', '1996-12-06']"
      ]
     },
     "execution_count": 20,
     "metadata": {},
     "output_type": "execute_result"
    }
   ],
   "source": [
    "X_test[2]"
   ]
  },
  {
   "cell_type": "code",
   "execution_count": 21,
   "id": "5711750a",
   "metadata": {
    "ExecuteTime": {
     "end_time": "2022-09-25T10:51:36.497659Z",
     "start_time": "2022-09-25T10:51:36.479526Z"
    }
   },
   "outputs": [
    {
     "data": {
      "text/plain": [
       "['B-LOC', 'I-LOC', 'I-LOC', 'O']"
      ]
     },
     "execution_count": 21,
     "metadata": {},
     "output_type": "execute_result"
    }
   ],
   "source": [
    "y_test[2]"
   ]
  },
  {
   "cell_type": "code",
   "execution_count": null,
   "id": "5c081dbb",
   "metadata": {
    "ExecuteTime": {
     "end_time": "2022-09-25T10:58:51.263173Z",
     "start_time": "2022-09-25T10:58:51.263143Z"
    }
   },
   "outputs": [],
   "source": [
    "def lengths(data):\n",
    "    return max([len(sent) for sent in data])\n",
    "\n",
    "max_length = lengths(X_train)"
   ]
  },
  {
   "cell_type": "code",
   "execution_count": 31,
   "id": "599e2a86",
   "metadata": {
    "ExecuteTime": {
     "end_time": "2022-09-25T10:58:53.866323Z",
     "start_time": "2022-09-25T10:58:52.752349Z"
    }
   },
   "outputs": [],
   "source": [
    "from tensorflow.keras.layers import TextVectorization\n",
    "\n",
    "# Pour le TD... on va couper à une valeur de 20\n",
    "max_length = 20\n",
    "\n",
    "X_vectorizer = TextVectorization(standardize=None,\n",
    "                                 split=\"whitespace\",\n",
    "                                 output_mode=\"int\",\n",
    "                                 output_sequence_length=max_length)\n",
    "\n",
    "x_ = [' '.join(sent) for sent in X_train]\n",
    "X_vectorizer.adapt(x_)\n",
    "X_train_enc = X_vectorizer(x_)\n",
    "\n",
    "x_ = [' '.join(sent) for sent in X_test]\n",
    "X_test_enc = X_vectorizer(x_)"
   ]
  },
  {
   "cell_type": "code",
   "execution_count": 32,
   "id": "13d3c15f",
   "metadata": {
    "ExecuteTime": {
     "end_time": "2022-09-25T10:58:54.837365Z",
     "start_time": "2022-09-25T10:58:54.747092Z"
    }
   },
   "outputs": [],
   "source": [
    "vocabulary = X_vectorizer.get_vocabulary()"
   ]
  },
  {
   "cell_type": "code",
   "execution_count": 33,
   "id": "adc8c0ad",
   "metadata": {
    "ExecuteTime": {
     "end_time": "2022-09-25T10:58:56.153821Z",
     "start_time": "2022-09-25T10:58:55.306383Z"
    }
   },
   "outputs": [],
   "source": [
    "y_vectorizer = TextVectorization(standardize=None,\n",
    "                                 split=\"whitespace\",\n",
    "                                 output_mode=\"int\",\n",
    "                                 output_sequence_length=max_length)\n",
    "\n",
    "x_ = [' '.join(sent) for sent in y_train]\n",
    "y_vectorizer.adapt(x_)\n",
    "y_train_enc = y_vectorizer(x_)\n",
    "\n",
    "x_ = [' '.join(sent) for sent in y_test]\n",
    "y_test_enc = y_vectorizer(x_)"
   ]
  },
  {
   "cell_type": "code",
   "execution_count": 42,
   "id": "e5848233",
   "metadata": {
    "ExecuteTime": {
     "end_time": "2022-09-25T11:05:40.290439Z",
     "start_time": "2022-09-25T11:05:40.246509Z"
    }
   },
   "outputs": [
    {
     "data": {
      "text/plain": [
       "['', '[UNK]', 'O', 'B-LOC', 'B-PER', 'B-ORG', 'I-PER', 'I-ORG', 'I-LOC']"
      ]
     },
     "execution_count": 42,
     "metadata": {},
     "output_type": "execute_result"
    }
   ],
   "source": [
    "labels = y_vectorizer.get_vocabulary()"
   ]
  },
  {
   "cell_type": "markdown",
   "id": "f0c7dc4e",
   "metadata": {},
   "source": [
    "## Model"
   ]
  },
  {
   "cell_type": "code",
   "execution_count": 35,
   "id": "37abdca1",
   "metadata": {
    "ExecuteTime": {
     "end_time": "2022-09-25T10:58:58.207840Z",
     "start_time": "2022-09-25T10:58:58.201723Z"
    }
   },
   "outputs": [],
   "source": [
    "# Constants\n",
    "vocab_size = len(vocabulary)\n",
    "nb_labels = len(labels)\n",
    "\n",
    "max_len = 10  # Sequence length to pad the outputs to.\n",
    "embedding_dim = 50\n",
    "lstm_hidden = 100"
   ]
  },
  {
   "cell_type": "code",
   "execution_count": 36,
   "id": "included-fishing",
   "metadata": {
    "ExecuteTime": {
     "end_time": "2022-09-25T10:58:59.474466Z",
     "start_time": "2022-09-25T10:58:58.965567Z"
    }
   },
   "outputs": [
    {
     "name": "stdout",
     "output_type": "stream",
     "text": [
      "Model: \"model_1\"\n",
      "_________________________________________________________________\n",
      " Layer (type)                Output Shape              Param #   \n",
      "=================================================================\n",
      " input_2 (InputLayer)        [(None, 20)]              0         \n",
      "                                                                 \n",
      " Embedding (Embedding)       (None, 20, 50)            1050550   \n",
      "                                                                 \n",
      " hidden (LSTM)               (None, 20, 100)           60400     \n",
      "                                                                 \n",
      " dense_1 (Dense)             (None, 20, 9)             909       \n",
      "                                                                 \n",
      "=================================================================\n",
      "Total params: 1,111,859\n",
      "Trainable params: 1,111,859\n",
      "Non-trainable params: 0\n",
      "_________________________________________________________________\n"
     ]
    }
   ],
   "source": [
    "# define the model\n",
    "input_ = layers.Input(shape=(max_length,), dtype=tf.int32)\n",
    "x = layers.Embedding(input_dim=vocab_size, output_dim=embedding_dim, name=\"Embedding\")(input_)\n",
    "x = layers.LSTM(lstm_hidden, return_sequences=True, name=\"hidden\")(x)\n",
    "output_ = layers.Dense(nb_labels, activation='softmax')(x)\n",
    "model = Model(input_, output_)\n",
    "# summarize the model\n",
    "model.summary()"
   ]
  },
  {
   "cell_type": "code",
   "execution_count": 37,
   "id": "1bb33556",
   "metadata": {
    "ExecuteTime": {
     "end_time": "2022-09-25T11:05:07.106228Z",
     "start_time": "2022-09-25T10:59:00.339739Z"
    }
   },
   "outputs": [
    {
     "name": "stdout",
     "output_type": "stream",
     "text": [
      "Epoch 1/1000\n",
      "45/45 [==============================] - 9s 129ms/step - loss: 1.3843 - accuracy: 0.7005 - val_loss: 0.7953 - val_accuracy: 0.8640\n",
      "Epoch 2/1000\n",
      "45/45 [==============================] - 5s 116ms/step - loss: 0.6206 - accuracy: 0.8710 - val_loss: 0.5382 - val_accuracy: 0.8993\n",
      "Epoch 3/1000\n",
      "45/45 [==============================] - 6s 139ms/step - loss: 0.4726 - accuracy: 0.8961 - val_loss: 0.4513 - val_accuracy: 0.9061\n",
      "Epoch 4/1000\n",
      "45/45 [==============================] - 8s 170ms/step - loss: 0.3993 - accuracy: 0.9041 - val_loss: 0.3895 - val_accuracy: 0.9104\n",
      "Epoch 5/1000\n",
      "45/45 [==============================] - 10s 226ms/step - loss: 0.3363 - accuracy: 0.9073 - val_loss: 0.3321 - val_accuracy: 0.9126\n",
      "Epoch 6/1000\n",
      "45/45 [==============================] - 10s 229ms/step - loss: 0.2782 - accuracy: 0.9105 - val_loss: 0.2948 - val_accuracy: 0.9162\n",
      "Epoch 7/1000\n",
      "45/45 [==============================] - 8s 177ms/step - loss: 0.2314 - accuracy: 0.9224 - val_loss: 0.2619 - val_accuracy: 0.9233\n",
      "Epoch 8/1000\n",
      "45/45 [==============================] - 8s 175ms/step - loss: 0.1950 - accuracy: 0.9355 - val_loss: 0.2394 - val_accuracy: 0.9297\n",
      "Epoch 9/1000\n",
      "45/45 [==============================] - 9s 191ms/step - loss: 0.1645 - accuracy: 0.9466 - val_loss: 0.2195 - val_accuracy: 0.9353\n",
      "Epoch 10/1000\n",
      "45/45 [==============================] - 10s 223ms/step - loss: 0.1403 - accuracy: 0.9563 - val_loss: 0.2073 - val_accuracy: 0.9407\n",
      "Epoch 11/1000\n",
      "45/45 [==============================] - 9s 198ms/step - loss: 0.1226 - accuracy: 0.9639 - val_loss: 0.2117 - val_accuracy: 0.9418\n",
      "Epoch 12/1000\n",
      "45/45 [==============================] - 10s 214ms/step - loss: 0.1067 - accuracy: 0.9708 - val_loss: 0.1975 - val_accuracy: 0.9455\n",
      "Epoch 13/1000\n",
      "45/45 [==============================] - 8s 179ms/step - loss: 0.0924 - accuracy: 0.9776 - val_loss: 0.2000 - val_accuracy: 0.9468\n",
      "Epoch 14/1000\n",
      "45/45 [==============================] - 9s 186ms/step - loss: 0.0802 - accuracy: 0.9829 - val_loss: 0.1976 - val_accuracy: 0.9498\n",
      "Epoch 15/1000\n",
      "45/45 [==============================] - 8s 170ms/step - loss: 0.0694 - accuracy: 0.9864 - val_loss: 0.1943 - val_accuracy: 0.9486\n",
      "Epoch 16/1000\n",
      "45/45 [==============================] - 8s 173ms/step - loss: 0.0598 - accuracy: 0.9890 - val_loss: 0.1943 - val_accuracy: 0.9518\n",
      "Epoch 17/1000\n",
      "45/45 [==============================] - 9s 199ms/step - loss: 0.0511 - accuracy: 0.9907 - val_loss: 0.1956 - val_accuracy: 0.9506\n",
      "Epoch 18/1000\n",
      "45/45 [==============================] - 9s 199ms/step - loss: 0.0429 - accuracy: 0.9922 - val_loss: 0.1936 - val_accuracy: 0.9515\n",
      "Epoch 19/1000\n",
      "45/45 [==============================] - 7s 165ms/step - loss: 0.0361 - accuracy: 0.9934 - val_loss: 0.1984 - val_accuracy: 0.9540\n",
      "Epoch 20/1000\n",
      "45/45 [==============================] - 9s 194ms/step - loss: 0.0310 - accuracy: 0.9942 - val_loss: 0.2043 - val_accuracy: 0.9537\n",
      "Epoch 21/1000\n",
      "45/45 [==============================] - 7s 156ms/step - loss: 0.0266 - accuracy: 0.9947 - val_loss: 0.1990 - val_accuracy: 0.9539\n",
      "Epoch 22/1000\n",
      "45/45 [==============================] - 9s 191ms/step - loss: 0.0231 - accuracy: 0.9953 - val_loss: 0.2020 - val_accuracy: 0.9520\n",
      "Epoch 23/1000\n",
      "45/45 [==============================] - 9s 197ms/step - loss: 0.0207 - accuracy: 0.9956 - val_loss: 0.2017 - val_accuracy: 0.9542\n",
      "Epoch 24/1000\n",
      "45/45 [==============================] - 10s 223ms/step - loss: 0.0184 - accuracy: 0.9959 - val_loss: 0.2079 - val_accuracy: 0.9539\n",
      "Epoch 25/1000\n",
      "45/45 [==============================] - 10s 233ms/step - loss: 0.0164 - accuracy: 0.9963 - val_loss: 0.2145 - val_accuracy: 0.9539\n",
      "Epoch 26/1000\n",
      "45/45 [==============================] - 11s 253ms/step - loss: 0.0150 - accuracy: 0.9965 - val_loss: 0.2136 - val_accuracy: 0.9514\n",
      "Epoch 27/1000\n",
      "45/45 [==============================] - 13s 295ms/step - loss: 0.0143 - accuracy: 0.9965 - val_loss: 0.2240 - val_accuracy: 0.9538\n",
      "Epoch 28/1000\n",
      "45/45 [==============================] - 13s 285ms/step - loss: 0.0133 - accuracy: 0.9967 - val_loss: 0.2229 - val_accuracy: 0.9544\n",
      "Epoch 29/1000\n",
      "45/45 [==============================] - 12s 263ms/step - loss: 0.0123 - accuracy: 0.9970 - val_loss: 0.2264 - val_accuracy: 0.9547\n",
      "Epoch 30/1000\n",
      "45/45 [==============================] - 12s 270ms/step - loss: 0.0115 - accuracy: 0.9971 - val_loss: 0.2278 - val_accuracy: 0.9537\n",
      "Epoch 31/1000\n",
      "45/45 [==============================] - 14s 305ms/step - loss: 0.0110 - accuracy: 0.9971 - val_loss: 0.2304 - val_accuracy: 0.9515\n",
      "Epoch 32/1000\n",
      "45/45 [==============================] - 12s 263ms/step - loss: 0.0107 - accuracy: 0.9972 - val_loss: 0.2359 - val_accuracy: 0.9537\n",
      "Epoch 33/1000\n",
      "45/45 [==============================] - 11s 246ms/step - loss: 0.0103 - accuracy: 0.9972 - val_loss: 0.2373 - val_accuracy: 0.9527\n",
      "Epoch 34/1000\n",
      "45/45 [==============================] - 11s 231ms/step - loss: 0.0098 - accuracy: 0.9973 - val_loss: 0.2430 - val_accuracy: 0.9539\n",
      "Epoch 35/1000\n",
      "45/45 [==============================] - 10s 218ms/step - loss: 0.0093 - accuracy: 0.9974 - val_loss: 0.2414 - val_accuracy: 0.9542\n",
      "Epoch 36/1000\n",
      "45/45 [==============================] - 9s 206ms/step - loss: 0.0089 - accuracy: 0.9975 - val_loss: 0.2461 - val_accuracy: 0.9535\n",
      "Epoch 37/1000\n",
      "45/45 [==============================] - 8s 187ms/step - loss: 0.0086 - accuracy: 0.9975 - val_loss: 0.2526 - val_accuracy: 0.9539\n",
      "Epoch 38/1000\n",
      "45/45 [==============================] - 9s 196ms/step - loss: 0.0085 - accuracy: 0.9976 - val_loss: 0.2475 - val_accuracy: 0.9526\n",
      "Epoch 39/1000\n",
      "45/45 [==============================] - ETA: 0s - loss: 0.0082 - accuracy: 0.9976Restoring model weights from the end of the best epoch: 29.\n",
      "45/45 [==============================] - 8s 177ms/step - loss: 0.0082 - accuracy: 0.9976 - val_loss: 0.2510 - val_accuracy: 0.9508\n",
      "Epoch 39: early stopping\n"
     ]
    }
   ],
   "source": [
    "callbacks_list = [EarlyStopping(monitor='val_accuracy', min_delta=0.0005, patience=10, verbose=1, mode='max', restore_best_weights=True)\n",
    "                 ]\n",
    "\n",
    "model.compile(loss='sparse_categorical_crossentropy', optimizer='adam', metrics=['accuracy'])\n",
    "hist = model.fit(X_train_enc, y_train_enc, validation_split=0.2,\n",
    "                 epochs=1000, batch_size=250, callbacks=callbacks_list, verbose=1)"
   ]
  },
  {
   "cell_type": "code",
   "execution_count": null,
   "id": "scientific-armstrong",
   "metadata": {
    "ExecuteTime": {
     "end_time": "2022-09-25T11:06:36.357065Z",
     "start_time": "2022-09-25T11:06:36.356988Z"
    }
   },
   "outputs": [],
   "source": [
    "y_pred_enc = model.predict(X_test_enc)\n",
    "y_pred_enc = np.argmax(y_pred_enc, axis=2)"
   ]
  },
  {
   "cell_type": "code",
   "execution_count": 98,
   "id": "b8875cc3",
   "metadata": {
    "ExecuteTime": {
     "end_time": "2022-09-25T11:28:43.208954Z",
     "start_time": "2022-09-25T11:28:43.189090Z"
    }
   },
   "outputs": [
    {
     "data": {
      "text/plain": [
       "(['[PAD]', '[UNK]', 'O', 'B-LOC', 'B-PER', 'B-ORG', 'I-PER', 'I-ORG', 'I-LOC'],\n",
       " [0, 1, 2, 3, 4, 5, 6, 7, 8])"
      ]
     },
     "execution_count": 98,
     "metadata": {},
     "output_type": "execute_result"
    }
   ],
   "source": [
    "labels = ['[PAD]']+labels[1:]\n",
    "labels_id = [i for i, _ in enumerate(labels)]\n",
    "labels, labels_id"
   ]
  },
  {
   "cell_type": "code",
   "execution_count": 86,
   "id": "312ac470",
   "metadata": {
    "ExecuteTime": {
     "end_time": "2022-09-25T11:24:49.763153Z",
     "start_time": "2022-09-25T11:24:49.727224Z"
    }
   },
   "outputs": [
    {
     "data": {
      "text/plain": [
       "0.9494480058628227"
      ]
     },
     "execution_count": 86,
     "metadata": {},
     "output_type": "execute_result"
    }
   ],
   "source": [
    "sklearn.metrics.f1_score(y_test_enc.flatten(), y_pred_enc.flatten(), average='weighted')"
   ]
  },
  {
   "cell_type": "code",
   "execution_count": 99,
   "id": "ed0816e3",
   "metadata": {
    "ExecuteTime": {
     "end_time": "2022-09-25T11:28:57.211525Z",
     "start_time": "2022-09-25T11:28:57.091149Z"
    }
   },
   "outputs": [
    {
     "name": "stdout",
     "output_type": "stream",
     "text": [
      "              precision    recall  f1-score   support\n",
      "\n",
      "       [PAD]      0.998     1.000     0.999     31800\n",
      "       [UNK]      0.000     0.000     0.000         0\n",
      "           O      0.948     0.971     0.959     31139\n",
      "       B-LOC      0.767     0.739     0.753      1436\n",
      "       B-PER      0.862     0.554     0.674      1363\n",
      "       B-ORG      0.566     0.627     0.595      1464\n",
      "       I-PER      0.854     0.544     0.664       925\n",
      "       I-ORG      0.525     0.389     0.447       686\n",
      "       I-LOC      0.430     0.573     0.491       227\n",
      "\n",
      "   micro avg      0.951     0.951     0.951     69040\n",
      "   macro avg      0.661     0.600     0.620     69040\n",
      "weighted avg      0.950     0.951     0.949     69040\n",
      "\n"
     ]
    },
    {
     "name": "stderr",
     "output_type": "stream",
     "text": [
      "/Users/riveill/opt/miniconda3/lib/python3.9/site-packages/sklearn/metrics/_classification.py:1334: UndefinedMetricWarning: Precision and F-score are ill-defined and being set to 0.0 in labels with no predicted samples. Use `zero_division` parameter to control this behavior.\n",
      "  _warn_prf(average, modifier, msg_start, len(result))\n",
      "/Users/riveill/opt/miniconda3/lib/python3.9/site-packages/sklearn/metrics/_classification.py:1334: UndefinedMetricWarning: Recall and F-score are ill-defined and being set to 0.0 in labels with no true samples. Use `zero_division` parameter to control this behavior.\n",
      "  _warn_prf(average, modifier, msg_start, len(result))\n",
      "/Users/riveill/opt/miniconda3/lib/python3.9/site-packages/sklearn/metrics/_classification.py:1334: UndefinedMetricWarning: Precision and F-score are ill-defined and being set to 0.0 in labels with no predicted samples. Use `zero_division` parameter to control this behavior.\n",
      "  _warn_prf(average, modifier, msg_start, len(result))\n",
      "/Users/riveill/opt/miniconda3/lib/python3.9/site-packages/sklearn/metrics/_classification.py:1334: UndefinedMetricWarning: Recall and F-score are ill-defined and being set to 0.0 in labels with no true samples. Use `zero_division` parameter to control this behavior.\n",
      "  _warn_prf(average, modifier, msg_start, len(result))\n",
      "/Users/riveill/opt/miniconda3/lib/python3.9/site-packages/sklearn/metrics/_classification.py:1334: UndefinedMetricWarning: Precision and F-score are ill-defined and being set to 0.0 in labels with no predicted samples. Use `zero_division` parameter to control this behavior.\n",
      "  _warn_prf(average, modifier, msg_start, len(result))\n",
      "/Users/riveill/opt/miniconda3/lib/python3.9/site-packages/sklearn/metrics/_classification.py:1334: UndefinedMetricWarning: Recall and F-score are ill-defined and being set to 0.0 in labels with no true samples. Use `zero_division` parameter to control this behavior.\n",
      "  _warn_prf(average, modifier, msg_start, len(result))\n"
     ]
    }
   ],
   "source": [
    "print(sklearn.metrics.classification_report(y_test_enc.flatten(), y_pred_enc.flatten(),\n",
    "                                            target_names=labels, labels=labels_id, digits=3))"
   ]
  },
  {
   "cell_type": "code",
   "execution_count": 103,
   "id": "f361b818",
   "metadata": {
    "ExecuteTime": {
     "end_time": "2022-09-25T11:30:47.151850Z",
     "start_time": "2022-09-25T11:30:47.035532Z"
    }
   },
   "outputs": [
    {
     "name": "stdout",
     "output_type": "stream",
     "text": [
      "              precision    recall  f1-score   support\n",
      "\n",
      "       B-LOC      0.767     0.739     0.753      1436\n",
      "       B-PER      0.862     0.554     0.674      1363\n",
      "       B-ORG      0.566     0.627     0.595      1464\n",
      "       I-PER      0.854     0.544     0.664       925\n",
      "       I-ORG      0.525     0.389     0.447       686\n",
      "       I-LOC      0.430     0.573     0.491       227\n",
      "\n",
      "   micro avg      0.688     0.596     0.638      6101\n",
      "   macro avg      0.667     0.571     0.604      6101\n",
      "weighted avg      0.713     0.596     0.640      6101\n",
      "\n"
     ]
    }
   ],
   "source": [
    "# Generally we want the prediction without the [PAD], [UNK] and 'O' class. Just remove it.\n",
    "print(sklearn.metrics.classification_report(y_test_enc.flatten(), y_pred_enc.flatten(),\n",
    "                                            target_names=labels[3:], labels=labels_id[3:], digits=3))"
   ]
  },
  {
   "cell_type": "code",
   "execution_count": 111,
   "id": "f1fac91f",
   "metadata": {
    "ExecuteTime": {
     "end_time": "2022-09-25T11:37:10.838117Z",
     "start_time": "2022-09-25T11:37:10.688959Z"
    }
   },
   "outputs": [
    {
     "name": "stdout",
     "output_type": "stream",
     "text": [
      "              precision    recall  f1-score   support\n",
      "\n",
      "         LOC      0.795     0.664     0.724      2361\n",
      "         PER      0.741     0.501     0.598      2049\n",
      "         ORG      0.548     0.623     0.583      1691\n",
      "\n",
      "   micro avg      0.691     0.598     0.641      6101\n",
      "   macro avg      0.694     0.596     0.635      6101\n",
      "weighted avg      0.708     0.598     0.642      6101\n",
      "\n"
     ]
    }
   ],
   "source": [
    "# Group B and I label\n",
    "y_test2 = [-1 if item<3 else item%3 for sublist in y_test_enc for item in sublist]\n",
    "y_pred2 = [-1 if item<3 else item%3 for sublist in y_pred_enc for item in sublist]\n",
    "\n",
    "labels2 =list(np.unique(y_test2))\n",
    "labels2.remove(-1)\n",
    "\n",
    "print(sklearn.metrics.classification_report(y_test2, y_pred2,\n",
    "                                            target_names=[\"LOC\", \"PER\", \"ORG\"],\n",
    "                                            labels=labels2, digits=3))"
   ]
  },
  {
   "cell_type": "markdown",
   "id": "e546f52b",
   "metadata": {
    "ExecuteTime": {
     "end_time": "2022-09-27T11:58:03.268218Z",
     "start_time": "2022-09-27T11:58:03.263494Z"
    }
   },
   "source": [
    "## Your work\n",
    "\n",
    "<font color='red'>\n",
    "<br>\n",
    "**$TO DO - Students$**\n",
    "    \n",
    "Before modifying the code, take the time to understand it well.\n",
    "    \n",
    "\n",
    "* Try to improve the f1 score using others **LSTM** architecture :\n",
    "    * Use Bi-RNN approach (tf.keras.layers.Bidirectional)\n",
    "    * Use stacked Bi-RNN approach\n",
    "    * Eventually, replace the `softmax` activation function by a [CRF layer](https://www.tensorflow.org/addons/api_docs/python/tfa/layers/CRF)\n",
    "</font>"
   ]
  },
  {
   "cell_type": "code",
   "execution_count": null,
   "id": "c79e7946",
   "metadata": {},
   "outputs": [],
   "source": []
  }
 ],
 "metadata": {
  "kernelspec": {
   "display_name": "Python 3",
   "language": "python",
   "name": "python3"
  },
  "language_info": {
   "codemirror_mode": {
    "name": "ipython",
    "version": 3
   },
   "file_extension": ".py",
   "mimetype": "text/x-python",
   "name": "python",
   "nbconvert_exporter": "python",
   "pygments_lexer": "ipython3",
   "version": "3.8.8"
  },
  "latex_envs": {
   "LaTeX_envs_menu_present": true,
   "autoclose": true,
   "autocomplete": true,
   "bibliofile": "biblio.bib",
   "cite_by": "apalike",
   "current_citInitial": 1,
   "eqLabelWithNumbers": true,
   "eqNumInitial": 1,
   "hotkeys": {
    "equation": "Ctrl-E",
    "itemize": "Ctrl-I"
   },
   "labels_anchors": false,
   "latex_user_defs": false,
   "report_style_numbering": false,
   "user_envs_cfg": false
  },
  "nbTranslate": {
   "displayLangs": [
    "*"
   ],
   "hotkey": "alt-t",
   "langInMainMenu": true,
   "sourceLang": "en",
   "targetLang": "fr",
   "useGoogleTranslate": true
  }
 },
 "nbformat": 4,
 "nbformat_minor": 5
}
