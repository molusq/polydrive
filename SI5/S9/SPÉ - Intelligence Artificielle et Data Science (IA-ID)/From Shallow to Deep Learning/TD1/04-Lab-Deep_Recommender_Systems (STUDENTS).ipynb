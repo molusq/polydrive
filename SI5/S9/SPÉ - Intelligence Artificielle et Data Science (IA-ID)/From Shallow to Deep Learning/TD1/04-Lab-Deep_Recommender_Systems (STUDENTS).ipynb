{
 "cells": [
  {
   "cell_type": "markdown",
   "id": "df699b37",
   "metadata": {
    "id": "379da3d5",
    "toc": true
   },
   "source": [
    "<h1>Table of Contents<span class=\"tocSkip\"></span></h1>\n",
    "<div class=\"toc\"><ul class=\"toc-item\"><li><ul class=\"toc-item\"><li><span><a href=\"#Data-preprocessing\" data-toc-modified-id=\"Data-preprocessing-0.1\"><span class=\"toc-item-num\">0.1&nbsp;&nbsp;</span>Data preprocessing</a></span></li><li><span><a href=\"#Data-splitting\" data-toc-modified-id=\"Data-splitting-0.2\"><span class=\"toc-item-num\">0.2&nbsp;&nbsp;</span>Data splitting</a></span></li><li><span><a href=\"#Converting-the-dataset-to-an-implicit-feedback-dataset\" data-toc-modified-id=\"Converting-the-dataset-to-an-implicit-feedback-dataset-0.3\"><span class=\"toc-item-num\">0.3&nbsp;&nbsp;</span>Converting the dataset to an implicit feedback dataset</a></span></li></ul></li><li><span><a href=\"#Build-Neural-Collaborative-Filtering-(NCF)\" data-toc-modified-id=\"Build-Neural-Collaborative-Filtering-(NCF)-1\"><span class=\"toc-item-num\">1&nbsp;&nbsp;</span>Build Neural Collaborative Filtering (NCF)</a></span><ul class=\"toc-item\"><li><span><a href=\"#Evaluating-our-Recommender-System\" data-toc-modified-id=\"Evaluating-our-Recommender-System-1.1\"><span class=\"toc-item-num\">1.1&nbsp;&nbsp;</span>Evaluating our Recommender System</a></span></li></ul></li><li><span><a href=\"#Your-work\" data-toc-modified-id=\"Your-work-2\"><span class=\"toc-item-num\">2&nbsp;&nbsp;</span>Your work</a></span><ul class=\"toc-item\"><li><span><a href=\"#Step-1-:-Try-to-find-best-hyper-parameters-for-Hit-Ratio-at-10\" data-toc-modified-id=\"Step-1-:-Try-to-find-best-hyper-parameters-for-Hit-Ratio-at-10-2.1\"><span class=\"toc-item-num\">2.1&nbsp;&nbsp;</span>Step 1 : Try to find best hyper-parameters for Hit Ratio at 10</a></span></li><li><span><a href=\"#Step-2-:-Add-new-features-in-order-to-improve-the-Hit-Ratio-at-10\" data-toc-modified-id=\"Step-2-:-Add-new-features-in-order-to-improve-the-Hit-Ratio-at-10-2.2\"><span class=\"toc-item-num\">2.2&nbsp;&nbsp;</span>Step 2 : Add new features in order to improve the Hit Ratio at 10</a></span></li><li><span><a href=\"#Step-3---Improve-the-network-by-using-a-General-Matrix-Factorisation-layer\" data-toc-modified-id=\"Step-3---Improve-the-network-by-using-a-General-Matrix-Factorisation-layer-2.3\"><span class=\"toc-item-num\">2.3&nbsp;&nbsp;</span>Step 3 - Improve the network by using a General Matrix Factorisation layer</a></span></li><li><span><a href=\"#Step-4---Final-architecture\" data-toc-modified-id=\"Step-4---Final-architecture-2.4\"><span class=\"toc-item-num\">2.4&nbsp;&nbsp;</span>Step 4 - Final architecture</a></span></li></ul></li></ul></div>"
   ]
  },
  {
   "cell_type": "markdown",
   "id": "4f99b174",
   "metadata": {
    "id": "e795a4a6"
   },
   "source": [
    "# Building a deep recommender systems\n",
    "\n",
    "**Main part**\n",
    "\n",
    "* The difference between implicit and explicit feedback for recommender systems\n",
    "* How to train-test split a dataset for training recommender systems without introducing biases and data leakages\n",
    "* How to create your own deep learning based recommender system using Keras\n",
    "* Metrics for evaluating recommender systems (hint: accuracy or RMSE is not appropriate!)"
   ]
  },
  {
   "cell_type": "markdown",
   "id": "d15715de",
   "metadata": {
    "id": "d8dab56d"
   },
   "source": [
    "For the first part, we use here the MovieLens 100K Dataset. It contain 100,000 ratings from 1000 users on 1700 movies.\n",
    "\n",
    "* u.train / u.test part of the original u.data information\n",
    "    * The full u data set, 100000 ratings by 943 users on 1682 items.\n",
    "              Each user has rated at least 20 movies.  Users and items are\n",
    "              numbered consecutively from 1.  The data is randomly\n",
    "              ordered. This is a tab separated list of \n",
    "\t         user id | item id | rating | timestamp. \n",
    "              The time stamps are unix seconds since 1/1/1970 UTC   \n",
    "* u.info\n",
    "    * The number of users, items, and ratings in the u data set.\n",
    "* u.item\n",
    "    * Information about the items (movies); this is a tab separated\n",
    "              list of\n",
    "              movie id | movie title | release date | video release date |\n",
    "              IMDb URL | unknown | Action | Adventure | Animation |\n",
    "              Children's | Comedy | Crime | Documentary | Drama | Fantasy |\n",
    "              Film-Noir | Horror | Musical | Mystery | Romance | Sci-Fi |\n",
    "              Thriller | War | Western |\n",
    "              The last 19 fields are the genres, a 1 indicates the movie\n",
    "              is of that genre, a 0 indicates it is not; movies can be in\n",
    "              several genres at once.\n",
    "              The movie ids are the ones used in the u.data data set.\n",
    "* u.genre\n",
    "    * A list of the genres.\n",
    "* u.user\n",
    "    * Demographic information about the users; this is a tab\n",
    "              separated list of\n",
    "              user id | age | gender | occupation | zip code\n",
    "              The user ids are the ones used in the u.data data set."
   ]
  },
  {
   "cell_type": "code",
   "execution_count": 4,
   "id": "2ce19b7f",
   "metadata": {
    "ExecuteTime": {
     "end_time": "2022-11-21T11:36:11.143201Z",
     "start_time": "2022-11-21T11:36:02.952936Z"
    },
    "id": "ae4b756c"
   },
   "outputs": [
    {
     "name": "stdout",
     "output_type": "stream",
     "text": [
      "Collecting wget\r\n",
      "  Using cached wget-3.2-py3-none-any.whl\r\n",
      "Installing collected packages: wget\r\n",
      "Successfully installed wget-3.2\r\n",
      "\r\n",
      "\u001B[1m[\u001B[0m\u001B[34;49mnotice\u001B[0m\u001B[1;39;49m]\u001B[0m\u001B[39;49m A new release of pip available: \u001B[0m\u001B[31;49m22.2.2\u001B[0m\u001B[39;49m -> \u001B[0m\u001B[32;49m22.3.1\u001B[0m\r\n",
      "\u001B[1m[\u001B[0m\u001B[34;49mnotice\u001B[0m\u001B[1;39;49m]\u001B[0m\u001B[39;49m To update, run: \u001B[0m\u001B[32;49mpip install --upgrade pip\u001B[0m\r\n"
     ]
    },
    {
     "data": {
      "text/plain": "'ml-100k (1).zip'"
     },
     "execution_count": 4,
     "metadata": {},
     "output_type": "execute_result"
    }
   ],
   "source": [
    "#path = \"https://www.i3s.unice.fr/~riveill/dataset/dataset_movilens_100K/\"\n",
    "try:\n",
    "    import wget\n",
    "except:\n",
    "    !pip install wget\n",
    "    import wget\n",
    "wget.download('https://files.grouplens.org/datasets/movielens/ml-100k.zip')\n"
   ]
  },
  {
   "cell_type": "code",
   "execution_count": 5,
   "id": "c2bd3d87",
   "metadata": {
    "ExecuteTime": {
     "end_time": "2022-11-21T11:36:12.025946Z",
     "start_time": "2022-11-21T11:36:11.926700Z"
    }
   },
   "outputs": [],
   "source": [
    "import zipfile\n",
    "\n",
    "with zipfile.ZipFile('./ml-100k.zip', 'r') as zip_ref:\n",
    "    zip_ref.extractall('.')"
   ]
  },
  {
   "cell_type": "markdown",
   "id": "edd205c7",
   "metadata": {
    "id": "e1448084"
   },
   "source": [
    "Before we build our model, it is important to understand the distinction between implicit and explicit feedback, and why modern recommender systems are built on implicit feedback.\n",
    "\n",
    "* **Explicit Feedback:** in the context of recommender systems, explicit feedback are direct and quantitative data collected from users.\n",
    "* **Implicit Feedback:** on the other hand, implicit feedback are collected indirectly from user interactions, and they act as a proxy for user preference. \n",
    "\n",
    "The advantage of implicit feedback is that it is abundant. Recommender systems built using implicit feedback allow recommendations to be adapted in real time, with each click and interaction.\n",
    "\n",
    "Today, online recommender systems are built using implicit feedback."
   ]
  },
  {
   "cell_type": "markdown",
   "id": "f1d41ed0",
   "metadata": {
    "id": "126e76d9"
   },
   "source": [
    "### Data preprocessing"
   ]
  },
  {
   "cell_type": "markdown",
   "id": "1f4b2dfa",
   "metadata": {
    "id": "KzmpzGugpe5D"
   },
   "source": [
    "For fast training and testing your code, you can keep the first entries of the dataset only by tuning n_keep"
   ]
  },
  {
   "cell_type": "code",
   "execution_count": 53,
   "id": "dbb78cea",
   "metadata": {
    "ExecuteTime": {
     "end_time": "2022-11-21T11:36:19.468297Z",
     "start_time": "2022-11-21T11:36:19.407967Z"
    },
    "colab": {
     "base_uri": "https://localhost:8080/",
     "height": 204
    },
    "executionInfo": {
     "elapsed": 485,
     "status": "ok",
     "timestamp": 1637156409795,
     "user": {
      "displayName": "Antoine Collin",
      "photoUrl": "https://lh3.googleusercontent.com/a/default-user=s64",
      "userId": "01107865217976062482"
     },
     "user_tz": -60
    },
    "id": "1d08bb8e",
    "outputId": "33989908-1321-4c50-b76d-6de8227efba3"
   },
   "outputs": [
    {
     "data": {
      "text/plain": "      userId  movieId  rating  timestamp\n214      259      255       4  874724710\n1766     259      772       4  874724882\n159      259      117       4  874724988\n4029     259      405       3  874725120\n4334     259      176       4  874725386",
      "text/html": "<div>\n<style scoped>\n    .dataframe tbody tr th:only-of-type {\n        vertical-align: middle;\n    }\n\n    .dataframe tbody tr th {\n        vertical-align: top;\n    }\n\n    .dataframe thead th {\n        text-align: right;\n    }\n</style>\n<table border=\"1\" class=\"dataframe\">\n  <thead>\n    <tr style=\"text-align: right;\">\n      <th></th>\n      <th>userId</th>\n      <th>movieId</th>\n      <th>rating</th>\n      <th>timestamp</th>\n    </tr>\n  </thead>\n  <tbody>\n    <tr>\n      <th>214</th>\n      <td>259</td>\n      <td>255</td>\n      <td>4</td>\n      <td>874724710</td>\n    </tr>\n    <tr>\n      <th>1766</th>\n      <td>259</td>\n      <td>772</td>\n      <td>4</td>\n      <td>874724882</td>\n    </tr>\n    <tr>\n      <th>159</th>\n      <td>259</td>\n      <td>117</td>\n      <td>4</td>\n      <td>874724988</td>\n    </tr>\n    <tr>\n      <th>4029</th>\n      <td>259</td>\n      <td>405</td>\n      <td>3</td>\n      <td>874725120</td>\n    </tr>\n    <tr>\n      <th>4334</th>\n      <td>259</td>\n      <td>176</td>\n      <td>4</td>\n      <td>874725386</td>\n    </tr>\n  </tbody>\n</table>\n</div>"
     },
     "execution_count": 53,
     "metadata": {},
     "output_type": "execute_result"
    }
   ],
   "source": [
    "# Load data\n",
    "import pandas as pd\n",
    "import numpy as np\n",
    "\n",
    "np.random.seed(123)\n",
    "\n",
    "n_keep = 10000\n",
    "\n",
    "path = './ml-100k/'\n",
    "ratings = pd.read_csv(path + 'u.data', sep='\\t', header=None,\n",
    "                      names=['userId', 'movieId', 'rating', 'timestamp']).iloc[:n_keep, :]\n",
    "ratings = ratings.sort_values(['timestamp'], ascending=True)\n",
    "ratings.head()"
   ]
  },
  {
   "cell_type": "markdown",
   "id": "d370e17e",
   "metadata": {
    "id": "0b2fc6d4"
   },
   "source": [
    "### Data splitting\n",
    "\n",
    "Separating the dataset between train and test in a random fashion would not be fair, as we could potentially use a user's recent evaluations for training and previous evaluations. This introduces a data leakage with an anticipation bias, and the performance of the trained model would not be generalizable to real world performance.\n",
    "\n",
    "Therefore, we need to slice the train and test based on the timestamp\n"
   ]
  },
  {
   "cell_type": "code",
   "execution_count": 54,
   "id": "c1cf65bb",
   "metadata": {
    "ExecuteTime": {
     "end_time": "2022-11-21T11:36:20.677291Z",
     "start_time": "2022-11-21T11:36:20.670478Z"
    },
    "colab": {
     "base_uri": "https://localhost:8080/"
    },
    "executionInfo": {
     "elapsed": 363,
     "status": "ok",
     "timestamp": 1637156411788,
     "user": {
      "displayName": "Antoine Collin",
      "photoUrl": "https://lh3.googleusercontent.com/a/default-user=s64",
      "userId": "01107865217976062482"
     },
     "user_tz": -60
    },
    "id": "4f039788",
    "outputId": "32503619-5e5a-4dcb-e23f-766f32b1fcc1"
   },
   "outputs": [
    {
     "data": {
      "text/plain": "True"
     },
     "execution_count": 54,
     "metadata": {},
     "output_type": "execute_result"
    }
   ],
   "source": [
    "# Split dataset\n",
    "train_ratings, test_ratings = np.split(ratings, [int(.67 * len(ratings))])\n",
    "\n",
    "max(train_ratings['timestamp']) <= min(test_ratings['timestamp'])"
   ]
  },
  {
   "cell_type": "code",
   "execution_count": 55,
   "id": "81b8a481",
   "metadata": {
    "ExecuteTime": {
     "end_time": "2022-11-21T11:36:21.664927Z",
     "start_time": "2022-11-21T11:36:21.655324Z"
    },
    "colab": {
     "base_uri": "https://localhost:8080/"
    },
    "executionInfo": {
     "elapsed": 5,
     "status": "ok",
     "timestamp": 1637156411788,
     "user": {
      "displayName": "Antoine Collin",
      "photoUrl": "https://lh3.googleusercontent.com/a/default-user=s64",
      "userId": "01107865217976062482"
     },
     "user_tz": -60
    },
    "id": "2822ab43",
    "outputId": "a8236d46-21d6-4f11-a317-c66c9fd146c0"
   },
   "outputs": [
    {
     "data": {
      "text/plain": "(6700, 3300)"
     },
     "execution_count": 55,
     "metadata": {},
     "output_type": "execute_result"
    }
   ],
   "source": [
    "# drop columns that we no longer need\n",
    "train_ratings = train_ratings[['userId', 'movieId', 'rating']]\n",
    "test_ratings = test_ratings[['userId', 'movieId', 'rating']]\n",
    "\n",
    "len(train_ratings), len(test_ratings)"
   ]
  },
  {
   "cell_type": "markdown",
   "id": "bc323b36",
   "metadata": {
    "id": "1b4f7f3f"
   },
   "source": [
    "### Converting the dataset to an implicit feedback dataset\n",
    "\n",
    "As discussed earlier, we will train a recommender system using implicit feedback. However, the MovieLens dataset we use is based on explicit feedback. To convert this dataset to an implicit feedback dataset, we will simply binarize the ratings and convert them to '1' (i.e. a positive class). The value '1' means that the user has interacted with the element.\n",
    "\n",
    "It is important to note that using implicit feedback reframes the problem our recommender is trying to solve. Instead of trying to predict the ranking of movies using explicit feedback, we try to predict whether the user will interact (i.e., click/buy/watch) with each movie, with the goal of presenting users with the movies with the highest probability of interaction."
   ]
  },
  {
   "cell_type": "code",
   "execution_count": 56,
   "id": "457d73a6",
   "metadata": {
    "ExecuteTime": {
     "end_time": "2022-11-21T11:36:38.240281Z",
     "start_time": "2022-11-21T11:36:38.230851Z"
    },
    "colab": {
     "base_uri": "https://localhost:8080/",
     "height": 204
    },
    "executionInfo": {
     "elapsed": 288,
     "status": "ok",
     "timestamp": 1637156414030,
     "user": {
      "displayName": "Antoine Collin",
      "photoUrl": "https://lh3.googleusercontent.com/a/default-user=s64",
      "userId": "01107865217976062482"
     },
     "user_tz": -60
    },
    "id": "3aba6be6",
    "outputId": "856da4b7-9e11-42fe-abcb-47d8f015a750"
   },
   "outputs": [
    {
     "data": {
      "text/plain": "      userId  movieId  rating  interaction\n214      259      255       4            1\n1766     259      772       4            1\n159      259      117       4            1\n4029     259      405       3            1\n4334     259      176       4            1",
      "text/html": "<div>\n<style scoped>\n    .dataframe tbody tr th:only-of-type {\n        vertical-align: middle;\n    }\n\n    .dataframe tbody tr th {\n        vertical-align: top;\n    }\n\n    .dataframe thead th {\n        text-align: right;\n    }\n</style>\n<table border=\"1\" class=\"dataframe\">\n  <thead>\n    <tr style=\"text-align: right;\">\n      <th></th>\n      <th>userId</th>\n      <th>movieId</th>\n      <th>rating</th>\n      <th>interaction</th>\n    </tr>\n  </thead>\n  <tbody>\n    <tr>\n      <th>214</th>\n      <td>259</td>\n      <td>255</td>\n      <td>4</td>\n      <td>1</td>\n    </tr>\n    <tr>\n      <th>1766</th>\n      <td>259</td>\n      <td>772</td>\n      <td>4</td>\n      <td>1</td>\n    </tr>\n    <tr>\n      <th>159</th>\n      <td>259</td>\n      <td>117</td>\n      <td>4</td>\n      <td>1</td>\n    </tr>\n    <tr>\n      <th>4029</th>\n      <td>259</td>\n      <td>405</td>\n      <td>3</td>\n      <td>1</td>\n    </tr>\n    <tr>\n      <th>4334</th>\n      <td>259</td>\n      <td>176</td>\n      <td>4</td>\n      <td>1</td>\n    </tr>\n  </tbody>\n</table>\n</div>"
     },
     "execution_count": 56,
     "metadata": {},
     "output_type": "execute_result"
    }
   ],
   "source": [
    "train_ratings['interaction'] = 1\n",
    "train_ratings.head()"
   ]
  },
  {
   "cell_type": "markdown",
   "id": "8c0bb84c",
   "metadata": {
    "id": "10db6eac"
   },
   "source": [
    "However, we now have a problem. After binarizing our data set, we find that every sample in the data set now belongs to the positive class. However, we also need negative samples to train our models, to indicate the movies that the user did not interact with. We assume that these movies are the ones the user is not interested in - although this is a general assumption that may not be true, it works quite well in practice.\n",
    "\n",
    "The code below generates 4 negative samples for each row of data. In other words, the ratio of negative to positive samples is 4:1. This ratio is chosen arbitrarily but it works quite well in practice."
   ]
  },
  {
   "cell_type": "markdown",
   "id": "cc59fe85",
   "metadata": {
    "id": "0CbBFNECq1_6"
   },
   "source": [
    "**[TO DO - Students]: Fill the gaps**"
   ]
  },
  {
   "cell_type": "code",
   "execution_count": 57,
   "id": "3a08c168",
   "metadata": {
    "ExecuteTime": {
     "end_time": "2022-11-21T11:36:47.148587Z",
     "start_time": "2022-11-21T11:36:46.944705Z"
    },
    "id": "8b936437"
   },
   "outputs": [
    {
     "name": "stdout",
     "output_type": "stream",
     "text": [
      "movies statistics:  1254\n"
     ]
    }
   ],
   "source": [
    "# Get a list of all movie IDs\n",
    "all_movieIds = ratings['movieId'].unique()\n",
    "print('movies statistics: ', len(all_movieIds))\n",
    "# Placeholders that will hold the training data\n",
    "users, items, labels = [], [], []\n",
    "\n",
    "# This is the set of items that each user has interaction with\n",
    "user_item_set = set(zip(train_ratings['userId'], train_ratings['movieId']))\n",
    "\n",
    "# 4:1 ratio of negative to positive samples\n",
    "num_negatives = 4\n",
    "\n",
    "for (u, i) in user_item_set:\n",
    "    users.append(u)\n",
    "    items.append(i)\n",
    "    labels.append(1)  # items that the user has interacted with are positive\n",
    "    for _ in range(num_negatives):\n",
    "        # randomly select an item\n",
    "        negative_item = np.random.choice(all_movieIds)\n",
    "        # check that the user has not interacted with this item\n",
    "        while (u, negative_item) in user_item_set:\n",
    "            negative_item = np.random.choice(all_movieIds)\n",
    "        users.append(u)\n",
    "        items.append(negative_item)\n",
    "        labels.append(0)  # items not interacted with are negative"
   ]
  },
  {
   "cell_type": "markdown",
   "id": "f894a6b0",
   "metadata": {
    "id": "4dba8fba"
   },
   "source": [
    "## Build Neural Collaborative Filtering (NCF)\n",
    "\n",
    "As there are many deep learning based architectures for recommender systems, I propose here to use the framework proposed by [He et al, Neural Collaborative Filtering](https://arxiv.org/abs/1708.05031) which is simple enough to be implemented in an introductory context.\n",
    "\n",
    "In a \"collaborative\" approach, the user and the embedded elements are essential to the model. Here is a description of the architecture: ![architecture](https://miro.medium.com/max/4800/1*lYD7OP53iK_y4lt6XWjubQ.png)\n",
    "\n",
    "The inputs to the model are the one-hot encoded user and item vector for userId = 3 and movieId = 1. Because this is a positive sample (movie actually rated by the user), the true label (interacted) is 1.\n",
    "The user input vector and item input vector are fed to the user embedding and item embedding respectively, which results in a smaller, denser user and item vectors.\n",
    "\n",
    "The embedded user and item vectors are concatenated before passing through a series of fully connected layers, which maps the concatenated embeddings into a prediction vector as output. At the output layer, we apply a Sigmoid function to obtain the most probable class. In the example above, the most probable class is 1 (positive class), since 0.8 > 0.2.\n",
    "\n",
    "This [tutorial](https://machinelearningmastery.com/use-word-embedding-layers-deep-learning-keras/) shows you how to make an embedding with Keras "
   ]
  },
  {
   "cell_type": "markdown",
   "id": "a71d9f38",
   "metadata": {
    "id": "a9FAUzyOrU4h"
   },
   "source": [
    "**[TO DO - Students]: Fill the gaps**"
   ]
  },
  {
   "cell_type": "code",
   "execution_count": 58,
   "id": "7c6565fb",
   "metadata": {
    "ExecuteTime": {
     "end_time": "2021-11-15T14:55:18.213938Z",
     "start_time": "2021-11-15T14:54:45.358334Z"
    },
    "id": "031d1292"
   },
   "outputs": [],
   "source": [
    "from tensorflow.keras.models import Model\n",
    "from keras.layers import Dense, Embedding, Concatenate, Input, Flatten\n",
    "\n",
    "\n",
    "def NCF(num_users, num_items):\n",
    "    # user_id embedding\n",
    "    users_input = Input(shape=(1,))\n",
    "    x_users = Embedding(input_dim=num_users, output_dim=8)(users_input)\n",
    "    x_users = Flatten()(x_users)\n",
    "\n",
    "    # item_id embedding\n",
    "    items_input = Input(shape=(1,))\n",
    "    x_items = Embedding(input_dim=num_items, output_dim=8)(items_input)\n",
    "    x_items = Flatten()(x_items)\n",
    "\n",
    "    # concatenation\n",
    "    x = Concatenate(axis=1)([x_users, x_items])\n",
    "\n",
    "    # output layer\n",
    "    output = Dense(1, activation='sigmoid')(x)\n",
    "\n",
    "    # Build the model\n",
    "    model = Model(inputs=[users_input, items_input], outputs=output)\n",
    "\n",
    "    # compile the model\n",
    "    model.compile(optimizer='adam', loss='binary_crossentropy', metrics=['accuracy'])\n",
    "\n",
    "    # summarize the model\n",
    "    print(model.summary())\n",
    "\n",
    "    return model"
   ]
  },
  {
   "cell_type": "code",
   "execution_count": 59,
   "id": "df7ade5b",
   "metadata": {
    "ExecuteTime": {
     "end_time": "2021-11-15T14:55:18.396436Z",
     "start_time": "2021-11-15T14:55:18.220674Z"
    },
    "colab": {
     "base_uri": "https://localhost:8080/"
    },
    "executionInfo": {
     "elapsed": 434,
     "status": "ok",
     "timestamp": 1637156418046,
     "user": {
      "displayName": "Antoine Collin",
      "photoUrl": "https://lh3.googleusercontent.com/a/default-user=s64",
      "userId": "01107865217976062482"
     },
     "user_tz": -60
    },
    "id": "9904b4dc",
    "outputId": "5cf066e1-6281-4cb3-8bea-4bdc73b498f1"
   },
   "outputs": [],
   "source": [
    "num_users = max(np.unique(users)) + 1\n",
    "num_items = max(np.unique(items)) + 1"
   ]
  },
  {
   "cell_type": "code",
   "execution_count": 60,
   "id": "bf6d21b1",
   "metadata": {
    "ExecuteTime": {
     "end_time": "2021-11-15T14:55:18.516821Z",
     "start_time": "2021-11-15T14:55:18.398981Z"
    },
    "id": "daa258d3"
   },
   "outputs": [
    {
     "name": "stdout",
     "output_type": "stream",
     "text": [
      "Model: \"model_1\"\n",
      "__________________________________________________________________________________________________\n",
      " Layer (type)                   Output Shape         Param #     Connected to                     \n",
      "==================================================================================================\n",
      " input_3 (InputLayer)           [(None, 1)]          0           []                               \n",
      "                                                                                                  \n",
      " input_4 (InputLayer)           [(None, 1)]          0           []                               \n",
      "                                                                                                  \n",
      " embedding_2 (Embedding)        (None, 1, 8)         3120        ['input_3[0][0]']                \n",
      "                                                                                                  \n",
      " embedding_3 (Embedding)        (None, 1, 8)         12240       ['input_4[0][0]']                \n",
      "                                                                                                  \n",
      " flatten_2 (Flatten)            (None, 8)            0           ['embedding_2[0][0]']            \n",
      "                                                                                                  \n",
      " flatten_3 (Flatten)            (None, 8)            0           ['embedding_3[0][0]']            \n",
      "                                                                                                  \n",
      " concatenate_1 (Concatenate)    (None, 16)           0           ['flatten_2[0][0]',              \n",
      "                                                                  'flatten_3[0][0]']              \n",
      "                                                                                                  \n",
      " dense_1 (Dense)                (None, 1)            17          ['concatenate_1[0][0]']          \n",
      "                                                                                                  \n",
      "==================================================================================================\n",
      "Total params: 15,377\n",
      "Trainable params: 15,377\n",
      "Non-trainable params: 0\n",
      "__________________________________________________________________________________________________\n",
      "None\n"
     ]
    }
   ],
   "source": [
    "model = NCF(num_users, num_items)"
   ]
  },
  {
   "cell_type": "code",
   "execution_count": 61,
   "id": "49a0cb84",
   "metadata": {
    "ExecuteTime": {
     "end_time": "2021-11-15T14:58:24.656866Z",
     "start_time": "2021-11-15T14:55:18.523697Z"
    },
    "colab": {
     "base_uri": "https://localhost:8080/"
    },
    "executionInfo": {
     "elapsed": 1110177,
     "status": "ok",
     "timestamp": 1637157534911,
     "user": {
      "displayName": "Antoine Collin",
      "photoUrl": "https://lh3.googleusercontent.com/a/default-user=s64",
      "userId": "01107865217976062482"
     },
     "user_tz": -60
    },
    "id": "7b6d218e",
    "outputId": "0b7d54e6-b189-4e40-ad0a-c2cb504252dd"
   },
   "outputs": [
    {
     "name": "stdout",
     "output_type": "stream",
     "text": [
      "Epoch 1/100\n",
      "838/838 [==============================] - 3s 2ms/step - loss: 0.5328 - accuracy: 0.7933 - val_loss: 0.4559 - val_accuracy: 0.8028\n",
      "Epoch 2/100\n",
      "838/838 [==============================] - 1s 2ms/step - loss: 0.4328 - accuracy: 0.8081 - val_loss: 0.4422 - val_accuracy: 0.8027\n",
      "Epoch 3/100\n",
      "838/838 [==============================] - 1s 2ms/step - loss: 0.4179 - accuracy: 0.8101 - val_loss: 0.4466 - val_accuracy: 0.7984\n",
      "Epoch 4/100\n",
      "838/838 [==============================] - 2s 2ms/step - loss: 0.4139 - accuracy: 0.8107 - val_loss: 0.4507 - val_accuracy: 0.7985\n",
      "Epoch 5/100\n",
      "838/838 [==============================] - 2s 2ms/step - loss: 0.4123 - accuracy: 0.8105 - val_loss: 0.4545 - val_accuracy: 0.7988\n",
      "Epoch 6/100\n",
      "838/838 [==============================] - 2s 2ms/step - loss: 0.4112 - accuracy: 0.8095 - val_loss: 0.4579 - val_accuracy: 0.8004\n",
      "Epoch 7/100\n",
      "838/838 [==============================] - 1s 2ms/step - loss: 0.4105 - accuracy: 0.8106 - val_loss: 0.4610 - val_accuracy: 0.7996\n",
      "Epoch 8/100\n",
      "838/838 [==============================] - 2s 2ms/step - loss: 0.4098 - accuracy: 0.8096 - val_loss: 0.4642 - val_accuracy: 0.8007\n",
      "Epoch 9/100\n",
      "838/838 [==============================] - 2s 2ms/step - loss: 0.4093 - accuracy: 0.8109 - val_loss: 0.4684 - val_accuracy: 0.7996\n",
      "Epoch 10/100\n",
      "838/838 [==============================] - 1s 2ms/step - loss: 0.4089 - accuracy: 0.8104 - val_loss: 0.4703 - val_accuracy: 0.8001\n",
      "Epoch 11/100\n",
      "838/838 [==============================] - 1s 2ms/step - loss: 0.4084 - accuracy: 0.8107 - val_loss: 0.4740 - val_accuracy: 0.8012\n",
      "Epoch 12/100\n",
      "835/838 [============================>.] - ETA: 0s - loss: 0.4082 - accuracy: 0.8114Restoring model weights from the end of the best epoch: 2.\n",
      "838/838 [==============================] - 1s 2ms/step - loss: 0.4080 - accuracy: 0.8116 - val_loss: 0.4777 - val_accuracy: 0.7988\n",
      "Epoch 12: early stopping\n"
     ]
    }
   ],
   "source": [
    "# Model fitting\n",
    "from tensorflow.keras.callbacks import EarlyStopping, ModelCheckpoint\n",
    "\n",
    "# simple early stopping\n",
    "es = EarlyStopping(monitor='val_loss', patience=10, mode='min', restore_best_weights=True, verbose=1)\n",
    "mc = ModelCheckpoint(\"best-model\", monitor=\"val_loss\", save_best_only=True, save_weights_only=True)\n",
    "\n",
    "#model.fit([np.array(users), np.array(items)], np.array(labels), epochs=2, verbose=1)\n",
    "history = model.fit([np.array(users), np.array(items)], np.array(labels).reshape(-1),\n",
    "                    validation_split=0.2, epochs=100, verbose=1, callbacks=[es, mc])"
   ]
  },
  {
   "cell_type": "code",
   "execution_count": 62,
   "id": "9ba33e48",
   "metadata": {
    "ExecuteTime": {
     "end_time": "2021-11-15T14:58:28.244546Z",
     "start_time": "2021-11-15T14:58:24.661922Z"
    },
    "colab": {
     "base_uri": "https://localhost:8080/",
     "height": 350
    },
    "executionInfo": {
     "elapsed": 53544,
     "status": "ok",
     "timestamp": 1637157588440,
     "user": {
      "displayName": "Antoine Collin",
      "photoUrl": "https://lh3.googleusercontent.com/a/default-user=s64",
      "userId": "01107865217976062482"
     },
     "user_tz": -60
    },
    "id": "55ee9f05",
    "outputId": "4e805bbe-ae83-4095-f4dc-af66b6150382"
   },
   "outputs": [
    {
     "data": {
      "text/plain": "<Figure size 1500x500 with 2 Axes>",
      "image/png": "[encoded data removed]"
     },
     "metadata": {},
     "output_type": "display_data"
    }
   ],
   "source": [
    "import matplotlib.pyplot as plt\n",
    "\n",
    "fig, axs = plt.subplots(1, 2, figsize=(15, 5))\n",
    "\n",
    "# summarize history for accuracy\n",
    "axs[0].plot(history.history['accuracy'])\n",
    "axs[0].plot(history.history['val_accuracy'])\n",
    "axs[0].set_title('model accuracy')\n",
    "axs[0].set_ylabel('accuracy')\n",
    "axs[0].set_xlabel('epoch')\n",
    "axs[0].legend(['train', 'val'], loc='upper left')\n",
    "\n",
    "# summarize history for loss\n",
    "axs[1].plot(history.history['loss'])\n",
    "axs[1].plot(history.history['val_loss'])\n",
    "axs[1].set_title('model loss')\n",
    "axs[1].set_ylabel('loss')\n",
    "axs[1].set_xlabel('epoch')\n",
    "axs[1].legend(['train', 'val'], loc='upper left')\n",
    "\n",
    "plt.show()"
   ]
  },
  {
   "cell_type": "markdown",
   "id": "cf127ca0",
   "metadata": {
    "id": "a7183d5a"
   },
   "source": [
    "### Evaluating our Recommender System\n",
    "Now that we have trained out model, we are ready to evaluate it using the test data. In traditional Machine Learning projects, we evaluate our models using metrics such as Accuracy (for classification problems) and RMSE (for regression problems). However, such metrics are too simplistic for evaluating recommender systems.\n",
    "\n",
    "To design a good metric for evaluating recommender systems, we need to first understand how modern recommender systems are used.\n",
    "\n",
    "Amazon, Netflix and others uses a list of recommendations. The key here is that we don’t need the user to interact with every single item in the list of recommendations. Instead, we just need the user to interact with at least one item on the list — as long as the user does that, the recommendations have worked.\n",
    "\n",
    "To simulate this, let’s run the following evaluation protocol to generate a list of top 10 recommended items for each user.\n",
    "\n",
    "* For each user, randomly select 99 items that the user has not interacted with.\n",
    "* Combine these 99 items with the test item (the actual item that the user last interacted with). We now have 100 items.\n",
    "* Run the model on these 100 items, and rank them according to their predicted probabilities.\n",
    "* Select the top 10 items from the list of 100 items. If the test item is present within the top 10 items, then we say that this is a hit.\n",
    "* Repeat the process for all users. The Hit Ratio is then the average hits.\n",
    "\n",
    "This evaluation protocol is known as **Hit Ratio @ 10**, and it is commonly used to evaluate recommender systems.\n"
   ]
  },
  {
   "cell_type": "markdown",
   "id": "9093a498",
   "metadata": {
    "id": "dNE50iVXsPcl"
   },
   "source": [
    "[TO DO - Students]: Fill the gaps"
   ]
  },
  {
   "cell_type": "code",
   "execution_count": 63,
   "outputs": [
    {
     "data": {
      "text/plain": "      userId  movieId  rating\n7169     116      180       5\n1809     116      271       4\n4349     116      187       5\n1789     305       50       5\n4629     305      257       2\n...      ...      ...     ...\n8883     189      607       4\n500      189      526       4\n2988     189       30       4\n4659     189     1021       5\n70       189      512       4\n\n[3300 rows x 3 columns]",
      "text/html": "<div>\n<style scoped>\n    .dataframe tbody tr th:only-of-type {\n        vertical-align: middle;\n    }\n\n    .dataframe tbody tr th {\n        vertical-align: top;\n    }\n\n    .dataframe thead th {\n        text-align: right;\n    }\n</style>\n<table border=\"1\" class=\"dataframe\">\n  <thead>\n    <tr style=\"text-align: right;\">\n      <th></th>\n      <th>userId</th>\n      <th>movieId</th>\n      <th>rating</th>\n    </tr>\n  </thead>\n  <tbody>\n    <tr>\n      <th>7169</th>\n      <td>116</td>\n      <td>180</td>\n      <td>5</td>\n    </tr>\n    <tr>\n      <th>1809</th>\n      <td>116</td>\n      <td>271</td>\n      <td>4</td>\n    </tr>\n    <tr>\n      <th>4349</th>\n      <td>116</td>\n      <td>187</td>\n      <td>5</td>\n    </tr>\n    <tr>\n      <th>1789</th>\n      <td>305</td>\n      <td>50</td>\n      <td>5</td>\n    </tr>\n    <tr>\n      <th>4629</th>\n      <td>305</td>\n      <td>257</td>\n      <td>2</td>\n    </tr>\n    <tr>\n      <th>...</th>\n      <td>...</td>\n      <td>...</td>\n      <td>...</td>\n    </tr>\n    <tr>\n      <th>8883</th>\n      <td>189</td>\n      <td>607</td>\n      <td>4</td>\n    </tr>\n    <tr>\n      <th>500</th>\n      <td>189</td>\n      <td>526</td>\n      <td>4</td>\n    </tr>\n    <tr>\n      <th>2988</th>\n      <td>189</td>\n      <td>30</td>\n      <td>4</td>\n    </tr>\n    <tr>\n      <th>4659</th>\n      <td>189</td>\n      <td>1021</td>\n      <td>5</td>\n    </tr>\n    <tr>\n      <th>70</th>\n      <td>189</td>\n      <td>512</td>\n      <td>4</td>\n    </tr>\n  </tbody>\n</table>\n<p>3300 rows × 3 columns</p>\n</div>"
     },
     "execution_count": 63,
     "metadata": {},
     "output_type": "execute_result"
    }
   ],
   "source": [
    "test_ratings"
   ],
   "metadata": {
    "collapsed": false
   }
  },
  {
   "cell_type": "code",
   "execution_count": 64,
   "id": "3389182a",
   "metadata": {
    "ExecuteTime": {
     "start_time": "2021-11-15T14:55:12.142Z"
    },
    "id": "382eb6fa"
   },
   "outputs": [],
   "source": [
    "def h10ratio(test_ratings, model):\n",
    "    # User-item pairs for testing\n",
    "    test_user_item_set = set(zip(test_ratings['userId'], test_ratings['movieId']))\n",
    "\n",
    "    # Dict of all items that are interacted with by each user\n",
    "    user_interacted_items = ratings.groupby('userId')['movieId'].apply(list).to_dict()\n",
    "\n",
    "    all_movie_ids_set = set(all_movieIds)\n",
    "\n",
    "    hits = []\n",
    "    for (u, i) in test_user_item_set:\n",
    "        interacted_items = user_interacted_items[u]\n",
    "        not_interacted_items = all_movie_ids_set - set(interacted_items)\n",
    "        selected_not_interacted = list(np.random.choice(list(not_interacted_items), 99))\n",
    "        test_items = selected_not_interacted + [i]\n",
    "        predicted_labels = model.predict([np.array([u] * 100), np.array(test_items)], verbose=0).reshape(-1)\n",
    "        top10_items = [test_items[i] for i in np.argsort(predicted_labels)[-10:].tolist()]\n",
    "\n",
    "        if i in top10_items:\n",
    "            hits.append(1)\n",
    "        else:\n",
    "            hits.append(0)\n",
    "    h10r_score = sum(hits) / len(test_user_item_set)\n",
    "    print(f\"The Hit Ratio @ 10 is {h10r_score:.2%}\")\n",
    "    return h10r_score"
   ]
  },
  {
   "cell_type": "code",
   "execution_count": 65,
   "outputs": [
    {
     "name": "stdout",
     "output_type": "stream",
     "text": [
      "The Hit Ratio @ 10 is 29.00%\n"
     ]
    },
    {
     "data": {
      "text/plain": "0.29"
     },
     "execution_count": 65,
     "metadata": {},
     "output_type": "execute_result"
    }
   ],
   "source": [
    "h10ratio(test_ratings[:100], model)"
   ],
   "metadata": {
    "collapsed": false
   }
  },
  {
   "cell_type": "markdown",
   "id": "b31debe5",
   "metadata": {
    "id": "2481510f"
   },
   "source": [
    "## Your work"
   ]
  },
  {
   "cell_type": "markdown",
   "id": "2f60c174",
   "metadata": {
    "id": "1008c2cb"
   },
   "source": [
    "For the lab, we use movies reviews provided by the MovieLens 20M dataset, a popular movie ratings dataset containing 20 Million movie reviews collected from 1995 to 2015.\n",
    "\n",
    "* Use only the 100 K first rating for training\n",
    "* the 10 K following rating for validation\n",
    "* the 20 K following ratin for testing (evaluation)"
   ]
  },
  {
   "cell_type": "markdown",
   "id": "7e84709a",
   "metadata": {
    "id": "6186a785"
   },
   "source": [
    "### Step 1 : Hyperparameters search"
   ]
  },
  {
   "cell_type": "markdown",
   "id": "728eeb96",
   "metadata": {
    "id": "erLnqTFHtKQa"
   },
   "source": [
    "**[TODO - Students] using the keras-tuner module, explore the hyperparameter space to optimize the validation loss**"
   ]
  },
  {
   "cell_type": "code",
   "execution_count": 66,
   "outputs": [],
   "source": [
    "import keras_tuner"
   ],
   "metadata": {
    "collapsed": false
   }
  },
  {
   "cell_type": "code",
   "execution_count": 80,
   "outputs": [],
   "source": [
    "def TunableNFC(hp):\n",
    "    # user_id embedding\n",
    "    users_input = Input(shape=(1,))\n",
    "    x_users = Embedding(input_dim=num_users, output_dim=hp.Choice('units', [8, 16, 32, 64, 128]))(users_input)\n",
    "    x_users = Flatten()(x_users)\n",
    "\n",
    "    # item_id embedding\n",
    "    items_input = Input(shape=(1,))\n",
    "    x_items = Embedding(input_dim=num_items, output_dim=hp.Choice('units', [8, 16, 32, 64, 128]))(items_input)\n",
    "    x_items = Flatten()(x_items)\n",
    "\n",
    "    # concatenation\n",
    "    x = Concatenate(axis=1)([x_users, x_items])\n",
    "\n",
    "    # output layer\n",
    "    output = Dense(1, activation='sigmoid')(x)\n",
    "\n",
    "    # Build the model\n",
    "    model = Model(inputs=[users_input, items_input], outputs=output)\n",
    "\n",
    "    # compile the model\n",
    "    model.compile(optimizer='adam', loss='binary_crossentropy', metrics=['accuracy'])\n",
    "\n",
    "    return model"
   ],
   "metadata": {
    "collapsed": false
   }
  },
  {
   "cell_type": "code",
   "execution_count": 81,
   "outputs": [],
   "source": [
    "tuner = keras_tuner.RandomSearch(TunableNFC, objective='val_loss', max_trials=5)"
   ],
   "metadata": {
    "collapsed": false
   }
  },
  {
   "cell_type": "code",
   "execution_count": 82,
   "outputs": [
    {
     "name": "stdout",
     "output_type": "stream",
     "text": [
      "Trial 5 Complete [00h 00m 25s]\n",
      "val_loss: 0.4428861439228058\n",
      "\n",
      "Best val_loss So Far: 0.4424704611301422\n",
      "Total elapsed time: 00h 01m 59s\n",
      "INFO:tensorflow:Oracle triggered exit\n",
      "WARNING:tensorflow:Detecting that an object or model or tf.train.Checkpoint is being deleted with unrestored values. See the following logs for the specific values in question. To silence these warnings, use `status.expect_partial()`. See https://www.tensorflow.org/api_docs/python/tf/train/Checkpoint#restorefor details about the status object returned by the restore function.\n",
      "WARNING:tensorflow:Value in checkpoint could not be found in the restored object: (root).optimizer._variables.1\n",
      "WARNING:tensorflow:Value in checkpoint could not be found in the restored object: (root).optimizer._variables.2\n",
      "WARNING:tensorflow:Value in checkpoint could not be found in the restored object: (root).optimizer._variables.3\n",
      "WARNING:tensorflow:Value in checkpoint could not be found in the restored object: (root).optimizer._variables.4\n",
      "WARNING:tensorflow:Value in checkpoint could not be found in the restored object: (root).optimizer._variables.5\n",
      "WARNING:tensorflow:Value in checkpoint could not be found in the restored object: (root).optimizer._variables.6\n",
      "WARNING:tensorflow:Value in checkpoint could not be found in the restored object: (root).optimizer._variables.7\n",
      "WARNING:tensorflow:Value in checkpoint could not be found in the restored object: (root).optimizer._variables.8\n"
     ]
    }
   ],
   "source": [
    "tuner.search([np.array(users), np.array(items)], np.array(labels).reshape(-1),\n",
    "                    validation_split=0.2, epochs=100, verbose=1, callbacks=[es, mc])\n",
    "best_model = tuner.get_best_models()[0]"
   ],
   "metadata": {
    "collapsed": false
   }
  },
  {
   "cell_type": "code",
   "execution_count": 85,
   "outputs": [
    {
     "name": "stdout",
     "output_type": "stream",
     "text": [
      "The Hit Ratio @ 10 is 29.21%\n"
     ]
    },
    {
     "data": {
      "text/plain": "0.2921212121212121"
     },
     "execution_count": 85,
     "metadata": {},
     "output_type": "execute_result"
    }
   ],
   "source": [
    "h10ratio(test_ratings, best_model)"
   ],
   "metadata": {
    "collapsed": false
   }
  },
  {
   "cell_type": "markdown",
   "id": "405086d6",
   "metadata": {
    "id": "nT2wMoZEtFn2"
   },
   "source": [
    "**[TODO - Students] Try to find best hyper-parameters for Hit Ratio at 10**"
   ]
  },
  {
   "cell_type": "markdown",
   "id": "6f3e9b33",
   "metadata": {
    "id": "1bf33af6"
   },
   "source": [
    "### Step 2 : Add new features in order to improve the Hit Ratio at 10\n",
    "\n",
    "The following code load items information and users information for Movilens 100 K dataset"
   ]
  },
  {
   "cell_type": "code",
   "execution_count": 19,
   "id": "0865e22f",
   "metadata": {
    "ExecuteTime": {
     "start_time": "2021-11-15T14:55:36.442Z"
    },
    "colab": {
     "base_uri": "https://localhost:8080/",
     "height": 340
    },
    "executionInfo": {
     "elapsed": 704,
     "status": "ok",
     "timestamp": 1637160943648,
     "user": {
      "displayName": "Antoine Collin",
      "photoUrl": "https://lh3.googleusercontent.com/a/default-user=s64",
      "userId": "01107865217976062482"
     },
     "user_tz": -60
    },
    "id": "c80689e6",
    "outputId": "e191b6ba-09f3-47d1-a2ca-4a6bef44ab51"
   },
   "outputs": [
    {
     "data": {
      "text/plain": "   movieId        movie title release date  video release date  \\\n0        1   Toy Story (1995)  01-Jan-1995                 NaN   \n1        2   GoldenEye (1995)  01-Jan-1995                 NaN   \n2        3  Four Rooms (1995)  01-Jan-1995                 NaN   \n3        4  Get Shorty (1995)  01-Jan-1995                 NaN   \n4        5     Copycat (1995)  01-Jan-1995                 NaN   \n\n                                            IMDb URL  unknown  Action  \\\n0  http://us.imdb.com/M/title-exact?Toy%20Story%2...        0       0   \n1  http://us.imdb.com/M/title-exact?GoldenEye%20(...        0       1   \n2  http://us.imdb.com/M/title-exact?Four%20Rooms%...        0       0   \n3  http://us.imdb.com/M/title-exact?Get%20Shorty%...        0       1   \n4  http://us.imdb.com/M/title-exact?Copycat%20(1995)        0       0   \n\n   Adventure  Animation  Children's  ...  Fantasy  Film-Noir  Horror  Musical  \\\n0          0          1           1  ...        0          0       0        0   \n1          1          0           0  ...        0          0       0        0   \n2          0          0           0  ...        0          0       0        0   \n3          0          0           0  ...        0          0       0        0   \n4          0          0           0  ...        0          0       0        0   \n\n   Mystery  Romance  Sci-Fi  Thriller  War  Western  \n0        0        0       0         0    0        0  \n1        0        0       0         1    0        0  \n2        0        0       0         1    0        0  \n3        0        0       0         0    0        0  \n4        0        0       0         1    0        0  \n\n[5 rows x 24 columns]",
      "text/html": "<div>\n<style scoped>\n    .dataframe tbody tr th:only-of-type {\n        vertical-align: middle;\n    }\n\n    .dataframe tbody tr th {\n        vertical-align: top;\n    }\n\n    .dataframe thead th {\n        text-align: right;\n    }\n</style>\n<table border=\"1\" class=\"dataframe\">\n  <thead>\n    <tr style=\"text-align: right;\">\n      <th></th>\n      <th>movieId</th>\n      <th>movie title</th>\n      <th>release date</th>\n      <th>video release date</th>\n      <th>IMDb URL</th>\n      <th>unknown</th>\n      <th>Action</th>\n      <th>Adventure</th>\n      <th>Animation</th>\n      <th>Children's</th>\n      <th>...</th>\n      <th>Fantasy</th>\n      <th>Film-Noir</th>\n      <th>Horror</th>\n      <th>Musical</th>\n      <th>Mystery</th>\n      <th>Romance</th>\n      <th>Sci-Fi</th>\n      <th>Thriller</th>\n      <th>War</th>\n      <th>Western</th>\n    </tr>\n  </thead>\n  <tbody>\n    <tr>\n      <th>0</th>\n      <td>1</td>\n      <td>Toy Story (1995)</td>\n      <td>01-Jan-1995</td>\n      <td>NaN</td>\n      <td>http://us.imdb.com/M/title-exact?Toy%20Story%2...</td>\n      <td>0</td>\n      <td>0</td>\n      <td>0</td>\n      <td>1</td>\n      <td>1</td>\n      <td>...</td>\n      <td>0</td>\n      <td>0</td>\n      <td>0</td>\n      <td>0</td>\n      <td>0</td>\n      <td>0</td>\n      <td>0</td>\n      <td>0</td>\n      <td>0</td>\n      <td>0</td>\n    </tr>\n    <tr>\n      <th>1</th>\n      <td>2</td>\n      <td>GoldenEye (1995)</td>\n      <td>01-Jan-1995</td>\n      <td>NaN</td>\n      <td>http://us.imdb.com/M/title-exact?GoldenEye%20(...</td>\n      <td>0</td>\n      <td>1</td>\n      <td>1</td>\n      <td>0</td>\n      <td>0</td>\n      <td>...</td>\n      <td>0</td>\n      <td>0</td>\n      <td>0</td>\n      <td>0</td>\n      <td>0</td>\n      <td>0</td>\n      <td>0</td>\n      <td>1</td>\n      <td>0</td>\n      <td>0</td>\n    </tr>\n    <tr>\n      <th>2</th>\n      <td>3</td>\n      <td>Four Rooms (1995)</td>\n      <td>01-Jan-1995</td>\n      <td>NaN</td>\n      <td>http://us.imdb.com/M/title-exact?Four%20Rooms%...</td>\n      <td>0</td>\n      <td>0</td>\n      <td>0</td>\n      <td>0</td>\n      <td>0</td>\n      <td>...</td>\n      <td>0</td>\n      <td>0</td>\n      <td>0</td>\n      <td>0</td>\n      <td>0</td>\n      <td>0</td>\n      <td>0</td>\n      <td>1</td>\n      <td>0</td>\n      <td>0</td>\n    </tr>\n    <tr>\n      <th>3</th>\n      <td>4</td>\n      <td>Get Shorty (1995)</td>\n      <td>01-Jan-1995</td>\n      <td>NaN</td>\n      <td>http://us.imdb.com/M/title-exact?Get%20Shorty%...</td>\n      <td>0</td>\n      <td>1</td>\n      <td>0</td>\n      <td>0</td>\n      <td>0</td>\n      <td>...</td>\n      <td>0</td>\n      <td>0</td>\n      <td>0</td>\n      <td>0</td>\n      <td>0</td>\n      <td>0</td>\n      <td>0</td>\n      <td>0</td>\n      <td>0</td>\n      <td>0</td>\n    </tr>\n    <tr>\n      <th>4</th>\n      <td>5</td>\n      <td>Copycat (1995)</td>\n      <td>01-Jan-1995</td>\n      <td>NaN</td>\n      <td>http://us.imdb.com/M/title-exact?Copycat%20(1995)</td>\n      <td>0</td>\n      <td>0</td>\n      <td>0</td>\n      <td>0</td>\n      <td>0</td>\n      <td>...</td>\n      <td>0</td>\n      <td>0</td>\n      <td>0</td>\n      <td>0</td>\n      <td>0</td>\n      <td>0</td>\n      <td>0</td>\n      <td>1</td>\n      <td>0</td>\n      <td>0</td>\n    </tr>\n  </tbody>\n</table>\n<p>5 rows × 24 columns</p>\n</div>"
     },
     "execution_count": 19,
     "metadata": {},
     "output_type": "execute_result"
    }
   ],
   "source": [
    "# Load genre\n",
    "genres = pd.read_csv(path + \"u.genre\", header=None, names=['genre', 'genreId'], sep=\"|\")['genre'].tolist()\n",
    "\n",
    "# Load item information\n",
    "items_columns = ['movieId', 'movie title', 'release date', 'video release date', 'IMDb URL'] + genres\n",
    "items = pd.read_csv(path + \"u.item\", header=None, names=items_columns, encoding=\"ISO-8859-1\", sep=\"|\")\n",
    "items.head()"
   ]
  },
  {
   "cell_type": "code",
   "execution_count": 20,
   "id": "5b2e32a0",
   "metadata": {
    "ExecuteTime": {
     "start_time": "2021-11-15T14:55:38.174Z"
    },
    "colab": {
     "base_uri": "https://localhost:8080/",
     "height": 513
    },
    "executionInfo": {
     "elapsed": 27281,
     "status": "ok",
     "timestamp": 1637160972302,
     "user": {
      "displayName": "Antoine Collin",
      "photoUrl": "https://lh3.googleusercontent.com/a/default-user=s64",
      "userId": "01107865217976062482"
     },
     "user_tz": -60
    },
    "id": "ff71efdd",
    "outputId": "29927980-cc17-4f51-dd25-94f775876d83"
   },
   "outputs": [
    {
     "data": {
      "text/plain": "   userId  movieId  rating  timestamp                      movie title  \\\n0     259      255       4  874724710  My Best Friend's Wedding (1997)   \n1      30      255       4  875059984  My Best Friend's Wedding (1997)   \n2     116      255       3  876452524  My Best Friend's Wedding (1997)   \n3     330      255       4  876544278  My Best Friend's Wedding (1997)   \n4     314      255       5  877886221  My Best Friend's Wedding (1997)   \n\n  release date  video release date  \\\n0  20-Jun-1997                 NaN   \n1  20-Jun-1997                 NaN   \n2  20-Jun-1997                 NaN   \n3  20-Jun-1997                 NaN   \n4  20-Jun-1997                 NaN   \n\n                                            IMDb URL  unknown  Action  ...  \\\n0  http://us.imdb.com/M/title-exact?My+Best+Frien...        0       0  ...   \n1  http://us.imdb.com/M/title-exact?My+Best+Frien...        0       0  ...   \n2  http://us.imdb.com/M/title-exact?My+Best+Frien...        0       0  ...   \n3  http://us.imdb.com/M/title-exact?My+Best+Frien...        0       0  ...   \n4  http://us.imdb.com/M/title-exact?My+Best+Frien...        0       0  ...   \n\n   Fantasy  Film-Noir  Horror  Musical  Mystery  Romance  Sci-Fi  Thriller  \\\n0        0          0       0        0        0        1       0         0   \n1        0          0       0        0        0        1       0         0   \n2        0          0       0        0        0        1       0         0   \n3        0          0       0        0        0        1       0         0   \n4        0          0       0        0        0        1       0         0   \n\n   War  Western  \n0    0        0  \n1    0        0  \n2    0        0  \n3    0        0  \n4    0        0  \n\n[5 rows x 27 columns]",
      "text/html": "<div>\n<style scoped>\n    .dataframe tbody tr th:only-of-type {\n        vertical-align: middle;\n    }\n\n    .dataframe tbody tr th {\n        vertical-align: top;\n    }\n\n    .dataframe thead th {\n        text-align: right;\n    }\n</style>\n<table border=\"1\" class=\"dataframe\">\n  <thead>\n    <tr style=\"text-align: right;\">\n      <th></th>\n      <th>userId</th>\n      <th>movieId</th>\n      <th>rating</th>\n      <th>timestamp</th>\n      <th>movie title</th>\n      <th>release date</th>\n      <th>video release date</th>\n      <th>IMDb URL</th>\n      <th>unknown</th>\n      <th>Action</th>\n      <th>...</th>\n      <th>Fantasy</th>\n      <th>Film-Noir</th>\n      <th>Horror</th>\n      <th>Musical</th>\n      <th>Mystery</th>\n      <th>Romance</th>\n      <th>Sci-Fi</th>\n      <th>Thriller</th>\n      <th>War</th>\n      <th>Western</th>\n    </tr>\n  </thead>\n  <tbody>\n    <tr>\n      <th>0</th>\n      <td>259</td>\n      <td>255</td>\n      <td>4</td>\n      <td>874724710</td>\n      <td>My Best Friend's Wedding (1997)</td>\n      <td>20-Jun-1997</td>\n      <td>NaN</td>\n      <td>http://us.imdb.com/M/title-exact?My+Best+Frien...</td>\n      <td>0</td>\n      <td>0</td>\n      <td>...</td>\n      <td>0</td>\n      <td>0</td>\n      <td>0</td>\n      <td>0</td>\n      <td>0</td>\n      <td>1</td>\n      <td>0</td>\n      <td>0</td>\n      <td>0</td>\n      <td>0</td>\n    </tr>\n    <tr>\n      <th>1</th>\n      <td>30</td>\n      <td>255</td>\n      <td>4</td>\n      <td>875059984</td>\n      <td>My Best Friend's Wedding (1997)</td>\n      <td>20-Jun-1997</td>\n      <td>NaN</td>\n      <td>http://us.imdb.com/M/title-exact?My+Best+Frien...</td>\n      <td>0</td>\n      <td>0</td>\n      <td>...</td>\n      <td>0</td>\n      <td>0</td>\n      <td>0</td>\n      <td>0</td>\n      <td>0</td>\n      <td>1</td>\n      <td>0</td>\n      <td>0</td>\n      <td>0</td>\n      <td>0</td>\n    </tr>\n    <tr>\n      <th>2</th>\n      <td>116</td>\n      <td>255</td>\n      <td>3</td>\n      <td>876452524</td>\n      <td>My Best Friend's Wedding (1997)</td>\n      <td>20-Jun-1997</td>\n      <td>NaN</td>\n      <td>http://us.imdb.com/M/title-exact?My+Best+Frien...</td>\n      <td>0</td>\n      <td>0</td>\n      <td>...</td>\n      <td>0</td>\n      <td>0</td>\n      <td>0</td>\n      <td>0</td>\n      <td>0</td>\n      <td>1</td>\n      <td>0</td>\n      <td>0</td>\n      <td>0</td>\n      <td>0</td>\n    </tr>\n    <tr>\n      <th>3</th>\n      <td>330</td>\n      <td>255</td>\n      <td>4</td>\n      <td>876544278</td>\n      <td>My Best Friend's Wedding (1997)</td>\n      <td>20-Jun-1997</td>\n      <td>NaN</td>\n      <td>http://us.imdb.com/M/title-exact?My+Best+Frien...</td>\n      <td>0</td>\n      <td>0</td>\n      <td>...</td>\n      <td>0</td>\n      <td>0</td>\n      <td>0</td>\n      <td>0</td>\n      <td>0</td>\n      <td>1</td>\n      <td>0</td>\n      <td>0</td>\n      <td>0</td>\n      <td>0</td>\n    </tr>\n    <tr>\n      <th>4</th>\n      <td>314</td>\n      <td>255</td>\n      <td>5</td>\n      <td>877886221</td>\n      <td>My Best Friend's Wedding (1997)</td>\n      <td>20-Jun-1997</td>\n      <td>NaN</td>\n      <td>http://us.imdb.com/M/title-exact?My+Best+Frien...</td>\n      <td>0</td>\n      <td>0</td>\n      <td>...</td>\n      <td>0</td>\n      <td>0</td>\n      <td>0</td>\n      <td>0</td>\n      <td>0</td>\n      <td>1</td>\n      <td>0</td>\n      <td>0</td>\n      <td>0</td>\n      <td>0</td>\n    </tr>\n  </tbody>\n</table>\n<p>5 rows × 27 columns</p>\n</div>"
     },
     "execution_count": 20,
     "metadata": {},
     "output_type": "execute_result"
    }
   ],
   "source": [
    "# Add item information to ratings\n",
    "ratings_with_items_info = ratings.merge(items, left_on='movieId', right_on='movieId')\n",
    "ratings_with_items_info.head()"
   ]
  },
  {
   "cell_type": "code",
   "execution_count": 21,
   "id": "cc91dc0e",
   "metadata": {
    "ExecuteTime": {
     "start_time": "2021-11-15T14:55:39.513Z"
    },
    "colab": {
     "base_uri": "https://localhost:8080/",
     "height": 204
    },
    "executionInfo": {
     "elapsed": 18,
     "status": "ok",
     "timestamp": 1637160972303,
     "user": {
      "displayName": "Antoine Collin",
      "photoUrl": "https://lh3.googleusercontent.com/a/default-user=s64",
      "userId": "01107865217976062482"
     },
     "user_tz": -60
    },
    "id": "2e2d0cb0",
    "outputId": "f3150590-996c-4630-bd10-f9c5f5624850"
   },
   "outputs": [
    {
     "data": {
      "text/plain": "   userId  age gender  occupation zip code\n0       1   24      M  technician    85711\n1       2   53      F       other    94043\n2       3   23      M      writer    32067\n3       4   24      M  technician    43537\n4       5   33      F       other    15213",
      "text/html": "<div>\n<style scoped>\n    .dataframe tbody tr th:only-of-type {\n        vertical-align: middle;\n    }\n\n    .dataframe tbody tr th {\n        vertical-align: top;\n    }\n\n    .dataframe thead th {\n        text-align: right;\n    }\n</style>\n<table border=\"1\" class=\"dataframe\">\n  <thead>\n    <tr style=\"text-align: right;\">\n      <th></th>\n      <th>userId</th>\n      <th>age</th>\n      <th>gender</th>\n      <th>occupation</th>\n      <th>zip code</th>\n    </tr>\n  </thead>\n  <tbody>\n    <tr>\n      <th>0</th>\n      <td>1</td>\n      <td>24</td>\n      <td>M</td>\n      <td>technician</td>\n      <td>85711</td>\n    </tr>\n    <tr>\n      <th>1</th>\n      <td>2</td>\n      <td>53</td>\n      <td>F</td>\n      <td>other</td>\n      <td>94043</td>\n    </tr>\n    <tr>\n      <th>2</th>\n      <td>3</td>\n      <td>23</td>\n      <td>M</td>\n      <td>writer</td>\n      <td>32067</td>\n    </tr>\n    <tr>\n      <th>3</th>\n      <td>4</td>\n      <td>24</td>\n      <td>M</td>\n      <td>technician</td>\n      <td>43537</td>\n    </tr>\n    <tr>\n      <th>4</th>\n      <td>5</td>\n      <td>33</td>\n      <td>F</td>\n      <td>other</td>\n      <td>15213</td>\n    </tr>\n  </tbody>\n</table>\n</div>"
     },
     "execution_count": 21,
     "metadata": {},
     "output_type": "execute_result"
    }
   ],
   "source": [
    "# Load occupation\n",
    "occupations = pd.read_csv(path + \"u.occupation\", header=None, names=['occupation'], sep=\"|\")['occupation'].tolist()\n",
    "\n",
    "# Load user information\n",
    "users = pd.read_csv(path + \"u.user\", header=None, names=['userId', 'age', 'gender', 'occupation', 'zip code'], sep=\"|\")\n",
    "users.head()"
   ]
  },
  {
   "cell_type": "code",
   "execution_count": 22,
   "id": "8a8a7939",
   "metadata": {
    "colab": {
     "base_uri": "https://localhost:8080/",
     "height": 411
    },
    "executionInfo": {
     "elapsed": 452,
     "status": "ok",
     "timestamp": 1637160972741,
     "user": {
      "displayName": "Antoine Collin",
      "photoUrl": "https://lh3.googleusercontent.com/a/default-user=s64",
      "userId": "01107865217976062482"
     },
     "user_tz": -60
    },
    "id": "475404a9",
    "outputId": "f202ed88-1381-4c4b-b720-140d008de6ca"
   },
   "outputs": [
    {
     "data": {
      "text/plain": "   userId  movieId  rating  timestamp                      movie title  \\\n0     259      255       4  874724710  My Best Friend's Wedding (1997)   \n1     259      772       4  874724882                      Kids (1995)   \n2     259      117       4  874724988                 Rock, The (1996)   \n3     259      405       3  874725120       Mission: Impossible (1996)   \n4     259      176       4  874725386                    Aliens (1986)   \n\n  release date  video release date  \\\n0  20-Jun-1997                 NaN   \n1  01-Jan-1995                 NaN   \n2  07-Jun-1996                 NaN   \n3  22-May-1996                 NaN   \n4  01-Jan-1986                 NaN   \n\n                                            IMDb URL  unknown  Action  ...  \\\n0  http://us.imdb.com/M/title-exact?My+Best+Frien...        0       0  ...   \n1     http://us.imdb.com/M/title-exact?Kids%20(1995)        0       0  ...   \n2  http://us.imdb.com/M/title-exact?Rock,%20The%2...        0       1  ...   \n3  http://us.imdb.com/M/title-exact?Mission:%20Im...        0       1  ...   \n4   http://us.imdb.com/M/title-exact?Aliens%20(1986)        0       1  ...   \n\n   Mystery  Romance  Sci-Fi  Thriller  War  Western  age  gender  occupation  \\\n0        0        1       0         0    0        0   21       M     student   \n1        0        0       0         0    0        0   21       M     student   \n2        0        0       0         1    0        0   21       M     student   \n3        1        0       0         0    0        0   21       M     student   \n4        0        0       1         1    1        0   21       M     student   \n\n   zip code  \n0     48823  \n1     48823  \n2     48823  \n3     48823  \n4     48823  \n\n[5 rows x 31 columns]",
      "text/html": "<div>\n<style scoped>\n    .dataframe tbody tr th:only-of-type {\n        vertical-align: middle;\n    }\n\n    .dataframe tbody tr th {\n        vertical-align: top;\n    }\n\n    .dataframe thead th {\n        text-align: right;\n    }\n</style>\n<table border=\"1\" class=\"dataframe\">\n  <thead>\n    <tr style=\"text-align: right;\">\n      <th></th>\n      <th>userId</th>\n      <th>movieId</th>\n      <th>rating</th>\n      <th>timestamp</th>\n      <th>movie title</th>\n      <th>release date</th>\n      <th>video release date</th>\n      <th>IMDb URL</th>\n      <th>unknown</th>\n      <th>Action</th>\n      <th>...</th>\n      <th>Mystery</th>\n      <th>Romance</th>\n      <th>Sci-Fi</th>\n      <th>Thriller</th>\n      <th>War</th>\n      <th>Western</th>\n      <th>age</th>\n      <th>gender</th>\n      <th>occupation</th>\n      <th>zip code</th>\n    </tr>\n  </thead>\n  <tbody>\n    <tr>\n      <th>0</th>\n      <td>259</td>\n      <td>255</td>\n      <td>4</td>\n      <td>874724710</td>\n      <td>My Best Friend's Wedding (1997)</td>\n      <td>20-Jun-1997</td>\n      <td>NaN</td>\n      <td>http://us.imdb.com/M/title-exact?My+Best+Frien...</td>\n      <td>0</td>\n      <td>0</td>\n      <td>...</td>\n      <td>0</td>\n      <td>1</td>\n      <td>0</td>\n      <td>0</td>\n      <td>0</td>\n      <td>0</td>\n      <td>21</td>\n      <td>M</td>\n      <td>student</td>\n      <td>48823</td>\n    </tr>\n    <tr>\n      <th>1</th>\n      <td>259</td>\n      <td>772</td>\n      <td>4</td>\n      <td>874724882</td>\n      <td>Kids (1995)</td>\n      <td>01-Jan-1995</td>\n      <td>NaN</td>\n      <td>http://us.imdb.com/M/title-exact?Kids%20(1995)</td>\n      <td>0</td>\n      <td>0</td>\n      <td>...</td>\n      <td>0</td>\n      <td>0</td>\n      <td>0</td>\n      <td>0</td>\n      <td>0</td>\n      <td>0</td>\n      <td>21</td>\n      <td>M</td>\n      <td>student</td>\n      <td>48823</td>\n    </tr>\n    <tr>\n      <th>2</th>\n      <td>259</td>\n      <td>117</td>\n      <td>4</td>\n      <td>874724988</td>\n      <td>Rock, The (1996)</td>\n      <td>07-Jun-1996</td>\n      <td>NaN</td>\n      <td>http://us.imdb.com/M/title-exact?Rock,%20The%2...</td>\n      <td>0</td>\n      <td>1</td>\n      <td>...</td>\n      <td>0</td>\n      <td>0</td>\n      <td>0</td>\n      <td>1</td>\n      <td>0</td>\n      <td>0</td>\n      <td>21</td>\n      <td>M</td>\n      <td>student</td>\n      <td>48823</td>\n    </tr>\n    <tr>\n      <th>3</th>\n      <td>259</td>\n      <td>405</td>\n      <td>3</td>\n      <td>874725120</td>\n      <td>Mission: Impossible (1996)</td>\n      <td>22-May-1996</td>\n      <td>NaN</td>\n      <td>http://us.imdb.com/M/title-exact?Mission:%20Im...</td>\n      <td>0</td>\n      <td>1</td>\n      <td>...</td>\n      <td>1</td>\n      <td>0</td>\n      <td>0</td>\n      <td>0</td>\n      <td>0</td>\n      <td>0</td>\n      <td>21</td>\n      <td>M</td>\n      <td>student</td>\n      <td>48823</td>\n    </tr>\n    <tr>\n      <th>4</th>\n      <td>259</td>\n      <td>176</td>\n      <td>4</td>\n      <td>874725386</td>\n      <td>Aliens (1986)</td>\n      <td>01-Jan-1986</td>\n      <td>NaN</td>\n      <td>http://us.imdb.com/M/title-exact?Aliens%20(1986)</td>\n      <td>0</td>\n      <td>1</td>\n      <td>...</td>\n      <td>0</td>\n      <td>0</td>\n      <td>1</td>\n      <td>1</td>\n      <td>1</td>\n      <td>0</td>\n      <td>21</td>\n      <td>M</td>\n      <td>student</td>\n      <td>48823</td>\n    </tr>\n  </tbody>\n</table>\n<p>5 rows × 31 columns</p>\n</div>"
     },
     "execution_count": 22,
     "metadata": {},
     "output_type": "execute_result"
    }
   ],
   "source": [
    "# Add item or/and user information to ratings\n",
    "ratings_with_items_users_info = ratings_with_items_info.merge(users, left_on='userId', right_on='userId')\n",
    "ratings_with_items_users_info.head()"
   ]
  },
  {
   "cell_type": "code",
   "execution_count": 23,
   "id": "edab29c1",
   "metadata": {
    "id": "f5502f36"
   },
   "outputs": [
    {
     "data": {
      "text/plain": "' your code here '"
     },
     "execution_count": 23,
     "metadata": {},
     "output_type": "execute_result"
    }
   ],
   "source": [
    "''' your code here '''"
   ]
  },
  {
   "cell_type": "markdown",
   "id": "31ca2242",
   "metadata": {
    "id": "d1866435"
   },
   "source": [
    "### Step 3 - Improve the network by using a General Matrix Factorisation layer\n",
    "\n",
    "\n",
    "![architecture](https://miro.medium.com/max/1400/1*3Ecg3wHR7x_AAta3JuHcUA@2x.png)"
   ]
  },
  {
   "cell_type": "markdown",
   "id": "91a56081",
   "metadata": {
    "id": "we2LlEnNtlZe"
   },
   "source": [
    "**[TODO - Students] Modify the NFC function to include an element-wise product layer instead of a concatenated & dense layer, then train and evaluate it**"
   ]
  },
  {
   "cell_type": "markdown",
   "id": "86de98b4",
   "metadata": {
    "id": "f4517563"
   },
   "source": [
    "### Step 4 - Final architecture\n",
    "\n",
    "\n",
    "![architecture](https://miro.medium.com/max/1400/1*CoETyuU36fshduKAfFhCrg.png)"
   ]
  },
  {
   "cell_type": "markdown",
   "id": "d569933e",
   "metadata": {
    "id": "MUNjDLJFt4F-"
   },
   "source": [
    "**[TODO - Students] By combining the previous question, try to reproduce the above architecture, train and evaluate it**"
   ]
  }
 ],
 "metadata": {
  "accelerator": "GPU",
  "colab": {
   "collapsed_sections": [],
   "name": "04-notebook_DL_deep-recommender-system_students.ipynb",
   "provenance": []
  },
  "kernelspec": {
   "display_name": "Python 3",
   "language": "python",
   "name": "python3"
  },
  "language_info": {
   "codemirror_mode": {
    "name": "ipython",
    "version": 3
   },
   "file_extension": ".py",
   "mimetype": "text/x-python",
   "name": "python",
   "nbconvert_exporter": "python",
   "pygments_lexer": "ipython3",
   "version": "3.8.8"
  },
  "latex_envs": {
   "LaTeX_envs_menu_present": true,
   "autoclose": true,
   "autocomplete": true,
   "bibliofile": "biblio.bib",
   "cite_by": "apalike",
   "current_citInitial": 1,
   "eqLabelWithNumbers": true,
   "eqNumInitial": 1,
   "hotkeys": {
    "equation": "Ctrl-E",
    "itemize": "Ctrl-I"
   },
   "labels_anchors": false,
   "latex_user_defs": false,
   "report_style_numbering": false,
   "user_envs_cfg": false
  },
  "nbTranslate": {
   "displayLangs": [
    "*"
   ],
   "hotkey": "alt-t",
   "langInMainMenu": true,
   "sourceLang": "en",
   "targetLang": "fr",
   "useGoogleTranslate": true
  },
  "toc": {
   "base_numbering": 1,
   "nav_menu": {},
   "number_sections": true,
   "sideBar": true,
   "skip_h1_title": true,
   "title_cell": "Table of Contents",
   "title_sidebar": "Contents",
   "toc_cell": true,
   "toc_position": {},
   "toc_section_display": true,
   "toc_window_display": false
  }
 },
 "nbformat": 4,
 "nbformat_minor": 5
}
